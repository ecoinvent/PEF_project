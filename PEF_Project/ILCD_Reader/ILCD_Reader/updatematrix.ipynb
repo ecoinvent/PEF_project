{
 "nbformat": 4,
 "nbformat_minor": 2,
 "metadata": {
  "language_info": {
   "name": "python",
   "codemirror_mode": {
    "name": "ipython",
    "version": 3
   },
   "version": "3.7.5-final"
  },
  "orig_nbformat": 2,
  "file_extension": ".py",
  "mimetype": "text/x-python",
  "name": "python",
  "npconvert_exporter": "python",
  "pygments_lexer": "ipython3",
  "version": 3,
  "kernelspec": {
   "name": "python37564bit215f3b0a81174176b260dbeb1d90e74d",
   "display_name": "Python 3.7.5 64-bit"
  }
 },
 "cells": [
  {
   "cell_type": "code",
   "execution_count": 9,
   "metadata": {},
   "outputs": [],
   "source": [
    "import pandas as pd\n",
    "import os\n",
    "import pickle\n",
    "from lxml import objectify\n",
    "from datetime import datetime"
   ]
  },
  {
   "cell_type": "code",
   "execution_count": 2,
   "metadata": {},
   "outputs": [],
   "source": [
    "df = pd.read_excel(r\"D:\\ecoinvent_scripts\\PEF_Project\\ILCD_Reader\\Data\\input\\excel\\propanol_eg_aggregatedProcess.xlsx\", sheet_name=None)"
   ]
  },
  {
   "cell_type": "code",
   "execution_count": 8,
   "metadata": {},
   "outputs": [
    {
     "output_type": "execute_result",
     "data": {
      "text/plain": "2024"
     },
     "metadata": {},
     "execution_count": 8
    }
   ],
   "source": [
    "df['aggr_file_update_meta&admin'].loc[0,'dataSetValidUntil']"
   ]
  },
  {
   "cell_type": "code",
   "execution_count": 16,
   "metadata": {},
   "outputs": [
    {
     "output_type": "execute_result",
     "data": {
      "text/plain": "'2020-08-13T10:41:09.015953'"
     },
     "metadata": {},
     "execution_count": 16
    }
   ],
   "source": [
    "datetime.now().isoformat()\n"
   ]
  },
  {
   "cell_type": "code",
   "execution_count": 19,
   "metadata": {},
   "outputs": [
    {
     "output_type": "execute_result",
     "data": {
      "text/plain": "'2020-08-13T10:43:22.454291+02:00'"
     },
     "metadata": {},
     "execution_count": 19
    }
   ],
   "source": [
    "datetime.now().astimezone().isoformat()"
   ]
  },
  {
   "cell_type": "code",
   "execution_count": 17,
   "metadata": {},
   "outputs": [
    {
     "output_type": "execute_result",
     "data": {
      "text/plain": "'2020-08-13T08:41:12.882341'"
     },
     "metadata": {},
     "execution_count": 17
    }
   ],
   "source": [
    "datetime.utcnow().isoformat()"
   ]
  },
  {
   "cell_type": "code",
   "execution_count": 20,
   "metadata": {},
   "outputs": [],
   "source": [
    "ele = df['aggr_file_update_diagramm'].columns[0]"
   ]
  },
  {
   "cell_type": "code",
   "execution_count": 134,
   "metadata": {},
   "outputs": [
    {
     "output_type": "execute_result",
     "data": {
      "text/plain": "['<referenceToTechnologyFlowDiagrammOrPicture type=\"source data set\" refObjectId=\"4562465a-92b8-5dc0-b302-692e4e067f38\" version=\"22.00.000\" uri=\"../sources/4562465a-92b8-5dc0-b302-692e4e067f38.xml\">\\n        <common:shortDescription xml:lang=\"en\">chemical_dataset_diagram</common:shortDescription>\\n</referenceToTechnologyFlowDiagrammOrPicture>']"
     },
     "metadata": {},
     "execution_count": 134
    }
   ],
   "source": [
    "df['aggr_file_update_diagramm'].columns.tolist()"
   ]
  },
  {
   "cell_type": "code",
   "execution_count": 135,
   "metadata": {},
   "outputs": [
    {
     "output_type": "execute_result",
     "data": {
      "text/plain": "'<referenceToTechnologyFlowDiagrammOrPicture type=\"source data set\" refObjectId=\"4562465a-92b8-5dc0-b302-692e4e067f38\" version=\"22.00.000\" uri=\"../sources/4562465a-92b8-5dc0-b302-692e4e067f38.xml\">\\n        <common:shortDescription xml:lang=\"en\">chemical_dataset_diagram</common:shortDescription>\\n</referenceToTechnologyFlowDiagrammOrPicture>'"
     },
     "metadata": {},
     "execution_count": 135
    }
   ],
   "source": [
    "next(iter(df['aggr_file_update_diagramm'].columns))"
   ]
  },
  {
   "cell_type": "code",
   "execution_count": 137,
   "metadata": {},
   "outputs": [
    {
     "output_type": "execute_result",
     "data": {
      "text/plain": "'<referenceToTechnologyFlowDiagrammOrPicture type=\"source data set\" refObjectId=\"4562465a-92b8-5dc0-b302-692e4e067f38\" version=\"22.00.000\" uri=\"../sources/4562465a-92b8-5dc0-b302-692e4e067f38.xml\">\\n        <common:shortDescription xml:lang=\"en\">chemical_dataset_diagram</common:shortDescription>\\n</referenceToTechnologyFlowDiagrammOrPicture>'"
     },
     "metadata": {},
     "execution_count": 137
    }
   ],
   "source": [
    "ele"
   ]
  },
  {
   "cell_type": "code",
   "execution_count": 3,
   "metadata": {},
   "outputs": [],
   "source": [
    "with open(r\"C:\\Dropbox (ecoinvent)\\ei-int\\technical\\external\\PEF\\PEF follow-up\\execution\\08_xmlCreation\\08A_meta&adminProcessFiles\\1490942c-2d27-420b-982a-6489d371245f.xml\", \"r\", encoding=\"utf-8\") as xml_f:\n",
    "    myfile = objectify.parse(xml_f)\n",
    "    rooty = myfile.getroot()"
   ]
  },
  {
   "cell_type": "code",
   "execution_count": 112,
   "metadata": {},
   "outputs": [
    {
     "output_type": "execute_result",
     "data": {
      "text/plain": "<Element {http://lca.jrc.it/ILCD/Process}technology at 0x1b58e1e8108>"
     },
     "metadata": {},
     "execution_count": 112
    }
   ],
   "source": [
    "tech = rooty.processInformation.technology\n",
    "tech"
   ]
  },
  {
   "cell_type": "code",
   "execution_count": 148,
   "metadata": {},
   "outputs": [],
   "source": [
    "common = \"{http://lca.jrc.it/ILCD/Common}\"\n",
    "root.administrativeInformation[f\"{common}commissionerAndGoal\"][f\"{common}referenceToCommissioner\"][f\"{common}shortDescription\"]._setText(\"European Commission, DG ENV B1\")"
   ]
  },
  {
   "cell_type": "code",
   "execution_count": 149,
   "metadata": {},
   "outputs": [
    {
     "output_type": "execute_result",
     "data": {
      "text/plain": "'European Commission, DG ENV B1'"
     },
     "metadata": {},
     "execution_count": 149
    }
   ],
   "source": [
    "root.administrativeInformation[f\"{common}commissionerAndGoal\"][f\"{common}referenceToCommissioner\"][f\"{common}shortDescription\"]"
   ]
  },
  {
   "cell_type": "code",
   "execution_count": 153,
   "metadata": {},
   "outputs": [],
   "source": [
    "root.administrativeInformation[f\"{common}commissionerAndGoal\"][f\"{common}referenceToCommissioner\"].attrib['version'] = '00.00.000'"
   ]
  },
  {
   "cell_type": "code",
   "execution_count": 154,
   "metadata": {},
   "outputs": [
    {
     "output_type": "execute_result",
     "data": {
      "text/plain": "'00.00.000'"
     },
     "metadata": {},
     "execution_count": 154
    }
   ],
   "source": [
    "root.administrativeInformation[f\"{common}commissionerAndGoal\"][f\"{common}referenceToCommissioner\"].attrib['version']"
   ]
  },
  {
   "cell_type": "code",
   "execution_count": 113,
   "metadata": {
    "tags": []
   },
   "outputs": [
    {
     "output_type": "execute_result",
     "data": {
      "text/plain": "['1-Propanol is manufactured by the hydrogenation of propanal derived from hydroformylation of ethylene. The hydrogenation of propanal is conventionally carried out as a heterogeneous process in either the vapor or liquid phase over a variety of metal catalysts. Heterogeneous vapor-phase processes are effective at ca. 110 \\\\xe2\\\\x80\\\\x93 150 \\\\xc2\\\\xb0C, and 0.14 \\\\xe2\\\\x80\\\\x931.0 MPa at a 20: 1 mole ratio of hydrogen to propanal. Reductions are accomplished in excess hydrogen, and the heat of reaction is removed by circulating the vapor through external heat exchangers or by cooling the reactor internally.\\nHydrogen efficiencies are >90 %, with aldehyde conversions as high as 99.9 % and alcohol yields >99 %. The commonly used commercial hydrogenation catalysts include combinations of copper, zinc, nickel, and chromium compounds. Major impurities at vapor-phase process temperatures are dipropyl ether, ethane, and propyl propionate. In addition to reduced zinc oxide and copper oxide catalysts, selectivity enhancers such as alkali and transition metals can be added to significantly reduce the formation of esters (by Tischenko reaction of the starting aldehyde) and ethers . Addition of 1 \\\\xe2\\\\x80\\\\x93 10 % water to the reactor feed also suppresses ether formation.\\nThe propyl propionate byproduct formed in the catalytic hydrogenation can be separated and hydrogenolyzed in the presence of reduced CuO \\\\xe2\\\\x80\\\\x93 ZnO catalyst at 75 \\\\xe2\\\\x80\\\\x93 300 \\\\xc2\\\\xb0C and 9.8 kPa \\\\xe2\\\\x80\\\\x939.8 MPa to give 1-propanol as the major product.',\n '']"
     },
     "metadata": {},
     "execution_count": 113
    }
   ],
   "source": [
    "tech.getchildren()"
   ]
  },
  {
   "cell_type": "code",
   "execution_count": 114,
   "metadata": {},
   "outputs": [
    {
     "output_type": "execute_result",
     "data": {
      "text/plain": "2"
     },
     "metadata": {},
     "execution_count": 114
    }
   ],
   "source": [
    "len(tech.getchildren())"
   ]
  },
  {
   "cell_type": "code",
   "execution_count": 119,
   "metadata": {},
   "outputs": [
    {
     "output_type": "execute_result",
     "data": {
      "text/plain": "['1-Propanol is manufactured by the hydrogenation of propanal derived from hydroformylation of ethylene. The hydrogenation of propanal is conventionally carried out as a heterogeneous process in either the vapor or liquid phase over a variety of metal catalysts. Heterogeneous vapor-phase processes are effective at ca. 110 \\\\xe2\\\\x80\\\\x93 150 \\\\xc2\\\\xb0C, and 0.14 \\\\xe2\\\\x80\\\\x931.0 MPa at a 20: 1 mole ratio of hydrogen to propanal. Reductions are accomplished in excess hydrogen, and the heat of reaction is removed by circulating the vapor through external heat exchangers or by cooling the reactor internally.\\nHydrogen efficiencies are >90 %, with aldehyde conversions as high as 99.9 % and alcohol yields >99 %. The commonly used commercial hydrogenation catalysts include combinations of copper, zinc, nickel, and chromium compounds. Major impurities at vapor-phase process temperatures are dipropyl ether, ethane, and propyl propionate. In addition to reduced zinc oxide and copper oxide catalysts, selectivity enhancers such as alkali and transition metals can be added to significantly reduce the formation of esters (by Tischenko reaction of the starting aldehyde) and ethers . Addition of 1 \\\\xe2\\\\x80\\\\x93 10 % water to the reactor feed also suppresses ether formation.\\nThe propyl propionate byproduct formed in the catalytic hydrogenation can be separated and hydrogenolyzed in the presence of reduced CuO \\\\xe2\\\\x80\\\\x93 ZnO catalyst at 75 \\\\xe2\\\\x80\\\\x93 300 \\\\xc2\\\\xb0C and 9.8 kPa \\\\xe2\\\\x80\\\\x939.8 MPa to give 1-propanol as the major product.',\n '']"
     },
     "metadata": {},
     "execution_count": 119
    }
   ],
   "source": [
    "tech.getchildren()"
   ]
  },
  {
   "cell_type": "code",
   "execution_count": 115,
   "metadata": {
    "tags": []
   },
   "outputs": [
    {
     "output_type": "stream",
     "name": "stdout",
     "text": "{http://lca.jrc.it/ILCD/Process}technologyDescriptionAndIncludedProcesses\n{http://lca.jrc.it/ILCD/Process}technologicalApplicability\n"
    }
   ],
   "source": [
    "for i in tech.getchildren():\n",
    "    print(i.tag)"
   ]
  },
  {
   "cell_type": "code",
   "execution_count": 121,
   "metadata": {},
   "outputs": [
    {
     "output_type": "execute_result",
     "data": {
      "text/plain": "3"
     },
     "metadata": {},
     "execution_count": 121
    }
   ],
   "source": [
    "len(list(tech.getiterator()))"
   ]
  },
  {
   "cell_type": "code",
   "execution_count": 27,
   "metadata": {},
   "outputs": [],
   "source": [
    "from xml.etree import ElementTree"
   ]
  },
  {
   "cell_type": "code",
   "execution_count": 30,
   "metadata": {},
   "outputs": [],
   "source": [
    "from bs4 import BeautifulSoup"
   ]
  },
  {
   "cell_type": "code",
   "execution_count": 31,
   "metadata": {},
   "outputs": [],
   "source": [
    "soup = BeautifulSoup(ele, \"xml\")"
   ]
  },
  {
   "cell_type": "code",
   "execution_count": 34,
   "metadata": {},
   "outputs": [
    {
     "output_type": "execute_result",
     "data": {
      "text/plain": "<?xml version=\"1.0\" encoding=\"utf-8\"?>\n<referenceToTechnologyFlowDiagrammOrPicture refObjectId=\"4562465a-92b8-5dc0-b302-692e4e067f38\" type=\"source data set\" uri=\"../sources/4562465a-92b8-5dc0-b302-692e4e067f38.xml\" version=\"22.00.000\">\n<shortDescription xml:lang=\"en\">chemical_dataset_diagram</shortDescription>\n</referenceToTechnologyFlowDiagrammOrPicture>"
     },
     "metadata": {},
     "execution_count": 34
    }
   ],
   "source": [
    "soup"
   ]
  },
  {
   "cell_type": "code",
   "execution_count": 138,
   "metadata": {},
   "outputs": [],
   "source": [
    "import lxml.etree as ET\n",
    "parser = ET.XMLParser(remove_blank_text=True, recover=True)\n",
    "tree = ET.ElementTree(ET.fromstring(ele, parser=parser))"
   ]
  },
  {
   "cell_type": "code",
   "execution_count": 139,
   "metadata": {},
   "outputs": [],
   "source": [
    "tree_ele = tree.getroot()"
   ]
  },
  {
   "cell_type": "code",
   "execution_count": 140,
   "metadata": {},
   "outputs": [
    {
     "output_type": "execute_result",
     "data": {
      "text/plain": "<Element referenceToTechnologyFlowDiagrammOrPicture at 0x1b58dfb2d88>"
     },
     "metadata": {},
     "execution_count": 140
    }
   ],
   "source": [
    "tree_ele"
   ]
  },
  {
   "cell_type": "code",
   "execution_count": 136,
   "metadata": {},
   "outputs": [],
   "source": [
    "from lxml import etree"
   ]
  },
  {
   "cell_type": "code",
   "execution_count": null,
   "metadata": {},
   "outputs": [],
   "source": []
  },
  {
   "cell_type": "code",
   "execution_count": 66,
   "metadata": {
    "tags": []
   },
   "outputs": [
    {
     "output_type": "stream",
     "name": "stdout",
     "text": "The production of distyrylbiphenyl fluorescent whitening agent starts with biphenyl, that is produced along with other aromatic compounds during the refinining of crude oil. Reacting it with chlorine and formaldehyde produces the intermediate 4,4\\'-bis(chloromethyl)biphenyl, which reacts with trimethylphosphite to give 4,4\\'-bis(dimethoxyphosphonomethyl)biphenyl. This symmetrical biphenylphosphonate is reacted with two molecules of an aromatic aldehyde. In the case of the DSBP under consideration, benzaldehyde-2-sulphonic acid is used, a compound which is produced form 2-chlor-benzaldehyde and sodium sulphite. The two sulphonic acid groups thus introduced give the final product DSBP the desired affinity to adsorb onto cellulose fibres. The commercial product contains 83% active substance (Zah 2007). The same production route is reported in Ullmann\\xe2\\x80\\x99s encyclopedia, volume 25, Siegrist et al. (2003).\nThe reaction results in the production of 1 kg of reference product plus 1 mole of trimethylphosphate per mole of reference product. This is assumed to be treated in wastewater treatment resulting in emissions of CO2 and phosphorus.\nThis inventory representing production of a particular chemical compound is at least partially based on a generic model on the production of chemicals. The data generated by this model have been improved by compound-specific data when available.\nThe model on production of chemicals is using specific industry or literature data wherever possible and more generic data on chemical production processes to fill compound-specific data gaps when necessary. The basic principles of the model have been published in literature (Hischier 2005, Establishing Life Cycle Inventories of Chemicals Based on Differing Data Availability). The model has been updated and extended with newly available data from the chemical industry.\nIn the model, unreacted fractions are treated in a waste treatment process, and emissions reported are after a waste treatment process that is included in the scope of this dataset. For volatile reactants, a small level of evaporation is assumed. Solvents and catalysts are mostly recycled in closed-loop systems within the scope of the dataset and reported flows are for losses from this system.\nFor more detailed description of the model see the sectorial report (ecoinvent (2017) Data on the Production of Chemicals created for the EU Product Environmental Footprint (PEF) pilot phase implementation, www.ecoinvent.org, ecoinvent Association, Z\\xc3\\xbcrich, Switzerland).\n<Element referenceToTechnologyFlowDiagrammOrPicture at 0x1b58dfb9fc8>\n<Element referenceToTechnologyFlowDiagrammOrPicture at 0x1b58ddc4188>\n\n"
    }
   ],
   "source": [
    "for i in tech.iterchildren():\n",
    "    print(i)"
   ]
  },
  {
   "cell_type": "code",
   "execution_count": 124,
   "metadata": {
    "tags": []
   },
   "outputs": [
    {
     "output_type": "stream",
     "name": "stdout",
     "text": "{http://lca.jrc.it/ILCD/Process}technologyDescriptionAndIncludedProcesses\n{http://lca.jrc.it/ILCD/Process}technologicalApplicability\n"
    }
   ],
   "source": [
    "for c in tech.getchildren():\n",
    "    print(c.tag)"
   ]
  },
  {
   "cell_type": "code",
   "execution_count": 110,
   "metadata": {
    "tags": []
   },
   "outputs": [
    {
     "output_type": "error",
     "ename": "ValueError",
     "evalue": "Element is not a child of this node.",
     "traceback": [
      "\u001b[1;31m---------------------------------------------------------------------------\u001b[0m",
      "\u001b[1;31mValueError\u001b[0m                                Traceback (most recent call last)",
      "\u001b[1;32m<ipython-input-110-426bca46fdfc>\u001b[0m in \u001b[0;36m<module>\u001b[1;34m\u001b[0m\n\u001b[0;32m      1\u001b[0m \u001b[1;32mfor\u001b[0m \u001b[0mi\u001b[0m \u001b[1;32min\u001b[0m \u001b[0mtech\u001b[0m\u001b[1;33m.\u001b[0m\u001b[0mgetiterator\u001b[0m\u001b[1;33m(\u001b[0m\u001b[1;33m)\u001b[0m\u001b[1;33m:\u001b[0m\u001b[1;33m\u001b[0m\u001b[1;33m\u001b[0m\u001b[0m\n\u001b[1;32m----> 2\u001b[1;33m     \u001b[0mprint\u001b[0m\u001b[1;33m(\u001b[0m\u001b[0mi\u001b[0m\u001b[1;33m.\u001b[0m\u001b[0mtag\u001b[0m\u001b[1;33m,\u001b[0m \u001b[1;34m'---'\u001b[0m\u001b[1;33m,\u001b[0m \u001b[0mi\u001b[0m\u001b[1;33m.\u001b[0m\u001b[0mindex\u001b[0m\u001b[1;33m(\u001b[0m\u001b[0mi\u001b[0m\u001b[1;33m)\u001b[0m\u001b[1;33m)\u001b[0m\u001b[1;33m\u001b[0m\u001b[1;33m\u001b[0m\u001b[0m\n\u001b[0m",
      "\u001b[1;32msrc\\lxml\\etree.pyx\u001b[0m in \u001b[0;36mlxml.etree._Element.index\u001b[1;34m()\u001b[0m\n",
      "\u001b[1;31mValueError\u001b[0m: Element is not a child of this node."
     ]
    }
   ],
   "source": [
    "for i in tech.getiterator():\n",
    "    print(i.tag, '---', i.index(i))"
   ]
  },
  {
   "cell_type": "code",
   "execution_count": 125,
   "metadata": {},
   "outputs": [],
   "source": [
    "tech.insert(len(tech.getchildren()) + 1, tree_ele)"
   ]
  },
  {
   "cell_type": "code",
   "execution_count": 62,
   "metadata": {
    "tags": []
   },
   "outputs": [
    {
     "output_type": "stream",
     "name": "stdout",
     "text": "\n"
    }
   ],
   "source": [
    "for i in tech:\n",
    "    print(i)"
   ]
  },
  {
   "cell_type": "code",
   "execution_count": 126,
   "metadata": {},
   "outputs": [],
   "source": [
    "myfile.write(r\"D:\\ecoinvent_scripts\\test.xml\",encoding=\"utf-8\",standalone=False,xml_declaration=True,pretty_print=True)"
   ]
  },
  {
   "cell_type": "code",
   "execution_count": 127,
   "metadata": {
    "tags": []
   },
   "outputs": [
    {
     "output_type": "stream",
     "name": "stdout",
     "text": "{http://lca.jrc.it/ILCD/Process}technologyDescriptionAndIncludedProcesses\n{http://lca.jrc.it/ILCD/Process}technologicalApplicability\nreferenceToTechnologyFlowDiagrammOrPicture\n"
    }
   ],
   "source": [
    "for i in tech.getchildren():\n",
    "    print(i.tag)"
   ]
  },
  {
   "cell_type": "code",
   "execution_count": 13,
   "metadata": {},
   "outputs": [],
   "source": [
    "import lxml.etree as ET"
   ]
  },
  {
   "cell_type": "code",
   "execution_count": 48,
   "metadata": {},
   "outputs": [],
   "source": [
    "ele1 = df['aggr_file_update_compliance'].columns[0]"
   ]
  },
  {
   "cell_type": "code",
   "execution_count": 49,
   "metadata": {},
   "outputs": [
    {
     "output_type": "execute_result",
     "data": {
      "text/plain": "'<complianceDeclarations>\\n\\t<compliance>\\n\\t\\t<common:referenceToComplianceSystem refObjectId=\"66279383-8dc3-46c1-80d1-99866cc01e6a\" type=\"source data set\" uri=\"../sources/66279383-8dc3-46c1-80d1-99866cc01e6a.xml\" version=\"29.00.000\">\\n\\t\\t  <common:shortDescription xml:lang=\"en\">PEF/OEF implementation, mandatory data 2016-2021</common:shortDescription>\\n\\t\\t</common:referenceToComplianceSystem>\\n\\t\\t<common:approvalOfOverallCompliance>Fully compliant</common:approvalOfOverallCompliance>\\n\\t\\t<common:nomenclatureCompliance>Fully compliant</common:nomenclatureCompliance>\\n\\t\\t<common:methodologicalCompliance>Fully compliant</common:methodologicalCompliance>\\n\\t\\t<common:reviewCompliance>Fully compliant</common:reviewCompliance>\\n\\t\\t<common:documentationCompliance>Fully compliant</common:documentationCompliance>\\n\\t\\t<common:qualityCompliance>Fully compliant</common:qualityCompliance>\\n\\t</compliance>\\n\\t<compliance>\\n\\t\\t<common:referenceToComplianceSystem type=\"source data set\" refObjectId=\"d92a1a12-2545-49e2-a585-55c259997756\" version=\"35.00.000\" uri=\"../sources/d92a1a12-2545-49e2-a585-55c259997756.xml\">\\n\\t\\t\\t<common:shortDescription xml:lang=\"en\">ILCD Data Network - Entry-level</common:shortDescription>\\n\\t\\t</common:referenceToComplianceSystem>\\n\\t\\t<common:approvalOfOverallCompliance>Fully compliant</common:approvalOfOverallCompliance>\\n\\t\\t<common:nomenclatureCompliance>Fully compliant</common:nomenclatureCompliance>\\n\\t\\t<common:methodologicalCompliance>Fully compliant</common:methodologicalCompliance>\\n\\t\\t<common:reviewCompliance>Fully compliant</common:reviewCompliance>\\n\\t\\t<common:documentationCompliance>Fully compliant</common:documentationCompliance>\\n\\t\\t<common:qualityCompliance>Not defined</common:qualityCompliance>\\n\\t</compliance>\\n\\t<compliance>\\n\\t\\t<common:referenceToComplianceSystem type=\"source data set\" refObjectId=\"afc1ce43-e800-494b-aad4-46b9e8ea74da\" version=\"00.00.000\" uri=\"../sources/afc1ce43-e800-494b-aad4-46b9e8ea74da.xml\">\\n\\t\\t\\t<common:shortDescription xml:lang=\"en\">Suggestions for updating the PEF method 2019</common:shortDescription>\\n\\t\\t</common:referenceToComplianceSystem>\\n\\t\\t<common:approvalOfOverallCompliance>Fully compliant</common:approvalOfOverallCompliance>\\n\\t\\t<common:nomenclatureCompliance>Fully compliant</common:nomenclatureCompliance>\\n\\t\\t<common:methodologicalCompliance>Fully compliant</common:methodologicalCompliance>\\n\\t\\t<common:reviewCompliance>Fully compliant</common:reviewCompliance>\\n\\t\\t<common:documentationCompliance>Fully compliant</common:documentationCompliance>\\n\\t\\t<common:qualityCompliance>Fully compliant</common:qualityCompliance>\\n\\t</compliance>\\n\\t<compliance>\\n\\t\\t<common:referenceToComplianceSystem type=\"source data set\" refObjectId=\"1ea48531-e397-4ca7-ac08-056e4fa11826\" version=\"35.00.000\" uri=\"../sources/1ea48531-e397-4ca7-ac08-056e4fa11826.xml\">\\n\\t\\t\\t<common:shortDescription xml:lang=\"en\">ISO 14040 Environmental Management – Life Cycle Assessment – Principles and Framework, 2006</common:shortDescription>\\n\\t\\t</common:referenceToComplianceSystem>\\n\\t\\t<common:approvalOfOverallCompliance>Fully compliant</common:approvalOfOverallCompliance>\\n\\t\\t<common:nomenclatureCompliance>Not defined</common:nomenclatureCompliance>\\n\\t\\t<common:methodologicalCompliance>Fully compliant</common:methodologicalCompliance>\\n\\t\\t<common:reviewCompliance>Fully compliant</common:reviewCompliance>\\n\\t\\t<common:documentationCompliance>Not defined</common:documentationCompliance>\\n\\t\\t<common:qualityCompliance>Not defined</common:qualityCompliance>\\n\\t</compliance>\\n\\t<compliance>\\n\\t\\t<common:referenceToComplianceSystem type=\"source data set\" refObjectId=\"1adb438d-4a8b-4919-885e-0a66da3c0f2a\" version=\"35.00.000\" uri=\"../sources/1adb438d-4a8b-4919-885e-0a66da3c0f2a.xml\">\\n\\t\\t\\t<common:shortDescription xml:lang=\"en\">ISO 14044:2006. Environmental Management – Life Cycle Assessment – Requirements and guidelines. </common:shortDescription>\\n\\t\\t</common:referenceToComplianceSystem>\\n\\t\\t<common:approvalOfOverallCompliance>Fully compliant</common:approvalOfOverallCompliance>\\n\\t\\t<common:nomenclatureCompliance>Not defined</common:nomenclatureCompliance>\\n\\t\\t<common:methodologicalCompliance>Fully compliant</common:methodologicalCompliance>\\n\\t\\t<common:reviewCompliance>Not defined</common:reviewCompliance>\\n\\t\\t<common:documentationCompliance>Fully compliant</common:documentationCompliance>\\n\\t\\t<common:qualityCompliance>Not defined</common:qualityCompliance>\\n\\t</compliance>\\n\\t<compliance>\\n\\t\\t<common:referenceToComplianceSystem type=\"source data set\" refObjectId=\"3f5b0b56-60e6-4df7-869d-a811830386d9\" version=\"00.00.000\" uri=\"../sources/3f5b0b56-60e6-4df7-869d-a811830386d9.xml\">\\n\\t\\t\\t<common:shortDescription xml:lang=\"en\">Environmental Footprint 3.0</common:shortDescription>\\n\\t\\t</common:referenceToComplianceSystem>\\n\\t\\t<common:approvalOfOverallCompliance>Not defined</common:approvalOfOverallCompliance>\\n\\t\\t<common:nomenclatureCompliance>Fully compliant</common:nomenclatureCompliance>\\n\\t\\t<common:methodologicalCompliance>Not defined</common:methodologicalCompliance>\\n\\t\\t<common:reviewCompliance>Not defined</common:reviewCompliance>\\n\\t\\t<common:documentationCompliance>Not defined</common:documentationCompliance>\\n\\t\\t<common:qualityCompliance>Not defined</common:qualityCompliance>\\n\\t</compliance>\\n</complianceDeclarations>'"
     },
     "metadata": {},
     "execution_count": 49
    }
   ],
   "source": [
    "ele1"
   ]
  },
  {
   "cell_type": "code",
   "execution_count": 67,
   "metadata": {
    "tags": []
   },
   "outputs": [],
   "source": [
    "for found in rooty.modellingAndValidation.getchildren():\n",
    "    if found.tag == \"{http://lca.jrc.it/ILCD/Process}complianceDeclarations\":\n",
    "        found.getparent().remove(found)"
   ]
  },
  {
   "cell_type": "code",
   "execution_count": 68,
   "metadata": {
    "tags": []
   },
   "outputs": [
    {
     "output_type": "stream",
     "name": "stdout",
     "text": "{http://lca.jrc.it/ILCD/Process}LCIMethodAndAllocation\n{http://lca.jrc.it/ILCD/Process}dataSourcesTreatmentAndRepresentativeness\n{http://lca.jrc.it/ILCD/Process}completeness\n{http://lca.jrc.it/ILCD/Process}validation\n"
    }
   ],
   "source": [
    "for found in rooty.modellingAndValidation.getchildren():\n",
    "    print(found.tag)"
   ]
  },
  {
   "cell_type": "code",
   "execution_count": 58,
   "metadata": {},
   "outputs": [],
   "source": [
    "for found in rooty.modellingAndValidation.complianceDeclarations.getchildren():\n",
    "    found.getparent().remove(found)"
   ]
  },
  {
   "cell_type": "code",
   "execution_count": 5,
   "metadata": {},
   "outputs": [
    {
     "output_type": "execute_result",
     "data": {
      "text/plain": "<Element {http://lca.jrc.it/ILCD/Process}complianceDeclarations at 0x2c5b6c31788>"
     },
     "metadata": {},
     "execution_count": 5
    }
   ],
   "source": [
    "rooty.modellingAndValidation.complianceDeclarations.compliance.getparent()"
   ]
  },
  {
   "cell_type": "code",
   "execution_count": 70,
   "metadata": {},
   "outputs": [
    {
     "output_type": "execute_result",
     "data": {
      "text/plain": "4"
     },
     "metadata": {},
     "execution_count": 70
    }
   ],
   "source": [
    "len(rooty.modellingAndValidation.getchildren())"
   ]
  },
  {
   "cell_type": "code",
   "execution_count": 71,
   "metadata": {},
   "outputs": [
    {
     "output_type": "execute_result",
     "data": {
      "text/plain": "lxml.objectify.ObjectifiedElement"
     },
     "metadata": {},
     "execution_count": 71
    }
   ],
   "source": [
    "type(rooty.modellingAndValidation)"
   ]
  },
  {
   "cell_type": "code",
   "execution_count": 59,
   "metadata": {},
   "outputs": [
    {
     "output_type": "execute_result",
     "data": {
      "text/plain": "[]"
     },
     "metadata": {},
     "execution_count": 59
    }
   ],
   "source": [
    "rooty.modellingAndValidation.complianceDeclarations.getchildren()"
   ]
  },
  {
   "cell_type": "code",
   "execution_count": 73,
   "metadata": {},
   "outputs": [],
   "source": [
    "mv = rooty.modellingAndValidation"
   ]
  },
  {
   "cell_type": "code",
   "execution_count": 74,
   "metadata": {},
   "outputs": [
    {
     "output_type": "execute_result",
     "data": {
      "text/plain": "4"
     },
     "metadata": {},
     "execution_count": 74
    }
   ],
   "source": [
    "len(mv.getchildren())"
   ]
  },
  {
   "cell_type": "code",
   "execution_count": 75,
   "metadata": {},
   "outputs": [],
   "source": [
    "mv.insert(len(mv.getchildren()) + 1, tree_ele)"
   ]
  },
  {
   "cell_type": "code",
   "execution_count": 76,
   "metadata": {},
   "outputs": [
    {
     "output_type": "execute_result",
     "data": {
      "text/plain": "[<Element {http://lca.jrc.it/ILCD/Process}LCIMethodAndAllocation at 0x2c5b69fadc8>,\n <Element {http://lca.jrc.it/ILCD/Process}dataSourcesTreatmentAndRepresentativeness at 0x2c5b6aca388>,\n <Element {http://lca.jrc.it/ILCD/Process}completeness at 0x2c5b682b048>,\n <Element {http://lca.jrc.it/ILCD/Process}validation at 0x2c5b826af08>,\n <Element complianceDeclarations at 0x2c5b7f77288>]"
     },
     "metadata": {},
     "execution_count": 76
    }
   ],
   "source": [
    "mv.getchildren()"
   ]
  },
  {
   "cell_type": "code",
   "execution_count": 82,
   "metadata": {},
   "outputs": [
    {
     "output_type": "execute_result",
     "data": {
      "text/plain": "{None: 'http://lca.jrc.it/ILCD/Process',\n 'common': 'http://lca.jrc.it/ILCD/Common',\n 'ext': 'http://eplca.jrc.ec.europa.eu/ILCD/Extensions/2017',\n 'xsi': 'http://www.w3.org/2001/XMLSchema-instance'}"
     },
     "metadata": {},
     "execution_count": 82
    }
   ],
   "source": [
    "mv.getchildren()[0].nsmap"
   ]
  },
  {
   "cell_type": "code",
   "execution_count": 87,
   "metadata": {},
   "outputs": [
    {
     "output_type": "execute_result",
     "data": {
      "text/plain": "{None: 'http://lca.jrc.it/ILCD/Process',\n 'common': 'http://lca.jrc.it/ILCD/Common',\n 'ext': 'http://eplca.jrc.ec.europa.eu/ILCD/Extensions/2017',\n 'xsi': 'http://www.w3.org/2001/XMLSchema-instance'}"
     },
     "metadata": {},
     "execution_count": 87
    }
   ],
   "source": [
    "mv.getchildren()[0].nsmap"
   ]
  },
  {
   "cell_type": "code",
   "execution_count": 83,
   "metadata": {},
   "outputs": [
    {
     "output_type": "execute_result",
     "data": {
      "text/plain": "{None: 'http://lca.jrc.it/ILCD/Process',\n 'common': 'http://lca.jrc.it/ILCD/Common',\n 'ext': 'http://eplca.jrc.ec.europa.eu/ILCD/Extensions/2017',\n 'xsi': 'http://www.w3.org/2001/XMLSchema-instance'}"
     },
     "metadata": {},
     "execution_count": 83
    }
   ],
   "source": [
    "mv.getchildren()[4].nsmap"
   ]
  },
  {
   "cell_type": "code",
   "execution_count": 50,
   "metadata": {},
   "outputs": [],
   "source": [
    "parser = ET.XMLParser(recover=True)\n",
    "tree = ET.ElementTree(ET.fromstring(ele1, parser=parser))\n",
    "tree_ele = tree.getroot()"
   ]
  },
  {
   "cell_type": "code",
   "execution_count": null,
   "metadata": {},
   "outputs": [],
   "source": []
  },
  {
   "cell_type": "code",
   "execution_count": 84,
   "metadata": {
    "tags": []
   },
   "outputs": [
    {
     "output_type": "stream",
     "name": "stdout",
     "text": "Help on _Element object:\n\nclass _Element(builtins.object)\n |  Element class.\n |  \n |  References a document object and a libxml node.\n |  \n |  By pointing to a Document instance, a reference is kept to\n |  _Document as long as there is some pointer to a node in it.\n |  \n |  Methods defined here:\n |  \n |  __bool__(self, /)\n |      self != 0\n |  \n |  __contains__(...)\n |      __contains__(self, element)\n |  \n |  __copy__(self)\n |      __copy__(self)\n |  \n |  __deepcopy__(self, memo)\n |      __deepcopy__(self, memo)\n |  \n |  __delitem__(...)\n |      __delitem__(self, x)\n |      \n |      Deletes the given subelement or a slice.\n |  \n |  __getitem__(...)\n |      Returns the subelement at the given position or the requested\n |      slice.\n |  \n |  __iter__(...)\n |      __iter__(self)\n |  \n |  __len__(...)\n |      __len__(self)\n |      \n |      Returns the number of subelements.\n |  \n |  __repr__(...)\n |      __repr__(self)\n |  \n |  __reversed__(self)\n |      __reversed__(self)\n |  \n |  __setitem__(...)\n |      __setitem__(self, x, value)\n |      \n |      Replaces the given subelement index or slice.\n |  \n |  addnext(self, element)\n |      addnext(self, element)\n |      \n |      Adds the element as a following sibling directly after this\n |      element.\n |      \n |      This is normally used to set a processing instruction or comment after\n |      the root node of a document.  Note that tail text is automatically\n |      discarded when adding at the root level.\n |  \n |  addprevious(self, element)\n |      addprevious(self, element)\n |      \n |      Adds the element as a preceding sibling directly before this\n |      element.\n |      \n |      This is normally used to set a processing instruction or comment\n |      before the root node of a document.  Note that tail text is\n |      automatically discarded when adding at the root level.\n |  \n |  append(self, element)\n |      append(self, element)\n |      \n |      Adds a subelement to the end of this element.\n |  \n |  clear(self, keep_tail)\n |      clear(self, keep_tail=False)\n |      \n |      Resets an element.  This function removes all subelements, clears\n |      all attributes and sets the text and tail properties to None.\n |      \n |      Pass ``keep_tail=True`` to leave the tail text untouched.\n |  \n |  cssselect(self, expr, *, translator)\n |      Run the CSS expression on this element and its children,\n |      returning a list of the results.\n |      \n |      Equivalent to lxml.cssselect.CSSSelect(expr)(self) -- note\n |      that pre-compiling the expression can provide a substantial\n |      speedup.\n |  \n |  extend(self, elements)\n |      extend(self, elements)\n |      \n |      Extends the current children by the elements in the iterable.\n |  \n |  find(self, path, namespaces)\n |      find(self, path, namespaces=None)\n |      \n |      Finds the first matching subelement, by tag name or path.\n |      \n |      The optional ``namespaces`` argument accepts a\n |      prefix-to-namespace mapping that allows the usage of XPath\n |      prefixes in the path expression.\n |  \n |  findall(self, path, namespaces)\n |      findall(self, path, namespaces=None)\n |      \n |      Finds all matching subelements, by tag name or path.\n |      \n |      The optional ``namespaces`` argument accepts a\n |      prefix-to-namespace mapping that allows the usage of XPath\n |      prefixes in the path expression.\n |  \n |  findtext(self, path, default, namespaces)\n |      findtext(self, path, default=None, namespaces=None)\n |      \n |      Finds text for the first matching subelement, by tag name or path.\n |      \n |      The optional ``namespaces`` argument accepts a\n |      prefix-to-namespace mapping that allows the usage of XPath\n |      prefixes in the path expression.\n |  \n |  get(self, key, default)\n |      get(self, key, default=None)\n |      \n |      Gets an element attribute.\n |  \n |  getchildren(self)\n |      getchildren(self)\n |      \n |      Returns all direct children.  The elements are returned in document\n |      order.\n |      \n |      :deprecated: Note that this method has been deprecated as of\n |        ElementTree 1.3 and lxml 2.0.  New code should use\n |        ``list(element)`` or simply iterate over elements.\n |  \n |  getiterator(self, tag, *tags)\n |      getiterator(self, tag=None, *tags)\n |      \n |      Returns a sequence or iterator of all elements in the subtree in\n |      document order (depth first pre-order), starting with this\n |      element.\n |      \n |      Can be restricted to find only elements with specific tags,\n |      see `iter`.\n |      \n |      :deprecated: Note that this method is deprecated as of\n |        ElementTree 1.3 and lxml 2.0.  It returns an iterator in\n |        lxml, which diverges from the original ElementTree\n |        behaviour.  If you want an efficient iterator, use the\n |        ``element.iter()`` method instead.  You should only use this\n |        method in new code if you require backwards compatibility\n |        with older versions of lxml or ElementTree.\n |  \n |  getnext(self)\n |      getnext(self)\n |      \n |      Returns the following sibling of this element or None.\n |  \n |  getparent(self)\n |      getparent(self)\n |      \n |      Returns the parent of this element or None for the root element.\n |  \n |  getprevious(self)\n |      getprevious(self)\n |      \n |      Returns the preceding sibling of this element or None.\n |  \n |  getroottree(self)\n |      getroottree(self)\n |      \n |      Return an ElementTree for the root node of the document that\n |      contains this element.\n |      \n |      This is the same as following element.getparent() up the tree until it\n |      returns None (for the root element) and then build an ElementTree for\n |      the last parent that was returned.\n |  \n |  index(self, child, start: 'int', stop: 'int')\n |      index(self, child, start=None, stop=None)\n |      \n |      Find the position of the child within the parent.\n |      \n |      This method is not part of the original ElementTree API.\n |  \n |  insert(self, index: 'int', element)\n |      insert(self, index, element)\n |      \n |      Inserts a subelement at the given position in this element\n |  \n |  items(self)\n |      items(self)\n |      \n |      Gets element attributes, as a sequence. The attributes are returned in\n |      an arbitrary order.\n |  \n |  iter(self, tag, *tags)\n |      iter(self, tag=None, *tags)\n |      \n |      Iterate over all elements in the subtree in document order (depth\n |      first pre-order), starting with this element.\n |      \n |      Can be restricted to find only elements with specific tags:\n |      pass ``\"{ns}localname\"`` as tag. Either or both of ``ns`` and\n |      ``localname`` can be ``*`` for a wildcard; ``ns`` can be empty\n |      for no namespace. ``\"localname\"`` is equivalent to ``\"{}localname\"``\n |      (i.e. no namespace) but ``\"*\"`` is ``\"{*}*\"`` (any or no namespace),\n |      not ``\"{}*\"``.\n |      \n |      You can also pass the Element, Comment, ProcessingInstruction and\n |      Entity factory functions to look only for the specific element type.\n |      \n |      Passing multiple tags (or a sequence of tags) instead of a single tag\n |      will let the iterator return all elements matching any of these tags,\n |      in document order.\n |  \n |  iterancestors(self, tag, *tags)\n |      iterancestors(self, tag=None, *tags)\n |      \n |      Iterate over the ancestors of this element (from parent to parent).\n |      \n |      Can be restricted to find only elements with specific tags,\n |      see `iter`.\n |  \n |  iterchildren(self, tag, *tags, reversed)\n |      iterchildren(self, tag=None, *tags, reversed=False)\n |      \n |      Iterate over the children of this element.\n |      \n |      As opposed to using normal iteration on this element, the returned\n |      elements can be reversed with the 'reversed' keyword and restricted\n |      to find only elements with specific tags, see `iter`.\n |  \n |  iterdescendants(self, tag, *tags)\n |      iterdescendants(self, tag=None, *tags)\n |      \n |      Iterate over the descendants of this element in document order.\n |      \n |      As opposed to ``el.iter()``, this iterator does not yield the element\n |      itself.  The returned elements can be restricted to find only elements\n |      with specific tags, see `iter`.\n |  \n |  iterfind(self, path, namespaces)\n |      iterfind(self, path, namespaces=None)\n |      \n |      Iterates over all matching subelements, by tag name or path.\n |      \n |      The optional ``namespaces`` argument accepts a\n |      prefix-to-namespace mapping that allows the usage of XPath\n |      prefixes in the path expression.\n |  \n |  itersiblings(self, tag, *tags, preceding)\n |      itersiblings(self, tag=None, *tags, preceding=False)\n |      \n |      Iterate over the following or preceding siblings of this element.\n |      \n |      The direction is determined by the 'preceding' keyword which\n |      defaults to False, i.e. forward iteration over the following\n |      siblings.  When True, the iterator yields the preceding\n |      siblings in reverse document order, i.e. starting right before\n |      the current element and going backwards.\n |      \n |      Can be restricted to find only elements with specific tags,\n |      see `iter`.\n |  \n |  itertext(self, tag, *tags, with_tail)\n |      itertext(self, tag=None, *tags, with_tail=True)\n |      \n |      Iterates over the text content of a subtree.\n |      \n |      You can pass tag names to restrict text content to specific elements,\n |      see `iter`.\n |      \n |      You can set the ``with_tail`` keyword argument to ``False`` to skip\n |      over tail text.\n |  \n |  keys(self)\n |      keys(self)\n |      \n |      Gets a list of attribute names.  The names are returned in an\n |      arbitrary order (just like for an ordinary Python dictionary).\n |  \n |  makeelement(self, _tag, attrib, nsmap, **_extra)\n |      makeelement(self, _tag, attrib=None, nsmap=None, **_extra)\n |      \n |      Creates a new element associated with the same document.\n |  \n |  remove(self, element)\n |      remove(self, element)\n |      \n |      Removes a matching subelement. Unlike the find methods, this\n |      method compares elements based on identity, not on tag value\n |      or contents.\n |  \n |  replace(self, old_element, new_element)\n |      replace(self, old_element, new_element)\n |      \n |      Replaces a subelement with the element passed as second argument.\n |  \n |  set(self, key, value)\n |      set(self, key, value)\n |      \n |      Sets an element attribute.\n |  \n |  values(self)\n |      values(self)\n |      \n |      Gets element attribute values as a sequence of strings.  The\n |      attributes are returned in an arbitrary order.\n |  \n |  xpath(self, _path, *, namespaces, extensions, smart_strings, **_variables)\n |      xpath(self, _path, namespaces=None, extensions=None, smart_strings=True, **_variables)\n |      \n |      Evaluate an xpath expression using the element as context node.\n |  \n |  ----------------------------------------------------------------------\n |  Static methods defined here:\n |  \n |  __new__(*args, **kwargs) from builtins.type\n |      Create and return a new object.  See help(type) for accurate signature.\n |  \n |  ----------------------------------------------------------------------\n |  Data descriptors defined here:\n |  \n |  attrib\n |      Element attribute dictionary. Where possible, use get(), set(),\n |      keys(), values() and items() to access element attributes.\n |  \n |  base\n |      The base URI of the Element (xml:base or HTML base URL).\n |      None if the base URI is unknown.\n |      \n |      Note that the value depends on the URL of the document that\n |      holds the Element if there is no xml:base attribute on the\n |      Element or its ancestors.\n |      \n |      Setting this property will set an xml:base attribute on the\n |      Element, regardless of the document type (XML or HTML).\n |  \n |  nsmap\n |      Namespace prefix->URI mapping known in the context of this\n |      Element.  This includes all namespace declarations of the\n |      parents.\n |      \n |      Note that changing the returned dict has no effect on the Element.\n |  \n |  prefix\n |      Namespace prefix or None.\n |  \n |  sourceline\n |      Original line number as found by the parser or None if unknown.\n |  \n |  tag\n |      Element tag\n |  \n |  tail\n |      Text after this element's end tag, but before the next sibling\n |      element's start tag. This is either a string or the value None, if\n |      there was no text.\n |  \n |  text\n |      Text before the first subelement. This is either a string or\n |      the value None, if there was no text.\n\n"
    }
   ],
   "source": [
    "help(tree_ele)"
   ]
  },
  {
   "cell_type": "code",
   "execution_count": 80,
   "metadata": {},
   "outputs": [
    {
     "output_type": "execute_result",
     "data": {
      "text/plain": "'http://lca.jrc.it/ILCD/Process'"
     },
     "metadata": {},
     "execution_count": 80
    }
   ],
   "source": [
    "tree_ele.nsmap[None]"
   ]
  },
  {
   "cell_type": "code",
   "execution_count": 55,
   "metadata": {},
   "outputs": [
    {
     "output_type": "execute_result",
     "data": {
      "text/plain": "'complianceDeclarations'"
     },
     "metadata": {},
     "execution_count": 55
    }
   ],
   "source": [
    "tree_ele.tag"
   ]
  },
  {
   "cell_type": "code",
   "execution_count": 51,
   "metadata": {
    "tags": []
   },
   "outputs": [
    {
     "output_type": "stream",
     "name": "stdout",
     "text": "<Element complianceDeclarations at 0x2c5b7f77288>\n<Element compliance at 0x2c5b81d9388>\n<Element common:referenceToComplianceSystem at 0x2c5b7fecbc8>\n<Element common:shortDescription at 0x2c5b7a9be08>\n<Element common:approvalOfOverallCompliance at 0x2c5b81d9388>\n<Element common:nomenclatureCompliance at 0x2c5b7fecbc8>\n<Element common:methodologicalCompliance at 0x2c5b7a9be08>\n<Element common:reviewCompliance at 0x2c5b81d9388>\n<Element common:documentationCompliance at 0x2c5b7fecbc8>\n<Element common:qualityCompliance at 0x2c5b7a9be08>\n<Element compliance at 0x2c5b81d9388>\n<Element common:referenceToComplianceSystem at 0x2c5b7fecbc8>\n<Element common:shortDescription at 0x2c5b81d9208>\n<Element common:approvalOfOverallCompliance at 0x2c5b7a9be08>\n<Element common:nomenclatureCompliance at 0x2c5b7fecbc8>\n<Element common:methodologicalCompliance at 0x2c5b81d95c8>\n<Element common:reviewCompliance at 0x2c5b7a9be08>\n<Element common:documentationCompliance at 0x2c5b7fecbc8>\n<Element common:qualityCompliance at 0x2c5b81d95c8>\n<Element compliance at 0x2c5b7a9be08>\n<Element common:referenceToComplianceSystem at 0x2c5b81d96c8>\n<Element common:shortDescription at 0x2c5b81d9388>\n<Element common:approvalOfOverallCompliance at 0x2c5b7a9be08>\n<Element common:nomenclatureCompliance at 0x2c5b81d96c8>\n<Element common:methodologicalCompliance at 0x2c5b81d9388>\n<Element common:reviewCompliance at 0x2c5b7a9be08>\n<Element common:documentationCompliance at 0x2c5b81d96c8>\n<Element common:qualityCompliance at 0x2c5b7ddc748>\n<Element compliance at 0x2c5b7a9be08>\n<Element common:referenceToComplianceSystem at 0x2c5b81d96c8>\n<Element common:shortDescription at 0x2c5b81d95c8>\n<Element common:approvalOfOverallCompliance at 0x2c5b7a9be08>\n<Element common:nomenclatureCompliance at 0x2c5b7ddc748>\n<Element common:methodologicalCompliance at 0x2c5b81d95c8>\n<Element common:reviewCompliance at 0x2c5b7a9be08>\n<Element common:documentationCompliance at 0x2c5b7ddc748>\n<Element common:qualityCompliance at 0x2c5b81d95c8>\n<Element compliance at 0x2c5b7a9be08>\n<Element common:referenceToComplianceSystem at 0x2c5b7ddc748>\n<Element common:shortDescription at 0x2c5b81d96c8>\n<Element common:approvalOfOverallCompliance at 0x2c5b7a9be08>\n<Element common:nomenclatureCompliance at 0x2c5b7ddc748>\n<Element common:methodologicalCompliance at 0x2c5b81d96c8>\n<Element common:reviewCompliance at 0x2c5b7a9be08>\n<Element common:documentationCompliance at 0x2c5b7ddc748>\n<Element common:qualityCompliance at 0x2c5b81d96c8>\n<Element compliance at 0x2c5b7a9be08>\n<Element common:referenceToComplianceSystem at 0x2c5b7ddc748>\n<Element common:shortDescription at 0x2c5b81d95c8>\n<Element common:approvalOfOverallCompliance at 0x2c5b7a9be08>\n<Element common:nomenclatureCompliance at 0x2c5b7ddc748>\n<Element common:methodologicalCompliance at 0x2c5b81d95c8>\n<Element common:reviewCompliance at 0x2c5b7a9be08>\n<Element common:documentationCompliance at 0x2c5b7ddc748>\n<Element common:qualityCompliance at 0x2c5b81d95c8>\n"
    }
   ],
   "source": [
    "for i in tree.iter():\n",
    "    print(i)"
   ]
  },
  {
   "cell_type": "code",
   "execution_count": 45,
   "metadata": {},
   "outputs": [
    {
     "output_type": "execute_result",
     "data": {
      "text/plain": "7"
     },
     "metadata": {},
     "execution_count": 45
    }
   ],
   "source": [
    "len(tree_ele)"
   ]
  },
  {
   "cell_type": "code",
   "execution_count": 72,
   "metadata": {},
   "outputs": [
    {
     "output_type": "execute_result",
     "data": {
      "text/plain": "lxml.etree._Element"
     },
     "metadata": {},
     "execution_count": 72
    }
   ],
   "source": [
    "type(tree_ele)"
   ]
  },
  {
   "cell_type": "code",
   "execution_count": 53,
   "metadata": {},
   "outputs": [
    {
     "output_type": "execute_result",
     "data": {
      "text/plain": "<Element compliance at 0x2c5b81d9b48>"
     },
     "metadata": {},
     "execution_count": 53
    }
   ],
   "source": [
    "tree_ele[0]"
   ]
  },
  {
   "cell_type": "code",
   "execution_count": 54,
   "metadata": {},
   "outputs": [
    {
     "output_type": "execute_result",
     "data": {
      "text/plain": "<Element compliance at 0x2c5b826a908>"
     },
     "metadata": {},
     "execution_count": 54
    }
   ],
   "source": [
    "tree_ele[1]"
   ]
  },
  {
   "cell_type": "code",
   "execution_count": 60,
   "metadata": {},
   "outputs": [],
   "source": [
    "mv = rooty.modellingAndValidation"
   ]
  },
  {
   "cell_type": "code",
   "execution_count": 18,
   "metadata": {},
   "outputs": [
    {
     "output_type": "execute_result",
     "data": {
      "text/plain": "[]"
     },
     "metadata": {},
     "execution_count": 18
    }
   ],
   "source": [
    "cd.getchildren()"
   ]
  },
  {
   "cell_type": "code",
   "execution_count": 19,
   "metadata": {},
   "outputs": [],
   "source": [
    "cd.insert(1, tree_ele)"
   ]
  },
  {
   "cell_type": "code",
   "execution_count": 56,
   "metadata": {},
   "outputs": [
    {
     "output_type": "execute_result",
     "data": {
      "text/plain": "6"
     },
     "metadata": {},
     "execution_count": 56
    }
   ],
   "source": [
    "len(tree_ele)"
   ]
  },
  {
   "cell_type": "code",
   "execution_count": 30,
   "metadata": {
    "tags": []
   },
   "outputs": [
    {
     "output_type": "stream",
     "name": "stdout",
     "text": "\n\t\n\n\t  \nPEF/OEF implementation, mandatory data 2016-2021\nFully compliant\nFully compliant\nFully compliant\nFully compliant\nFully compliant\nFully compliant\n"
    }
   ],
   "source": [
    "for i in tree.iter():\n",
    "    print(i.text)"
   ]
  },
  {
   "cell_type": "code",
   "execution_count": 122,
   "metadata": {},
   "outputs": [
    {
     "output_type": "execute_result",
     "data": {
      "text/plain": "'           \\n                <common:referenceToNameOfReviewerAndInstitution type=\"contact data set\" refObjectId=\"52646f69-d9e0-4a6a-ad7f-d2024d11651c\" version=\"01.00.000\" uri=\"../contacts/\\t52646f69-d9e0-4a6a-ad7f-d2024d11651c.xml\">\\n                    <common:shortDescription xml:lang=\"en\">Eric Johnson</common:shortDescription>\\n                </common:referenceToNameOfReviewerAndInstitution>                \\n                <common:referenceToNameOfReviewerAndInstitution type=\"contact data set\" refObjectId=\"7fbe898d-3362-474a-bc26-2a05fba4b5d7\" version=\"01.00.000\" uri=\"../contacts/7fbe898d-3362-474a-bc26-2a05fba4b5d7.xml\">\\n                    <common:shortDescription xml:lang=\"en\">Gregor Wernet</common:shortDescription>\\n                </common:referenceToNameOfReviewerAndInstitution>\\n                <common:referenceToNameOfReviewerAndInstitution type=\"contact data set\" refObjectId=\"e0e2442c-9cf2-4783-addb-75060de83d29\" version=\"01.00.000\" uri=\"../contacts/e0e2442c-9cf2-4783-addb-75060de83d29.xml\">\\n                    <common:shortDescription xml:lang=\"en\">Emilia Moreno Ruiz</common:shortDescription>\\n                </common:referenceToNameOfReviewerAndInstitution>'"
     },
     "metadata": {},
     "execution_count": 122
    }
   ],
   "source": [
    "ele2 = df['aggr_file_update_reviewer'].columns[0]\n",
    "ele2"
   ]
  },
  {
   "cell_type": "code",
   "execution_count": 137,
   "metadata": {},
   "outputs": [
    {
     "output_type": "execute_result",
     "data": {
      "text/plain": "['           \\n                <common:referenceToNameOfReviewerAndInstitution type=\"contact data set\" refObjectId=\"52646f69-d9e0-4a6a-ad7f-d2024d11651c\" version=\"01.00.000\" uri=\"../contacts/\\t52646f69-d9e0-4a6a-ad7f-d2024d11651c.xml\">\\n                    <common:shortDescription xml:lang=\"en\">Eric Johnson</common:shortDescription>\\n                ',\n '                \\n                <common:referenceToNameOfReviewerAndInstitution type=\"contact data set\" refObjectId=\"7fbe898d-3362-474a-bc26-2a05fba4b5d7\" version=\"01.00.000\" uri=\"../contacts/7fbe898d-3362-474a-bc26-2a05fba4b5d7.xml\">\\n                    <common:shortDescription xml:lang=\"en\">Gregor Wernet</common:shortDescription>\\n                ',\n '\\n                <common:referenceToNameOfReviewerAndInstitution type=\"contact data set\" refObjectId=\"e0e2442c-9cf2-4783-addb-75060de83d29\" version=\"01.00.000\" uri=\"../contacts/e0e2442c-9cf2-4783-addb-75060de83d29.xml\">\\n                    <common:shortDescription xml:lang=\"en\">Emilia Moreno Ruiz</common:shortDescription>\\n                ',\n '']"
     },
     "metadata": {},
     "execution_count": 137
    }
   ],
   "source": [
    "li = ele2.split('</common:referenceToNameOfReviewerAndInstitution>')\n",
    "li"
   ]
  },
  {
   "cell_type": "code",
   "execution_count": 140,
   "metadata": {},
   "outputs": [
    {
     "output_type": "execute_result",
     "data": {
      "text/plain": "'           \\n                <common:referenceToNameOfReviewerAndInstitution type=\"contact data set\" refObjectId=\"52646f69-d9e0-4a6a-ad7f-d2024d11651c\" version=\"01.00.000\" uri=\"../contacts/\\t52646f69-d9e0-4a6a-ad7f-d2024d11651c.xml\">\\n                    <common:shortDescription xml:lang=\"en\">Eric Johnson</common:shortDescription>\\n                </common:referenceToNameOfReviewerAndInstitution>'"
     },
     "metadata": {},
     "execution_count": 140
    }
   ],
   "source": [
    "firstitem = \"\".join((li[0], '</common:referenceToNameOfReviewerAndInstitution>'))\n",
    "firstitem"
   ]
  },
  {
   "cell_type": "code",
   "execution_count": 127,
   "metadata": {},
   "outputs": [],
   "source": [
    "from lxml import objectify\n",
    "import itertools"
   ]
  },
  {
   "cell_type": "code",
   "execution_count": 141,
   "metadata": {},
   "outputs": [],
   "source": [
    "parser = ET.XMLParser(recover=True)\n",
    "tree = ET.ElementTree(ET.fromstring(firstitem, parser=parser))\n",
    "tree_ele = tree.getroot()"
   ]
  },
  {
   "cell_type": "code",
   "execution_count": 142,
   "metadata": {
    "tags": []
   },
   "outputs": [
    {
     "output_type": "stream",
     "name": "stdout",
     "text": "<Element common:referenceToNameOfReviewerAndInstitution at 0x2c5b834c9c8>\n<Element common:shortDescription at 0x2c5b8283c08>\n"
    }
   ],
   "source": [
    "for i in tree.iter():\n",
    "    print(i)"
   ]
  },
  {
   "cell_type": "code",
   "execution_count": 135,
   "metadata": {},
   "outputs": [
    {
     "output_type": "execute_result",
     "data": {
      "text/plain": "<Element common:referenceToNameOfReviewerAndInstitution at 0x2c5b7b0fd48>"
     },
     "metadata": {},
     "execution_count": 135
    }
   ],
   "source": [
    "ET.fromstring(ele2, parser=parser)"
   ]
  },
  {
   "cell_type": "code",
   "execution_count": 131,
   "metadata": {},
   "outputs": [],
   "source": [
    "parser = ET.XMLParser(recover=True)\n",
    "it = itertools.chain('<root>', ele2, '</root>')\n",
    "tree = ET.ElementTree(ET.fromstringlist(it, parser=parser))\n",
    "tree_ele = tree.getroot()"
   ]
  },
  {
   "cell_type": "code",
   "execution_count": 134,
   "metadata": {
    "tags": []
   },
   "outputs": [
    {
     "output_type": "stream",
     "name": "stdout",
     "text": "<Element common:referenceToNameOfReviewerAndInstitution at 0x2c5b835bb88>\n<Element common:shortDescription at 0x2c5b696f288>\n"
    }
   ],
   "source": [
    "for i in tree.iter():\n",
    "    print(i)"
   ]
  },
  {
   "cell_type": "code",
   "execution_count": 130,
   "metadata": {},
   "outputs": [
    {
     "output_type": "execute_result",
     "data": {
      "text/plain": "'root'"
     },
     "metadata": {},
     "execution_count": 130
    }
   ],
   "source": [
    "tree_ele.tag"
   ]
  },
  {
   "cell_type": "code",
   "execution_count": 121,
   "metadata": {},
   "outputs": [
    {
     "output_type": "execute_result",
     "data": {
      "text/plain": "['AncestorsIterator',\n 'AttributeBasedElementClassLookup',\n 'C14NError',\n 'C14NWriterTarget',\n 'CDATA',\n 'Comment',\n 'CommentBase',\n 'CustomElementClassLookup',\n 'DEBUG',\n 'DTD',\n 'DTDError',\n 'DTDParseError',\n 'DTDValidateError',\n 'DocInfo',\n 'DocumentInvalid',\n 'ETCompatXMLParser',\n 'ETXPath',\n 'Element',\n 'ElementBase',\n 'ElementChildIterator',\n 'ElementClassLookup',\n 'ElementDefaultClassLookup',\n 'ElementDepthFirstIterator',\n 'ElementNamespaceClassLookup',\n 'ElementTextIterator',\n 'ElementTree',\n 'Entity',\n 'EntityBase',\n 'Error',\n 'ErrorDomains',\n 'ErrorLevels',\n 'ErrorTypes',\n 'Extension',\n 'FallbackElementClassLookup',\n 'FunctionNamespace',\n 'HTML',\n 'HTMLParser',\n 'HTMLPullParser',\n 'LIBXML_COMPILED_VERSION',\n 'LIBXML_VERSION',\n 'LIBXSLT_COMPILED_VERSION',\n 'LIBXSLT_VERSION',\n 'LXML_VERSION',\n 'LxmlError',\n 'LxmlRegistryError',\n 'LxmlSyntaxError',\n 'NamespaceRegistryError',\n 'PI',\n 'PIBase',\n 'ParseError',\n 'ParserBasedElementClassLookup',\n 'ParserError',\n 'ProcessingInstruction',\n 'PyErrorLog',\n 'PythonElementClassLookup',\n 'QName',\n 'RelaxNG',\n 'RelaxNGError',\n 'RelaxNGErrorTypes',\n 'RelaxNGParseError',\n 'RelaxNGValidateError',\n 'Resolver',\n 'Schematron',\n 'SchematronError',\n 'SchematronParseError',\n 'SchematronValidateError',\n 'SerialisationError',\n 'SiblingsIterator',\n 'SubElement',\n 'TreeBuilder',\n 'XInclude',\n 'XIncludeError',\n 'XML',\n 'XMLDTDID',\n 'XMLID',\n 'XMLParser',\n 'XMLPullParser',\n 'XMLSchema',\n 'XMLSchemaError',\n 'XMLSchemaParseError',\n 'XMLSchemaValidateError',\n 'XMLSyntaxError',\n 'XMLTreeBuilder',\n 'XPath',\n 'XPathDocumentEvaluator',\n 'XPathElementEvaluator',\n 'XPathError',\n 'XPathEvalError',\n 'XPathEvaluator',\n 'XPathFunctionError',\n 'XPathResultError',\n 'XPathSyntaxError',\n 'XSLT',\n 'XSLTAccessControl',\n 'XSLTApplyError',\n 'XSLTError',\n 'XSLTExtension',\n 'XSLTExtensionError',\n 'XSLTParseError',\n 'XSLTSaveError',\n '_Attrib',\n '_BaseErrorLog',\n '_Comment',\n '_Document',\n '_DomainErrorLog',\n '_Element',\n '_ElementIterator',\n '_ElementMatchIterator',\n '_ElementStringResult',\n '_ElementTagMatcher',\n '_ElementTree',\n '_ElementUnicodeResult',\n '_Entity',\n '_ErrorLog',\n '_FeedParser',\n '_IDDict',\n '_ListErrorLog',\n '_LogEntry',\n '_ProcessingInstruction',\n '_RotatingErrorLog',\n '_SaxParserTarget',\n '_TargetParserResult',\n '_Validator',\n '_XPathEvaluatorBase',\n '_XSLTProcessingInstruction',\n '_XSLTResultTree',\n '__all__',\n '__builtins__',\n '__doc__',\n '__docformat__',\n '__file__',\n '__loader__',\n '__name__',\n '__package__',\n '__pyx_capi__',\n '__spec__',\n '__test__',\n '__version__',\n 'adopt_external_document',\n 'canonicalize',\n 'cleanup_namespaces',\n 'clear_error_log',\n 'dump',\n 'fromstring',\n 'fromstringlist',\n 'get_default_parser',\n 'htmlfile',\n 'iselement',\n 'iterparse',\n 'iterwalk',\n 'memory_debugger',\n 'open',\n 'parse',\n 'parseid',\n 'register_namespace',\n 'set_default_parser',\n 'set_element_class_lookup',\n 'strip_attributes',\n 'strip_elements',\n 'strip_tags',\n 'tostring',\n 'tostringlist',\n 'tounicode',\n 'use_global_python_log',\n 'xmlfile']"
     },
     "metadata": {},
     "execution_count": 121
    }
   ],
   "source": [
    "dir(ET)"
   ]
  },
  {
   "cell_type": "code",
   "execution_count": 119,
   "metadata": {
    "tags": []
   },
   "outputs": [
    {
     "output_type": "stream",
     "name": "stdout",
     "text": "<Element common:referenceToNameOfReviewerAndInstitution at 0x2c5b8633488>\n<Element common:shortDescription at 0x2c5b8633608>\n"
    }
   ],
   "source": [
    "for i in tree.iter():\n",
    "    print(i)"
   ]
  },
  {
   "cell_type": "code",
   "execution_count": 103,
   "metadata": {},
   "outputs": [
    {
     "output_type": "execute_result",
     "data": {
      "text/plain": "NoneType"
     },
     "metadata": {},
     "execution_count": 103
    }
   ],
   "source": [
    "type(tree_ele)"
   ]
  },
  {
   "cell_type": "code",
   "execution_count": 19,
   "metadata": {
    "tags": []
   },
   "outputs": [
    {
     "output_type": "stream",
     "name": "stdout",
     "text": "Help on ObjectifiedElement object:\n\nclass ObjectifiedElement(lxml.etree.ElementBase)\n |  Main XML Element class.\n |  \n |  Element children are accessed as object attributes.  Multiple children\n |  with the same name are available through a list index.  Example::\n |  \n |     >>> root = XML(\"<root><c1><c2>0</c2><c2>1</c2></c1></root>\")\n |     >>> second_c2 = root.c1.c2[1]\n |     >>> print(second_c2.text)\n |     1\n |  \n |  Note that you cannot (and must not) instantiate this class or its\n |  subclasses.\n |  \n |  Method resolution order:\n |      ObjectifiedElement\n |      lxml.etree.ElementBase\n |      lxml.etree._Element\n |      builtins.object\n |  \n |  Methods defined here:\n |  \n |  __delattr__(self, name, /)\n |      Implement delattr(self, name).\n |  \n |  __delitem__(self, key, /)\n |      Delete self[key].\n |  \n |  __getattr__(...)\n |      Return the (first) child with the given tag name.  If no namespace\n |      is provided, the child will be looked up in the same one as self.\n |  \n |  __getattribute__(self, name, /)\n |      Return getattr(self, name).\n |  \n |  __getitem__(...)\n |      Return a sibling, counting from the first child of the parent.  The\n |      method behaves like both a dict and a sequence.\n |      \n |      * If argument is an integer, returns the sibling at that position.\n |      \n |      * If argument is a string, does the same as getattr().  This can be\n |        used to provide namespaces for element lookup, or to look up\n |        children with special names (``text`` etc.).\n |      \n |      * If argument is a slice object, returns the matching slice.\n |  \n |  __iter__(...)\n |      Iterate over self and all siblings with the same tag.\n |  \n |  __len__(...)\n |      Count self and siblings with the same tag.\n |  \n |  __reduce__(self)\n |  \n |  __setattr__(...)\n |      Set the value of the (first) child with the given tag name.  If no\n |      namespace is provided, the child will be looked up in the same one as\n |      self.\n |  \n |  __setitem__(...)\n |      Set the value of a sibling, counting from the first child of the\n |      parent.  Implements key assignment, item assignment and slice\n |      assignment.\n |      \n |      * If argument is an integer, sets the sibling at that position.\n |      \n |      * If argument is a string, does the same as setattr().  This is used\n |        to provide namespaces for element lookup.\n |      \n |      * If argument is a sequence (list, tuple, etc.), assign the contained\n |        items to the siblings.\n |  \n |  __str__(self, /)\n |      Return str(self).\n |  \n |  addattr(self, tag, value)\n |      addattr(self, tag, value)\n |      \n |      Add a child value to the element.\n |      \n |      As opposed to append(), it sets a data value, not an element.\n |  \n |  countchildren(self)\n |      countchildren(self)\n |      \n |      Return the number of children of this element, regardless of their\n |      name.\n |  \n |  descendantpaths(self, prefix)\n |      descendantpaths(self, prefix=None)\n |      \n |      Returns a list of object path expressions for all descendants.\n |  \n |  getchildren(self)\n |      getchildren(self)\n |      \n |      Returns a sequence of all direct children.  The elements are\n |      returned in document order.\n |  \n |  ----------------------------------------------------------------------\n |  Static methods defined here:\n |  \n |  __new__(*args, **kwargs) from builtins.type\n |      Create and return a new object.  See help(type) for accurate signature.\n |  \n |  ----------------------------------------------------------------------\n |  Data descriptors defined here:\n |  \n |  __dict__\n |      A fake implementation for __dict__ to support dir() etc.\n |      \n |      Note that this only considers the first child with a given name.\n |  \n |  text\n |      Text before the first subelement. This is either a string or\n |      the value None, if there was no text.\n |  \n |  ----------------------------------------------------------------------\n |  Methods inherited from lxml.etree.ElementBase:\n |  \n |  __init__(...)\n |      ElementBase(*children, attrib=None, nsmap=None, **_extra)\n |  \n |  ----------------------------------------------------------------------\n |  Methods inherited from lxml.etree._Element:\n |  \n |  __bool__(self, /)\n |      self != 0\n |  \n |  __contains__(...)\n |      __contains__(self, element)\n |  \n |  __copy__(self)\n |      __copy__(self)\n |  \n |  __deepcopy__(self, memo)\n |      __deepcopy__(self, memo)\n |  \n |  __repr__(...)\n |      __repr__(self)\n |  \n |  __reversed__(self)\n |      __reversed__(self)\n |  \n |  addnext(self, element)\n |      addnext(self, element)\n |      \n |      Adds the element as a following sibling directly after this\n |      element.\n |      \n |      This is normally used to set a processing instruction or comment after\n |      the root node of a document.  Note that tail text is automatically\n |      discarded when adding at the root level.\n |  \n |  addprevious(self, element)\n |      addprevious(self, element)\n |      \n |      Adds the element as a preceding sibling directly before this\n |      element.\n |      \n |      This is normally used to set a processing instruction or comment\n |      before the root node of a document.  Note that tail text is\n |      automatically discarded when adding at the root level.\n |  \n |  append(self, element)\n |      append(self, element)\n |      \n |      Adds a subelement to the end of this element.\n |  \n |  clear(self, keep_tail)\n |      clear(self, keep_tail=False)\n |      \n |      Resets an element.  This function removes all subelements, clears\n |      all attributes and sets the text and tail properties to None.\n |      \n |      Pass ``keep_tail=True`` to leave the tail text untouched.\n |  \n |  cssselect(self, expr, *, translator)\n |      Run the CSS expression on this element and its children,\n |      returning a list of the results.\n |      \n |      Equivalent to lxml.cssselect.CSSSelect(expr)(self) -- note\n |      that pre-compiling the expression can provide a substantial\n |      speedup.\n |  \n |  extend(self, elements)\n |      extend(self, elements)\n |      \n |      Extends the current children by the elements in the iterable.\n |  \n |  find(self, path, namespaces)\n |      find(self, path, namespaces=None)\n |      \n |      Finds the first matching subelement, by tag name or path.\n |      \n |      The optional ``namespaces`` argument accepts a\n |      prefix-to-namespace mapping that allows the usage of XPath\n |      prefixes in the path expression.\n |  \n |  findall(self, path, namespaces)\n |      findall(self, path, namespaces=None)\n |      \n |      Finds all matching subelements, by tag name or path.\n |      \n |      The optional ``namespaces`` argument accepts a\n |      prefix-to-namespace mapping that allows the usage of XPath\n |      prefixes in the path expression.\n |  \n |  findtext(self, path, default, namespaces)\n |      findtext(self, path, default=None, namespaces=None)\n |      \n |      Finds text for the first matching subelement, by tag name or path.\n |      \n |      The optional ``namespaces`` argument accepts a\n |      prefix-to-namespace mapping that allows the usage of XPath\n |      prefixes in the path expression.\n |  \n |  get(self, key, default)\n |      get(self, key, default=None)\n |      \n |      Gets an element attribute.\n |  \n |  getiterator(self, tag, *tags)\n |      getiterator(self, tag=None, *tags)\n |      \n |      Returns a sequence or iterator of all elements in the subtree in\n |      document order (depth first pre-order), starting with this\n |      element.\n |      \n |      Can be restricted to find only elements with specific tags,\n |      see `iter`.\n |      \n |      :deprecated: Note that this method is deprecated as of\n |        ElementTree 1.3 and lxml 2.0.  It returns an iterator in\n |        lxml, which diverges from the original ElementTree\n |        behaviour.  If you want an efficient iterator, use the\n |        ``element.iter()`` method instead.  You should only use this\n |        method in new code if you require backwards compatibility\n |        with older versions of lxml or ElementTree.\n |  \n |  getnext(self)\n |      getnext(self)\n |      \n |      Returns the following sibling of this element or None.\n |  \n |  getparent(self)\n |      getparent(self)\n |      \n |      Returns the parent of this element or None for the root element.\n |  \n |  getprevious(self)\n |      getprevious(self)\n |      \n |      Returns the preceding sibling of this element or None.\n |  \n |  getroottree(self)\n |      getroottree(self)\n |      \n |      Return an ElementTree for the root node of the document that\n |      contains this element.\n |      \n |      This is the same as following element.getparent() up the tree until it\n |      returns None (for the root element) and then build an ElementTree for\n |      the last parent that was returned.\n |  \n |  index(self, child, start: 'int', stop: 'int')\n |      index(self, child, start=None, stop=None)\n |      \n |      Find the position of the child within the parent.\n |      \n |      This method is not part of the original ElementTree API.\n |  \n |  insert(self, index: 'int', element)\n |      insert(self, index, element)\n |      \n |      Inserts a subelement at the given position in this element\n |  \n |  items(self)\n |      items(self)\n |      \n |      Gets element attributes, as a sequence. The attributes are returned in\n |      an arbitrary order.\n |  \n |  iter(self, tag, *tags)\n |      iter(self, tag=None, *tags)\n |      \n |      Iterate over all elements in the subtree in document order (depth\n |      first pre-order), starting with this element.\n |      \n |      Can be restricted to find only elements with specific tags:\n |      pass ``\"{ns}localname\"`` as tag. Either or both of ``ns`` and\n |      ``localname`` can be ``*`` for a wildcard; ``ns`` can be empty\n |      for no namespace. ``\"localname\"`` is equivalent to ``\"{}localname\"``\n |      (i.e. no namespace) but ``\"*\"`` is ``\"{*}*\"`` (any or no namespace),\n |      not ``\"{}*\"``.\n |      \n |      You can also pass the Element, Comment, ProcessingInstruction and\n |      Entity factory functions to look only for the specific element type.\n |      \n |      Passing multiple tags (or a sequence of tags) instead of a single tag\n |      will let the iterator return all elements matching any of these tags,\n |      in document order.\n |  \n |  iterancestors(self, tag, *tags)\n |      iterancestors(self, tag=None, *tags)\n |      \n |      Iterate over the ancestors of this element (from parent to parent).\n |      \n |      Can be restricted to find only elements with specific tags,\n |      see `iter`.\n |  \n |  iterchildren(self, tag, *tags, reversed)\n |      iterchildren(self, tag=None, *tags, reversed=False)\n |      \n |      Iterate over the children of this element.\n |      \n |      As opposed to using normal iteration on this element, the returned\n |      elements can be reversed with the 'reversed' keyword and restricted\n |      to find only elements with specific tags, see `iter`.\n |  \n |  iterdescendants(self, tag, *tags)\n |      iterdescendants(self, tag=None, *tags)\n |      \n |      Iterate over the descendants of this element in document order.\n |      \n |      As opposed to ``el.iter()``, this iterator does not yield the element\n |      itself.  The returned elements can be restricted to find only elements\n |      with specific tags, see `iter`.\n |  \n |  iterfind(self, path, namespaces)\n |      iterfind(self, path, namespaces=None)\n |      \n |      Iterates over all matching subelements, by tag name or path.\n |      \n |      The optional ``namespaces`` argument accepts a\n |      prefix-to-namespace mapping that allows the usage of XPath\n |      prefixes in the path expression.\n |  \n |  itersiblings(self, tag, *tags, preceding)\n |      itersiblings(self, tag=None, *tags, preceding=False)\n |      \n |      Iterate over the following or preceding siblings of this element.\n |      \n |      The direction is determined by the 'preceding' keyword which\n |      defaults to False, i.e. forward iteration over the following\n |      siblings.  When True, the iterator yields the preceding\n |      siblings in reverse document order, i.e. starting right before\n |      the current element and going backwards.\n |      \n |      Can be restricted to find only elements with specific tags,\n |      see `iter`.\n |  \n |  itertext(self, tag, *tags, with_tail)\n |      itertext(self, tag=None, *tags, with_tail=True)\n |      \n |      Iterates over the text content of a subtree.\n |      \n |      You can pass tag names to restrict text content to specific elements,\n |      see `iter`.\n |      \n |      You can set the ``with_tail`` keyword argument to ``False`` to skip\n |      over tail text.\n |  \n |  keys(self)\n |      keys(self)\n |      \n |      Gets a list of attribute names.  The names are returned in an\n |      arbitrary order (just like for an ordinary Python dictionary).\n |  \n |  makeelement(self, _tag, attrib, nsmap, **_extra)\n |      makeelement(self, _tag, attrib=None, nsmap=None, **_extra)\n |      \n |      Creates a new element associated with the same document.\n |  \n |  remove(self, element)\n |      remove(self, element)\n |      \n |      Removes a matching subelement. Unlike the find methods, this\n |      method compares elements based on identity, not on tag value\n |      or contents.\n |  \n |  replace(self, old_element, new_element)\n |      replace(self, old_element, new_element)\n |      \n |      Replaces a subelement with the element passed as second argument.\n |  \n |  set(self, key, value)\n |      set(self, key, value)\n |      \n |      Sets an element attribute.\n |  \n |  values(self)\n |      values(self)\n |      \n |      Gets element attribute values as a sequence of strings.  The\n |      attributes are returned in an arbitrary order.\n |  \n |  xpath(self, _path, *, namespaces, extensions, smart_strings, **_variables)\n |      xpath(self, _path, namespaces=None, extensions=None, smart_strings=True, **_variables)\n |      \n |      Evaluate an xpath expression using the element as context node.\n |  \n |  ----------------------------------------------------------------------\n |  Data descriptors inherited from lxml.etree._Element:\n |  \n |  attrib\n |      Element attribute dictionary. Where possible, use get(), set(),\n |      keys(), values() and items() to access element attributes.\n |  \n |  base\n |      The base URI of the Element (xml:base or HTML base URL).\n |      None if the base URI is unknown.\n |      \n |      Note that the value depends on the URL of the document that\n |      holds the Element if there is no xml:base attribute on the\n |      Element or its ancestors.\n |      \n |      Setting this property will set an xml:base attribute on the\n |      Element, regardless of the document type (XML or HTML).\n |  \n |  nsmap\n |      Namespace prefix->URI mapping known in the context of this\n |      Element.  This includes all namespace declarations of the\n |      parents.\n |      \n |      Note that changing the returned dict has no effect on the Element.\n |  \n |  prefix\n |      Namespace prefix or None.\n |  \n |  sourceline\n |      Original line number as found by the parser or None if unknown.\n |  \n |  tag\n |      Element tag\n |  \n |  tail\n |      Text after this element's end tag, but before the next sibling\n |      element's start tag. This is either a string or the value None, if\n |      there was no text.\n\n"
    }
   ],
   "source": [
    "(rooty)"
   ]
  },
  {
   "cell_type": "code",
   "execution_count": 3,
   "metadata": {},
   "outputs": [],
   "source": [
    "with open(r\"D:\\ecoinvent_scripts\\PEF_Project\\ILCD_Reader\\Data\\input\\pickles\\indexes.pkl\", \"rb\") as file:\n",
    "    pickled_data = pickle.load(file)"
   ]
  },
  {
   "cell_type": "code",
   "execution_count": 82,
   "metadata": {},
   "outputs": [
    {
     "output_type": "execute_result",
     "data": {
      "text/plain": "matrix_builder.Matrix_Index"
     },
     "metadata": {},
     "execution_count": 82
    }
   ],
   "source": [
    "type(pickled_data)"
   ]
  },
  {
   "cell_type": "code",
   "execution_count": 85,
   "metadata": {},
   "outputs": [],
   "source": [
    "with open(r\"D:\\ecoinvent_scripts\\indexes.pkl\", \"rb\") as file:\n",
    "    pickled_new = pickle.load(file)"
   ]
  },
  {
   "cell_type": "code",
   "execution_count": 86,
   "metadata": {},
   "outputs": [
    {
     "output_type": "execute_result",
     "data": {
      "text/plain": "matrix_index.MatrixIndex"
     },
     "metadata": {},
     "execution_count": 86
    }
   ],
   "source": [
    "type(pickled_new)"
   ]
  },
  {
   "cell_type": "code",
   "execution_count": 112,
   "metadata": {},
   "outputs": [
    {
     "output_type": "execute_result",
     "data": {
      "text/plain": "('[sulfonyl]urea-compound production', 'RER', '[sulfonyl]urea-compound')"
     },
     "metadata": {},
     "execution_count": 112
    }
   ],
   "source": [
    "pickled_data.toggle['ie'][0]"
   ]
  },
  {
   "cell_type": "code",
   "execution_count": 111,
   "metadata": {},
   "outputs": [
    {
     "output_type": "execute_result",
     "data": {
      "text/plain": "('[sulfonyl]urea-compound production', 'RER', '[sulfonyl]urea-compound')"
     },
     "metadata": {},
     "execution_count": 111
    }
   ],
   "source": [
    "pickled_new.toggle['ie'][0]"
   ]
  },
  {
   "cell_type": "code",
   "execution_count": 87,
   "metadata": {},
   "outputs": [
    {
     "output_type": "execute_result",
     "data": {
      "text/plain": "['LCIA',\n '_MatrixIndex__add_index',\n '_MatrixIndex__read_elemnts',\n '_MatrixIndex__read_indexes_tempalte',\n '_MatrixIndex__to_dfs',\n '__class__',\n '__delattr__',\n '__dict__',\n '__dir__',\n '__doc__',\n '__eq__',\n '__format__',\n '__ge__',\n '__getattribute__',\n '__gt__',\n '__hash__',\n '__init__',\n '__init_subclass__',\n '__le__',\n '__lt__',\n '__module__',\n '__ne__',\n '__new__',\n '__reduce__',\n '__reduce_ex__',\n '__repr__',\n '__setattr__',\n '__sizeof__',\n '__str__',\n '__subclasshook__',\n '__weakref__',\n 'convert_to_indexes_pickle',\n 'df_columns',\n 'dfs',\n 'ee',\n 'ie',\n 'index_PEF_df',\n 'index_types',\n 'toggle',\n 'units']"
     },
     "metadata": {},
     "execution_count": 87
    }
   ],
   "source": [
    "dir(pickled_new)"
   ]
  },
  {
   "cell_type": "code",
   "execution_count": null,
   "metadata": {},
   "outputs": [],
   "source": []
  },
  {
   "cell_type": "code",
   "execution_count": 79,
   "metadata": {},
   "outputs": [
    {
     "output_type": "execute_result",
     "data": {
      "text/plain": "                                                   name         compartment  \\\n0                      (2,4-dichlorophenoxy)acetic acid    Emissions to air   \n1                      (2,4-dichlorophenoxy)acetic acid   Emissions to soil   \n2        (R)-2-(4-chloro-2-methylphenoxy)propionic acid   Emissions to soil   \n3                       1,1'-dimethyl-4,4'-bipyridinium    Emissions to air   \n4                       1,1'-dimethyl-4,4'-bipyridinium   Emissions to soil   \n...                                                 ...                 ...   \n2585  β-([1,1'-biphenyl]-4-yloxy)-α-tert-butyl-1H-1,...   Emissions to soil   \n2586                                    γ-butyrolactone    Emissions to air   \n2587                                    γ-butyrolactone  Emissions to water   \n2588                                    γ-butyrolactone    Emissions to air   \n2589                                    γ-butyrolactone  Emissions to water   \n\n                                      subcompartment unitName  index  \\\n0     Emissions to non-urban air or from high stacks       kg      0   \n1                     Emissions to agricultural soil       kg      1   \n2                     Emissions to agricultural soil       kg      2   \n3                      Emissions to air, unspecified       kg      3   \n4                     Emissions to agricultural soil       kg      4   \n...                                              ...      ...    ...   \n2585                  Emissions to agricultural soil       kg   2585   \n2586          Emissions to urban air close to ground       kg   2586   \n2587                        Emissions to fresh water       kg   2587   \n2588                   Emissions to air, unspecified       kg   2588   \n2589                 Emissions to water, unspecified       kg   2589   \n\n      water in wet mass  water region  \n0                   0.0           NaN  \n1                   0.0           NaN  \n2                   0.0           NaN  \n3                   0.0           NaN  \n4                   0.0           NaN  \n...                 ...           ...  \n2585                0.0           NaN  \n2586                0.0           NaN  \n2587                0.0           NaN  \n2588                0.0           NaN  \n2589                0.0           NaN  \n\n[2590 rows x 7 columns]",
      "text/html": "<div>\n<style scoped>\n    .dataframe tbody tr th:only-of-type {\n        vertical-align: middle;\n    }\n\n    .dataframe tbody tr th {\n        vertical-align: top;\n    }\n\n    .dataframe thead th {\n        text-align: right;\n    }\n</style>\n<table border=\"1\" class=\"dataframe\">\n  <thead>\n    <tr style=\"text-align: right;\">\n      <th></th>\n      <th>name</th>\n      <th>compartment</th>\n      <th>subcompartment</th>\n      <th>unitName</th>\n      <th>index</th>\n      <th>water in wet mass</th>\n      <th>water region</th>\n    </tr>\n  </thead>\n  <tbody>\n    <tr>\n      <th>0</th>\n      <td>(2,4-dichlorophenoxy)acetic acid</td>\n      <td>Emissions to air</td>\n      <td>Emissions to non-urban air or from high stacks</td>\n      <td>kg</td>\n      <td>0</td>\n      <td>0.0</td>\n      <td>NaN</td>\n    </tr>\n    <tr>\n      <th>1</th>\n      <td>(2,4-dichlorophenoxy)acetic acid</td>\n      <td>Emissions to soil</td>\n      <td>Emissions to agricultural soil</td>\n      <td>kg</td>\n      <td>1</td>\n      <td>0.0</td>\n      <td>NaN</td>\n    </tr>\n    <tr>\n      <th>2</th>\n      <td>(R)-2-(4-chloro-2-methylphenoxy)propionic acid</td>\n      <td>Emissions to soil</td>\n      <td>Emissions to agricultural soil</td>\n      <td>kg</td>\n      <td>2</td>\n      <td>0.0</td>\n      <td>NaN</td>\n    </tr>\n    <tr>\n      <th>3</th>\n      <td>1,1'-dimethyl-4,4'-bipyridinium</td>\n      <td>Emissions to air</td>\n      <td>Emissions to air, unspecified</td>\n      <td>kg</td>\n      <td>3</td>\n      <td>0.0</td>\n      <td>NaN</td>\n    </tr>\n    <tr>\n      <th>4</th>\n      <td>1,1'-dimethyl-4,4'-bipyridinium</td>\n      <td>Emissions to soil</td>\n      <td>Emissions to agricultural soil</td>\n      <td>kg</td>\n      <td>4</td>\n      <td>0.0</td>\n      <td>NaN</td>\n    </tr>\n    <tr>\n      <th>...</th>\n      <td>...</td>\n      <td>...</td>\n      <td>...</td>\n      <td>...</td>\n      <td>...</td>\n      <td>...</td>\n      <td>...</td>\n    </tr>\n    <tr>\n      <th>2585</th>\n      <td>β-([1,1'-biphenyl]-4-yloxy)-α-tert-butyl-1H-1,...</td>\n      <td>Emissions to soil</td>\n      <td>Emissions to agricultural soil</td>\n      <td>kg</td>\n      <td>2585</td>\n      <td>0.0</td>\n      <td>NaN</td>\n    </tr>\n    <tr>\n      <th>2586</th>\n      <td>γ-butyrolactone</td>\n      <td>Emissions to air</td>\n      <td>Emissions to urban air close to ground</td>\n      <td>kg</td>\n      <td>2586</td>\n      <td>0.0</td>\n      <td>NaN</td>\n    </tr>\n    <tr>\n      <th>2587</th>\n      <td>γ-butyrolactone</td>\n      <td>Emissions to water</td>\n      <td>Emissions to fresh water</td>\n      <td>kg</td>\n      <td>2587</td>\n      <td>0.0</td>\n      <td>NaN</td>\n    </tr>\n    <tr>\n      <th>2588</th>\n      <td>γ-butyrolactone</td>\n      <td>Emissions to air</td>\n      <td>Emissions to air, unspecified</td>\n      <td>kg</td>\n      <td>2588</td>\n      <td>0.0</td>\n      <td>NaN</td>\n    </tr>\n    <tr>\n      <th>2589</th>\n      <td>γ-butyrolactone</td>\n      <td>Emissions to water</td>\n      <td>Emissions to water, unspecified</td>\n      <td>kg</td>\n      <td>2589</td>\n      <td>0.0</td>\n      <td>NaN</td>\n    </tr>\n  </tbody>\n</table>\n<p>2590 rows × 7 columns</p>\n</div>"
     },
     "metadata": {},
     "execution_count": 79
    }
   ],
   "source": [
    "pickled_new['ee']"
   ]
  },
  {
   "cell_type": "code",
   "execution_count": 80,
   "metadata": {},
   "outputs": [
    {
     "output_type": "execute_result",
     "data": {
      "text/plain": "matrix_builder.Matrix_Index"
     },
     "metadata": {},
     "execution_count": 80
    }
   ],
   "source": [
    "type(pickled_data)"
   ]
  },
  {
   "cell_type": "code",
   "execution_count": 66,
   "metadata": {},
   "outputs": [
    {
     "output_type": "execute_result",
     "data": {
      "text/plain": "   method category                                        indicator  \\\n0   EF2.0    total                                 EF-Acidification   \n1   EF2.0    total                                EF-Climate change   \n2   EF2.0    total                       EF-Climate change-Biogenic   \n3   EF2.0    total                         EF-Climate change-Fossil   \n4   EF2.0    total   EF-Climate change-Land use and land use change   \n5   EF2.0    total                       EF-Ecotoxicity, freshwater   \n6   EF2.0    total                         EF-Eutrophication marine   \n7   EF2.0    total                    EF-Eutrophication, freshwater   \n8   EF2.0    total                   EF-Eutrophication, terrestrial   \n9   EF2.0    total                        EF-Human toxicity, cancer   \n10  EF2.0    total                    EF-Human toxicity, non-cancer   \n11  EF2.0    total              EF-Ionising radiation, human health   \n12  EF2.0    total                                      EF-Land use   \n13  EF2.0    total                               EF-Ozone depletion   \n14  EF2.0    total                            EF-particulate Matter   \n15  EF2.0    total  EF-Photochemical ozone formation - human health   \n16  EF2.0    total                         EF-Resource use, fossils   \n17  EF2.0    total             EF-Resource use, minerals and metals   \n18  EF2.0    total                                     EF-Water use   \n\n      indicator unitName  index  \n0     mol H+ equivalents      0  \n1     kg CO2 Equivalents      1  \n2     kg CO2 Equivalents      2  \n3     kg CO2 Equivalents      3  \n4     kg CO2 Equivalents      4  \n5                   CTUe      5  \n6       kg N equivalents      6  \n7       kg P equivalents      7  \n8      mol N equivalents      8  \n9                   CTUh      9  \n10                  CTUh     10  \n11  kBq U235 equivalents     11  \n12    dimensionless (pt)     12  \n13  kg CFC11 equivalents     13  \n14     disease incidence     14  \n15  kg NMVOC equivalents     15  \n16                    MJ     16  \n17     kg Sb equivalents     17  \n18  m3-world equivalents     18  ",
      "text/html": "<div>\n<style scoped>\n    .dataframe tbody tr th:only-of-type {\n        vertical-align: middle;\n    }\n\n    .dataframe tbody tr th {\n        vertical-align: top;\n    }\n\n    .dataframe thead th {\n        text-align: right;\n    }\n</style>\n<table border=\"1\" class=\"dataframe\">\n  <thead>\n    <tr style=\"text-align: right;\">\n      <th></th>\n      <th>method</th>\n      <th>category</th>\n      <th>indicator</th>\n      <th>indicator unitName</th>\n      <th>index</th>\n    </tr>\n  </thead>\n  <tbody>\n    <tr>\n      <th>0</th>\n      <td>EF2.0</td>\n      <td>total</td>\n      <td>EF-Acidification</td>\n      <td>mol H+ equivalents</td>\n      <td>0</td>\n    </tr>\n    <tr>\n      <th>1</th>\n      <td>EF2.0</td>\n      <td>total</td>\n      <td>EF-Climate change</td>\n      <td>kg CO2 Equivalents</td>\n      <td>1</td>\n    </tr>\n    <tr>\n      <th>2</th>\n      <td>EF2.0</td>\n      <td>total</td>\n      <td>EF-Climate change-Biogenic</td>\n      <td>kg CO2 Equivalents</td>\n      <td>2</td>\n    </tr>\n    <tr>\n      <th>3</th>\n      <td>EF2.0</td>\n      <td>total</td>\n      <td>EF-Climate change-Fossil</td>\n      <td>kg CO2 Equivalents</td>\n      <td>3</td>\n    </tr>\n    <tr>\n      <th>4</th>\n      <td>EF2.0</td>\n      <td>total</td>\n      <td>EF-Climate change-Land use and land use change</td>\n      <td>kg CO2 Equivalents</td>\n      <td>4</td>\n    </tr>\n    <tr>\n      <th>5</th>\n      <td>EF2.0</td>\n      <td>total</td>\n      <td>EF-Ecotoxicity, freshwater</td>\n      <td>CTUe</td>\n      <td>5</td>\n    </tr>\n    <tr>\n      <th>6</th>\n      <td>EF2.0</td>\n      <td>total</td>\n      <td>EF-Eutrophication marine</td>\n      <td>kg N equivalents</td>\n      <td>6</td>\n    </tr>\n    <tr>\n      <th>7</th>\n      <td>EF2.0</td>\n      <td>total</td>\n      <td>EF-Eutrophication, freshwater</td>\n      <td>kg P equivalents</td>\n      <td>7</td>\n    </tr>\n    <tr>\n      <th>8</th>\n      <td>EF2.0</td>\n      <td>total</td>\n      <td>EF-Eutrophication, terrestrial</td>\n      <td>mol N equivalents</td>\n      <td>8</td>\n    </tr>\n    <tr>\n      <th>9</th>\n      <td>EF2.0</td>\n      <td>total</td>\n      <td>EF-Human toxicity, cancer</td>\n      <td>CTUh</td>\n      <td>9</td>\n    </tr>\n    <tr>\n      <th>10</th>\n      <td>EF2.0</td>\n      <td>total</td>\n      <td>EF-Human toxicity, non-cancer</td>\n      <td>CTUh</td>\n      <td>10</td>\n    </tr>\n    <tr>\n      <th>11</th>\n      <td>EF2.0</td>\n      <td>total</td>\n      <td>EF-Ionising radiation, human health</td>\n      <td>kBq U235 equivalents</td>\n      <td>11</td>\n    </tr>\n    <tr>\n      <th>12</th>\n      <td>EF2.0</td>\n      <td>total</td>\n      <td>EF-Land use</td>\n      <td>dimensionless (pt)</td>\n      <td>12</td>\n    </tr>\n    <tr>\n      <th>13</th>\n      <td>EF2.0</td>\n      <td>total</td>\n      <td>EF-Ozone depletion</td>\n      <td>kg CFC11 equivalents</td>\n      <td>13</td>\n    </tr>\n    <tr>\n      <th>14</th>\n      <td>EF2.0</td>\n      <td>total</td>\n      <td>EF-particulate Matter</td>\n      <td>disease incidence</td>\n      <td>14</td>\n    </tr>\n    <tr>\n      <th>15</th>\n      <td>EF2.0</td>\n      <td>total</td>\n      <td>EF-Photochemical ozone formation - human health</td>\n      <td>kg NMVOC equivalents</td>\n      <td>15</td>\n    </tr>\n    <tr>\n      <th>16</th>\n      <td>EF2.0</td>\n      <td>total</td>\n      <td>EF-Resource use, fossils</td>\n      <td>MJ</td>\n      <td>16</td>\n    </tr>\n    <tr>\n      <th>17</th>\n      <td>EF2.0</td>\n      <td>total</td>\n      <td>EF-Resource use, minerals and metals</td>\n      <td>kg Sb equivalents</td>\n      <td>17</td>\n    </tr>\n    <tr>\n      <th>18</th>\n      <td>EF2.0</td>\n      <td>total</td>\n      <td>EF-Water use</td>\n      <td>m3-world equivalents</td>\n      <td>18</td>\n    </tr>\n  </tbody>\n</table>\n</div>"
     },
     "metadata": {},
     "execution_count": 66
    }
   ],
   "source": [
    "pickled_data.dfs['LCIA']"
   ]
  },
  {
   "cell_type": "code",
   "execution_count": 26,
   "metadata": {},
   "outputs": [],
   "source": [
    "mydf = pickled_data.dfs['ie']"
   ]
  },
  {
   "cell_type": "code",
   "execution_count": 38,
   "metadata": {},
   "outputs": [
    {
     "output_type": "execute_result",
     "data": {
      "text/plain": "                                        activityName geography index  \\\n0                 [sulfonyl]urea-compound production       RER     0   \n1                [thio]carbamate-compound production       RER     1   \n2            1,1-difluoroethane production, HFC-152a        US     2   \n3  1,1-dimethylcyclopentane to generic market for...       GLO     3   \n4                              1-propanol production       RER     4   \n\n                        product unitName  \n0       [sulfonyl]urea-compound       kg  \n1      [thio]carbamate-compound       kg  \n2  1,1-difluoroethane, HFC-152a       kg  \n3              solvent, organic       kg  \n4                    1-propanol       kg  ",
      "text/html": "<div>\n<style scoped>\n    .dataframe tbody tr th:only-of-type {\n        vertical-align: middle;\n    }\n\n    .dataframe tbody tr th {\n        vertical-align: top;\n    }\n\n    .dataframe thead th {\n        text-align: right;\n    }\n</style>\n<table border=\"1\" class=\"dataframe\">\n  <thead>\n    <tr style=\"text-align: right;\">\n      <th></th>\n      <th>activityName</th>\n      <th>geography</th>\n      <th>index</th>\n      <th>product</th>\n      <th>unitName</th>\n    </tr>\n  </thead>\n  <tbody>\n    <tr>\n      <th>0</th>\n      <td>[sulfonyl]urea-compound production</td>\n      <td>RER</td>\n      <td>0</td>\n      <td>[sulfonyl]urea-compound</td>\n      <td>kg</td>\n    </tr>\n    <tr>\n      <th>1</th>\n      <td>[thio]carbamate-compound production</td>\n      <td>RER</td>\n      <td>1</td>\n      <td>[thio]carbamate-compound</td>\n      <td>kg</td>\n    </tr>\n    <tr>\n      <th>2</th>\n      <td>1,1-difluoroethane production, HFC-152a</td>\n      <td>US</td>\n      <td>2</td>\n      <td>1,1-difluoroethane, HFC-152a</td>\n      <td>kg</td>\n    </tr>\n    <tr>\n      <th>3</th>\n      <td>1,1-dimethylcyclopentane to generic market for...</td>\n      <td>GLO</td>\n      <td>3</td>\n      <td>solvent, organic</td>\n      <td>kg</td>\n    </tr>\n    <tr>\n      <th>4</th>\n      <td>1-propanol production</td>\n      <td>RER</td>\n      <td>4</td>\n      <td>1-propanol</td>\n      <td>kg</td>\n    </tr>\n  </tbody>\n</table>\n</div>"
     },
     "metadata": {},
     "execution_count": 38
    }
   ],
   "source": [
    "mydf.head()"
   ]
  },
  {
   "cell_type": "code",
   "execution_count": 39,
   "metadata": {},
   "outputs": [
    {
     "output_type": "execute_result",
     "data": {
      "text/plain": "15437"
     },
     "metadata": {},
     "execution_count": 39
    }
   ],
   "source": [
    "len(mydf)"
   ]
  },
  {
   "cell_type": "code",
   "execution_count": 37,
   "metadata": {},
   "outputs": [
    {
     "output_type": "execute_result",
     "data": {
      "text/plain": "('[sulfonyl]urea-compound production', 'RER', '[sulfonyl]urea-compound')"
     },
     "metadata": {},
     "execution_count": 37
    }
   ],
   "source": [
    "tuple(mydf.loc[mydf0, ['activityName', 'geography', 'product']])"
   ]
  },
  {
   "cell_type": "code",
   "execution_count": 47,
   "metadata": {},
   "outputs": [
    {
     "output_type": "execute_result",
     "data": {
      "text/plain": "                                        activityName geography  \\\n0                 [sulfonyl]urea-compound production       RER   \n1                [thio]carbamate-compound production       RER   \n2            1,1-difluoroethane production, HFC-152a        US   \n3  1,1-dimethylcyclopentane to generic market for...       GLO   \n\n                        product  \n0       [sulfonyl]urea-compound  \n1      [thio]carbamate-compound  \n2  1,1-difluoroethane, HFC-152a  \n3              solvent, organic  ",
      "text/html": "<div>\n<style scoped>\n    .dataframe tbody tr th:only-of-type {\n        vertical-align: middle;\n    }\n\n    .dataframe tbody tr th {\n        vertical-align: top;\n    }\n\n    .dataframe thead th {\n        text-align: right;\n    }\n</style>\n<table border=\"1\" class=\"dataframe\">\n  <thead>\n    <tr style=\"text-align: right;\">\n      <th></th>\n      <th>activityName</th>\n      <th>geography</th>\n      <th>product</th>\n    </tr>\n  </thead>\n  <tbody>\n    <tr>\n      <th>0</th>\n      <td>[sulfonyl]urea-compound production</td>\n      <td>RER</td>\n      <td>[sulfonyl]urea-compound</td>\n    </tr>\n    <tr>\n      <th>1</th>\n      <td>[thio]carbamate-compound production</td>\n      <td>RER</td>\n      <td>[thio]carbamate-compound</td>\n    </tr>\n    <tr>\n      <th>2</th>\n      <td>1,1-difluoroethane production, HFC-152a</td>\n      <td>US</td>\n      <td>1,1-difluoroethane, HFC-152a</td>\n    </tr>\n    <tr>\n      <th>3</th>\n      <td>1,1-dimethylcyclopentane to generic market for...</td>\n      <td>GLO</td>\n      <td>solvent, organic</td>\n    </tr>\n  </tbody>\n</table>\n</div>"
     },
     "metadata": {},
     "execution_count": 47
    }
   ],
   "source": [
    "mydf.loc[0:3, ['activityName', 'geography', 'product']]"
   ]
  },
  {
   "cell_type": "code",
   "execution_count": 56,
   "metadata": {},
   "outputs": [
    {
     "output_type": "execute_result",
     "data": {
      "text/plain": "4"
     },
     "metadata": {},
     "execution_count": 56
    }
   ],
   "source": [
    "len(mydf.loc[0:3])"
   ]
  },
  {
   "cell_type": "code",
   "execution_count": 62,
   "metadata": {},
   "outputs": [],
   "source": [
    "mylist = [tuple(mydf.loc[x, ['activityName', 'geography', 'product']]) for x in range(len(mydf.loc[0:3]))]"
   ]
  },
  {
   "cell_type": "code",
   "execution_count": 63,
   "metadata": {},
   "outputs": [
    {
     "output_type": "execute_result",
     "data": {
      "text/plain": "[('[sulfonyl]urea-compound production', 'RER', '[sulfonyl]urea-compound'),\n ('[thio]carbamate-compound production', 'RER', '[thio]carbamate-compound'),\n ('1,1-difluoroethane production, HFC-152a',\n  'US',\n  '1,1-difluoroethane, HFC-152a'),\n ('1,1-dimethylcyclopentane to generic market for solvent, organic',\n  'GLO',\n  'solvent, organic')]"
     },
     "metadata": {},
     "execution_count": 63
    }
   ],
   "source": [
    "mylist"
   ]
  },
  {
   "cell_type": "code",
   "execution_count": null,
   "metadata": {},
   "outputs": [],
   "source": [
    "cols = ['activityName', 'geography', 'product', 'unitName']\n",
    "dt.set_index(cols[:3])"
   ]
  },
  {
   "cell_type": "code",
   "execution_count": null,
   "metadata": {},
   "outputs": [],
   "source": [
    "li = [{'activityName': 'fa', 'geography': 'idri', 'product': 'soh', 'unitName': 'hish', 'index': 'ham'}, {'activityName': 'da', 'geography': 'idrf', 'product': 'sob', 'unitName': 'his', 'index': 'bam'}]"
   ]
  },
  {
   "cell_type": "code",
   "execution_count": null,
   "metadata": {},
   "outputs": [],
   "source": [
    "df = pd.DataFrame(li)\n",
    "df"
   ]
  },
  {
   "cell_type": "code",
   "execution_count": null,
   "metadata": {},
   "outputs": [],
   "source": [
    "df.transpose()"
   ]
  },
  {
   "cell_type": "code",
   "execution_count": null,
   "metadata": {},
   "outputs": [],
   "source": [
    "type(pickled_data.units)"
   ]
  },
  {
   "cell_type": "code",
   "execution_count": null,
   "metadata": {},
   "outputs": [],
   "source": [
    "set_index = True\n",
    "columns = ['method', 'category', 'indicator']\n",
    "pickled_data.dfs[\"LCIA\"].True(columns[:3])"
   ]
  },
  {
   "cell_type": "code",
   "execution_count": 13,
   "metadata": {},
   "outputs": [
    {
     "output_type": "execute_result",
     "data": {
      "text/plain": "('[sulfonyl]urea-compound production', 'RER', '[sulfonyl]urea-compound')"
     },
     "metadata": {},
     "execution_count": 13
    }
   ],
   "source": [
    "pickled_data.toggle[\"ie\"][0]"
   ]
  },
  {
   "cell_type": "code",
   "execution_count": 15,
   "metadata": {},
   "outputs": [
    {
     "output_type": "execute_result",
     "data": {
      "text/plain": "0"
     },
     "metadata": {},
     "execution_count": 15
    }
   ],
   "source": [
    "pickled_data.toggle[\"ie\"][('[sulfonyl]urea-compound production', 'RER', '[sulfonyl]urea-compound')]"
   ]
  },
  {
   "cell_type": "code",
   "execution_count": 10,
   "metadata": {},
   "outputs": [
    {
     "output_type": "execute_result",
     "data": {
      "text/plain": "0"
     },
     "metadata": {},
     "execution_count": 10
    }
   ],
   "source": [
    "df = pd.DataFrame({'month': [],'year': [],'sale': []})\n",
    "df\n",
    "len(df)"
   ]
  },
  {
   "cell_type": "code",
   "execution_count": 12,
   "metadata": {},
   "outputs": [
    {
     "output_type": "execute_result",
     "data": {
      "text/plain": "True"
     },
     "metadata": {},
     "execution_count": 12
    }
   ],
   "source": [
    "0 == False"
   ]
  },
  {
   "cell_type": "code",
   "execution_count": 27,
   "metadata": {},
   "outputs": [],
   "source": [
    "df = pd.read_excel(r'D:\\ecoinvent_scripts\\PEF_Project\\ILCD_Reader\\Data\\input\\excel\\indexes_PEF-phase 2-start_Allocation, cut-off.xlsx', sheet_name=\"ie\")"
   ]
  },
  {
   "cell_type": "code",
   "execution_count": 56,
   "metadata": {},
   "outputs": [],
   "source": [
    "result = df.loc[df.index==0, [\"activityName\",\"geography\",\"product\"]].values"
   ]
  },
  {
   "cell_type": "code",
   "execution_count": 57,
   "metadata": {},
   "outputs": [
    {
     "output_type": "execute_result",
     "data": {
      "text/plain": "array([['[sulfonyl]urea-compound production', 'RER',\n        '[sulfonyl]urea-compound']], dtype=object)"
     },
     "metadata": {},
     "execution_count": 57
    }
   ],
   "source": [
    "result"
   ]
  },
  {
   "cell_type": "code",
   "execution_count": 55,
   "metadata": {},
   "outputs": [
    {
     "output_type": "execute_result",
     "data": {
      "text/plain": "('[sulfonyl]urea-compound production', 'RER', '[sulfonyl]urea-compound')"
     },
     "metadata": {},
     "execution_count": 55
    }
   ],
   "source": [
    "tuple(next(iter(result.values)))"
   ]
  },
  {
   "cell_type": "code",
   "execution_count": 2,
   "metadata": {},
   "outputs": [
    {
     "data": {
      "text/plain": "'C:\\\\Users\\\\Faysal\\\\AppData\\\\Local\\\\Temp\\\\0f6d978b-a2b4-4981-aa02-44fdd024455c'"
     },
     "execution_count": 2,
     "metadata": {},
     "output_type": "execute_result"
    }
   ],
   "source": [
    "os.getcwd()"
   ]
  },
  {
   "cell_type": "code",
   "execution_count": 4,
   "metadata": {},
   "outputs": [],
   "source": [
    "os.chdir(r'D:\\ecoinvent_scripts')"
   ]
  },
  {
   "cell_type": "code",
   "execution_count": 5,
   "metadata": {},
   "outputs": [],
   "source": [
    "with open(r\"C:\\Dropbox (ecoinvent)\\ei-int\\technical\\external\\PEF\\PEF follow-up\\execution\\06_matrixFlowChanges\\in\\pilotPhase_water_correction\\B.pkl\", 'rb') as file:\n",
    "    data = pickle.load(file)"
   ]
  },
  {
   "cell_type": "code",
   "execution_count": 6,
   "metadata": {},
   "outputs": [
    {
     "output_type": "execute_result",
     "data": {
      "text/plain": "scipy.sparse.csc.csc_matrix"
     },
     "metadata": {},
     "execution_count": 6
    }
   ],
   "source": [
    "type(data)"
   ]
  },
  {
   "cell_type": "code",
   "execution_count": 7,
   "metadata": {},
   "outputs": [
    {
     "output_type": "execute_result",
     "data": {
      "text/plain": "<41510x15437 sparse matrix of type '<class 'numpy.float64'>'\n\twith 1646196 stored elements in Compressed Sparse Column format>"
     },
     "metadata": {},
     "execution_count": 7
    }
   ],
   "source": [
    "data"
   ]
  },
  {
   "cell_type": "code",
   "execution_count": 8,
   "metadata": {},
   "outputs": [],
   "source": [
    "import numpy as np"
   ]
  },
  {
   "cell_type": "code",
   "execution_count": 12,
   "metadata": {},
   "outputs": [
    {
     "output_type": "execute_result",
     "data": {
      "text/plain": "array([[1., 1., 1., 1., 1., 1., 1., 1.],\n       [1., 1., 1., 1., 1., 1., 1., 1.],\n       [1., 1., 1., 1., 1., 1., 1., 1.],\n       [1., 1., 1., 1., 1., 1., 1., 1.],\n       [1., 1., 1., 1., 1., 1., 1., 1.]])"
     },
     "metadata": {},
     "execution_count": 12
    }
   ],
   "source": [
    "mat = np.ones((5,8))\n",
    "mat"
   ]
  },
  {
   "cell_type": "code",
   "execution_count": 31,
   "metadata": {},
   "outputs": [
    {
     "output_type": "execute_result",
     "data": {
      "text/plain": "array([[   1.,    1., 1000.,    1., 1000.]])"
     },
     "metadata": {},
     "execution_count": 31
    }
   ],
   "source": [
    "vec = np.ones((1,5))\n",
    "mylist = [2,4]\n",
    "vec[0,mylist]=1000\n",
    "vec"
   ]
  },
  {
   "cell_type": "code",
   "execution_count": 27,
   "metadata": {},
   "outputs": [
    {
     "output_type": "execute_result",
     "data": {
      "text/plain": "array([[  1., 100.,   1.,   1.,   1.,   1.,   1.,   1.],\n       [  1.,   1.,   1.,   1.,   1.,   1.,   1.,   1.],\n       [  1.,   1.,   1., 100.,   1.,   1.,   1.,   1.],\n       [  1.,   1.,   1.,   1.,   1.,   1.,   1.,   1.],\n       [  1.,   1.,   1.,   1.,   1., 100.,   1.,   1.]])"
     },
     "metadata": {},
     "execution_count": 27
    }
   ],
   "source": [
    "row_list = [0,2,4]\n",
    "col_list = [1,3,5]\n",
    "mat[row_list, col_list] = 100\n",
    "mat"
   ]
  },
  {
   "cell_type": "code",
   "execution_count": null,
   "metadata": {},
   "outputs": [],
   "source": [
    "mat1[row_list,1]"
   ]
  },
  {
   "cell_type": "code",
   "execution_count": 15,
   "metadata": {},
   "outputs": [],
   "source": [
    "from scipy.sparse import coo_matrix"
   ]
  },
  {
   "cell_type": "code",
   "execution_count": 23,
   "metadata": {},
   "outputs": [],
   "source": [
    "row  = np.array([0, 2, 0, 4, 1, 0, 0])\n",
    "col  = np.array([0, 3, 1, 5, 1, 3, 5])\n",
    "data = np.array([2, 2, 2, 2, 2, 2, 2])\n",
    "A = coo_matrix((data, (row, col)), shape=(5, 8)).tocsc()"
   ]
  },
  {
   "cell_type": "code",
   "execution_count": 24,
   "metadata": {},
   "outputs": [
    {
     "output_type": "execute_result",
     "data": {
      "text/plain": "array([[2, 2, 0, 2, 0, 2, 0, 0],\n       [0, 2, 0, 0, 0, 0, 0, 0],\n       [0, 0, 0, 2, 0, 0, 0, 0],\n       [0, 0, 0, 0, 0, 0, 0, 0],\n       [0, 0, 0, 0, 0, 2, 0, 0]], dtype=int32)"
     },
     "metadata": {},
     "execution_count": 24
    }
   ],
   "source": [
    "A.toarray()"
   ]
  },
  {
   "cell_type": "code",
   "execution_count": 25,
   "metadata": {},
   "outputs": [
    {
     "output_type": "execute_result",
     "data": {
      "text/plain": "array([[  2., 200.,   0.,   2.,   0.,   2.,   0.,   0.],\n       [  0.,   2.,   0.,   0.,   0.,   0.,   0.,   0.],\n       [  0.,   0.,   0., 200.,   0.,   0.,   0.,   0.],\n       [  0.,   0.,   0.,   0.,   0.,   0.,   0.,   0.],\n       [  0.,   0.,   0.,   0.,   0., 200.,   0.,   0.]])"
     },
     "metadata": {},
     "execution_count": 25
    }
   ],
   "source": [
    "coo = A.multiply(mat)\n",
    "newcsc = coo.tocsc()\n",
    "newcsc.toarray()"
   ]
  },
  {
   "cell_type": "code",
   "execution_count": 9,
   "metadata": {},
   "outputs": [
    {
     "output_type": "execute_result",
     "data": {
      "text/plain": "array([[0., 0., 0., ..., 0., 0., 0.],\n       [0., 0., 0., ..., 0., 0., 0.],\n       [0., 0., 0., ..., 0., 0., 0.],\n       ...,\n       [0., 0., 0., ..., 0., 0., 0.],\n       [0., 0., 0., ..., 0., 0., 0.],\n       [0., 0., 0., ..., 0., 0., 0.]])"
     },
     "metadata": {},
     "execution_count": 9
    }
   ],
   "source": [
    "data.toarray()"
   ]
  },
  {
   "cell_type": "code",
   "execution_count": 10,
   "metadata": {},
   "outputs": [
    {
     "data": {
      "text/plain": "matrix([[0., 0., 0., ..., 0., 0., 0.],\n        [0., 0., 0., ..., 0., 0., 0.],\n        [0., 0., 0., ..., 0., 0., 0.],\n        ...,\n        [0., 0., 0., ..., 0., 0., 0.],\n        [0., 0., 0., ..., 0., 0., 0.],\n        [0., 0., 0., ..., 0., 0., 0.]])"
     },
     "execution_count": 10,
     "metadata": {},
     "output_type": "execute_result"
    }
   ],
   "source": [
    "data.todense()"
   ]
  },
  {
   "cell_type": "code",
   "execution_count": 1,
   "metadata": {},
   "outputs": [
    {
     "output_type": "error",
     "ename": "NameError",
     "evalue": "name 'data' is not defined",
     "traceback": [
      "\u001b[1;31m---------------------------------------------------------------------------\u001b[0m",
      "\u001b[1;31mNameError\u001b[0m                                 Traceback (most recent call last)",
      "\u001b[1;32m<ipython-input-1-c5d84736ba45>\u001b[0m in \u001b[0;36m<module>\u001b[1;34m\u001b[0m\n\u001b[1;32m----> 1\u001b[1;33m \u001b[0mdata\u001b[0m\u001b[1;33m\u001b[0m\u001b[1;33m\u001b[0m\u001b[0m\n\u001b[0m",
      "\u001b[1;31mNameError\u001b[0m: name 'data' is not defined"
     ]
    }
   ],
   "source": [
    "data"
   ]
  },
  {
   "cell_type": "code",
   "execution_count": 19,
   "metadata": {},
   "outputs": [
    {
     "name": "stdout",
     "output_type": "stream",
     "text": "(12855, 0)\t0.00011145\n  (12871, 0)\t0.010687\n  (15680, 0)\t0.085507\n  (15889, 0)\t0.56976\n  (15962, 0)\t0.12826\n  (16642, 0)\t0.91455\n  (16668, 0)\t0.0010961\n  (16741, 0)\t0.00027066\n  (16745, 0)\t0.00042882\n  (16895, 0)\t9.6489e-05\n  (16899, 0)\t0.00024062\n  (17988, 0)\t7.9021e-05\n  (19344, 0)\t0.00012131\n  (19348, 0)\t0.00029115\n  (20255, 0)\t9.9092e-05\n  (20376, 0)\t0.00048049\n  (21641, 0)\t4.2695e-05\n  (21645, 0)\t0.016157\n  (22934, 0)\t0.0095927\n  (23285, 0)\t3.2322913372072217\n  (23287, 0)\t0.11603014252429802\n  (23289, 0)\t3.9992524402937613\n  (23290, 0)\t0.30623721280890653\n  (23293, 0)\t4.077717320163446\n  (23298, 0)\t1.3783293585035827\n  :\t:\n  (41055, 15435)\t0.1534589139757755\n  (41079, 15435)\t0.14887642499187914\n  (12854, 15436)\t6.3e-08\n  (13741, 15436)\t2.29950016958734e-08\n  (13877, 15436)\t9.44998870548332e-11\n  (15624, 15436)\t3.15e-11\n  (15626, 15436)\t9.0556093951385e-10\n  (15888, 15436)\t0.00978858690785755\n  (17101, 15436)\t1.575e-10\n  (17650, 15436)\t0.00555560091577162\n  (17780, 15436)\t5.35500111927643e-09\n  (23869, 15436)\t0.1352\n  (27407, 15436)\t4.41320118711136e-09\n  (28263, 15436)\t4.06350108535896e-07\n  (30256, 15436)\t2.20500111927643e-10\n  (30580, 15436)\t0.000160650061051441\n  (30720, 15436)\t3.78000111927643e-07\n  (31171, 15436)\t1.37350050876201e-05\n  (32369, 15436)\t1.30389867721877e-05\n  (33984, 15436)\t1.03639894855851e-08\n  (35783, 15436)\t0.8648\n  (36133, 15436)\t3.15e-11\n  (37401, 15436)\t3.17519993216507e-06\n  (41222, 15436)\t3.15e-09\n  (41224, 15436)\t2.25490115319389e-06\n"
    }
   ],
   "source": [
    "print(data)"
   ]
  },
  {
   "cell_type": "code",
   "execution_count": 16,
   "metadata": {},
   "outputs": [],
   "source": [
    "import scipy.sparse"
   ]
  },
  {
   "cell_type": "code",
   "execution_count": 20,
   "metadata": {},
   "outputs": [],
   "source": [
    "df = pd.read_excel(r\"C:\\Dropbox (ecoinvent)\\ei-int\\technical\\external\\PEF\\PEF follow-up\\execution\\06_matrixFlowChanges\\in\\water amount and unit correction_20200302.xlsx\")"
   ]
  },
  {
   "cell_type": "code",
   "execution_count": 21,
   "metadata": {},
   "outputs": [
    {
     "name": "stdout",
     "output_type": "stream",
     "text": "<class 'pandas.core.frame.DataFrame'>\nRangeIndex: 21 entries, 0 to 20\nData columns (total 7 columns):\ntype of search       21 non-null object\nflow                 21 non-null object\nexchange unitName    21 non-null object\ncompartment          21 non-null object\nsubcompartment       21 non-null object\namount               15 non-null object\nunit                 18 non-null object\ndtypes: object(7)\nmemory usage: 1.3+ KB\n"
    }
   ],
   "source": [
    "df.info()"
   ]
  },
  {
   "cell_type": "code",
   "execution_count": 22,
   "metadata": {},
   "outputs": [],
   "source": [
    "sd = df.amount.dropna()"
   ]
  },
  {
   "cell_type": "code",
   "execution_count": 23,
   "metadata": {},
   "outputs": [
    {
     "data": {
      "text/plain": "0     /1000\n1     /1000\n5     /1000\n6     /1000\n8     /1000\n9     /1000\n11    /1000\n13    /1000\n14    /1000\n15    /1000\n16    /1000\n17    /1000\n18    /1000\n19    /1000\n20    /1000\nName: amount, dtype: object"
     },
     "execution_count": 23,
     "metadata": {},
     "output_type": "execute_result"
    }
   ],
   "source": [
    "sd"
   ]
  },
  {
   "cell_type": "code",
   "execution_count": 29,
   "metadata": {},
   "outputs": [],
   "source": [
    "dropped_df = df.dropna(subset=['amount'])"
   ]
  },
  {
   "cell_type": "code",
   "execution_count": 27,
   "metadata": {},
   "outputs": [],
   "source": [
    "df_index = pd.read_excel(r\"C:\\Dropbox (ecoinvent)\\ei-int\\technical\\external\\PEF\\PEF follow-up\\execution\\06_matrixFlowChanges\\in\\pilotPhase_water_correction\\indexes_PEF-phase 2-start_Allocation, cut-off.xlsx\" , sheet_name='ee')"
   ]
  },
  {
   "cell_type": "code",
   "execution_count": 28,
   "metadata": {},
   "outputs": [
    {
     "name": "stdout",
     "output_type": "stream",
     "text": "<class 'pandas.core.frame.DataFrame'>\nRangeIndex: 41510 entries, 0 to 41509\nData columns (total 5 columns):\nname              41510 non-null object\ncompartment       41510 non-null object\nsubcompartment    41510 non-null object\nunitName          41510 non-null object\nindex             41510 non-null int64\ndtypes: int64(1), object(4)\nmemory usage: 1.6+ MB\n"
    }
   ],
   "source": [
    "df_index.info()"
   ]
  },
  {
   "cell_type": "code",
   "execution_count": 30,
   "metadata": {},
   "outputs": [],
   "source": [
    "df1 = pd.DataFrame({'City': ['New York', 'Chicago', 'Tokyo', 'Paris','New Delhi'],\n",
    "                     'Temp': [59, 29, 73, 56,48]})\n",
    "df2 = pd.DataFrame({'City': ['London', 'New York', 'Tokyo', 'New Delhi','Paris'],\n",
    "                     'Temp': [55, 55, 73, 85,56]})"
   ]
  },
  {
   "cell_type": "code",
   "execution_count": 31,
   "metadata": {},
   "outputs": [
    {
     "data": {
      "text/html": "<div>\n<style scoped>\n    .dataframe tbody tr th:only-of-type {\n        vertical-align: middle;\n    }\n\n    .dataframe tbody tr th {\n        vertical-align: top;\n    }\n\n    .dataframe thead th {\n        text-align: right;\n    }\n</style>\n<table border=\"1\" class=\"dataframe\">\n  <thead>\n    <tr style=\"text-align: right;\">\n      <th></th>\n      <th>City</th>\n      <th>Temp</th>\n    </tr>\n  </thead>\n  <tbody>\n    <tr>\n      <th>0</th>\n      <td>New York</td>\n      <td>59</td>\n    </tr>\n    <tr>\n      <th>1</th>\n      <td>Chicago</td>\n      <td>29</td>\n    </tr>\n    <tr>\n      <th>2</th>\n      <td>Tokyo</td>\n      <td>73</td>\n    </tr>\n    <tr>\n      <th>3</th>\n      <td>Paris</td>\n      <td>56</td>\n    </tr>\n    <tr>\n      <th>4</th>\n      <td>New Delhi</td>\n      <td>48</td>\n    </tr>\n  </tbody>\n</table>\n</div>",
      "text/plain": "        City  Temp\n0   New York    59\n1    Chicago    29\n2      Tokyo    73\n3      Paris    56\n4  New Delhi    48"
     },
     "execution_count": 31,
     "metadata": {},
     "output_type": "execute_result"
    }
   ],
   "source": [
    "df1"
   ]
  },
  {
   "cell_type": "code",
   "execution_count": 32,
   "metadata": {},
   "outputs": [
    {
     "data": {
      "text/html": "<div>\n<style scoped>\n    .dataframe tbody tr th:only-of-type {\n        vertical-align: middle;\n    }\n\n    .dataframe tbody tr th {\n        vertical-align: top;\n    }\n\n    .dataframe thead th {\n        text-align: right;\n    }\n</style>\n<table border=\"1\" class=\"dataframe\">\n  <thead>\n    <tr style=\"text-align: right;\">\n      <th></th>\n      <th>City</th>\n      <th>Temp</th>\n    </tr>\n  </thead>\n  <tbody>\n    <tr>\n      <th>0</th>\n      <td>London</td>\n      <td>55</td>\n    </tr>\n    <tr>\n      <th>1</th>\n      <td>New York</td>\n      <td>55</td>\n    </tr>\n    <tr>\n      <th>2</th>\n      <td>Tokyo</td>\n      <td>73</td>\n    </tr>\n    <tr>\n      <th>3</th>\n      <td>New Delhi</td>\n      <td>85</td>\n    </tr>\n    <tr>\n      <th>4</th>\n      <td>Paris</td>\n      <td>56</td>\n    </tr>\n  </tbody>\n</table>\n</div>",
      "text/plain": "        City  Temp\n0     London    55\n1   New York    55\n2      Tokyo    73\n3  New Delhi    85\n4      Paris    56"
     },
     "execution_count": 32,
     "metadata": {},
     "output_type": "execute_result"
    }
   ],
   "source": [
    "df2"
   ]
  },
  {
   "cell_type": "code",
   "execution_count": 34,
   "metadata": {},
   "outputs": [
    {
     "data": {
      "text/html": "<div>\n<style scoped>\n    .dataframe tbody tr th:only-of-type {\n        vertical-align: middle;\n    }\n\n    .dataframe tbody tr th {\n        vertical-align: top;\n    }\n\n    .dataframe thead th {\n        text-align: right;\n    }\n</style>\n<table border=\"1\" class=\"dataframe\">\n  <thead>\n    <tr style=\"text-align: right;\">\n      <th></th>\n      <th>City</th>\n      <th>Temp</th>\n    </tr>\n  </thead>\n  <tbody>\n    <tr>\n      <th>0</th>\n      <td>New York</td>\n      <td>59</td>\n    </tr>\n    <tr>\n      <th>1</th>\n      <td>Chicago</td>\n      <td>29</td>\n    </tr>\n    <tr>\n      <th>2</th>\n      <td>Tokyo</td>\n      <td>73</td>\n    </tr>\n    <tr>\n      <th>3</th>\n      <td>Paris</td>\n      <td>56</td>\n    </tr>\n    <tr>\n      <th>4</th>\n      <td>New Delhi</td>\n      <td>48</td>\n    </tr>\n  </tbody>\n</table>\n</div>",
      "text/plain": "        City  Temp\n0   New York    59\n1    Chicago    29\n2      Tokyo    73\n3      Paris    56\n4  New Delhi    48"
     },
     "execution_count": 34,
     "metadata": {},
     "output_type": "execute_result"
    }
   ],
   "source": [
    "df1.merge(df2, how='left', indicator=False)"
   ]
  },
  {
   "cell_type": "code",
   "execution_count": 37,
   "metadata": {},
   "outputs": [],
   "source": [
    "filter = df_index['name'].str.contains(\"regionalized\", regex=True)"
   ]
  },
  {
   "cell_type": "code",
   "execution_count": 88,
   "metadata": {},
   "outputs": [],
   "source": [
    "df_index.loc[filter, 'name'] = df_index.loc[filter,'name'].str.split(',').str[0:2].str.join(',')"
   ]
  },
  {
   "cell_type": "code",
   "execution_count": 89,
   "metadata": {},
   "outputs": [
    {
     "data": {
      "text/plain": "(41510, 5)"
     },
     "execution_count": 89,
     "metadata": {},
     "output_type": "execute_result"
    }
   ],
   "source": [
    "df_index.shape"
   ]
  },
  {
   "cell_type": "code",
   "execution_count": 90,
   "metadata": {},
   "outputs": [],
   "source": [
    "df_index.to_excel('test.xlsx')"
   ]
  },
  {
   "cell_type": "code",
   "execution_count": 44,
   "metadata": {},
   "outputs": [
    {
     "data": {
      "text/plain": "17512    collected rainwater to lake, regionalized, AR\n17513    collected rainwater to lake, regionalized, AT\n17514    collected rainwater to lake, regionalized, AU\n17515    collected rainwater to lake, regionalized, BA\n17516    collected rainwater to lake, regionalized, BD\nName: name, dtype: object"
     },
     "execution_count": 44,
     "metadata": {},
     "output_type": "execute_result"
    }
   ],
   "source": [
    "new_df_index['name'].head()"
   ]
  },
  {
   "cell_type": "code",
   "execution_count": 78,
   "metadata": {},
   "outputs": [],
   "source": [
    "new_df_index['name'] = new_df_index['name'].str.split(',').str[0:2].str.join(',')"
   ]
  },
  {
   "cell_type": "code",
   "execution_count": 79,
   "metadata": {},
   "outputs": [
    {
     "data": {
      "text/plain": "17512    collected rainwater to lake, regionalized\n17513    collected rainwater to lake, regionalized\n17514    collected rainwater to lake, regionalized\n17515    collected rainwater to lake, regionalized\n17516    collected rainwater to lake, regionalized\nName: name, dtype: object"
     },
     "execution_count": 79,
     "metadata": {},
     "output_type": "execute_result"
    }
   ],
   "source": [
    "new_df_index['name'].head()"
   ]
  },
  {
   "cell_type": "code",
   "execution_count": 80,
   "metadata": {},
   "outputs": [
    {
     "data": {
      "text/html": "<div>\n<style scoped>\n    .dataframe tbody tr th:only-of-type {\n        vertical-align: middle;\n    }\n\n    .dataframe tbody tr th {\n        vertical-align: top;\n    }\n\n    .dataframe thead th {\n        text-align: right;\n    }\n</style>\n<table border=\"1\" class=\"dataframe\">\n  <thead>\n    <tr style=\"text-align: right;\">\n      <th></th>\n      <th>name</th>\n      <th>compartment</th>\n      <th>subcompartment</th>\n      <th>unitName</th>\n      <th>index</th>\n    </tr>\n  </thead>\n  <tbody>\n    <tr>\n      <th>17512</th>\n      <td>collected rainwater to lake, regionalized</td>\n      <td>Emissions to water</td>\n      <td>Emissions to fresh water</td>\n      <td>kg</td>\n      <td>17512</td>\n    </tr>\n    <tr>\n      <th>17513</th>\n      <td>collected rainwater to lake, regionalized</td>\n      <td>Emissions to water</td>\n      <td>Emissions to fresh water</td>\n      <td>kg</td>\n      <td>17513</td>\n    </tr>\n    <tr>\n      <th>17514</th>\n      <td>collected rainwater to lake, regionalized</td>\n      <td>Emissions to water</td>\n      <td>Emissions to fresh water</td>\n      <td>kg</td>\n      <td>17514</td>\n    </tr>\n    <tr>\n      <th>17515</th>\n      <td>collected rainwater to lake, regionalized</td>\n      <td>Emissions to water</td>\n      <td>Emissions to fresh water</td>\n      <td>kg</td>\n      <td>17515</td>\n    </tr>\n    <tr>\n      <th>17516</th>\n      <td>collected rainwater to lake, regionalized</td>\n      <td>Emissions to water</td>\n      <td>Emissions to fresh water</td>\n      <td>kg</td>\n      <td>17516</td>\n    </tr>\n  </tbody>\n</table>\n</div>",
      "text/plain": "                                            name         compartment  \\\n17512  collected rainwater to lake, regionalized  Emissions to water   \n17513  collected rainwater to lake, regionalized  Emissions to water   \n17514  collected rainwater to lake, regionalized  Emissions to water   \n17515  collected rainwater to lake, regionalized  Emissions to water   \n17516  collected rainwater to lake, regionalized  Emissions to water   \n\n                 subcompartment unitName  index  \n17512  Emissions to fresh water       kg  17512  \n17513  Emissions to fresh water       kg  17513  \n17514  Emissions to fresh water       kg  17514  \n17515  Emissions to fresh water       kg  17515  \n17516  Emissions to fresh water       kg  17516  "
     },
     "execution_count": 80,
     "metadata": {},
     "output_type": "execute_result"
    }
   ],
   "source": [
    "new_df_index.head()"
   ]
  },
  {
   "cell_type": "code",
   "execution_count": 81,
   "metadata": {},
   "outputs": [
    {
     "data": {
      "text/html": "<div>\n<style scoped>\n    .dataframe tbody tr th:only-of-type {\n        vertical-align: middle;\n    }\n\n    .dataframe tbody tr th {\n        vertical-align: top;\n    }\n\n    .dataframe thead th {\n        text-align: right;\n    }\n</style>\n<table border=\"1\" class=\"dataframe\">\n  <thead>\n    <tr style=\"text-align: right;\">\n      <th></th>\n      <th>type of search</th>\n      <th>flow</th>\n      <th>exchange unitName</th>\n      <th>compartment</th>\n      <th>subcompartment</th>\n      <th>amount</th>\n      <th>unit</th>\n    </tr>\n  </thead>\n  <tbody>\n    <tr>\n      <th>0</th>\n      <td>begins with</td>\n      <td>cooling water to river, regionalized</td>\n      <td>kg</td>\n      <td>Emissions to water</td>\n      <td>Emissions to fresh water</td>\n      <td>/1000</td>\n      <td>m3</td>\n    </tr>\n    <tr>\n      <th>1</th>\n      <td>begins with</td>\n      <td>fresh water, regionalized</td>\n      <td>kg</td>\n      <td>Resources</td>\n      <td>Renewable material resources from water</td>\n      <td>/1000</td>\n      <td>m3</td>\n    </tr>\n    <tr>\n      <th>5</th>\n      <td>flow match</td>\n      <td>lake water to turbine</td>\n      <td>kg</td>\n      <td>Resources</td>\n      <td>Renewable material resources from water</td>\n      <td>/1000</td>\n      <td>m3</td>\n    </tr>\n    <tr>\n      <th>6</th>\n      <td>begins with</td>\n      <td>lake water to turbine, regionalized</td>\n      <td>kg</td>\n      <td>Resources</td>\n      <td>Renewable material resources from water</td>\n      <td>/1000</td>\n      <td>m3</td>\n    </tr>\n    <tr>\n      <th>8</th>\n      <td>begins with</td>\n      <td>processed water to groundwater, regionalized</td>\n      <td>kg</td>\n      <td>Emissions to water</td>\n      <td>Emissions to fresh water</td>\n      <td>/1000</td>\n      <td>m3</td>\n    </tr>\n    <tr>\n      <th>9</th>\n      <td>begins with</td>\n      <td>processed water to river, regionalized</td>\n      <td>kg</td>\n      <td>Emissions to water</td>\n      <td>Emissions to fresh water</td>\n      <td>/1000</td>\n      <td>m3</td>\n    </tr>\n    <tr>\n      <th>11</th>\n      <td>begins with</td>\n      <td>river water to turbine, regionalized</td>\n      <td>kg</td>\n      <td>Resources</td>\n      <td>Renewable material resources from water</td>\n      <td>/1000</td>\n      <td>m3</td>\n    </tr>\n    <tr>\n      <th>13</th>\n      <td>begins with</td>\n      <td>turbined water to river, regionalized</td>\n      <td>kg</td>\n      <td>Emissions to water</td>\n      <td>Emissions to fresh water</td>\n      <td>/1000</td>\n      <td>m3</td>\n    </tr>\n    <tr>\n      <th>14</th>\n      <td>flow match</td>\n      <td>water</td>\n      <td>m3</td>\n      <td>Emissions to water</td>\n      <td>Emissions to fresh water</td>\n      <td>/1000</td>\n      <td>NaN</td>\n    </tr>\n    <tr>\n      <th>15</th>\n      <td>flow match</td>\n      <td>water</td>\n      <td>kg</td>\n      <td>Resources</td>\n      <td>Renewable material resources from water</td>\n      <td>/1000</td>\n      <td>m3</td>\n    </tr>\n    <tr>\n      <th>16</th>\n      <td>flow match</td>\n      <td>Water (river water from technosphere, turbined)</td>\n      <td>kg</td>\n      <td>Emissions to water</td>\n      <td>Emissions to fresh water</td>\n      <td>/1000</td>\n      <td>m3</td>\n    </tr>\n    <tr>\n      <th>17</th>\n      <td>flow match</td>\n      <td>Water (sea water from technosphere, cooling wa...</td>\n      <td>kg</td>\n      <td>Emissions to sea water</td>\n      <td>Other emissions to sea water</td>\n      <td>/1000</td>\n      <td>m3</td>\n    </tr>\n    <tr>\n      <th>18</th>\n      <td>flow match</td>\n      <td>Water (sea water from technosphere, waste water)</td>\n      <td>kg</td>\n      <td>Emissions to sea water</td>\n      <td>Other emissions to sea water</td>\n      <td>/1000</td>\n      <td>m3</td>\n    </tr>\n    <tr>\n      <th>19</th>\n      <td>flow match</td>\n      <td>water, cooling, unspecified natural origin</td>\n      <td>m3</td>\n      <td>Resources</td>\n      <td>Renewable material resources from water</td>\n      <td>/1000</td>\n      <td>NaN</td>\n    </tr>\n    <tr>\n      <th>20</th>\n      <td>flow match</td>\n      <td>water, turbine use, unspecified natural origin</td>\n      <td>m3</td>\n      <td>Resources</td>\n      <td>Renewable material resources from water</td>\n      <td>/1000</td>\n      <td>NaN</td>\n    </tr>\n  </tbody>\n</table>\n</div>",
      "text/plain": "   type of search                                               flow  \\\n0     begins with               cooling water to river, regionalized   \n1     begins with                          fresh water, regionalized   \n5      flow match                              lake water to turbine   \n6     begins with                lake water to turbine, regionalized   \n8     begins with       processed water to groundwater, regionalized   \n9     begins with             processed water to river, regionalized   \n11    begins with               river water to turbine, regionalized   \n13    begins with              turbined water to river, regionalized   \n14     flow match                                              water   \n15     flow match                                              water   \n16     flow match    Water (river water from technosphere, turbined)   \n17     flow match  Water (sea water from technosphere, cooling wa...   \n18     flow match   Water (sea water from technosphere, waste water)   \n19     flow match         water, cooling, unspecified natural origin   \n20     flow match     water, turbine use, unspecified natural origin   \n\n   exchange unitName             compartment  \\\n0                 kg      Emissions to water   \n1                 kg               Resources   \n5                 kg               Resources   \n6                 kg               Resources   \n8                 kg      Emissions to water   \n9                 kg      Emissions to water   \n11                kg               Resources   \n13                kg      Emissions to water   \n14                m3      Emissions to water   \n15                kg               Resources   \n16                kg      Emissions to water   \n17                kg  Emissions to sea water   \n18                kg  Emissions to sea water   \n19                m3               Resources   \n20                m3               Resources   \n\n                             subcompartment amount unit  \n0                  Emissions to fresh water  /1000   m3  \n1   Renewable material resources from water  /1000   m3  \n5   Renewable material resources from water  /1000   m3  \n6   Renewable material resources from water  /1000   m3  \n8                  Emissions to fresh water  /1000   m3  \n9                  Emissions to fresh water  /1000   m3  \n11  Renewable material resources from water  /1000   m3  \n13                 Emissions to fresh water  /1000   m3  \n14                 Emissions to fresh water  /1000  NaN  \n15  Renewable material resources from water  /1000   m3  \n16                 Emissions to fresh water  /1000   m3  \n17             Other emissions to sea water  /1000   m3  \n18             Other emissions to sea water  /1000   m3  \n19  Renewable material resources from water  /1000  NaN  \n20  Renewable material resources from water  /1000  NaN  "
     },
     "execution_count": 81,
     "metadata": {},
     "output_type": "execute_result"
    }
   ],
   "source": [
    "dropped_df"
   ]
  },
  {
   "cell_type": "code",
   "execution_count": 91,
   "metadata": {},
   "outputs": [],
   "source": [
    "left_cols = ['name', 'compartment', 'subcompartment']\n",
    "right_cols = ['flow', 'compartment', 'subcompartment']\n",
    "merged_df = pd.merge(df_index, dropped_df, left_on=left_cols, right_on=right_cols, how=\"inner\")"
   ]
  },
  {
   "cell_type": "code",
   "execution_count": 92,
   "metadata": {},
   "outputs": [
    {
     "data": {
      "text/html": "<div>\n<style scoped>\n    .dataframe tbody tr th:only-of-type {\n        vertical-align: middle;\n    }\n\n    .dataframe tbody tr th {\n        vertical-align: top;\n    }\n\n    .dataframe thead th {\n        text-align: right;\n    }\n</style>\n<table border=\"1\" class=\"dataframe\">\n  <thead>\n    <tr style=\"text-align: right;\">\n      <th></th>\n      <th>name</th>\n      <th>compartment</th>\n      <th>subcompartment</th>\n      <th>unitName</th>\n      <th>index</th>\n      <th>type of search</th>\n      <th>flow</th>\n      <th>exchange unitName</th>\n      <th>amount</th>\n      <th>unit</th>\n    </tr>\n  </thead>\n  <tbody>\n    <tr>\n      <th>0</th>\n      <td>cooling water to river, regionalized</td>\n      <td>Emissions to water</td>\n      <td>Emissions to fresh water</td>\n      <td>kg</td>\n      <td>17714</td>\n      <td>begins with</td>\n      <td>cooling water to river, regionalized</td>\n      <td>kg</td>\n      <td>/1000</td>\n      <td>m3</td>\n    </tr>\n    <tr>\n      <th>1</th>\n      <td>cooling water to river, regionalized</td>\n      <td>Emissions to water</td>\n      <td>Emissions to fresh water</td>\n      <td>kg</td>\n      <td>17715</td>\n      <td>begins with</td>\n      <td>cooling water to river, regionalized</td>\n      <td>kg</td>\n      <td>/1000</td>\n      <td>m3</td>\n    </tr>\n    <tr>\n      <th>2</th>\n      <td>cooling water to river, regionalized</td>\n      <td>Emissions to water</td>\n      <td>Emissions to fresh water</td>\n      <td>kg</td>\n      <td>17716</td>\n      <td>begins with</td>\n      <td>cooling water to river, regionalized</td>\n      <td>kg</td>\n      <td>/1000</td>\n      <td>m3</td>\n    </tr>\n    <tr>\n      <th>3</th>\n      <td>cooling water to river, regionalized</td>\n      <td>Emissions to water</td>\n      <td>Emissions to fresh water</td>\n      <td>kg</td>\n      <td>17717</td>\n      <td>begins with</td>\n      <td>cooling water to river, regionalized</td>\n      <td>kg</td>\n      <td>/1000</td>\n      <td>m3</td>\n    </tr>\n    <tr>\n      <th>4</th>\n      <td>cooling water to river, regionalized</td>\n      <td>Emissions to water</td>\n      <td>Emissions to fresh water</td>\n      <td>kg</td>\n      <td>17718</td>\n      <td>begins with</td>\n      <td>cooling water to river, regionalized</td>\n      <td>kg</td>\n      <td>/1000</td>\n      <td>m3</td>\n    </tr>\n  </tbody>\n</table>\n</div>",
      "text/plain": "                                   name         compartment  \\\n0  cooling water to river, regionalized  Emissions to water   \n1  cooling water to river, regionalized  Emissions to water   \n2  cooling water to river, regionalized  Emissions to water   \n3  cooling water to river, regionalized  Emissions to water   \n4  cooling water to river, regionalized  Emissions to water   \n\n             subcompartment unitName  index type of search  \\\n0  Emissions to fresh water       kg  17714    begins with   \n1  Emissions to fresh water       kg  17715    begins with   \n2  Emissions to fresh water       kg  17716    begins with   \n3  Emissions to fresh water       kg  17717    begins with   \n4  Emissions to fresh water       kg  17718    begins with   \n\n                                   flow exchange unitName amount unit  \n0  cooling water to river, regionalized                kg  /1000   m3  \n1  cooling water to river, regionalized                kg  /1000   m3  \n2  cooling water to river, regionalized                kg  /1000   m3  \n3  cooling water to river, regionalized                kg  /1000   m3  \n4  cooling water to river, regionalized                kg  /1000   m3  "
     },
     "execution_count": 92,
     "metadata": {},
     "output_type": "execute_result"
    }
   ],
   "source": [
    "merged_df.head()"
   ]
  },
  {
   "cell_type": "code",
   "execution_count": 93,
   "metadata": {},
   "outputs": [
    {
     "data": {
      "text/plain": "(449, 10)"
     },
     "execution_count": 93,
     "metadata": {},
     "output_type": "execute_result"
    }
   ],
   "source": [
    "merged_df.shape"
   ]
  },
  {
   "cell_type": "code",
   "execution_count": 94,
   "metadata": {},
   "outputs": [],
   "source": [
    "merged_df.to_excel('sample.xlsx')"
   ]
  },
  {
   "cell_type": "code",
   "execution_count": 95,
   "metadata": {},
   "outputs": [
    {
     "data": {
      "text/plain": "<41510x15437 sparse matrix of type '<class 'numpy.float64'>'\n\twith 1646196 stored elements in Compressed Sparse Column format>"
     },
     "execution_count": 95,
     "metadata": {},
     "output_type": "execute_result"
    }
   ],
   "source": [
    "data"
   ]
  },
  {
   "cell_type": "code",
   "execution_count": 96,
   "metadata": {},
   "outputs": [
    {
     "name": "stdout",
     "output_type": "stream",
     "text": "(12855, 0)\t0.00011145\n  (12871, 0)\t0.010687\n  (15680, 0)\t0.085507\n  (15889, 0)\t0.56976\n  (15962, 0)\t0.12826\n  (16642, 0)\t0.91455\n  (16668, 0)\t0.0010961\n  (16741, 0)\t0.00027066\n  (16745, 0)\t0.00042882\n  (16895, 0)\t9.6489e-05\n  (16899, 0)\t0.00024062\n  (17988, 0)\t7.9021e-05\n  (19344, 0)\t0.00012131\n  (19348, 0)\t0.00029115\n  (20255, 0)\t9.9092e-05\n  (20376, 0)\t0.00048049\n  (21641, 0)\t4.2695e-05\n  (21645, 0)\t0.016157\n  (22934, 0)\t0.0095927\n  (23285, 0)\t3.2322913372072217\n  (23287, 0)\t0.11603014252429802\n  (23289, 0)\t3.9992524402937613\n  (23290, 0)\t0.30623721280890653\n  (23293, 0)\t4.077717320163446\n  (23298, 0)\t1.3783293585035827\n  :\t:\n  (41055, 15435)\t0.1534589139757755\n  (41079, 15435)\t0.14887642499187914\n  (12854, 15436)\t6.3e-08\n  (13741, 15436)\t2.29950016958734e-08\n  (13877, 15436)\t9.44998870548332e-11\n  (15624, 15436)\t3.15e-11\n  (15626, 15436)\t9.0556093951385e-10\n  (15888, 15436)\t0.00978858690785755\n  (17101, 15436)\t1.575e-10\n  (17650, 15436)\t0.00555560091577162\n  (17780, 15436)\t5.35500111927643e-09\n  (23869, 15436)\t0.1352\n  (27407, 15436)\t4.41320118711136e-09\n  (28263, 15436)\t4.06350108535896e-07\n  (30256, 15436)\t2.20500111927643e-10\n  (30580, 15436)\t0.000160650061051441\n  (30720, 15436)\t3.78000111927643e-07\n  (31171, 15436)\t1.37350050876201e-05\n  (32369, 15436)\t1.30389867721877e-05\n  (33984, 15436)\t1.03639894855851e-08\n  (35783, 15436)\t0.8648\n  (36133, 15436)\t3.15e-11\n  (37401, 15436)\t3.17519993216507e-06\n  (41222, 15436)\t3.15e-09\n  (41224, 15436)\t2.25490115319389e-06\n"
    }
   ],
   "source": [
    "print(data)"
   ]
  },
  {
   "cell_type": "code",
   "execution_count": 98,
   "metadata": {},
   "outputs": [
    {
     "data": {
      "text/html": "<div>\n<style scoped>\n    .dataframe tbody tr th:only-of-type {\n        vertical-align: middle;\n    }\n\n    .dataframe tbody tr th {\n        vertical-align: top;\n    }\n\n    .dataframe thead th {\n        text-align: right;\n    }\n</style>\n<table border=\"1\" class=\"dataframe\">\n  <thead>\n    <tr style=\"text-align: right;\">\n      <th></th>\n      <th>name</th>\n      <th>compartment</th>\n      <th>subcompartment</th>\n      <th>unitName</th>\n      <th>index</th>\n      <th>type of search</th>\n      <th>flow</th>\n      <th>exchange unitName</th>\n      <th>amount</th>\n      <th>unit</th>\n    </tr>\n  </thead>\n  <tbody>\n    <tr>\n      <th>0</th>\n      <td>cooling water to river, regionalized</td>\n      <td>Emissions to water</td>\n      <td>Emissions to fresh water</td>\n      <td>kg</td>\n      <td>17714</td>\n      <td>begins with</td>\n      <td>cooling water to river, regionalized</td>\n      <td>kg</td>\n      <td>/1000</td>\n      <td>m3</td>\n    </tr>\n    <tr>\n      <th>1</th>\n      <td>cooling water to river, regionalized</td>\n      <td>Emissions to water</td>\n      <td>Emissions to fresh water</td>\n      <td>kg</td>\n      <td>17715</td>\n      <td>begins with</td>\n      <td>cooling water to river, regionalized</td>\n      <td>kg</td>\n      <td>/1000</td>\n      <td>m3</td>\n    </tr>\n    <tr>\n      <th>2</th>\n      <td>cooling water to river, regionalized</td>\n      <td>Emissions to water</td>\n      <td>Emissions to fresh water</td>\n      <td>kg</td>\n      <td>17716</td>\n      <td>begins with</td>\n      <td>cooling water to river, regionalized</td>\n      <td>kg</td>\n      <td>/1000</td>\n      <td>m3</td>\n    </tr>\n    <tr>\n      <th>3</th>\n      <td>cooling water to river, regionalized</td>\n      <td>Emissions to water</td>\n      <td>Emissions to fresh water</td>\n      <td>kg</td>\n      <td>17717</td>\n      <td>begins with</td>\n      <td>cooling water to river, regionalized</td>\n      <td>kg</td>\n      <td>/1000</td>\n      <td>m3</td>\n    </tr>\n    <tr>\n      <th>4</th>\n      <td>cooling water to river, regionalized</td>\n      <td>Emissions to water</td>\n      <td>Emissions to fresh water</td>\n      <td>kg</td>\n      <td>17718</td>\n      <td>begins with</td>\n      <td>cooling water to river, regionalized</td>\n      <td>kg</td>\n      <td>/1000</td>\n      <td>m3</td>\n    </tr>\n  </tbody>\n</table>\n</div>",
      "text/plain": "                                   name         compartment  \\\n0  cooling water to river, regionalized  Emissions to water   \n1  cooling water to river, regionalized  Emissions to water   \n2  cooling water to river, regionalized  Emissions to water   \n3  cooling water to river, regionalized  Emissions to water   \n4  cooling water to river, regionalized  Emissions to water   \n\n             subcompartment unitName  index type of search  \\\n0  Emissions to fresh water       kg  17714    begins with   \n1  Emissions to fresh water       kg  17715    begins with   \n2  Emissions to fresh water       kg  17716    begins with   \n3  Emissions to fresh water       kg  17717    begins with   \n4  Emissions to fresh water       kg  17718    begins with   \n\n                                   flow exchange unitName amount unit  \n0  cooling water to river, regionalized                kg  /1000   m3  \n1  cooling water to river, regionalized                kg  /1000   m3  \n2  cooling water to river, regionalized                kg  /1000   m3  \n3  cooling water to river, regionalized                kg  /1000   m3  \n4  cooling water to river, regionalized                kg  /1000   m3  "
     },
     "execution_count": 98,
     "metadata": {},
     "output_type": "execute_result"
    }
   ],
   "source": [
    "merged_df.head()"
   ]
  },
  {
   "cell_type": "code",
   "execution_count": 100,
   "metadata": {},
   "outputs": [
    {
     "data": {
      "text/html": "<div>\n<style scoped>\n    .dataframe tbody tr th:only-of-type {\n        vertical-align: middle;\n    }\n\n    .dataframe tbody tr th {\n        vertical-align: top;\n    }\n\n    .dataframe thead th {\n        text-align: right;\n    }\n</style>\n<table border=\"1\" class=\"dataframe\">\n  <thead>\n    <tr style=\"text-align: right;\">\n      <th></th>\n      <th>name</th>\n      <th>compartment</th>\n      <th>subcompartment</th>\n      <th>unitName</th>\n      <th>index</th>\n      <th>type of search</th>\n      <th>flow</th>\n      <th>exchange unitName</th>\n      <th>amount</th>\n      <th>unit</th>\n    </tr>\n  </thead>\n  <tbody>\n    <tr>\n      <th>0</th>\n      <td>cooling water to river, regionalized</td>\n      <td>Emissions to water</td>\n      <td>Emissions to fresh water</td>\n      <td>kg</td>\n      <td>17714</td>\n      <td>begins with</td>\n      <td>cooling water to river, regionalized</td>\n      <td>kg</td>\n      <td>/1000</td>\n      <td>m3</td>\n    </tr>\n  </tbody>\n</table>\n</div>",
      "text/plain": "                                   name         compartment  \\\n0  cooling water to river, regionalized  Emissions to water   \n\n             subcompartment unitName  index type of search  \\\n0  Emissions to fresh water       kg  17714    begins with   \n\n                                   flow exchange unitName amount unit  \n0  cooling water to river, regionalized                kg  /1000   m3  "
     },
     "execution_count": 100,
     "metadata": {},
     "output_type": "execute_result"
    }
   ],
   "source": [
    "merged_df.loc[merged_df['index'] == 17714]"
   ]
  },
  {
   "cell_type": "code",
   "execution_count": 101,
   "metadata": {},
   "outputs": [
    {
     "data": {
      "text/plain": "['__abs__',\n '__add__',\n '__array_priority__',\n '__bool__',\n '__class__',\n '__delattr__',\n '__dict__',\n '__dir__',\n '__div__',\n '__doc__',\n '__eq__',\n '__format__',\n '__ge__',\n '__getattr__',\n '__getattribute__',\n '__getitem__',\n '__gt__',\n '__hash__',\n '__iadd__',\n '__idiv__',\n '__imul__',\n '__init__',\n '__init_subclass__',\n '__isub__',\n '__iter__',\n '__itruediv__',\n '__le__',\n '__len__',\n '__lt__',\n '__matmul__',\n '__module__',\n '__mul__',\n '__ne__',\n '__neg__',\n '__new__',\n '__nonzero__',\n '__pow__',\n '__radd__',\n '__rdiv__',\n '__reduce__',\n '__reduce_ex__',\n '__repr__',\n '__rmatmul__',\n '__rmul__',\n '__rsub__',\n '__rtruediv__',\n '__setattr__',\n '__setitem__',\n '__sizeof__',\n '__str__',\n '__sub__',\n '__subclasshook__',\n '__truediv__',\n '__weakref__',\n '_add_dense',\n '_add_sparse',\n '_arg_min_or_max',\n '_arg_min_or_max_axis',\n '_asindices',\n '_binopt',\n '_cs_matrix__get_has_canonical_format',\n '_cs_matrix__get_sorted',\n '_cs_matrix__set_has_canonical_format',\n '_cs_matrix__set_sorted',\n '_deduped_data',\n '_divide',\n '_divide_sparse',\n '_get_arrayXarray',\n '_get_arrayXint',\n '_get_arrayXslice',\n '_get_columnXarray',\n '_get_dtype',\n '_get_intXarray',\n '_get_intXint',\n '_get_intXslice',\n '_get_sliceXarray',\n '_get_sliceXint',\n '_get_sliceXslice',\n '_get_submatrix',\n '_has_canonical_format',\n '_has_sorted_indices',\n '_imag',\n '_inequality',\n '_insert_many',\n '_major_index_fancy',\n '_major_slice',\n '_maximum_minimum',\n '_min_or_max',\n '_min_or_max_axis',\n '_minor_index_fancy',\n '_minor_reduce',\n '_minor_slice',\n '_mul_multivector',\n '_mul_scalar',\n '_mul_sparse_matrix',\n '_mul_vector',\n '_prepare_indices',\n '_process_toarray_args',\n '_real',\n '_rsub_dense',\n '_scalar_binopt',\n '_set_arrayXarray',\n '_set_arrayXarray_sparse',\n '_set_dtype',\n '_set_intXint',\n '_set_many',\n '_set_self',\n '_setdiag',\n '_shape',\n '_sub_dense',\n '_sub_sparse',\n '_swap',\n '_validate_indices',\n '_with_data',\n '_zero_many',\n 'arcsin',\n 'arcsinh',\n 'arctan',\n 'arctanh',\n 'argmax',\n 'argmin',\n 'asformat',\n 'asfptype',\n 'astype',\n 'ceil',\n 'check_format',\n 'conj',\n 'conjugate',\n 'copy',\n 'count_nonzero',\n 'data',\n 'deg2rad',\n 'diagonal',\n 'dot',\n 'dtype',\n 'eliminate_zeros',\n 'expm1',\n 'floor',\n 'format',\n 'getH',\n 'get_shape',\n 'getcol',\n 'getformat',\n 'getmaxprint',\n 'getnnz',\n 'getrow',\n 'has_canonical_format',\n 'has_sorted_indices',\n 'indices',\n 'indptr',\n 'log1p',\n 'max',\n 'maximum',\n 'maxprint',\n 'mean',\n 'min',\n 'minimum',\n 'multiply',\n 'ndim',\n 'nnz',\n 'nonzero',\n 'power',\n 'prune',\n 'rad2deg',\n 'reshape',\n 'resize',\n 'rint',\n 'set_shape',\n 'setdiag',\n 'shape',\n 'sign',\n 'sin',\n 'sinh',\n 'sort_indices',\n 'sorted_indices',\n 'sqrt',\n 'sum',\n 'sum_duplicates',\n 'tan',\n 'tanh',\n 'toarray',\n 'tobsr',\n 'tocoo',\n 'tocsc',\n 'tocsr',\n 'todense',\n 'todia',\n 'todok',\n 'tolil',\n 'transpose',\n 'trunc']"
     },
     "execution_count": 101,
     "metadata": {},
     "output_type": "execute_result"
    }
   ],
   "source": [
    "dir(data)"
   ]
  },
  {
   "cell_type": "code",
   "execution_count": 105,
   "metadata": {},
   "outputs": [
    {
     "data": {
      "text/plain": "array([1.11450000e-04, 1.06870000e-02, 8.55070000e-02, ...,\n       3.17519993e-06, 3.15000000e-09, 2.25490115e-06])"
     },
     "execution_count": 105,
     "metadata": {},
     "output_type": "execute_result"
    }
   ],
   "source": [
    "data.data"
   ]
  },
  {
   "cell_type": "code",
   "execution_count": 104,
   "metadata": {},
   "outputs": [
    {
     "data": {
      "text/plain": "(41510, 15437)"
     },
     "execution_count": 104,
     "metadata": {},
     "output_type": "execute_result"
    }
   ],
   "source": [
    "data.shape"
   ]
  },
  {
   "cell_type": "code",
   "execution_count": 108,
   "metadata": {},
   "outputs": [
    {
     "data": {
      "text/plain": "<41510x15437 sparse matrix of type '<class 'numpy.float64'>'\n\twith 1646196 stored elements in Compressed Sparse Column format>"
     },
     "execution_count": 108,
     "metadata": {},
     "output_type": "execute_result"
    }
   ],
   "source": [
    "data"
   ]
  },
  {
   "cell_type": "code",
   "execution_count": 114,
   "metadata": {},
   "outputs": [
    {
     "data": {
      "text/plain": "matrix([[0., 0., 0., ..., 0., 0., 0.],\n        [0., 0., 0., ..., 0., 0., 0.],\n        [0., 0., 0., ..., 0., 0., 0.],\n        ...,\n        [0., 0., 0., ..., 0., 0., 0.],\n        [0., 0., 0., ..., 0., 0., 0.],\n        [0., 0., 0., ..., 0., 0., 0.]])"
     },
     "execution_count": 114,
     "metadata": {},
     "output_type": "execute_result"
    }
   ],
   "source": [
    "data.todense()"
   ]
  },
  {
   "cell_type": "code",
   "execution_count": 116,
   "metadata": {},
   "outputs": [
    {
     "name": "stdout",
     "output_type": "stream",
     "text": "(0, 0)\t4.077717320163446\n  (0, 1)\t3.124879269501579\n  (0, 4)\t0.493757639666782\n  (0, 6)\t0.6285902478253113\n  (0, 7)\t0.6285902478253113\n  (0, 8)\t4.9763394619503805\n  (0, 10)\t1.3813532608564476\n  (0, 11)\t0.6285902478253113\n  (0, 12)\t0.6285902478253113\n  (0, 13)\t1.6603163745892555\n  (0, 14)\t1.3556072519559357\n  (0, 15)\t0.6285902478253113\n  (0, 16)\t5.98\n  (0, 17)\t0.42953666934729606\n  (0, 18)\t4.72673675104308\n  (0, 19)\t0.6285902478253113\n  (0, 20)\t2.0429183054322615\n  (0, 21)\t9.756244471455352\n  (0, 22)\t1.4718964478036185\n  (0, 23)\t1.4442725255377287\n  (0, 24)\t2.060573847113685\n  (0, 26)\t0.6285902478253113\n  (0, 27)\t0.42953666934729606\n  (0, 28)\t2.879205247643186\n  (0, 29)\t0.6285902478253113\n  :\t:\n  (0, 15402)\t0.139958042313397\n  (0, 15404)\t0.043690801217958375\n  (0, 15405)\t0.5897666353209806\n  (0, 15406)\t0.5934297821242167\n  (0, 15407)\t0.10424362560124156\n  (0, 15408)\t0.14360091281803683\n  (0, 15409)\t0.139958042313397\n  (0, 15410)\t0.11278948662539726\n  (0, 15411)\t0.1359516133431128\n  (0, 15412)\t0.033249179899225864\n  (0, 15413)\t0.03903164596865645\n  (0, 15416)\t0.1749840947442583\n  (0, 15417)\t0.19547515864853665\n  (0, 15418)\t0.02628998606468785\n  (0, 15419)\t0.137967679958244\n  (0, 15421)\t243.0358411311901\n  (0, 15422)\t324.0477881749201\n  (0, 15423)\t0.364643580906591\n  (0, 15424)\t0.139958042313397\n  (0, 15425)\t0.13995804231339695\n  (0, 15426)\t0.139958042313397\n  (0, 15427)\t0.139958042313397\n  (0, 15429)\t0.13995804231339695\n  (0, 15430)\t0.8799427902526838\n  (0, 15435)\t0.024112896330781296\n"
    }
   ],
   "source": [
    "print(data.getrow(23293))"
   ]
  },
  {
   "cell_type": "code",
   "execution_count": 117,
   "metadata": {},
   "outputs": [
    {
     "data": {
      "text/plain": "(41510, 15437)"
     },
     "execution_count": 117,
     "metadata": {},
     "output_type": "execute_result"
    }
   ],
   "source": [
    "data.shape"
   ]
  },
  {
   "cell_type": "code",
   "execution_count": 118,
   "metadata": {},
   "outputs": [
    {
     "data": {
      "text/plain": "array([4.07771732e+00, 3.12487927e+00, 4.93757640e-01, 6.28590248e-01,\n       6.28590248e-01, 4.97633946e+00, 1.38135326e+00, 6.28590248e-01,\n       6.28590248e-01, 1.66031637e+00, 1.35560725e+00, 6.28590248e-01,\n       5.98000000e+00, 4.29536669e-01, 4.72673675e+00, 6.28590248e-01,\n       2.04291831e+00, 9.75624447e+00, 1.47189645e+00, 1.44427253e+00,\n       2.06057385e+00, 6.28590248e-01, 4.29536669e-01, 2.87920525e+00,\n       6.28590248e-01, 4.29536669e-01, 1.20479797e-05, 4.81919190e-06,\n       6.15494618e-06, 3.69103289e+00, 4.29536669e-01, 1.13146245e-02,\n       4.29536669e-01, 1.58433553e+00, 6.28590248e-01, 6.28904543e-01,\n       1.43696629e-05, 3.87149656e-01, 3.87149656e-01, 3.87149656e-01,\n       3.87149656e-01, 6.54781508e-06, 3.66680002e+00, 3.66680002e+00,\n       6.28590248e-06, 6.28595408e-01, 2.05280899e-01, 6.28590248e-01,\n       2.05280899e-01, 4.29536669e-01, 9.22162847e-02, 2.13165430e+00,\n       7.85744096e+00, 2.05280899e-01, 1.50000000e-02, 2.20006587e-02,\n       8.18275323e-04, 1.54004611e+00, 1.62599579e-03, 3.66677645e-03,\n       4.27668539e-06, 6.28590248e-01, 6.28590248e-01, 2.32123672e-01,\n       3.49967620e+00, 3.64660918e+00, 3.64660918e+00, 9.55247647e-01,\n       6.28590248e-01, 9.40870787e-07, 3.64660918e+00, 4.29536669e-01,\n       6.28590248e-01, 7.83118684e-02, 1.02000000e+01, 4.29536669e-01,\n       2.05280899e-01, 2.05280899e-01, 2.05280899e-01, 6.28590248e-01,\n       4.43575664e-01, 3.84901685e-04, 1.28337176e+01, 1.04989492e+00,\n       4.29536669e-01, 5.23864493e+00, 6.28590248e-01, 4.97633946e-01,\n       1.11322121e+00, 1.71317034e+00, 4.29536669e-01, 4.29536669e-01,\n       2.05280899e-01, 3.66697288e+00, 1.10000000e-04, 2.50000000e-06,\n       3.87149656e-01, 3.87149656e-01, 3.87149656e-01, 3.87149656e-01,\n       1.36623374e-01, 2.75008233e-03, 9.42885372e-03, 2.59293477e-03,\n       7.05000000e-04, 4.73942275e-04, 4.27668539e-01, 1.32265865e-03,\n       5.23825207e-04, 4.43064607e-05, 1.10459545e-01, 6.28904543e-01,\n       6.28590248e-01, 6.28590248e-01, 6.28590248e-01, 6.28590248e-01,\n       6.28590248e-01, 1.25807100e+00, 2.68303271e+00, 4.29536669e-01,\n       3.87149656e-01, 3.87149656e-01, 3.87149656e-01, 3.87149656e-01,\n       7.85737810e-03, 1.13670070e-02, 6.28747395e-01, 4.29536669e-01,\n       2.05280899e-01, 4.00881597e-01, 6.28904543e-01, 6.28904543e-01,\n       6.28590248e-01, 6.28590248e-01, 4.10561798e-01, 4.15393389e+00,\n       2.09530083e-01, 6.28747395e-01, 4.29536669e-01, 4.93233814e+00,\n       4.72542719e+00, 4.29536669e-01, 6.87861070e+00, 6.28747395e-01,\n       1.22805581e+00, 6.28747395e-01, 6.28590248e-01, 6.28590248e-01,\n       1.39958042e-01, 2.05280899e-01, 4.29536669e-01, 2.27248470e+00,\n       7.80499558e+00, 4.07902688e+00, 6.28590248e-01, 4.29536669e-01,\n       2.85589503e+00, 6.28904543e-01, 4.29536669e-01, 2.39388119e-03,\n       5.41000000e-02, 7.46479133e+01, 7.37690000e+01, 7.37690000e+01,\n       1.00579442e+01, 4.68823560e-03, 3.84901685e-04, 4.29536669e-01,\n       4.29536669e-01, 6.28904543e-01, 6.28590248e-01, 6.28590248e-01,\n       6.28590248e-01, 6.28590248e-01, 6.28590248e-01, 2.40498365e-05,\n       7.00859261e-01, 7.51696329e-01, 6.28904543e-01, 6.28904543e-01,\n       1.14455808e+00, 5.15967828e-01, 6.28592081e-01, 6.28747395e-01,\n       6.28747395e-01, 6.28747395e-01, 6.28747395e-01, 5.76207727e-07,\n       8.55337079e-02, 1.95124889e-01, 8.07000000e+02, 7.20000000e+02,\n       1.33000000e+03, 1.33575428e-06, 1.83338822e-02, 6.28590248e-01,\n       6.11565929e-02, 1.75481444e-01, 9.47599799e-02, 1.37999132e+00,\n       9.83481825e+00, 1.52354561e+00, 1.46000000e-01, 1.95200000e+01,\n       3.07921348e-05, 5.50016467e-02, 4.50000000e-02, 3.35248132e-02,\n       1.80000000e-02, 6.41502809e+00, 5.13202247e+01, 6.41502809e-05,\n       6.28590248e-01, 6.28590248e-01, 2.50275826e+00, 1.11194500e-03,\n       1.59000000e-04, 1.82000000e-04, 1.17860671e-01, 4.50000000e-01,\n       7.08000000e-01, 3.05000000e-01, 4.63585308e-02, 7.50000000e-02,\n       1.38551767e-02, 1.46000000e-01, 4.46392283e-01, 7.69803371e-03,\n       1.68312896e+00, 1.91729777e+00, 1.86750360e+00, 4.45256454e+00,\n       1.04765041e+00, 6.28590248e-01, 7.06378291e+00, 6.28590248e-01,\n       1.11322121e+00, 2.88103864e-01, 5.77000000e+00, 1.29925702e-05,\n       6.28590248e-01, 6.28590248e-01, 4.29536669e-01, 6.28590248e-01,\n       6.28590248e-01, 2.18940602e+00, 1.98267841e-04, 4.00726283e-04,\n       2.69832840e+00, 1.15058207e+00, 4.16461468e+00, 9.94649421e-03,\n       1.28000000e-03, 7.33591010e-05, 2.80090000e-03, 5.61605972e-07,\n       3.19639466e-03, 1.49552096e-05, 2.05280899e-01, 6.88830147e-05,\n       1.17860671e-01, 3.00000000e-01, 2.85589503e+00, 1.39958042e-01,\n       1.88215635e+00, 4.29536669e-01, 2.05280899e-01, 6.54519596e-01,\n       2.93630220e+00, 2.72493872e+00, 6.28590248e-01, 8.16000000e+00,\n       2.13720684e-01, 2.05280899e-01, 6.28747395e-01, 7.85737810e+00,\n       6.28590248e-01, 1.70572128e+00, 2.05280899e-01, 6.28590248e-01,\n       1.15743858e+00, 2.09530083e-01, 6.33751560e+00, 3.46065123e+00,\n       4.88000000e+00, 6.28590248e-01, 4.29536669e-01, 3.55127299e+00,\n       4.29536669e-01, 5.23825207e-05, 3.14321315e+00, 3.64660918e+00,\n       6.28590248e-01, 6.28590248e-01, 6.28590248e-01, 6.28747395e-01,\n       1.29411765e+05, 7.03265033e+00, 4.47579254e+00, 1.10035917e+01,\n       1.29918159e+01, 6.28590248e-01, 2.30930961e+00, 6.28590248e-01,\n       6.28590248e-01, 9.49424157e-01, 6.28590248e-01, 7.08219101e-01,\n       2.24851970e+00, 2.59987546e+00, 6.28590248e-01, 1.69356742e-05,\n       3.78000000e-04, 1.69356742e-05, 3.78000000e-04, 1.69356742e-05,\n       3.78000000e-04, 1.55671348e-05, 3.79000168e+01, 1.37014340e+00,\n       6.29132407e-01, 6.29093120e-01, 1.47594038e+00, 3.24991635e-01,\n       9.44168743e-01, 9.43155142e-01, 6.28747395e-01, 7.85737810e+00,\n       6.28590248e-01, 1.66579035e+00, 3.84901685e-04, 1.17860671e-03,\n       3.47217538e+00, 4.40013173e+00, 4.61354200e-01, 6.28904543e-01,\n       2.13791401e+00, 1.19783110e+00, 6.28590248e-01, 6.28590248e-01,\n       4.29536669e-01, 6.28852160e-01, 4.29536669e-01, 2.61524973e+01,\n       2.61524973e+01, 2.61524973e+01, 6.28590248e-01, 3.15342774e+00,\n       9.04415444e-03, 6.88546348e+00, 1.59948034e+00, 1.59948034e+00,\n       1.59682879e+00, 2.10839646e+01, 6.28590248e-01, 1.39958042e-01,\n       6.28590248e-01, 6.28590248e-01, 2.22387640e-02, 4.85144353e-01,\n       3.37702857e+00, 6.28747395e-01, 7.57613163e-01, 2.99475173e+00,\n       1.15903753e+00, 1.67628335e-01, 1.26766075e-01, 2.73707865e-05,\n       1.73124231e-05, 1.79053340e+00, 1.98060529e+00, 7.77519809e+00,\n       2.05383539e-01, 9.90860199e-01, 4.32403901e+00, 5.15967828e-01,\n       5.15967828e-01, 5.15967828e-01, 3.44107638e+00, 3.38556129e+00,\n       2.05383539e-01, 5.50016467e-07, 1.56523493e+01, 1.19022606e+01,\n       3.36102468e+00, 4.29536669e-01, 3.40486384e-01, 5.76207727e-02,\n       2.05280899e-01, 2.22625713e-04, 4.31729863e-04, 4.77397837e-02,\n       4.77397837e-02, 3.74273110e-02, 4.36608310e-02, 3.14295124e+00,\n       6.28590248e-01, 6.28590248e-01, 6.28590248e-01, 4.10272442e-01,\n       6.29585516e-01, 8.58039486e-01, 6.97266239e-01, 1.82081642e+00,\n       3.21497721e+00, 8.95741103e-03, 1.03727867e+00, 5.18875058e+00,\n       3.64660918e+00, 3.76997001e+00, 1.75519445e-01, 2.05294317e-01,\n       4.45251426e-01, 4.29536669e-01, 1.54528436e-04, 3.55767266e-01,\n       3.55962365e-01, 3.55767266e-01, 1.30956302e+02, 6.11042103e+01,\n       6.11042103e+01, 6.26337799e+00, 8.56657334e-06, 4.29536669e-01,\n       6.28590248e-01, 2.05280899e-01, 2.00550957e+00, 1.00050614e-04,\n       7.05545409e-02, 6.28904543e-01, 4.29536669e-01, 6.28590248e-01,\n       2.05280899e-01, 1.39958042e-01, 4.29536669e-01, 6.28590248e-01,\n       1.38080324e-03, 2.05280899e-01, 4.29536669e-01, 6.28590248e-01,\n       2.80265631e-01, 1.19696524e+00, 1.51912296e+00, 2.05280899e-01,\n       1.39958042e-01, 6.28590248e-01, 2.43840634e-05, 1.39958042e-01,\n       8.69549843e-05, 2.46318327e-02, 3.62413667e-04, 3.19443449e-02,\n       4.29536669e-01, 2.05280899e-01, 8.62327404e-03, 2.12149209e-03,\n       2.69832840e+00, 7.54308297e-02, 3.87149656e-01, 3.87149656e-01,\n       3.87149656e-01, 3.87149656e-01, 1.18406697e-01, 2.75463227e-01,\n       2.75463227e-01, 1.36623374e-01, 1.36623374e-01, 4.27000000e-01,\n       6.02398987e-04, 3.35248132e-01, 1.07000000e+00, 2.88103864e+00,\n       2.05332219e-01, 1.83405611e-07, 2.79916085e-01, 3.38741700e+00,\n       4.30541853e-01, 4.60245922e-01, 4.59067315e-01, 4.60245922e-01,\n       6.28590248e-01, 6.28590248e-01, 1.72863366e+00, 2.05280899e-01,\n       1.17860671e+00, 1.54405337e+00, 6.36514236e+00, 2.05280899e-01,\n       6.28590248e-01, 2.67150855e+00, 1.36398846e-01, 6.28590248e-01,\n       2.05280899e-01, 2.22625713e-05, 2.72389107e-02, 3.42134831e-05,\n       2.88103864e-01, 6.44305004e+00, 4.29536669e-01, 2.35377765e+00,\n       1.25378730e-02, 2.53006888e-01, 1.17860671e-06, 2.53006888e-01,\n       8.55337079e-07, 4.76026156e-03, 6.15842697e-06, 8.55337079e-06,\n       2.05280899e-06, 6.57402049e-03, 2.66941325e+00, 6.28590248e-01,\n       2.05280899e-01, 4.29536669e-01, 6.28590248e-01, 6.28590248e-01,\n       2.05280899e-01, 2.05280899e-01, 4.29536669e-01, 6.28590248e-01,\n       6.09633668e-03, 1.19702781e-02, 7.46452229e+00, 6.28904543e-01,\n       1.00350544e+01, 4.29536669e-01, 2.82865612e-01, 9.16694111e-01,\n       7.85737810e-07, 3.87175153e-04, 1.91184174e+00, 6.41685878e+00,\n       3.68365786e-03, 4.79287564e-01, 2.41249817e-01, 3.09056872e-04,\n       2.22625713e-05, 2.48816973e-05, 6.28590248e-01, 5.10417020e-02,\n       1.39958042e-01, 1.84808722e-04, 1.35196808e-04, 9.30358783e-03,\n       1.28031025e-04, 1.19476378e-03, 3.30266844e-07, 1.14031668e+00,\n       1.18819258e+00, 8.70610971e-02, 6.01745818e-06, 1.39958042e-01,\n       2.04900853e-01, 7.21937945e-05, 1.57051391e-06, 4.61765231e-04,\n       4.40551421e-02, 2.28808226e+00, 1.00725653e+00, 3.35417468e+00,\n       4.82120907e+00, 6.42091074e+00, 4.79862844e-01, 1.52759083e-03,\n       7.83627634e-06, 1.39958042e-01, 1.39958042e-01, 6.14548921e+00,\n       1.13520842e+01, 1.39958042e-01, 1.39958042e-01, 3.07207903e-01,\n       1.24616864e-03, 1.66611041e-01, 3.84093075e-04, 1.53637230e-04,\n       7.84613641e-06, 1.35712887e-06, 1.55344310e-06, 3.84093075e-03,\n       6.04306439e-03, 2.60329751e-03, 6.40155126e-04, 1.24616864e-03,\n       1.93932129e-01, 1.39958042e-01, 4.92492677e-02, 7.68186151e-07,\n       1.39958042e-01, 1.09253141e-05, 2.39068066e-05, 2.56062050e-03,\n       6.96488777e-02, 1.39958042e-01, 4.16527602e-02, 1.10458139e+03,\n       1.39958042e-01, 7.71600311e-01, 3.12624911e-05, 1.39958042e-01,\n       1.87748593e-02, 1.04755181e+00, 2.90203657e-05, 1.70708033e-07,\n       1.70708033e-04, 1.70708033e-07, 6.76118124e-05, 1.39958042e-01,\n       7.12224643e-04, 1.46168754e-03, 3.64461652e-03, 9.13287979e-03,\n       3.07684160e-01, 1.55105940e-03, 7.35682022e-02, 1.22613670e-03,\n       1.22613670e-02, 1.00996424e-01, 1.91192998e-04, 1.62000000e-03,\n       4.29541393e-01, 6.28598379e-01, 6.28593577e-01, 1.62847214e-04,\n       1.62847214e-04, 1.38000000e-03, 1.38000000e-03, 4.06990721e+00,\n       4.06990721e+00, 4.06990721e+00, 2.39164363e+00, 2.39164363e+00,\n       1.39960692e-01, 1.39959127e-01, 1.17786879e-05, 1.17786879e-05,\n       1.32921889e+01, 6.32961377e+00, 6.90066443e+00, 4.78352860e+00,\n       9.45445289e-02, 1.92106436e-02, 5.59968801e-01, 1.41130348e+00,\n       3.36891799e+00, 7.44499837e+01, 1.17504290e+01, 3.05115534e-04,\n       3.26473621e-01, 1.85211056e-02, 9.57813006e-01, 5.41761759e-01,\n       6.25008078e-01, 1.06581454e+00, 2.80037546e-01, 2.95284494e+00,\n       4.27763484e+01, 3.04861289e+00, 1.05125891e+00, 1.01823507e+00,\n       1.47506486e+01, 1.47506486e+01, 1.05125891e+00, 1.01823507e+00,\n       2.05287115e-01, 2.05287115e-01, 4.41537978e+01, 6.34817460e-03,\n       2.03467135e-01, 1.86787998e-01, 5.27075044e-01, 3.17738777e-02,\n       2.13406641e-01, 2.05259331e-01, 8.43029395e-05, 1.22604315e+00,\n       1.12844768e-03, 2.80008968e-01, 2.88847635e-01, 1.83424044e-03,\n       1.62820248e-01, 3.72048485e-05, 3.30256737e-03, 1.39811679e-04,\n       3.40593864e-04, 1.36480298e-01, 4.57080243e-01, 1.04291548e-01,\n       3.32184252e-01, 1.01930510e+00, 3.83142976e+00, 4.84269933e-03,\n       5.86821212e+01, 7.05468263e-01, 3.82678468e-01, 1.03423621e-01,\n       1.75303038e-01, 5.51157298e-02, 4.93444492e-01, 1.14774756e-02,\n       6.65910140e-01, 2.27123499e-01, 2.85511651e-02, 7.67029767e-03,\n       3.79679735e-01, 3.76319737e-01, 7.60241893e-03, 5.37312889e-05,\n       8.28277074e-02, 3.28921569e-02, 3.37645367e-01, 5.07797363e-01,\n       7.47987253e+00, 7.98446711e-01, 2.24708985e-01, 1.85834330e-01,\n       7.51477295e-01, 7.51477295e-01, 4.69313406e-01, 7.51477295e-01,\n       7.51477295e-01, 7.51477295e-01, 7.51477295e-01, 7.51477295e-01,\n       5.38414767e-01, 7.51477295e-01, 7.81447365e+00, 4.69420679e-04,\n       3.71394596e-01, 4.47852177e+00, 3.11952206e+00, 4.89548759e+00,\n       3.69864125e+00, 4.01522641e+00, 4.01522641e+00, 2.62793924e-01,\n       1.42240037e-01, 6.19093897e+00, 3.05267497e-03, 6.19093897e+00,\n       3.05267497e-03, 7.83857361e-05, 1.98922293e-01, 1.60468913e+00,\n       2.51425946e-04, 1.62790618e-01, 3.26978580e-01, 1.34685886e-02,\n       3.75106485e+01, 3.38602834e+00, 3.75106485e+01, 3.38602834e+00,\n       1.34685886e-02, 3.19054027e-04, 1.19495890e-05, 1.19167336e-02,\n       5.04819110e-02, 3.13712895e-04, 1.32895699e-03, 8.99795938e+02,\n       5.39225537e+03, 7.05924430e-03, 2.02953274e-01, 1.58121782e+00,\n       1.03783106e+00, 5.89425391e-02, 5.38448060e-01, 1.06290457e+00,\n       7.84001921e-01, 8.01570592e-01, 9.78512166e-04, 2.31564136e-03,\n       3.47435531e-03, 4.31578449e-01, 5.93143714e-01, 4.55741131e-04,\n       9.81596281e-05, 4.55741131e-04, 9.81596281e-05, 1.93712714e-01,\n       2.65999638e-02, 2.45117669e-03, 2.37617128e-03, 2.36309816e-03,\n       2.43769090e-03, 5.60937441e-04, 3.73264198e-02, 4.20498248e-04,\n       1.56559790e-05, 1.38973622e-03, 2.90710543e-06, 1.19334884e-06,\n       8.90170257e-04, 1.16491416e-03, 3.90136347e-03, 9.37623113e-01,\n       1.18509985e-03, 5.15866992e+00, 2.04597222e-02, 1.21838795e+00,\n       4.83434840e-01, 2.47357493e-02, 5.64175898e+00, 2.88670001e-01,\n       6.22591311e-02, 1.21670131e+00, 1.65915600e+00, 8.48997287e-02,\n       7.85510017e-02, 1.53519873e+00, 4.19504967e+00, 1.43796320e+00,\n       7.91895616e+01, 3.95373971e+02, 1.05586082e+02, 5.03756001e-02,\n       8.45929889e-04, 1.42252356e-01, 8.87253366e-03, 1.73404567e-01,\n       2.64334302e-03, 2.56245737e-03, 4.61868258e-05, 3.33918268e-05,\n       1.04232431e-04, 4.68990257e-01, 9.14137845e-02, 4.68990257e-01,\n       6.29729900e-01, 4.05071965e+00, 1.48275803e+00, 1.98814025e+00,\n       4.06579328e+00, 3.96487777e+00, 4.02991925e+00, 4.09548567e+00,\n       4.04249979e+00, 4.04493638e+00, 4.04154893e+00, 5.52977448e-02,\n       1.39147576e-01, 1.98205250e-01, 4.29536669e-01, 4.29536669e-01,\n       4.29536669e-01, 8.59073339e-01, 1.39958042e-01, 1.39958042e-01,\n       4.29536669e-01, 1.39958042e-01, 1.71814668e+00, 4.29536669e-01,\n       4.29536669e-01, 1.39958042e-01, 1.39958042e-01, 4.29536669e-01,\n       1.39958042e-01, 4.23776645e-01, 1.39958042e-01, 1.39958042e-01,\n       3.87788290e-01, 4.29536669e-01, 1.39958042e-01, 4.29536669e-01,\n       2.96311183e-01, 7.71297117e-02, 1.39958042e-01, 1.39958042e-01,\n       2.22628227e+00, 2.96311183e+02, 4.19874127e-01, 4.29536669e-01,\n       1.39958042e-01, 1.39958042e-01, 4.29536669e-01, 1.39958042e-01,\n       1.39958042e-01, 1.39958042e-01, 1.39958042e-01, 1.39074771e-01,\n       1.39958042e-01, 1.39958042e-01, 4.29536669e-01, 1.39958042e-01,\n       4.29536669e-01, 4.29536669e-01, 9.92782348e-02, 1.21341808e+03,\n       4.26701349e+01, 1.99098849e+01, 1.58675700e+00, 1.39958042e-01,\n       1.39958042e-01, 4.29536669e-01, 4.29536669e-01, 1.39958042e-01,\n       2.21456211e+00, 3.20586219e-01, 1.39958042e-01, 4.19874127e-01,\n       1.39958042e-01, 2.80246485e+00, 1.39958042e-01, 1.36271615e-01,\n       3.33070431e-01, 1.39958042e-01, 3.67320216e-03, 1.39958042e-01,\n       1.39958042e-01, 1.39958042e-01, 3.07218138e-01, 1.39958042e-01,\n       1.39958042e-01, 1.39958042e-01, 1.39958042e-01, 1.39958042e-01,\n       1.39958042e-01, 2.32090476e+00, 1.06706349e-01, 1.25245137e-01,\n       1.39958042e-01, 1.39958042e-01, 8.59073339e-01, 1.39958042e-01,\n       1.39958042e-01, 1.39958042e-01, 1.39958042e-01, 2.04816647e-01,\n       2.04816647e-01, 9.37398678e-02, 8.40161752e-02, 6.00116033e-02,\n       4.29536669e-01, 1.39958042e-01, 1.39958042e-01, 8.59839554e-02,\n       1.39958042e-01, 1.39958042e-01, 1.39958042e-01, 1.39958042e-01,\n       8.11576914e-03, 3.78218071e-01, 1.39958042e-01, 1.39958042e-01,\n       4.36908012e-02, 5.89766635e-01, 5.93429782e-01, 1.04243626e-01,\n       1.43600913e-01, 1.39958042e-01, 1.12789487e-01, 1.35951613e-01,\n       3.32491799e-02, 3.90316460e-02, 1.74984095e-01, 1.95475159e-01,\n       2.62899861e-02, 1.37967680e-01, 2.43035841e+02, 3.24047788e+02,\n       3.64643581e-01, 1.39958042e-01, 1.39958042e-01, 1.39958042e-01,\n       1.39958042e-01, 1.39958042e-01, 8.79942790e-01, 2.41128963e-02])"
     },
     "execution_count": 118,
     "metadata": {},
     "output_type": "execute_result"
    }
   ],
   "source": [
    "data.getrow(23293).data"
   ]
  },
  {
   "cell_type": "code",
   "execution_count": 119,
   "metadata": {},
   "outputs": [
    {
     "data": {
      "text/plain": "array([2.03885866e+00, 1.56243963e+00, 2.46878820e-01, 3.14295124e-01,\n       3.14295124e-01, 2.48816973e+00, 6.90676630e-01, 3.14295124e-01,\n       3.14295124e-01, 8.30158187e-01, 6.77803626e-01, 3.14295124e-01,\n       2.99000000e+00, 2.14768335e-01, 2.36336838e+00, 3.14295124e-01,\n       1.02145915e+00, 4.87812224e+00, 7.35948224e-01, 7.22136263e-01,\n       1.03028692e+00, 3.14295124e-01, 2.14768335e-01, 1.43960262e+00,\n       3.14295124e-01, 2.14768335e-01, 6.02398987e-06, 2.40959595e-06,\n       3.07747309e-06, 1.84551645e+00, 2.14768335e-01, 5.65731223e-03,\n       2.14768335e-01, 7.92167764e-01, 3.14295124e-01, 3.14452271e-01,\n       7.18483146e-06, 1.93574828e-01, 1.93574828e-01, 1.93574828e-01,\n       1.93574828e-01, 3.27390754e-06, 1.83340001e+00, 1.83340001e+00,\n       3.14295124e-06, 3.14297704e-01, 1.02640449e-01, 3.14295124e-01,\n       1.02640449e-01, 2.14768335e-01, 4.61081423e-02, 1.06582715e+00,\n       3.92872048e+00, 1.02640449e-01, 7.50000000e-03, 1.10003293e-02,\n       4.09137662e-04, 7.70023054e-01, 8.12997893e-04, 1.83338822e-03,\n       2.13834270e-06, 3.14295124e-01, 3.14295124e-01, 1.16061836e-01,\n       1.74983810e+00, 1.82330459e+00, 1.82330459e+00, 4.77623823e-01,\n       3.14295124e-01, 4.70435393e-07, 1.82330459e+00, 2.14768335e-01,\n       3.14295124e-01, 3.91559342e-02, 5.10000000e+00, 2.14768335e-01,\n       1.02640449e-01, 1.02640449e-01, 1.02640449e-01, 3.14295124e-01,\n       2.21787832e-01, 1.92450843e-04, 6.41685878e+00, 5.24947461e-01,\n       2.14768335e-01, 2.61932247e+00, 3.14295124e-01, 2.48816973e-01,\n       5.56610604e-01, 8.56585169e-01, 2.14768335e-01, 2.14768335e-01,\n       1.02640449e-01, 1.83348644e+00, 5.50000000e-05, 1.25000000e-06,\n       1.93574828e-01, 1.93574828e-01, 1.93574828e-01, 1.93574828e-01,\n       6.83116871e-02, 1.37504117e-03, 4.71442686e-03, 1.29646739e-03,\n       3.52500000e-04, 2.36971138e-04, 2.13834270e-01, 6.61329323e-04,\n       2.61912603e-04, 2.21532303e-05, 5.52297726e-02, 3.14452271e-01,\n       3.14295124e-01, 3.14295124e-01, 3.14295124e-01, 3.14295124e-01,\n       3.14295124e-01, 6.29035499e-01, 1.34151635e+00, 2.14768335e-01,\n       1.93574828e-01, 1.93574828e-01, 1.93574828e-01, 1.93574828e-01,\n       3.92868905e-03, 5.68350349e-03, 3.14373698e-01, 2.14768335e-01,\n       1.02640449e-01, 2.00440799e-01, 3.14452271e-01, 3.14452271e-01,\n       3.14295124e-01, 3.14295124e-01, 2.05280899e-01, 2.07696694e+00,\n       1.04765041e-01, 3.14373698e-01, 2.14768335e-01, 2.46616907e+00,\n       2.36271359e+00, 2.14768335e-01, 3.43930535e+00, 3.14373698e-01,\n       6.14027907e-01, 3.14373698e-01, 3.14295124e-01, 3.14295124e-01,\n       6.99790212e-02, 1.02640449e-01, 2.14768335e-01, 1.13624235e+00,\n       3.90249779e+00, 2.03951344e+00, 3.14295124e-01, 2.14768335e-01,\n       1.42794751e+00, 3.14452271e-01, 2.14768335e-01, 1.19694060e-03,\n       2.70500000e-02, 3.73239567e+01, 3.68845000e+01, 3.68845000e+01,\n       5.02897211e+00, 2.34411780e-03, 1.92450843e-04, 2.14768335e-01,\n       2.14768335e-01, 3.14452271e-01, 3.14295124e-01, 3.14295124e-01,\n       3.14295124e-01, 3.14295124e-01, 3.14295124e-01, 1.20249183e-05,\n       3.50429630e-01, 3.75848165e-01, 3.14452271e-01, 3.14452271e-01,\n       5.72279038e-01, 2.57983914e-01, 3.14296041e-01, 3.14373698e-01,\n       3.14373698e-01, 3.14373698e-01, 3.14373698e-01, 2.88103864e-07,\n       4.27668539e-02, 9.75624447e-02, 4.03500000e+02, 3.60000000e+02,\n       6.65000000e+02, 6.67877138e-07, 9.16694111e-03, 3.14295124e-01,\n       3.05782964e-02, 8.77407221e-02, 4.73799899e-02, 6.89995658e-01,\n       4.91740913e+00, 7.61772807e-01, 7.30000000e-02, 9.76000000e+00,\n       1.53960674e-05, 2.75008233e-02, 2.25000000e-02, 1.67624066e-02,\n       9.00000000e-03, 3.20751404e+00, 2.56601124e+01, 3.20751404e-05,\n       3.14295124e-01, 3.14295124e-01, 1.25137913e+00, 5.55972500e-04,\n       7.95000000e-05, 9.10000000e-05, 5.89303357e-02, 2.25000000e-01,\n       3.54000000e-01, 1.52500000e-01, 2.31792654e-02, 3.75000000e-02,\n       6.92758836e-03, 7.30000000e-02, 2.23196142e-01, 3.84901685e-03,\n       8.41564481e-01, 9.58648886e-01, 9.33751798e-01, 2.22628227e+00,\n       5.23825207e-01, 3.14295124e-01, 3.53189145e+00, 3.14295124e-01,\n       5.56610604e-01, 1.44051932e-01, 2.88500000e+00, 6.49628511e-06,\n       3.14295124e-01, 3.14295124e-01, 2.14768335e-01, 3.14295124e-01,\n       3.14295124e-01, 1.09470301e+00, 9.91339203e-05, 2.00363141e-04,\n       1.34916420e+00, 5.75291033e-01, 2.08230734e+00, 4.97324711e-03,\n       6.40000000e-04, 3.66795505e-05, 1.40045000e-03, 2.80802986e-07,\n       1.59819733e-03, 7.47760482e-06, 1.02640449e-01, 3.44415073e-05,\n       5.89303357e-02, 1.50000000e-01, 1.42794751e+00, 6.99790212e-02,\n       9.41078175e-01, 2.14768335e-01, 1.02640449e-01, 3.27259798e-01,\n       1.46815110e+00, 1.36246936e+00, 3.14295124e-01, 4.08000000e+00,\n       1.06860342e-01, 1.02640449e-01, 3.14373698e-01, 3.92868905e+00,\n       3.14295124e-01, 8.52860641e-01, 1.02640449e-01, 3.14295124e-01,\n       5.78719291e-01, 1.04765041e-01, 3.16875780e+00, 1.73032561e+00,\n       2.44000000e+00, 3.14295124e-01, 2.14768335e-01, 1.77563649e+00,\n       2.14768335e-01, 2.61912603e-05, 1.57160658e+00, 1.82330459e+00,\n       3.14295124e-01, 3.14295124e-01, 3.14295124e-01, 3.14373698e-01,\n       6.47058824e+04, 3.51632516e+00, 2.23789627e+00, 5.50179586e+00,\n       6.49590793e+00, 3.14295124e-01, 1.15465481e+00, 3.14295124e-01,\n       3.14295124e-01, 4.74712079e-01, 3.14295124e-01, 3.54109551e-01,\n       1.12425985e+00, 1.29993773e+00, 3.14295124e-01, 8.46783708e-06,\n       1.89000000e-04, 8.46783708e-06, 1.89000000e-04, 8.46783708e-06,\n       1.89000000e-04, 7.78356742e-06, 1.89500084e+01, 6.85071701e-01,\n       3.14566203e-01, 3.14546560e-01, 7.37970189e-01, 1.62495817e-01,\n       4.72084372e-01, 4.71577571e-01, 3.14373698e-01, 3.92868905e+00,\n       3.14295124e-01, 8.32895174e-01, 1.92450843e-04, 5.89303357e-04,\n       1.73608769e+00, 2.20006587e+00, 2.30677100e-01, 3.14452271e-01,\n       1.06895700e+00, 5.98915550e-01, 3.14295124e-01, 3.14295124e-01,\n       2.14768335e-01, 3.14426080e-01, 2.14768335e-01, 1.30762486e+01,\n       1.30762486e+01, 1.30762486e+01, 3.14295124e-01, 1.57671387e+00,\n       4.52207722e-03, 3.44273174e+00, 7.99740169e-01, 7.99740169e-01,\n       7.98414396e-01, 1.05419823e+01, 3.14295124e-01, 6.99790212e-02,\n       3.14295124e-01, 3.14295124e-01, 1.11193820e-02, 2.42572176e-01,\n       1.68851429e+00, 3.14373698e-01, 3.78806582e-01, 1.49737586e+00,\n       5.79518766e-01, 8.38141676e-02, 6.33830373e-02, 1.36853933e-05,\n       8.65621154e-06, 8.95266700e-01, 9.90302645e-01, 3.88759905e+00,\n       1.02691770e-01, 4.95430100e-01, 2.16201950e+00, 2.57983914e-01,\n       2.57983914e-01, 2.57983914e-01, 1.72053819e+00, 1.69278064e+00,\n       1.02691770e-01, 2.75008233e-07, 7.82617465e+00, 5.95113030e+00,\n       1.68051234e+00, 2.14768335e-01, 1.70243192e-01, 2.88103864e-02,\n       1.02640449e-01, 1.11312856e-04, 2.15864931e-04, 2.38698919e-02,\n       2.38698919e-02, 1.87136555e-02, 2.18304155e-02, 1.57147562e+00,\n       3.14295124e-01, 3.14295124e-01, 3.14295124e-01, 2.05136221e-01,\n       3.14792758e-01, 4.29019743e-01, 3.48633119e-01, 9.10408209e-01,\n       1.60748860e+00, 4.47870552e-03, 5.18639337e-01, 2.59437529e+00,\n       1.82330459e+00, 1.88498501e+00, 8.77597226e-02, 1.02647159e-01,\n       2.22625713e-01, 2.14768335e-01, 7.72642180e-05, 1.77883633e-01,\n       1.77981182e-01, 1.77883633e-01, 6.54781508e+01, 3.05521052e+01,\n       3.05521052e+01, 3.13168900e+00, 4.28328667e-06, 2.14768335e-01,\n       3.14295124e-01, 1.02640449e-01, 1.00275478e+00, 5.00253072e-05,\n       3.52772704e-02, 3.14452271e-01, 2.14768335e-01, 3.14295124e-01,\n       1.02640449e-01, 6.99790212e-02, 2.14768335e-01, 3.14295124e-01,\n       6.90401622e-04, 1.02640449e-01, 2.14768335e-01, 3.14295124e-01,\n       1.40132816e-01, 5.98482621e-01, 7.59561478e-01, 1.02640449e-01,\n       6.99790212e-02, 3.14295124e-01, 1.21920317e-05, 6.99790212e-02,\n       4.34774921e-05, 1.23159163e-02, 1.81206833e-04, 1.59721725e-02,\n       2.14768335e-01, 1.02640449e-01, 4.31163702e-03, 1.06074604e-03,\n       1.34916420e+00, 3.77154149e-02, 1.93574828e-01, 1.93574828e-01,\n       1.93574828e-01, 1.93574828e-01, 5.92033483e-02, 1.37731614e-01,\n       1.37731614e-01, 6.83116871e-02, 6.83116871e-02, 2.13500000e-01,\n       3.01199494e-04, 1.67624066e-01, 5.35000000e-01, 1.44051932e+00,\n       1.02666110e-01, 9.17028057e-08, 1.39958042e-01, 1.69370850e+00,\n       2.15270926e-01, 2.30122961e-01, 2.29533658e-01, 2.30122961e-01,\n       3.14295124e-01, 3.14295124e-01, 8.64316829e-01, 1.02640449e-01,\n       5.89303357e-01, 7.72026685e-01, 3.18257118e+00, 1.02640449e-01,\n       3.14295124e-01, 1.33575428e+00, 6.81994228e-02, 3.14295124e-01,\n       1.02640449e-01, 1.11312856e-05, 1.36194554e-02, 1.71067416e-05,\n       1.44051932e-01, 3.22152502e+00, 2.14768335e-01, 1.17688882e+00,\n       6.26893652e-03, 1.26503444e-01, 5.89303357e-07, 1.26503444e-01,\n       4.27668539e-07, 2.38013078e-03, 3.07921348e-06, 4.27668539e-06,\n       1.02640449e-06, 3.28701024e-03, 1.33470663e+00, 3.14295124e-01,\n       1.02640449e-01, 2.14768335e-01, 3.14295124e-01, 3.14295124e-01,\n       1.02640449e-01, 1.02640449e-01, 2.14768335e-01, 3.14295124e-01,\n       3.04816834e-03, 5.98513907e-03, 3.73226114e+00, 3.14452271e-01,\n       5.01752718e+00, 2.14768335e-01, 1.41432806e-01, 4.58347056e-01,\n       3.92868905e-07, 1.93587576e-04, 9.55920868e-01, 3.20842939e+00,\n       1.84182893e-03, 2.39643782e-01, 1.20624909e-01, 1.54528436e-04,\n       1.11312856e-05, 1.24408487e-05, 3.14295124e-01, 2.55208510e-02,\n       6.99790212e-02, 9.24043608e-05, 6.75984038e-05, 4.65179391e-03,\n       6.40155126e-05, 5.97381888e-04, 1.65133422e-07, 5.70158342e-01,\n       5.94096288e-01, 4.35305485e-02, 3.00872909e-06, 6.99790212e-02,\n       1.02450426e-01, 3.60968972e-05, 7.85256954e-07, 2.30882615e-04,\n       2.20275711e-02, 1.14404113e+00, 5.03628264e-01, 1.67708734e+00,\n       2.41060453e+00, 3.21045537e+00, 2.39931422e-01, 7.63795414e-04,\n       3.91813817e-06, 6.99790212e-02, 6.99790212e-02, 3.07274460e+00,\n       5.67604211e+00, 6.99790212e-02, 6.99790212e-02, 1.53603951e-01,\n       6.23084322e-04, 8.33055203e-02, 1.92046538e-04, 7.68186151e-05,\n       3.92306821e-06, 6.78564433e-07, 7.76721552e-07, 1.92046538e-03,\n       3.02153219e-03, 1.30164876e-03, 3.20077563e-04, 6.23084322e-04,\n       9.69660646e-02, 6.99790212e-02, 2.46246338e-02, 3.84093075e-07,\n       6.99790212e-02, 5.46265707e-06, 1.19534033e-05, 1.28031025e-03,\n       3.48244388e-02, 6.99790212e-02, 2.08263801e-02, 5.52290697e+02,\n       6.99790212e-02, 3.85800156e-01, 1.56312455e-05, 6.99790212e-02,\n       9.38742967e-03, 5.23775905e-01, 1.45101828e-05, 8.53540167e-08,\n       8.53540167e-05, 8.53540167e-08, 3.38059062e-05, 6.99790212e-02,\n       3.56112322e-04, 7.30843768e-04, 1.82230826e-03, 4.56643990e-03,\n       1.53842080e-01, 7.75529701e-04, 3.67841011e-02, 6.13068352e-04,\n       6.13068352e-03, 5.04982122e-02, 9.55964988e-05, 8.10000000e-04,\n       2.14770697e-01, 3.14299189e-01, 3.14296788e-01, 8.14236072e-05,\n       8.14236072e-05, 6.90000000e-04, 6.90000000e-04, 2.03495361e+00,\n       2.03495361e+00, 2.03495361e+00, 1.19582181e+00, 1.19582181e+00,\n       6.99803458e-02, 6.99795635e-02, 5.88934394e-06, 5.88934394e-06,\n       6.64609446e+00, 3.16480689e+00, 3.45033221e+00, 2.39176430e+00,\n       4.72722644e-02, 9.60532181e-03, 2.79984401e-01, 7.05651741e-01,\n       1.68445900e+00, 3.72249918e+01, 5.87521449e+00, 1.52557767e-04,\n       1.63236811e-01, 9.26055280e-03, 4.78906503e-01, 2.70880879e-01,\n       3.12504039e-01, 5.32907270e-01, 1.40018773e-01, 1.47642247e+00,\n       2.13881742e+01, 1.52430644e+00, 5.25629455e-01, 5.09117534e-01,\n       7.37532428e+00, 7.37532428e+00, 5.25629455e-01, 5.09117534e-01,\n       1.02643557e-01, 1.02643557e-01, 2.20768989e+01, 3.17408730e-03,\n       1.01733567e-01, 9.33939990e-02, 2.63537522e-01, 1.58869389e-02,\n       1.06703321e-01, 1.02629666e-01, 4.21514698e-05, 6.13021577e-01,\n       5.64223840e-04, 1.40004484e-01, 1.44423817e-01, 9.17120222e-04,\n       8.14101239e-02, 1.86024242e-05, 1.65128369e-03, 6.99058393e-05,\n       1.70296932e-04, 6.82401490e-02, 2.28540121e-01, 5.21457742e-02,\n       1.66092126e-01, 5.09652551e-01, 1.91571488e+00, 2.42134966e-03,\n       2.93410606e+01, 3.52734131e-01, 1.91339234e-01, 5.17118105e-02,\n       8.76515189e-02, 2.75578649e-02, 2.46722246e-01, 5.73873779e-03,\n       3.32955070e-01, 1.13561749e-01, 1.42755825e-02, 3.83514883e-03,\n       1.89839867e-01, 1.88159868e-01, 3.80120946e-03, 2.68656444e-05,\n       4.14138537e-02, 1.64460784e-02, 1.68822684e-01, 2.53898681e-01,\n       3.73993627e+00, 3.99223355e-01, 1.12354492e-01, 9.29171652e-02,\n       3.75738647e-01, 3.75738647e-01, 2.34656703e-01, 3.75738647e-01,\n       3.75738647e-01, 3.75738647e-01, 3.75738647e-01, 3.75738647e-01,\n       2.69207383e-01, 3.75738647e-01, 3.90723683e+00, 2.34710339e-04,\n       1.85697298e-01, 2.23926088e+00, 1.55976103e+00, 2.44774379e+00,\n       1.84932063e+00, 2.00761321e+00, 2.00761321e+00, 1.31396962e-01,\n       7.11200183e-02, 3.09546948e+00, 1.52633749e-03, 3.09546948e+00,\n       1.52633749e-03, 3.91928681e-05, 9.94611463e-02, 8.02344563e-01,\n       1.25712973e-04, 8.13953089e-02, 1.63489290e-01, 6.73429429e-03,\n       1.87553243e+01, 1.69301417e+00, 1.87553243e+01, 1.69301417e+00,\n       6.73429429e-03, 1.59527013e-04, 5.97479451e-06, 5.95836682e-03,\n       2.52409555e-02, 1.56856448e-04, 6.64478495e-04, 4.49897969e+02,\n       2.69612769e+03, 3.52962215e-03, 1.01476637e-01, 7.90608908e-01,\n       5.18915529e-01, 2.94712695e-02, 2.69224030e-01, 5.31452283e-01,\n       3.92000961e-01, 4.00785296e-01, 4.89256083e-04, 1.15782068e-03,\n       1.73717766e-03, 2.15789224e-01, 2.96571857e-01, 2.27870565e-04,\n       4.90798141e-05, 2.27870565e-04, 4.90798141e-05, 9.68563568e-02,\n       1.32999819e-02, 1.22558834e-03, 1.18808564e-03, 1.18154908e-03,\n       1.21884545e-03, 2.80468720e-04, 1.86632099e-02, 2.10249124e-04,\n       7.82798948e-06, 6.94868108e-04, 1.45355272e-06, 5.96674418e-07,\n       4.45085128e-04, 5.82457082e-04, 1.95068174e-03, 4.68811557e-01,\n       5.92549923e-04, 2.57933496e+00, 1.02298611e-02, 6.09193976e-01,\n       2.41717420e-01, 1.23678746e-02, 2.82087949e+00, 1.44335001e-01,\n       3.11295656e-02, 6.08350655e-01, 8.29578002e-01, 4.24498644e-02,\n       3.92755009e-02, 7.67599366e-01, 2.09752484e+00, 7.18981601e-01,\n       3.95947808e+01, 1.97686985e+02, 5.27930411e+01, 2.51878001e-02,\n       4.22964944e-04, 7.11261780e-02, 4.43626683e-03, 8.67022834e-02,\n       1.32167151e-03, 1.28122869e-03, 2.30934129e-05, 1.66959134e-05,\n       5.21162156e-05, 2.34495128e-01, 4.57068922e-02, 2.34495128e-01,\n       3.14864950e-01, 2.02535982e+00, 7.41379017e-01, 9.94070125e-01,\n       2.03289664e+00, 1.98243889e+00, 2.01495962e+00, 2.04774283e+00,\n       2.02124989e+00, 2.02246819e+00, 2.02077447e+00, 2.76488724e-02,\n       6.95737881e-02, 9.91026251e-02, 2.14768335e-01, 2.14768335e-01,\n       2.14768335e-01, 4.29536669e-01, 6.99790212e-02, 6.99790212e-02,\n       2.14768335e-01, 6.99790212e-02, 8.59073339e-01, 2.14768335e-01,\n       2.14768335e-01, 6.99790212e-02, 6.99790212e-02, 2.14768335e-01,\n       6.99790212e-02, 2.11888322e-01, 6.99790212e-02, 6.99790212e-02,\n       1.93894145e-01, 2.14768335e-01, 6.99790212e-02, 2.14768335e-01,\n       1.48155591e-01, 3.85648559e-02, 6.99790212e-02, 6.99790212e-02,\n       1.11314114e+00, 1.48155591e+02, 2.09937063e-01, 2.14768335e-01,\n       6.99790212e-02, 6.99790212e-02, 2.14768335e-01, 6.99790212e-02,\n       6.99790212e-02, 6.99790212e-02, 6.99790212e-02, 6.95373856e-02,\n       6.99790212e-02, 6.99790212e-02, 2.14768335e-01, 6.99790212e-02,\n       2.14768335e-01, 2.14768335e-01, 4.96391174e-02, 6.06709038e+02,\n       2.13350674e+01, 9.95494246e+00, 7.93378502e-01, 6.99790212e-02,\n       6.99790212e-02, 2.14768335e-01, 2.14768335e-01, 6.99790212e-02,\n       1.10728105e+00, 1.60293109e-01, 6.99790212e-02, 2.09937063e-01,\n       6.99790212e-02, 1.40123243e+00, 6.99790212e-02, 6.81358077e-02,\n       1.66535216e-01, 6.99790212e-02, 1.83660108e-03, 6.99790212e-02,\n       6.99790212e-02, 6.99790212e-02, 1.53609069e-01, 6.99790212e-02,\n       6.99790212e-02, 6.99790212e-02, 6.99790212e-02, 6.99790212e-02,\n       6.99790212e-02, 1.16045238e+00, 5.33531747e-02, 6.26225685e-02,\n       6.99790212e-02, 6.99790212e-02, 4.29536669e-01, 6.99790212e-02,\n       6.99790212e-02, 6.99790212e-02, 6.99790212e-02, 1.02408324e-01,\n       1.02408324e-01, 4.68699339e-02, 4.20080876e-02, 3.00058017e-02,\n       2.14768335e-01, 6.99790212e-02, 6.99790212e-02, 4.29919777e-02,\n       6.99790212e-02, 6.99790212e-02, 6.99790212e-02, 6.99790212e-02,\n       4.05788457e-03, 1.89109035e-01, 6.99790212e-02, 6.99790212e-02,\n       2.18454006e-02, 2.94883318e-01, 2.96714891e-01, 5.21218128e-02,\n       7.18004564e-02, 6.99790212e-02, 5.63947433e-02, 6.79758067e-02,\n       1.66245899e-02, 1.95158230e-02, 8.74920474e-02, 9.77375793e-02,\n       1.31449930e-02, 6.89838400e-02, 1.21517921e+02, 1.62023894e+02,\n       1.82321790e-01, 6.99790212e-02, 6.99790212e-02, 6.99790212e-02,\n       6.99790212e-02, 6.99790212e-02, 4.39971395e-01, 1.20564482e-02])"
     },
     "execution_count": 119,
     "metadata": {},
     "output_type": "execute_result"
    }
   ],
   "source": [
    "data.getrow(23293).data / 2"
   ]
  },
  {
   "cell_type": "code",
   "execution_count": 121,
   "metadata": {},
   "outputs": [
    {
     "data": {
      "text/plain": "0      17714\n1      17715\n2      17716\n3      17717\n4      17718\n       ...  \n444    41079\n445    41082\n446    41494\n447    41497\n448    41498\nName: index, Length: 449, dtype: int64"
     },
     "execution_count": 121,
     "metadata": {},
     "output_type": "execute_result"
    }
   ],
   "source": [
    "merged_df['index']"
   ]
  },
  {
   "cell_type": "code",
   "execution_count": 123,
   "metadata": {},
   "outputs": [
    {
     "data": {
      "text/plain": "array([4.07771732e+00, 3.12487927e+00, 4.93757640e-01, 6.28590248e-01,\n       6.28590248e-01, 4.97633946e+00, 1.38135326e+00, 6.28590248e-01,\n       6.28590248e-01, 1.66031637e+00, 1.35560725e+00, 6.28590248e-01,\n       5.98000000e+00, 4.29536669e-01, 4.72673675e+00, 6.28590248e-01,\n       2.04291831e+00, 9.75624447e+00, 1.47189645e+00, 1.44427253e+00,\n       2.06057385e+00, 6.28590248e-01, 4.29536669e-01, 2.87920525e+00,\n       6.28590248e-01, 4.29536669e-01, 1.20479797e-05, 4.81919190e-06,\n       6.15494618e-06, 3.69103289e+00, 4.29536669e-01, 1.13146245e-02,\n       4.29536669e-01, 1.58433553e+00, 6.28590248e-01, 6.28904543e-01,\n       1.43696629e-05, 3.87149656e-01, 3.87149656e-01, 3.87149656e-01,\n       3.87149656e-01, 6.54781508e-06, 3.66680002e+00, 3.66680002e+00,\n       6.28590248e-06, 6.28595408e-01, 2.05280899e-01, 6.28590248e-01,\n       2.05280899e-01, 4.29536669e-01, 9.22162847e-02, 2.13165430e+00,\n       7.85744096e+00, 2.05280899e-01, 1.50000000e-02, 2.20006587e-02,\n       8.18275323e-04, 1.54004611e+00, 1.62599579e-03, 3.66677645e-03,\n       4.27668539e-06, 6.28590248e-01, 6.28590248e-01, 2.32123672e-01,\n       3.49967620e+00, 3.64660918e+00, 3.64660918e+00, 9.55247647e-01,\n       6.28590248e-01, 9.40870787e-07, 3.64660918e+00, 4.29536669e-01,\n       6.28590248e-01, 7.83118684e-02, 1.02000000e+01, 4.29536669e-01,\n       2.05280899e-01, 2.05280899e-01, 2.05280899e-01, 6.28590248e-01,\n       4.43575664e-01, 3.84901685e-04, 1.28337176e+01, 1.04989492e+00,\n       4.29536669e-01, 5.23864493e+00, 6.28590248e-01, 4.97633946e-01,\n       1.11322121e+00, 1.71317034e+00, 4.29536669e-01, 4.29536669e-01,\n       2.05280899e-01, 3.66697288e+00, 1.10000000e-04, 2.50000000e-06,\n       3.87149656e-01, 3.87149656e-01, 3.87149656e-01, 3.87149656e-01,\n       1.36623374e-01, 2.75008233e-03, 9.42885372e-03, 2.59293477e-03,\n       7.05000000e-04, 4.73942275e-04, 4.27668539e-01, 1.32265865e-03,\n       5.23825207e-04, 4.43064607e-05, 1.10459545e-01, 6.28904543e-01,\n       6.28590248e-01, 6.28590248e-01, 6.28590248e-01, 6.28590248e-01,\n       6.28590248e-01, 1.25807100e+00, 2.68303271e+00, 4.29536669e-01,\n       3.87149656e-01, 3.87149656e-01, 3.87149656e-01, 3.87149656e-01,\n       7.85737810e-03, 1.13670070e-02, 6.28747395e-01, 4.29536669e-01,\n       2.05280899e-01, 4.00881597e-01, 6.28904543e-01, 6.28904543e-01,\n       6.28590248e-01, 6.28590248e-01, 4.10561798e-01, 4.15393389e+00,\n       2.09530083e-01, 6.28747395e-01, 4.29536669e-01, 4.93233814e+00,\n       4.72542719e+00, 4.29536669e-01, 6.87861070e+00, 6.28747395e-01,\n       1.22805581e+00, 6.28747395e-01, 6.28590248e-01, 6.28590248e-01,\n       1.39958042e-01, 2.05280899e-01, 4.29536669e-01, 2.27248470e+00,\n       7.80499558e+00, 4.07902688e+00, 6.28590248e-01, 4.29536669e-01,\n       2.85589503e+00, 6.28904543e-01, 4.29536669e-01, 2.39388119e-03,\n       5.41000000e-02, 7.46479133e+01, 7.37690000e+01, 7.37690000e+01,\n       1.00579442e+01, 4.68823560e-03, 3.84901685e-04, 4.29536669e-01,\n       4.29536669e-01, 6.28904543e-01, 6.28590248e-01, 6.28590248e-01,\n       6.28590248e-01, 6.28590248e-01, 6.28590248e-01, 2.40498365e-05,\n       7.00859261e-01, 7.51696329e-01, 6.28904543e-01, 6.28904543e-01,\n       1.14455808e+00, 5.15967828e-01, 6.28592081e-01, 6.28747395e-01,\n       6.28747395e-01, 6.28747395e-01, 6.28747395e-01, 5.76207727e-07,\n       8.55337079e-02, 1.95124889e-01, 8.07000000e+02, 7.20000000e+02,\n       1.33000000e+03, 1.33575428e-06, 1.83338822e-02, 6.28590248e-01,\n       6.11565929e-02, 1.75481444e-01, 9.47599799e-02, 1.37999132e+00,\n       9.83481825e+00, 1.52354561e+00, 1.46000000e-01, 1.95200000e+01,\n       3.07921348e-05, 5.50016467e-02, 4.50000000e-02, 3.35248132e-02,\n       1.80000000e-02, 6.41502809e+00, 5.13202247e+01, 6.41502809e-05,\n       6.28590248e-01, 6.28590248e-01, 2.50275826e+00, 1.11194500e-03,\n       1.59000000e-04, 1.82000000e-04, 1.17860671e-01, 4.50000000e-01,\n       7.08000000e-01, 3.05000000e-01, 4.63585308e-02, 7.50000000e-02,\n       1.38551767e-02, 1.46000000e-01, 4.46392283e-01, 7.69803371e-03,\n       1.68312896e+00, 1.91729777e+00, 1.86750360e+00, 4.45256454e+00,\n       1.04765041e+00, 6.28590248e-01, 7.06378291e+00, 6.28590248e-01,\n       1.11322121e+00, 2.88103864e-01, 5.77000000e+00, 1.29925702e-05,\n       6.28590248e-01, 6.28590248e-01, 4.29536669e-01, 6.28590248e-01,\n       6.28590248e-01, 2.18940602e+00, 1.98267841e-04, 4.00726283e-04,\n       2.69832840e+00, 1.15058207e+00, 4.16461468e+00, 9.94649421e-03,\n       1.28000000e-03, 7.33591010e-05, 2.80090000e-03, 5.61605972e-07,\n       3.19639466e-03, 1.49552096e-05, 2.05280899e-01, 6.88830147e-05,\n       1.17860671e-01, 3.00000000e-01, 2.85589503e+00, 1.39958042e-01,\n       1.88215635e+00, 4.29536669e-01, 2.05280899e-01, 6.54519596e-01,\n       2.93630220e+00, 2.72493872e+00, 6.28590248e-01, 8.16000000e+00,\n       2.13720684e-01, 2.05280899e-01, 6.28747395e-01, 7.85737810e+00,\n       6.28590248e-01, 1.70572128e+00, 2.05280899e-01, 6.28590248e-01,\n       1.15743858e+00, 2.09530083e-01, 6.33751560e+00, 3.46065123e+00,\n       4.88000000e+00, 6.28590248e-01, 4.29536669e-01, 3.55127299e+00,\n       4.29536669e-01, 5.23825207e-05, 3.14321315e+00, 3.64660918e+00,\n       6.28590248e-01, 6.28590248e-01, 6.28590248e-01, 6.28747395e-01,\n       1.29411765e+05, 7.03265033e+00, 4.47579254e+00, 1.10035917e+01,\n       1.29918159e+01, 6.28590248e-01, 2.30930961e+00, 6.28590248e-01,\n       6.28590248e-01, 9.49424157e-01, 6.28590248e-01, 7.08219101e-01,\n       2.24851970e+00, 2.59987546e+00, 6.28590248e-01, 1.69356742e-05,\n       3.78000000e-04, 1.69356742e-05, 3.78000000e-04, 1.69356742e-05,\n       3.78000000e-04, 1.55671348e-05, 3.79000168e+01, 1.37014340e+00,\n       6.29132407e-01, 6.29093120e-01, 1.47594038e+00, 3.24991635e-01,\n       9.44168743e-01, 9.43155142e-01, 6.28747395e-01, 7.85737810e+00,\n       6.28590248e-01, 1.66579035e+00, 3.84901685e-04, 1.17860671e-03,\n       3.47217538e+00, 4.40013173e+00, 4.61354200e-01, 6.28904543e-01,\n       2.13791401e+00, 1.19783110e+00, 6.28590248e-01, 6.28590248e-01,\n       4.29536669e-01, 6.28852160e-01, 4.29536669e-01, 2.61524973e+01,\n       2.61524973e+01, 2.61524973e+01, 6.28590248e-01, 3.15342774e+00,\n       9.04415444e-03, 6.88546348e+00, 1.59948034e+00, 1.59948034e+00,\n       1.59682879e+00, 2.10839646e+01, 6.28590248e-01, 1.39958042e-01,\n       6.28590248e-01, 6.28590248e-01, 2.22387640e-02, 4.85144353e-01,\n       3.37702857e+00, 6.28747395e-01, 7.57613163e-01, 2.99475173e+00,\n       1.15903753e+00, 1.67628335e-01, 1.26766075e-01, 2.73707865e-05,\n       1.73124231e-05, 1.79053340e+00, 1.98060529e+00, 7.77519809e+00,\n       2.05383539e-01, 9.90860199e-01, 4.32403901e+00, 5.15967828e-01,\n       5.15967828e-01, 5.15967828e-01, 3.44107638e+00, 3.38556129e+00,\n       2.05383539e-01, 5.50016467e-07, 1.56523493e+01, 1.19022606e+01,\n       3.36102468e+00, 4.29536669e-01, 3.40486384e-01, 5.76207727e-02,\n       2.05280899e-01, 2.22625713e-04, 4.31729863e-04, 4.77397837e-02,\n       4.77397837e-02, 3.74273110e-02, 4.36608310e-02, 3.14295124e+00,\n       6.28590248e-01, 6.28590248e-01, 6.28590248e-01, 4.10272442e-01,\n       6.29585516e-01, 8.58039486e-01, 6.97266239e-01, 1.82081642e+00,\n       3.21497721e+00, 8.95741103e-03, 1.03727867e+00, 5.18875058e+00,\n       3.64660918e+00, 3.76997001e+00, 1.75519445e-01, 2.05294317e-01,\n       4.45251426e-01, 4.29536669e-01, 1.54528436e-04, 3.55767266e-01,\n       3.55962365e-01, 3.55767266e-01, 1.30956302e+02, 6.11042103e+01,\n       6.11042103e+01, 6.26337799e+00, 8.56657334e-06, 4.29536669e-01,\n       6.28590248e-01, 2.05280899e-01, 2.00550957e+00, 1.00050614e-04,\n       7.05545409e-02, 6.28904543e-01, 4.29536669e-01, 6.28590248e-01,\n       2.05280899e-01, 1.39958042e-01, 4.29536669e-01, 6.28590248e-01,\n       1.38080324e-03, 2.05280899e-01, 4.29536669e-01, 6.28590248e-01,\n       2.80265631e-01, 1.19696524e+00, 1.51912296e+00, 2.05280899e-01,\n       1.39958042e-01, 6.28590248e-01, 2.43840634e-05, 1.39958042e-01,\n       8.69549843e-05, 2.46318327e-02, 3.62413667e-04, 3.19443449e-02,\n       4.29536669e-01, 2.05280899e-01, 8.62327404e-03, 2.12149209e-03,\n       2.69832840e+00, 7.54308297e-02, 3.87149656e-01, 3.87149656e-01,\n       3.87149656e-01, 3.87149656e-01, 1.18406697e-01, 2.75463227e-01,\n       2.75463227e-01, 1.36623374e-01, 1.36623374e-01, 4.27000000e-01,\n       6.02398987e-04, 3.35248132e-01, 1.07000000e+00, 2.88103864e+00,\n       2.05332219e-01, 1.83405611e-07, 2.79916085e-01, 3.38741700e+00,\n       4.30541853e-01, 4.60245922e-01, 4.59067315e-01, 4.60245922e-01,\n       6.28590248e-01, 6.28590248e-01, 1.72863366e+00, 2.05280899e-01,\n       1.17860671e+00, 1.54405337e+00, 6.36514236e+00, 2.05280899e-01,\n       6.28590248e-01, 2.67150855e+00, 1.36398846e-01, 6.28590248e-01,\n       2.05280899e-01, 2.22625713e-05, 2.72389107e-02, 3.42134831e-05,\n       2.88103864e-01, 6.44305004e+00, 4.29536669e-01, 2.35377765e+00,\n       1.25378730e-02, 2.53006888e-01, 1.17860671e-06, 2.53006888e-01,\n       8.55337079e-07, 4.76026156e-03, 6.15842697e-06, 8.55337079e-06,\n       2.05280899e-06, 6.57402049e-03, 2.66941325e+00, 6.28590248e-01,\n       2.05280899e-01, 4.29536669e-01, 6.28590248e-01, 6.28590248e-01,\n       2.05280899e-01, 2.05280899e-01, 4.29536669e-01, 6.28590248e-01,\n       6.09633668e-03, 1.19702781e-02, 7.46452229e+00, 6.28904543e-01,\n       1.00350544e+01, 4.29536669e-01, 2.82865612e-01, 9.16694111e-01,\n       7.85737810e-07, 3.87175153e-04, 1.91184174e+00, 6.41685878e+00,\n       3.68365786e-03, 4.79287564e-01, 2.41249817e-01, 3.09056872e-04,\n       2.22625713e-05, 2.48816973e-05, 6.28590248e-01, 5.10417020e-02,\n       1.39958042e-01, 1.84808722e-04, 1.35196808e-04, 9.30358783e-03,\n       1.28031025e-04, 1.19476378e-03, 3.30266844e-07, 1.14031668e+00,\n       1.18819258e+00, 8.70610971e-02, 6.01745818e-06, 1.39958042e-01,\n       2.04900853e-01, 7.21937945e-05, 1.57051391e-06, 4.61765231e-04,\n       4.40551421e-02, 2.28808226e+00, 1.00725653e+00, 3.35417468e+00,\n       4.82120907e+00, 6.42091074e+00, 4.79862844e-01, 1.52759083e-03,\n       7.83627634e-06, 1.39958042e-01, 1.39958042e-01, 6.14548921e+00,\n       1.13520842e+01, 1.39958042e-01, 1.39958042e-01, 3.07207903e-01,\n       1.24616864e-03, 1.66611041e-01, 3.84093075e-04, 1.53637230e-04,\n       7.84613641e-06, 1.35712887e-06, 1.55344310e-06, 3.84093075e-03,\n       6.04306439e-03, 2.60329751e-03, 6.40155126e-04, 1.24616864e-03,\n       1.93932129e-01, 1.39958042e-01, 4.92492677e-02, 7.68186151e-07,\n       1.39958042e-01, 1.09253141e-05, 2.39068066e-05, 2.56062050e-03,\n       6.96488777e-02, 1.39958042e-01, 4.16527602e-02, 1.10458139e+03,\n       1.39958042e-01, 7.71600311e-01, 3.12624911e-05, 1.39958042e-01,\n       1.87748593e-02, 1.04755181e+00, 2.90203657e-05, 1.70708033e-07,\n       1.70708033e-04, 1.70708033e-07, 6.76118124e-05, 1.39958042e-01,\n       7.12224643e-04, 1.46168754e-03, 3.64461652e-03, 9.13287979e-03,\n       3.07684160e-01, 1.55105940e-03, 7.35682022e-02, 1.22613670e-03,\n       1.22613670e-02, 1.00996424e-01, 1.91192998e-04, 1.62000000e-03,\n       4.29541393e-01, 6.28598379e-01, 6.28593577e-01, 1.62847214e-04,\n       1.62847214e-04, 1.38000000e-03, 1.38000000e-03, 4.06990721e+00,\n       4.06990721e+00, 4.06990721e+00, 2.39164363e+00, 2.39164363e+00,\n       1.39960692e-01, 1.39959127e-01, 1.17786879e-05, 1.17786879e-05,\n       1.32921889e+01, 6.32961377e+00, 6.90066443e+00, 4.78352860e+00,\n       9.45445289e-02, 1.92106436e-02, 5.59968801e-01, 1.41130348e+00,\n       3.36891799e+00, 7.44499837e+01, 1.17504290e+01, 3.05115534e-04,\n       3.26473621e-01, 1.85211056e-02, 9.57813006e-01, 5.41761759e-01,\n       6.25008078e-01, 1.06581454e+00, 2.80037546e-01, 2.95284494e+00,\n       4.27763484e+01, 3.04861289e+00, 1.05125891e+00, 1.01823507e+00,\n       1.47506486e+01, 1.47506486e+01, 1.05125891e+00, 1.01823507e+00,\n       2.05287115e-01, 2.05287115e-01, 4.41537978e+01, 6.34817460e-03,\n       2.03467135e-01, 1.86787998e-01, 5.27075044e-01, 3.17738777e-02,\n       2.13406641e-01, 2.05259331e-01, 8.43029395e-05, 1.22604315e+00,\n       1.12844768e-03, 2.80008968e-01, 2.88847635e-01, 1.83424044e-03,\n       1.62820248e-01, 3.72048485e-05, 3.30256737e-03, 1.39811679e-04,\n       3.40593864e-04, 1.36480298e-01, 4.57080243e-01, 1.04291548e-01,\n       3.32184252e-01, 1.01930510e+00, 3.83142976e+00, 4.84269933e-03,\n       5.86821212e+01, 7.05468263e-01, 3.82678468e-01, 1.03423621e-01,\n       1.75303038e-01, 5.51157298e-02, 4.93444492e-01, 1.14774756e-02,\n       6.65910140e-01, 2.27123499e-01, 2.85511651e-02, 7.67029767e-03,\n       3.79679735e-01, 3.76319737e-01, 7.60241893e-03, 5.37312889e-05,\n       8.28277074e-02, 3.28921569e-02, 3.37645367e-01, 5.07797363e-01,\n       7.47987253e+00, 7.98446711e-01, 2.24708985e-01, 1.85834330e-01,\n       7.51477295e-01, 7.51477295e-01, 4.69313406e-01, 7.51477295e-01,\n       7.51477295e-01, 7.51477295e-01, 7.51477295e-01, 7.51477295e-01,\n       5.38414767e-01, 7.51477295e-01, 7.81447365e+00, 4.69420679e-04,\n       3.71394596e-01, 4.47852177e+00, 3.11952206e+00, 4.89548759e+00,\n       3.69864125e+00, 4.01522641e+00, 4.01522641e+00, 2.62793924e-01,\n       1.42240037e-01, 6.19093897e+00, 3.05267497e-03, 6.19093897e+00,\n       3.05267497e-03, 7.83857361e-05, 1.98922293e-01, 1.60468913e+00,\n       2.51425946e-04, 1.62790618e-01, 3.26978580e-01, 1.34685886e-02,\n       3.75106485e+01, 3.38602834e+00, 3.75106485e+01, 3.38602834e+00,\n       1.34685886e-02, 3.19054027e-04, 1.19495890e-05, 1.19167336e-02,\n       5.04819110e-02, 3.13712895e-04, 1.32895699e-03, 8.99795938e+02,\n       5.39225537e+03, 7.05924430e-03, 2.02953274e-01, 1.58121782e+00,\n       1.03783106e+00, 5.89425391e-02, 5.38448060e-01, 1.06290457e+00,\n       7.84001921e-01, 8.01570592e-01, 9.78512166e-04, 2.31564136e-03,\n       3.47435531e-03, 4.31578449e-01, 5.93143714e-01, 4.55741131e-04,\n       9.81596281e-05, 4.55741131e-04, 9.81596281e-05, 1.93712714e-01,\n       2.65999638e-02, 2.45117669e-03, 2.37617128e-03, 2.36309816e-03,\n       2.43769090e-03, 5.60937441e-04, 3.73264198e-02, 4.20498248e-04,\n       1.56559790e-05, 1.38973622e-03, 2.90710543e-06, 1.19334884e-06,\n       8.90170257e-04, 1.16491416e-03, 3.90136347e-03, 9.37623113e-01,\n       1.18509985e-03, 5.15866992e+00, 2.04597222e-02, 1.21838795e+00,\n       4.83434840e-01, 2.47357493e-02, 5.64175898e+00, 2.88670001e-01,\n       6.22591311e-02, 1.21670131e+00, 1.65915600e+00, 8.48997287e-02,\n       7.85510017e-02, 1.53519873e+00, 4.19504967e+00, 1.43796320e+00,\n       7.91895616e+01, 3.95373971e+02, 1.05586082e+02, 5.03756001e-02,\n       8.45929889e-04, 1.42252356e-01, 8.87253366e-03, 1.73404567e-01,\n       2.64334302e-03, 2.56245737e-03, 4.61868258e-05, 3.33918268e-05,\n       1.04232431e-04, 4.68990257e-01, 9.14137845e-02, 4.68990257e-01,\n       6.29729900e-01, 4.05071965e+00, 1.48275803e+00, 1.98814025e+00,\n       4.06579328e+00, 3.96487777e+00, 4.02991925e+00, 4.09548567e+00,\n       4.04249979e+00, 4.04493638e+00, 4.04154893e+00, 5.52977448e-02,\n       1.39147576e-01, 1.98205250e-01, 4.29536669e-01, 4.29536669e-01,\n       4.29536669e-01, 8.59073339e-01, 1.39958042e-01, 1.39958042e-01,\n       4.29536669e-01, 1.39958042e-01, 1.71814668e+00, 4.29536669e-01,\n       4.29536669e-01, 1.39958042e-01, 1.39958042e-01, 4.29536669e-01,\n       1.39958042e-01, 4.23776645e-01, 1.39958042e-01, 1.39958042e-01,\n       3.87788290e-01, 4.29536669e-01, 1.39958042e-01, 4.29536669e-01,\n       2.96311183e-01, 7.71297117e-02, 1.39958042e-01, 1.39958042e-01,\n       2.22628227e+00, 2.96311183e+02, 4.19874127e-01, 4.29536669e-01,\n       1.39958042e-01, 1.39958042e-01, 4.29536669e-01, 1.39958042e-01,\n       1.39958042e-01, 1.39958042e-01, 1.39958042e-01, 1.39074771e-01,\n       1.39958042e-01, 1.39958042e-01, 4.29536669e-01, 1.39958042e-01,\n       4.29536669e-01, 4.29536669e-01, 9.92782348e-02, 1.21341808e+03,\n       4.26701349e+01, 1.99098849e+01, 1.58675700e+00, 1.39958042e-01,\n       1.39958042e-01, 4.29536669e-01, 4.29536669e-01, 1.39958042e-01,\n       2.21456211e+00, 3.20586219e-01, 1.39958042e-01, 4.19874127e-01,\n       1.39958042e-01, 2.80246485e+00, 1.39958042e-01, 1.36271615e-01,\n       3.33070431e-01, 1.39958042e-01, 3.67320216e-03, 1.39958042e-01,\n       1.39958042e-01, 1.39958042e-01, 3.07218138e-01, 1.39958042e-01,\n       1.39958042e-01, 1.39958042e-01, 1.39958042e-01, 1.39958042e-01,\n       1.39958042e-01, 2.32090476e+00, 1.06706349e-01, 1.25245137e-01,\n       1.39958042e-01, 1.39958042e-01, 8.59073339e-01, 1.39958042e-01,\n       1.39958042e-01, 1.39958042e-01, 1.39958042e-01, 2.04816647e-01,\n       2.04816647e-01, 9.37398678e-02, 8.40161752e-02, 6.00116033e-02,\n       4.29536669e-01, 1.39958042e-01, 1.39958042e-01, 8.59839554e-02,\n       1.39958042e-01, 1.39958042e-01, 1.39958042e-01, 1.39958042e-01,\n       8.11576914e-03, 3.78218071e-01, 1.39958042e-01, 1.39958042e-01,\n       4.36908012e-02, 5.89766635e-01, 5.93429782e-01, 1.04243626e-01,\n       1.43600913e-01, 1.39958042e-01, 1.12789487e-01, 1.35951613e-01,\n       3.32491799e-02, 3.90316460e-02, 1.74984095e-01, 1.95475159e-01,\n       2.62899861e-02, 1.37967680e-01, 2.43035841e+02, 3.24047788e+02,\n       3.64643581e-01, 1.39958042e-01, 1.39958042e-01, 1.39958042e-01,\n       1.39958042e-01, 1.39958042e-01, 8.79942790e-01, 2.41128963e-02])"
     },
     "execution_count": 123,
     "metadata": {},
     "output_type": "execute_result"
    }
   ],
   "source": [
    "data.getrow(23293).data"
   ]
  },
  {
   "cell_type": "code",
   "execution_count": 127,
   "metadata": {},
   "outputs": [],
   "source": [
    "data.getrow(23293).data = data.getrow(23293).data / 2"
   ]
  },
  {
   "cell_type": "code",
   "execution_count": 156,
   "metadata": {},
   "outputs": [
    {
     "data": {
      "text/plain": "array([4.07771732e+00, 3.12487927e+00, 4.93757640e-01, 6.28590248e-01,\n       6.28590248e-01, 4.97633946e+00, 1.38135326e+00, 6.28590248e-01,\n       6.28590248e-01, 1.66031637e+00, 1.35560725e+00, 6.28590248e-01,\n       5.98000000e+00, 4.29536669e-01, 4.72673675e+00, 6.28590248e-01,\n       2.04291831e+00, 9.75624447e+00, 1.47189645e+00, 1.44427253e+00,\n       2.06057385e+00, 6.28590248e-01, 4.29536669e-01, 2.87920525e+00,\n       6.28590248e-01, 4.29536669e-01, 1.20479797e-05, 4.81919190e-06,\n       6.15494618e-06, 3.69103289e+00, 4.29536669e-01, 1.13146245e-02,\n       4.29536669e-01, 1.58433553e+00, 6.28590248e-01, 6.28904543e-01,\n       1.43696629e-05, 3.87149656e-01, 3.87149656e-01, 3.87149656e-01,\n       3.87149656e-01, 6.54781508e-06, 3.66680002e+00, 3.66680002e+00,\n       6.28590248e-06, 6.28595408e-01, 2.05280899e-01, 6.28590248e-01,\n       2.05280899e-01, 4.29536669e-01, 9.22162847e-02, 2.13165430e+00,\n       7.85744096e+00, 2.05280899e-01, 1.50000000e-02, 2.20006587e-02,\n       8.18275323e-04, 1.54004611e+00, 1.62599579e-03, 3.66677645e-03,\n       4.27668539e-06, 6.28590248e-01, 6.28590248e-01, 2.32123672e-01,\n       3.49967620e+00, 3.64660918e+00, 3.64660918e+00, 9.55247647e-01,\n       6.28590248e-01, 9.40870787e-07, 3.64660918e+00, 4.29536669e-01,\n       6.28590248e-01, 7.83118684e-02, 1.02000000e+01, 4.29536669e-01,\n       2.05280899e-01, 2.05280899e-01, 2.05280899e-01, 6.28590248e-01,\n       4.43575664e-01, 3.84901685e-04, 1.28337176e+01, 1.04989492e+00,\n       4.29536669e-01, 5.23864493e+00, 6.28590248e-01, 4.97633946e-01,\n       1.11322121e+00, 1.71317034e+00, 4.29536669e-01, 4.29536669e-01,\n       2.05280899e-01, 3.66697288e+00, 1.10000000e-04, 2.50000000e-06,\n       3.87149656e-01, 3.87149656e-01, 3.87149656e-01, 3.87149656e-01,\n       1.36623374e-01, 2.75008233e-03, 9.42885372e-03, 2.59293477e-03,\n       7.05000000e-04, 4.73942275e-04, 4.27668539e-01, 1.32265865e-03,\n       5.23825207e-04, 4.43064607e-05, 1.10459545e-01, 6.28904543e-01,\n       6.28590248e-01, 6.28590248e-01, 6.28590248e-01, 6.28590248e-01,\n       6.28590248e-01, 1.25807100e+00, 2.68303271e+00, 4.29536669e-01,\n       3.87149656e-01, 3.87149656e-01, 3.87149656e-01, 3.87149656e-01,\n       7.85737810e-03, 1.13670070e-02, 6.28747395e-01, 4.29536669e-01,\n       2.05280899e-01, 4.00881597e-01, 6.28904543e-01, 6.28904543e-01,\n       6.28590248e-01, 6.28590248e-01, 4.10561798e-01, 4.15393389e+00,\n       2.09530083e-01, 6.28747395e-01, 4.29536669e-01, 4.93233814e+00,\n       4.72542719e+00, 4.29536669e-01, 6.87861070e+00, 6.28747395e-01,\n       1.22805581e+00, 6.28747395e-01, 6.28590248e-01, 6.28590248e-01,\n       1.39958042e-01, 2.05280899e-01, 4.29536669e-01, 2.27248470e+00,\n       7.80499558e+00, 4.07902688e+00, 6.28590248e-01, 4.29536669e-01,\n       2.85589503e+00, 6.28904543e-01, 4.29536669e-01, 2.39388119e-03,\n       5.41000000e-02, 7.46479133e+01, 7.37690000e+01, 7.37690000e+01,\n       1.00579442e+01, 4.68823560e-03, 3.84901685e-04, 4.29536669e-01,\n       4.29536669e-01, 6.28904543e-01, 6.28590248e-01, 6.28590248e-01,\n       6.28590248e-01, 6.28590248e-01, 6.28590248e-01, 2.40498365e-05,\n       7.00859261e-01, 7.51696329e-01, 6.28904543e-01, 6.28904543e-01,\n       1.14455808e+00, 5.15967828e-01, 6.28592081e-01, 6.28747395e-01,\n       6.28747395e-01, 6.28747395e-01, 6.28747395e-01, 5.76207727e-07,\n       8.55337079e-02, 1.95124889e-01, 8.07000000e+02, 7.20000000e+02,\n       1.33000000e+03, 1.33575428e-06, 1.83338822e-02, 6.28590248e-01,\n       6.11565929e-02, 1.75481444e-01, 9.47599799e-02, 1.37999132e+00,\n       9.83481825e+00, 1.52354561e+00, 1.46000000e-01, 1.95200000e+01,\n       3.07921348e-05, 5.50016467e-02, 4.50000000e-02, 3.35248132e-02,\n       1.80000000e-02, 6.41502809e+00, 5.13202247e+01, 6.41502809e-05,\n       6.28590248e-01, 6.28590248e-01, 2.50275826e+00, 1.11194500e-03,\n       1.59000000e-04, 1.82000000e-04, 1.17860671e-01, 4.50000000e-01,\n       7.08000000e-01, 3.05000000e-01, 4.63585308e-02, 7.50000000e-02,\n       1.38551767e-02, 1.46000000e-01, 4.46392283e-01, 7.69803371e-03,\n       1.68312896e+00, 1.91729777e+00, 1.86750360e+00, 4.45256454e+00,\n       1.04765041e+00, 6.28590248e-01, 7.06378291e+00, 6.28590248e-01,\n       1.11322121e+00, 2.88103864e-01, 5.77000000e+00, 1.29925702e-05,\n       6.28590248e-01, 6.28590248e-01, 4.29536669e-01, 6.28590248e-01,\n       6.28590248e-01, 2.18940602e+00, 1.98267841e-04, 4.00726283e-04,\n       2.69832840e+00, 1.15058207e+00, 4.16461468e+00, 9.94649421e-03,\n       1.28000000e-03, 7.33591010e-05, 2.80090000e-03, 5.61605972e-07,\n       3.19639466e-03, 1.49552096e-05, 2.05280899e-01, 6.88830147e-05,\n       1.17860671e-01, 3.00000000e-01, 2.85589503e+00, 1.39958042e-01,\n       1.88215635e+00, 4.29536669e-01, 2.05280899e-01, 6.54519596e-01,\n       2.93630220e+00, 2.72493872e+00, 6.28590248e-01, 8.16000000e+00,\n       2.13720684e-01, 2.05280899e-01, 6.28747395e-01, 7.85737810e+00,\n       6.28590248e-01, 1.70572128e+00, 2.05280899e-01, 6.28590248e-01,\n       1.15743858e+00, 2.09530083e-01, 6.33751560e+00, 3.46065123e+00,\n       4.88000000e+00, 6.28590248e-01, 4.29536669e-01, 3.55127299e+00,\n       4.29536669e-01, 5.23825207e-05, 3.14321315e+00, 3.64660918e+00,\n       6.28590248e-01, 6.28590248e-01, 6.28590248e-01, 6.28747395e-01,\n       1.29411765e+05, 7.03265033e+00, 4.47579254e+00, 1.10035917e+01,\n       1.29918159e+01, 6.28590248e-01, 2.30930961e+00, 6.28590248e-01,\n       6.28590248e-01, 9.49424157e-01, 6.28590248e-01, 7.08219101e-01,\n       2.24851970e+00, 2.59987546e+00, 6.28590248e-01, 1.69356742e-05,\n       3.78000000e-04, 1.69356742e-05, 3.78000000e-04, 1.69356742e-05,\n       3.78000000e-04, 1.55671348e-05, 3.79000168e+01, 1.37014340e+00,\n       6.29132407e-01, 6.29093120e-01, 1.47594038e+00, 3.24991635e-01,\n       9.44168743e-01, 9.43155142e-01, 6.28747395e-01, 7.85737810e+00,\n       6.28590248e-01, 1.66579035e+00, 3.84901685e-04, 1.17860671e-03,\n       3.47217538e+00, 4.40013173e+00, 4.61354200e-01, 6.28904543e-01,\n       2.13791401e+00, 1.19783110e+00, 6.28590248e-01, 6.28590248e-01,\n       4.29536669e-01, 6.28852160e-01, 4.29536669e-01, 2.61524973e+01,\n       2.61524973e+01, 2.61524973e+01, 6.28590248e-01, 3.15342774e+00,\n       9.04415444e-03, 6.88546348e+00, 1.59948034e+00, 1.59948034e+00,\n       1.59682879e+00, 2.10839646e+01, 6.28590248e-01, 1.39958042e-01,\n       6.28590248e-01, 6.28590248e-01, 2.22387640e-02, 4.85144353e-01,\n       3.37702857e+00, 6.28747395e-01, 7.57613163e-01, 2.99475173e+00,\n       1.15903753e+00, 1.67628335e-01, 1.26766075e-01, 2.73707865e-05,\n       1.73124231e-05, 1.79053340e+00, 1.98060529e+00, 7.77519809e+00,\n       2.05383539e-01, 9.90860199e-01, 4.32403901e+00, 5.15967828e-01,\n       5.15967828e-01, 5.15967828e-01, 3.44107638e+00, 3.38556129e+00,\n       2.05383539e-01, 5.50016467e-07, 1.56523493e+01, 1.19022606e+01,\n       3.36102468e+00, 4.29536669e-01, 3.40486384e-01, 5.76207727e-02,\n       2.05280899e-01, 2.22625713e-04, 4.31729863e-04, 4.77397837e-02,\n       4.77397837e-02, 3.74273110e-02, 4.36608310e-02, 3.14295124e+00,\n       6.28590248e-01, 6.28590248e-01, 6.28590248e-01, 4.10272442e-01,\n       6.29585516e-01, 8.58039486e-01, 6.97266239e-01, 1.82081642e+00,\n       3.21497721e+00, 8.95741103e-03, 1.03727867e+00, 5.18875058e+00,\n       3.64660918e+00, 3.76997001e+00, 1.75519445e-01, 2.05294317e-01,\n       4.45251426e-01, 4.29536669e-01, 1.54528436e-04, 3.55767266e-01,\n       3.55962365e-01, 3.55767266e-01, 1.30956302e+02, 6.11042103e+01,\n       6.11042103e+01, 6.26337799e+00, 8.56657334e-06, 4.29536669e-01,\n       6.28590248e-01, 2.05280899e-01, 2.00550957e+00, 1.00050614e-04,\n       7.05545409e-02, 6.28904543e-01, 4.29536669e-01, 6.28590248e-01,\n       2.05280899e-01, 1.39958042e-01, 4.29536669e-01, 6.28590248e-01,\n       1.38080324e-03, 2.05280899e-01, 4.29536669e-01, 6.28590248e-01,\n       2.80265631e-01, 1.19696524e+00, 1.51912296e+00, 2.05280899e-01,\n       1.39958042e-01, 6.28590248e-01, 2.43840634e-05, 1.39958042e-01,\n       8.69549843e-05, 2.46318327e-02, 3.62413667e-04, 3.19443449e-02,\n       4.29536669e-01, 2.05280899e-01, 8.62327404e-03, 2.12149209e-03,\n       2.69832840e+00, 7.54308297e-02, 3.87149656e-01, 3.87149656e-01,\n       3.87149656e-01, 3.87149656e-01, 1.18406697e-01, 2.75463227e-01,\n       2.75463227e-01, 1.36623374e-01, 1.36623374e-01, 4.27000000e-01,\n       6.02398987e-04, 3.35248132e-01, 1.07000000e+00, 2.88103864e+00,\n       2.05332219e-01, 1.83405611e-07, 2.79916085e-01, 3.38741700e+00,\n       4.30541853e-01, 4.60245922e-01, 4.59067315e-01, 4.60245922e-01,\n       6.28590248e-01, 6.28590248e-01, 1.72863366e+00, 2.05280899e-01,\n       1.17860671e+00, 1.54405337e+00, 6.36514236e+00, 2.05280899e-01,\n       6.28590248e-01, 2.67150855e+00, 1.36398846e-01, 6.28590248e-01,\n       2.05280899e-01, 2.22625713e-05, 2.72389107e-02, 3.42134831e-05,\n       2.88103864e-01, 6.44305004e+00, 4.29536669e-01, 2.35377765e+00,\n       1.25378730e-02, 2.53006888e-01, 1.17860671e-06, 2.53006888e-01,\n       8.55337079e-07, 4.76026156e-03, 6.15842697e-06, 8.55337079e-06,\n       2.05280899e-06, 6.57402049e-03, 2.66941325e+00, 6.28590248e-01,\n       2.05280899e-01, 4.29536669e-01, 6.28590248e-01, 6.28590248e-01,\n       2.05280899e-01, 2.05280899e-01, 4.29536669e-01, 6.28590248e-01,\n       6.09633668e-03, 1.19702781e-02, 7.46452229e+00, 6.28904543e-01,\n       1.00350544e+01, 4.29536669e-01, 2.82865612e-01, 9.16694111e-01,\n       7.85737810e-07, 3.87175153e-04, 1.91184174e+00, 6.41685878e+00,\n       3.68365786e-03, 4.79287564e-01, 2.41249817e-01, 3.09056872e-04,\n       2.22625713e-05, 2.48816973e-05, 6.28590248e-01, 5.10417020e-02,\n       1.39958042e-01, 1.84808722e-04, 1.35196808e-04, 9.30358783e-03,\n       1.28031025e-04, 1.19476378e-03, 3.30266844e-07, 1.14031668e+00,\n       1.18819258e+00, 8.70610971e-02, 6.01745818e-06, 1.39958042e-01,\n       2.04900853e-01, 7.21937945e-05, 1.57051391e-06, 4.61765231e-04,\n       4.40551421e-02, 2.28808226e+00, 1.00725653e+00, 3.35417468e+00,\n       4.82120907e+00, 6.42091074e+00, 4.79862844e-01, 1.52759083e-03,\n       7.83627634e-06, 1.39958042e-01, 1.39958042e-01, 6.14548921e+00,\n       1.13520842e+01, 1.39958042e-01, 1.39958042e-01, 3.07207903e-01,\n       1.24616864e-03, 1.66611041e-01, 3.84093075e-04, 1.53637230e-04,\n       7.84613641e-06, 1.35712887e-06, 1.55344310e-06, 3.84093075e-03,\n       6.04306439e-03, 2.60329751e-03, 6.40155126e-04, 1.24616864e-03,\n       1.93932129e-01, 1.39958042e-01, 4.92492677e-02, 7.68186151e-07,\n       1.39958042e-01, 1.09253141e-05, 2.39068066e-05, 2.56062050e-03,\n       6.96488777e-02, 1.39958042e-01, 4.16527602e-02, 1.10458139e+03,\n       1.39958042e-01, 7.71600311e-01, 3.12624911e-05, 1.39958042e-01,\n       1.87748593e-02, 1.04755181e+00, 2.90203657e-05, 1.70708033e-07,\n       1.70708033e-04, 1.70708033e-07, 6.76118124e-05, 1.39958042e-01,\n       7.12224643e-04, 1.46168754e-03, 3.64461652e-03, 9.13287979e-03,\n       3.07684160e-01, 1.55105940e-03, 7.35682022e-02, 1.22613670e-03,\n       1.22613670e-02, 1.00996424e-01, 1.91192998e-04, 1.62000000e-03,\n       4.29541393e-01, 6.28598379e-01, 6.28593577e-01, 1.62847214e-04,\n       1.62847214e-04, 1.38000000e-03, 1.38000000e-03, 4.06990721e+00,\n       4.06990721e+00, 4.06990721e+00, 2.39164363e+00, 2.39164363e+00,\n       1.39960692e-01, 1.39959127e-01, 1.17786879e-05, 1.17786879e-05,\n       1.32921889e+01, 6.32961377e+00, 6.90066443e+00, 4.78352860e+00,\n       9.45445289e-02, 1.92106436e-02, 5.59968801e-01, 1.41130348e+00,\n       3.36891799e+00, 7.44499837e+01, 1.17504290e+01, 3.05115534e-04,\n       3.26473621e-01, 1.85211056e-02, 9.57813006e-01, 5.41761759e-01,\n       6.25008078e-01, 1.06581454e+00, 2.80037546e-01, 2.95284494e+00,\n       4.27763484e+01, 3.04861289e+00, 1.05125891e+00, 1.01823507e+00,\n       1.47506486e+01, 1.47506486e+01, 1.05125891e+00, 1.01823507e+00,\n       2.05287115e-01, 2.05287115e-01, 4.41537978e+01, 6.34817460e-03,\n       2.03467135e-01, 1.86787998e-01, 5.27075044e-01, 3.17738777e-02,\n       2.13406641e-01, 2.05259331e-01, 8.43029395e-05, 1.22604315e+00,\n       1.12844768e-03, 2.80008968e-01, 2.88847635e-01, 1.83424044e-03,\n       1.62820248e-01, 3.72048485e-05, 3.30256737e-03, 1.39811679e-04,\n       3.40593864e-04, 1.36480298e-01, 4.57080243e-01, 1.04291548e-01,\n       3.32184252e-01, 1.01930510e+00, 3.83142976e+00, 4.84269933e-03,\n       5.86821212e+01, 7.05468263e-01, 3.82678468e-01, 1.03423621e-01,\n       1.75303038e-01, 5.51157298e-02, 4.93444492e-01, 1.14774756e-02,\n       6.65910140e-01, 2.27123499e-01, 2.85511651e-02, 7.67029767e-03,\n       3.79679735e-01, 3.76319737e-01, 7.60241893e-03, 5.37312889e-05,\n       8.28277074e-02, 3.28921569e-02, 3.37645367e-01, 5.07797363e-01,\n       7.47987253e+00, 7.98446711e-01, 2.24708985e-01, 1.85834330e-01,\n       7.51477295e-01, 7.51477295e-01, 4.69313406e-01, 7.51477295e-01,\n       7.51477295e-01, 7.51477295e-01, 7.51477295e-01, 7.51477295e-01,\n       5.38414767e-01, 7.51477295e-01, 7.81447365e+00, 4.69420679e-04,\n       3.71394596e-01, 4.47852177e+00, 3.11952206e+00, 4.89548759e+00,\n       3.69864125e+00, 4.01522641e+00, 4.01522641e+00, 2.62793924e-01,\n       1.42240037e-01, 6.19093897e+00, 3.05267497e-03, 6.19093897e+00,\n       3.05267497e-03, 7.83857361e-05, 1.98922293e-01, 1.60468913e+00,\n       2.51425946e-04, 1.62790618e-01, 3.26978580e-01, 1.34685886e-02,\n       3.75106485e+01, 3.38602834e+00, 3.75106485e+01, 3.38602834e+00,\n       1.34685886e-02, 3.19054027e-04, 1.19495890e-05, 1.19167336e-02,\n       5.04819110e-02, 3.13712895e-04, 1.32895699e-03, 8.99795938e+02,\n       5.39225537e+03, 7.05924430e-03, 2.02953274e-01, 1.58121782e+00,\n       1.03783106e+00, 5.89425391e-02, 5.38448060e-01, 1.06290457e+00,\n       7.84001921e-01, 8.01570592e-01, 9.78512166e-04, 2.31564136e-03,\n       3.47435531e-03, 4.31578449e-01, 5.93143714e-01, 4.55741131e-04,\n       9.81596281e-05, 4.55741131e-04, 9.81596281e-05, 1.93712714e-01,\n       2.65999638e-02, 2.45117669e-03, 2.37617128e-03, 2.36309816e-03,\n       2.43769090e-03, 5.60937441e-04, 3.73264198e-02, 4.20498248e-04,\n       1.56559790e-05, 1.38973622e-03, 2.90710543e-06, 1.19334884e-06,\n       8.90170257e-04, 1.16491416e-03, 3.90136347e-03, 9.37623113e-01,\n       1.18509985e-03, 5.15866992e+00, 2.04597222e-02, 1.21838795e+00,\n       4.83434840e-01, 2.47357493e-02, 5.64175898e+00, 2.88670001e-01,\n       6.22591311e-02, 1.21670131e+00, 1.65915600e+00, 8.48997287e-02,\n       7.85510017e-02, 1.53519873e+00, 4.19504967e+00, 1.43796320e+00,\n       7.91895616e+01, 3.95373971e+02, 1.05586082e+02, 5.03756001e-02,\n       8.45929889e-04, 1.42252356e-01, 8.87253366e-03, 1.73404567e-01,\n       2.64334302e-03, 2.56245737e-03, 4.61868258e-05, 3.33918268e-05,\n       1.04232431e-04, 4.68990257e-01, 9.14137845e-02, 4.68990257e-01,\n       6.29729900e-01, 4.05071965e+00, 1.48275803e+00, 1.98814025e+00,\n       4.06579328e+00, 3.96487777e+00, 4.02991925e+00, 4.09548567e+00,\n       4.04249979e+00, 4.04493638e+00, 4.04154893e+00, 5.52977448e-02,\n       1.39147576e-01, 1.98205250e-01, 4.29536669e-01, 4.29536669e-01,\n       4.29536669e-01, 8.59073339e-01, 1.39958042e-01, 1.39958042e-01,\n       4.29536669e-01, 1.39958042e-01, 1.71814668e+00, 4.29536669e-01,\n       4.29536669e-01, 1.39958042e-01, 1.39958042e-01, 4.29536669e-01,\n       1.39958042e-01, 4.23776645e-01, 1.39958042e-01, 1.39958042e-01,\n       3.87788290e-01, 4.29536669e-01, 1.39958042e-01, 4.29536669e-01,\n       2.96311183e-01, 7.71297117e-02, 1.39958042e-01, 1.39958042e-01,\n       2.22628227e+00, 2.96311183e+02, 4.19874127e-01, 4.29536669e-01,\n       1.39958042e-01, 1.39958042e-01, 4.29536669e-01, 1.39958042e-01,\n       1.39958042e-01, 1.39958042e-01, 1.39958042e-01, 1.39074771e-01,\n       1.39958042e-01, 1.39958042e-01, 4.29536669e-01, 1.39958042e-01,\n       4.29536669e-01, 4.29536669e-01, 9.92782348e-02, 1.21341808e+03,\n       4.26701349e+01, 1.99098849e+01, 1.58675700e+00, 1.39958042e-01,\n       1.39958042e-01, 4.29536669e-01, 4.29536669e-01, 1.39958042e-01,\n       2.21456211e+00, 3.20586219e-01, 1.39958042e-01, 4.19874127e-01,\n       1.39958042e-01, 2.80246485e+00, 1.39958042e-01, 1.36271615e-01,\n       3.33070431e-01, 1.39958042e-01, 3.67320216e-03, 1.39958042e-01,\n       1.39958042e-01, 1.39958042e-01, 3.07218138e-01, 1.39958042e-01,\n       1.39958042e-01, 1.39958042e-01, 1.39958042e-01, 1.39958042e-01,\n       1.39958042e-01, 2.32090476e+00, 1.06706349e-01, 1.25245137e-01,\n       1.39958042e-01, 1.39958042e-01, 8.59073339e-01, 1.39958042e-01,\n       1.39958042e-01, 1.39958042e-01, 1.39958042e-01, 2.04816647e-01,\n       2.04816647e-01, 9.37398678e-02, 8.40161752e-02, 6.00116033e-02,\n       4.29536669e-01, 1.39958042e-01, 1.39958042e-01, 8.59839554e-02,\n       1.39958042e-01, 1.39958042e-01, 1.39958042e-01, 1.39958042e-01,\n       8.11576914e-03, 3.78218071e-01, 1.39958042e-01, 1.39958042e-01,\n       4.36908012e-02, 5.89766635e-01, 5.93429782e-01, 1.04243626e-01,\n       1.43600913e-01, 1.39958042e-01, 1.12789487e-01, 1.35951613e-01,\n       3.32491799e-02, 3.90316460e-02, 1.74984095e-01, 1.95475159e-01,\n       2.62899861e-02, 1.37967680e-01, 2.43035841e+02, 3.24047788e+02,\n       3.64643581e-01, 1.39958042e-01, 1.39958042e-01, 1.39958042e-01,\n       1.39958042e-01, 1.39958042e-01, 8.79942790e-01, 2.41128963e-02])"
     },
     "execution_count": 156,
     "metadata": {},
     "output_type": "execute_result"
    }
   ],
   "source": [
    "data.getrow(23293).data"
   ]
  },
  {
   "cell_type": "code",
   "execution_count": 135,
   "metadata": {},
   "outputs": [
    {
     "name": "stdout",
     "output_type": "stream",
     "text": "(1, 15437)\n"
    }
   ],
   "source": [
    "print(data[23293,:].shape)"
   ]
  },
  {
   "cell_type": "code",
   "execution_count": 136,
   "metadata": {},
   "outputs": [],
   "source": [
    "new_Data = data[23293,:].data / 2"
   ]
  },
  {
   "cell_type": "code",
   "execution_count": 137,
   "metadata": {},
   "outputs": [
    {
     "data": {
      "text/plain": "array([2.03885866e+00, 1.56243963e+00, 2.46878820e-01, 3.14295124e-01,\n       3.14295124e-01, 2.48816973e+00, 6.90676630e-01, 3.14295124e-01,\n       3.14295124e-01, 8.30158187e-01, 6.77803626e-01, 3.14295124e-01,\n       2.99000000e+00, 2.14768335e-01, 2.36336838e+00, 3.14295124e-01,\n       1.02145915e+00, 4.87812224e+00, 7.35948224e-01, 7.22136263e-01,\n       1.03028692e+00, 3.14295124e-01, 2.14768335e-01, 1.43960262e+00,\n       3.14295124e-01, 2.14768335e-01, 6.02398987e-06, 2.40959595e-06,\n       3.07747309e-06, 1.84551645e+00, 2.14768335e-01, 5.65731223e-03,\n       2.14768335e-01, 7.92167764e-01, 3.14295124e-01, 3.14452271e-01,\n       7.18483146e-06, 1.93574828e-01, 1.93574828e-01, 1.93574828e-01,\n       1.93574828e-01, 3.27390754e-06, 1.83340001e+00, 1.83340001e+00,\n       3.14295124e-06, 3.14297704e-01, 1.02640449e-01, 3.14295124e-01,\n       1.02640449e-01, 2.14768335e-01, 4.61081423e-02, 1.06582715e+00,\n       3.92872048e+00, 1.02640449e-01, 7.50000000e-03, 1.10003293e-02,\n       4.09137662e-04, 7.70023054e-01, 8.12997893e-04, 1.83338822e-03,\n       2.13834270e-06, 3.14295124e-01, 3.14295124e-01, 1.16061836e-01,\n       1.74983810e+00, 1.82330459e+00, 1.82330459e+00, 4.77623823e-01,\n       3.14295124e-01, 4.70435393e-07, 1.82330459e+00, 2.14768335e-01,\n       3.14295124e-01, 3.91559342e-02, 5.10000000e+00, 2.14768335e-01,\n       1.02640449e-01, 1.02640449e-01, 1.02640449e-01, 3.14295124e-01,\n       2.21787832e-01, 1.92450843e-04, 6.41685878e+00, 5.24947461e-01,\n       2.14768335e-01, 2.61932247e+00, 3.14295124e-01, 2.48816973e-01,\n       5.56610604e-01, 8.56585169e-01, 2.14768335e-01, 2.14768335e-01,\n       1.02640449e-01, 1.83348644e+00, 5.50000000e-05, 1.25000000e-06,\n       1.93574828e-01, 1.93574828e-01, 1.93574828e-01, 1.93574828e-01,\n       6.83116871e-02, 1.37504117e-03, 4.71442686e-03, 1.29646739e-03,\n       3.52500000e-04, 2.36971138e-04, 2.13834270e-01, 6.61329323e-04,\n       2.61912603e-04, 2.21532303e-05, 5.52297726e-02, 3.14452271e-01,\n       3.14295124e-01, 3.14295124e-01, 3.14295124e-01, 3.14295124e-01,\n       3.14295124e-01, 6.29035499e-01, 1.34151635e+00, 2.14768335e-01,\n       1.93574828e-01, 1.93574828e-01, 1.93574828e-01, 1.93574828e-01,\n       3.92868905e-03, 5.68350349e-03, 3.14373698e-01, 2.14768335e-01,\n       1.02640449e-01, 2.00440799e-01, 3.14452271e-01, 3.14452271e-01,\n       3.14295124e-01, 3.14295124e-01, 2.05280899e-01, 2.07696694e+00,\n       1.04765041e-01, 3.14373698e-01, 2.14768335e-01, 2.46616907e+00,\n       2.36271359e+00, 2.14768335e-01, 3.43930535e+00, 3.14373698e-01,\n       6.14027907e-01, 3.14373698e-01, 3.14295124e-01, 3.14295124e-01,\n       6.99790212e-02, 1.02640449e-01, 2.14768335e-01, 1.13624235e+00,\n       3.90249779e+00, 2.03951344e+00, 3.14295124e-01, 2.14768335e-01,\n       1.42794751e+00, 3.14452271e-01, 2.14768335e-01, 1.19694060e-03,\n       2.70500000e-02, 3.73239567e+01, 3.68845000e+01, 3.68845000e+01,\n       5.02897211e+00, 2.34411780e-03, 1.92450843e-04, 2.14768335e-01,\n       2.14768335e-01, 3.14452271e-01, 3.14295124e-01, 3.14295124e-01,\n       3.14295124e-01, 3.14295124e-01, 3.14295124e-01, 1.20249183e-05,\n       3.50429630e-01, 3.75848165e-01, 3.14452271e-01, 3.14452271e-01,\n       5.72279038e-01, 2.57983914e-01, 3.14296041e-01, 3.14373698e-01,\n       3.14373698e-01, 3.14373698e-01, 3.14373698e-01, 2.88103864e-07,\n       4.27668539e-02, 9.75624447e-02, 4.03500000e+02, 3.60000000e+02,\n       6.65000000e+02, 6.67877138e-07, 9.16694111e-03, 3.14295124e-01,\n       3.05782964e-02, 8.77407221e-02, 4.73799899e-02, 6.89995658e-01,\n       4.91740913e+00, 7.61772807e-01, 7.30000000e-02, 9.76000000e+00,\n       1.53960674e-05, 2.75008233e-02, 2.25000000e-02, 1.67624066e-02,\n       9.00000000e-03, 3.20751404e+00, 2.56601124e+01, 3.20751404e-05,\n       3.14295124e-01, 3.14295124e-01, 1.25137913e+00, 5.55972500e-04,\n       7.95000000e-05, 9.10000000e-05, 5.89303357e-02, 2.25000000e-01,\n       3.54000000e-01, 1.52500000e-01, 2.31792654e-02, 3.75000000e-02,\n       6.92758836e-03, 7.30000000e-02, 2.23196142e-01, 3.84901685e-03,\n       8.41564481e-01, 9.58648886e-01, 9.33751798e-01, 2.22628227e+00,\n       5.23825207e-01, 3.14295124e-01, 3.53189145e+00, 3.14295124e-01,\n       5.56610604e-01, 1.44051932e-01, 2.88500000e+00, 6.49628511e-06,\n       3.14295124e-01, 3.14295124e-01, 2.14768335e-01, 3.14295124e-01,\n       3.14295124e-01, 1.09470301e+00, 9.91339203e-05, 2.00363141e-04,\n       1.34916420e+00, 5.75291033e-01, 2.08230734e+00, 4.97324711e-03,\n       6.40000000e-04, 3.66795505e-05, 1.40045000e-03, 2.80802986e-07,\n       1.59819733e-03, 7.47760482e-06, 1.02640449e-01, 3.44415073e-05,\n       5.89303357e-02, 1.50000000e-01, 1.42794751e+00, 6.99790212e-02,\n       9.41078175e-01, 2.14768335e-01, 1.02640449e-01, 3.27259798e-01,\n       1.46815110e+00, 1.36246936e+00, 3.14295124e-01, 4.08000000e+00,\n       1.06860342e-01, 1.02640449e-01, 3.14373698e-01, 3.92868905e+00,\n       3.14295124e-01, 8.52860641e-01, 1.02640449e-01, 3.14295124e-01,\n       5.78719291e-01, 1.04765041e-01, 3.16875780e+00, 1.73032561e+00,\n       2.44000000e+00, 3.14295124e-01, 2.14768335e-01, 1.77563649e+00,\n       2.14768335e-01, 2.61912603e-05, 1.57160658e+00, 1.82330459e+00,\n       3.14295124e-01, 3.14295124e-01, 3.14295124e-01, 3.14373698e-01,\n       6.47058824e+04, 3.51632516e+00, 2.23789627e+00, 5.50179586e+00,\n       6.49590793e+00, 3.14295124e-01, 1.15465481e+00, 3.14295124e-01,\n       3.14295124e-01, 4.74712079e-01, 3.14295124e-01, 3.54109551e-01,\n       1.12425985e+00, 1.29993773e+00, 3.14295124e-01, 8.46783708e-06,\n       1.89000000e-04, 8.46783708e-06, 1.89000000e-04, 8.46783708e-06,\n       1.89000000e-04, 7.78356742e-06, 1.89500084e+01, 6.85071701e-01,\n       3.14566203e-01, 3.14546560e-01, 7.37970189e-01, 1.62495817e-01,\n       4.72084372e-01, 4.71577571e-01, 3.14373698e-01, 3.92868905e+00,\n       3.14295124e-01, 8.32895174e-01, 1.92450843e-04, 5.89303357e-04,\n       1.73608769e+00, 2.20006587e+00, 2.30677100e-01, 3.14452271e-01,\n       1.06895700e+00, 5.98915550e-01, 3.14295124e-01, 3.14295124e-01,\n       2.14768335e-01, 3.14426080e-01, 2.14768335e-01, 1.30762486e+01,\n       1.30762486e+01, 1.30762486e+01, 3.14295124e-01, 1.57671387e+00,\n       4.52207722e-03, 3.44273174e+00, 7.99740169e-01, 7.99740169e-01,\n       7.98414396e-01, 1.05419823e+01, 3.14295124e-01, 6.99790212e-02,\n       3.14295124e-01, 3.14295124e-01, 1.11193820e-02, 2.42572176e-01,\n       1.68851429e+00, 3.14373698e-01, 3.78806582e-01, 1.49737586e+00,\n       5.79518766e-01, 8.38141676e-02, 6.33830373e-02, 1.36853933e-05,\n       8.65621154e-06, 8.95266700e-01, 9.90302645e-01, 3.88759905e+00,\n       1.02691770e-01, 4.95430100e-01, 2.16201950e+00, 2.57983914e-01,\n       2.57983914e-01, 2.57983914e-01, 1.72053819e+00, 1.69278064e+00,\n       1.02691770e-01, 2.75008233e-07, 7.82617465e+00, 5.95113030e+00,\n       1.68051234e+00, 2.14768335e-01, 1.70243192e-01, 2.88103864e-02,\n       1.02640449e-01, 1.11312856e-04, 2.15864931e-04, 2.38698919e-02,\n       2.38698919e-02, 1.87136555e-02, 2.18304155e-02, 1.57147562e+00,\n       3.14295124e-01, 3.14295124e-01, 3.14295124e-01, 2.05136221e-01,\n       3.14792758e-01, 4.29019743e-01, 3.48633119e-01, 9.10408209e-01,\n       1.60748860e+00, 4.47870552e-03, 5.18639337e-01, 2.59437529e+00,\n       1.82330459e+00, 1.88498501e+00, 8.77597226e-02, 1.02647159e-01,\n       2.22625713e-01, 2.14768335e-01, 7.72642180e-05, 1.77883633e-01,\n       1.77981182e-01, 1.77883633e-01, 6.54781508e+01, 3.05521052e+01,\n       3.05521052e+01, 3.13168900e+00, 4.28328667e-06, 2.14768335e-01,\n       3.14295124e-01, 1.02640449e-01, 1.00275478e+00, 5.00253072e-05,\n       3.52772704e-02, 3.14452271e-01, 2.14768335e-01, 3.14295124e-01,\n       1.02640449e-01, 6.99790212e-02, 2.14768335e-01, 3.14295124e-01,\n       6.90401622e-04, 1.02640449e-01, 2.14768335e-01, 3.14295124e-01,\n       1.40132816e-01, 5.98482621e-01, 7.59561478e-01, 1.02640449e-01,\n       6.99790212e-02, 3.14295124e-01, 1.21920317e-05, 6.99790212e-02,\n       4.34774921e-05, 1.23159163e-02, 1.81206833e-04, 1.59721725e-02,\n       2.14768335e-01, 1.02640449e-01, 4.31163702e-03, 1.06074604e-03,\n       1.34916420e+00, 3.77154149e-02, 1.93574828e-01, 1.93574828e-01,\n       1.93574828e-01, 1.93574828e-01, 5.92033483e-02, 1.37731614e-01,\n       1.37731614e-01, 6.83116871e-02, 6.83116871e-02, 2.13500000e-01,\n       3.01199494e-04, 1.67624066e-01, 5.35000000e-01, 1.44051932e+00,\n       1.02666110e-01, 9.17028057e-08, 1.39958042e-01, 1.69370850e+00,\n       2.15270926e-01, 2.30122961e-01, 2.29533658e-01, 2.30122961e-01,\n       3.14295124e-01, 3.14295124e-01, 8.64316829e-01, 1.02640449e-01,\n       5.89303357e-01, 7.72026685e-01, 3.18257118e+00, 1.02640449e-01,\n       3.14295124e-01, 1.33575428e+00, 6.81994228e-02, 3.14295124e-01,\n       1.02640449e-01, 1.11312856e-05, 1.36194554e-02, 1.71067416e-05,\n       1.44051932e-01, 3.22152502e+00, 2.14768335e-01, 1.17688882e+00,\n       6.26893652e-03, 1.26503444e-01, 5.89303357e-07, 1.26503444e-01,\n       4.27668539e-07, 2.38013078e-03, 3.07921348e-06, 4.27668539e-06,\n       1.02640449e-06, 3.28701024e-03, 1.33470663e+00, 3.14295124e-01,\n       1.02640449e-01, 2.14768335e-01, 3.14295124e-01, 3.14295124e-01,\n       1.02640449e-01, 1.02640449e-01, 2.14768335e-01, 3.14295124e-01,\n       3.04816834e-03, 5.98513907e-03, 3.73226114e+00, 3.14452271e-01,\n       5.01752718e+00, 2.14768335e-01, 1.41432806e-01, 4.58347056e-01,\n       3.92868905e-07, 1.93587576e-04, 9.55920868e-01, 3.20842939e+00,\n       1.84182893e-03, 2.39643782e-01, 1.20624909e-01, 1.54528436e-04,\n       1.11312856e-05, 1.24408487e-05, 3.14295124e-01, 2.55208510e-02,\n       6.99790212e-02, 9.24043608e-05, 6.75984038e-05, 4.65179391e-03,\n       6.40155126e-05, 5.97381888e-04, 1.65133422e-07, 5.70158342e-01,\n       5.94096288e-01, 4.35305485e-02, 3.00872909e-06, 6.99790212e-02,\n       1.02450426e-01, 3.60968972e-05, 7.85256954e-07, 2.30882615e-04,\n       2.20275711e-02, 1.14404113e+00, 5.03628264e-01, 1.67708734e+00,\n       2.41060453e+00, 3.21045537e+00, 2.39931422e-01, 7.63795414e-04,\n       3.91813817e-06, 6.99790212e-02, 6.99790212e-02, 3.07274460e+00,\n       5.67604211e+00, 6.99790212e-02, 6.99790212e-02, 1.53603951e-01,\n       6.23084322e-04, 8.33055203e-02, 1.92046538e-04, 7.68186151e-05,\n       3.92306821e-06, 6.78564433e-07, 7.76721552e-07, 1.92046538e-03,\n       3.02153219e-03, 1.30164876e-03, 3.20077563e-04, 6.23084322e-04,\n       9.69660646e-02, 6.99790212e-02, 2.46246338e-02, 3.84093075e-07,\n       6.99790212e-02, 5.46265707e-06, 1.19534033e-05, 1.28031025e-03,\n       3.48244388e-02, 6.99790212e-02, 2.08263801e-02, 5.52290697e+02,\n       6.99790212e-02, 3.85800156e-01, 1.56312455e-05, 6.99790212e-02,\n       9.38742967e-03, 5.23775905e-01, 1.45101828e-05, 8.53540167e-08,\n       8.53540167e-05, 8.53540167e-08, 3.38059062e-05, 6.99790212e-02,\n       3.56112322e-04, 7.30843768e-04, 1.82230826e-03, 4.56643990e-03,\n       1.53842080e-01, 7.75529701e-04, 3.67841011e-02, 6.13068352e-04,\n       6.13068352e-03, 5.04982122e-02, 9.55964988e-05, 8.10000000e-04,\n       2.14770697e-01, 3.14299189e-01, 3.14296788e-01, 8.14236072e-05,\n       8.14236072e-05, 6.90000000e-04, 6.90000000e-04, 2.03495361e+00,\n       2.03495361e+00, 2.03495361e+00, 1.19582181e+00, 1.19582181e+00,\n       6.99803458e-02, 6.99795635e-02, 5.88934394e-06, 5.88934394e-06,\n       6.64609446e+00, 3.16480689e+00, 3.45033221e+00, 2.39176430e+00,\n       4.72722644e-02, 9.60532181e-03, 2.79984401e-01, 7.05651741e-01,\n       1.68445900e+00, 3.72249918e+01, 5.87521449e+00, 1.52557767e-04,\n       1.63236811e-01, 9.26055280e-03, 4.78906503e-01, 2.70880879e-01,\n       3.12504039e-01, 5.32907270e-01, 1.40018773e-01, 1.47642247e+00,\n       2.13881742e+01, 1.52430644e+00, 5.25629455e-01, 5.09117534e-01,\n       7.37532428e+00, 7.37532428e+00, 5.25629455e-01, 5.09117534e-01,\n       1.02643557e-01, 1.02643557e-01, 2.20768989e+01, 3.17408730e-03,\n       1.01733567e-01, 9.33939990e-02, 2.63537522e-01, 1.58869389e-02,\n       1.06703321e-01, 1.02629666e-01, 4.21514698e-05, 6.13021577e-01,\n       5.64223840e-04, 1.40004484e-01, 1.44423817e-01, 9.17120222e-04,\n       8.14101239e-02, 1.86024242e-05, 1.65128369e-03, 6.99058393e-05,\n       1.70296932e-04, 6.82401490e-02, 2.28540121e-01, 5.21457742e-02,\n       1.66092126e-01, 5.09652551e-01, 1.91571488e+00, 2.42134966e-03,\n       2.93410606e+01, 3.52734131e-01, 1.91339234e-01, 5.17118105e-02,\n       8.76515189e-02, 2.75578649e-02, 2.46722246e-01, 5.73873779e-03,\n       3.32955070e-01, 1.13561749e-01, 1.42755825e-02, 3.83514883e-03,\n       1.89839867e-01, 1.88159868e-01, 3.80120946e-03, 2.68656444e-05,\n       4.14138537e-02, 1.64460784e-02, 1.68822684e-01, 2.53898681e-01,\n       3.73993627e+00, 3.99223355e-01, 1.12354492e-01, 9.29171652e-02,\n       3.75738647e-01, 3.75738647e-01, 2.34656703e-01, 3.75738647e-01,\n       3.75738647e-01, 3.75738647e-01, 3.75738647e-01, 3.75738647e-01,\n       2.69207383e-01, 3.75738647e-01, 3.90723683e+00, 2.34710339e-04,\n       1.85697298e-01, 2.23926088e+00, 1.55976103e+00, 2.44774379e+00,\n       1.84932063e+00, 2.00761321e+00, 2.00761321e+00, 1.31396962e-01,\n       7.11200183e-02, 3.09546948e+00, 1.52633749e-03, 3.09546948e+00,\n       1.52633749e-03, 3.91928681e-05, 9.94611463e-02, 8.02344563e-01,\n       1.25712973e-04, 8.13953089e-02, 1.63489290e-01, 6.73429429e-03,\n       1.87553243e+01, 1.69301417e+00, 1.87553243e+01, 1.69301417e+00,\n       6.73429429e-03, 1.59527013e-04, 5.97479451e-06, 5.95836682e-03,\n       2.52409555e-02, 1.56856448e-04, 6.64478495e-04, 4.49897969e+02,\n       2.69612769e+03, 3.52962215e-03, 1.01476637e-01, 7.90608908e-01,\n       5.18915529e-01, 2.94712695e-02, 2.69224030e-01, 5.31452283e-01,\n       3.92000961e-01, 4.00785296e-01, 4.89256083e-04, 1.15782068e-03,\n       1.73717766e-03, 2.15789224e-01, 2.96571857e-01, 2.27870565e-04,\n       4.90798141e-05, 2.27870565e-04, 4.90798141e-05, 9.68563568e-02,\n       1.32999819e-02, 1.22558834e-03, 1.18808564e-03, 1.18154908e-03,\n       1.21884545e-03, 2.80468720e-04, 1.86632099e-02, 2.10249124e-04,\n       7.82798948e-06, 6.94868108e-04, 1.45355272e-06, 5.96674418e-07,\n       4.45085128e-04, 5.82457082e-04, 1.95068174e-03, 4.68811557e-01,\n       5.92549923e-04, 2.57933496e+00, 1.02298611e-02, 6.09193976e-01,\n       2.41717420e-01, 1.23678746e-02, 2.82087949e+00, 1.44335001e-01,\n       3.11295656e-02, 6.08350655e-01, 8.29578002e-01, 4.24498644e-02,\n       3.92755009e-02, 7.67599366e-01, 2.09752484e+00, 7.18981601e-01,\n       3.95947808e+01, 1.97686985e+02, 5.27930411e+01, 2.51878001e-02,\n       4.22964944e-04, 7.11261780e-02, 4.43626683e-03, 8.67022834e-02,\n       1.32167151e-03, 1.28122869e-03, 2.30934129e-05, 1.66959134e-05,\n       5.21162156e-05, 2.34495128e-01, 4.57068922e-02, 2.34495128e-01,\n       3.14864950e-01, 2.02535982e+00, 7.41379017e-01, 9.94070125e-01,\n       2.03289664e+00, 1.98243889e+00, 2.01495962e+00, 2.04774283e+00,\n       2.02124989e+00, 2.02246819e+00, 2.02077447e+00, 2.76488724e-02,\n       6.95737881e-02, 9.91026251e-02, 2.14768335e-01, 2.14768335e-01,\n       2.14768335e-01, 4.29536669e-01, 6.99790212e-02, 6.99790212e-02,\n       2.14768335e-01, 6.99790212e-02, 8.59073339e-01, 2.14768335e-01,\n       2.14768335e-01, 6.99790212e-02, 6.99790212e-02, 2.14768335e-01,\n       6.99790212e-02, 2.11888322e-01, 6.99790212e-02, 6.99790212e-02,\n       1.93894145e-01, 2.14768335e-01, 6.99790212e-02, 2.14768335e-01,\n       1.48155591e-01, 3.85648559e-02, 6.99790212e-02, 6.99790212e-02,\n       1.11314114e+00, 1.48155591e+02, 2.09937063e-01, 2.14768335e-01,\n       6.99790212e-02, 6.99790212e-02, 2.14768335e-01, 6.99790212e-02,\n       6.99790212e-02, 6.99790212e-02, 6.99790212e-02, 6.95373856e-02,\n       6.99790212e-02, 6.99790212e-02, 2.14768335e-01, 6.99790212e-02,\n       2.14768335e-01, 2.14768335e-01, 4.96391174e-02, 6.06709038e+02,\n       2.13350674e+01, 9.95494246e+00, 7.93378502e-01, 6.99790212e-02,\n       6.99790212e-02, 2.14768335e-01, 2.14768335e-01, 6.99790212e-02,\n       1.10728105e+00, 1.60293109e-01, 6.99790212e-02, 2.09937063e-01,\n       6.99790212e-02, 1.40123243e+00, 6.99790212e-02, 6.81358077e-02,\n       1.66535216e-01, 6.99790212e-02, 1.83660108e-03, 6.99790212e-02,\n       6.99790212e-02, 6.99790212e-02, 1.53609069e-01, 6.99790212e-02,\n       6.99790212e-02, 6.99790212e-02, 6.99790212e-02, 6.99790212e-02,\n       6.99790212e-02, 1.16045238e+00, 5.33531747e-02, 6.26225685e-02,\n       6.99790212e-02, 6.99790212e-02, 4.29536669e-01, 6.99790212e-02,\n       6.99790212e-02, 6.99790212e-02, 6.99790212e-02, 1.02408324e-01,\n       1.02408324e-01, 4.68699339e-02, 4.20080876e-02, 3.00058017e-02,\n       2.14768335e-01, 6.99790212e-02, 6.99790212e-02, 4.29919777e-02,\n       6.99790212e-02, 6.99790212e-02, 6.99790212e-02, 6.99790212e-02,\n       4.05788457e-03, 1.89109035e-01, 6.99790212e-02, 6.99790212e-02,\n       2.18454006e-02, 2.94883318e-01, 2.96714891e-01, 5.21218128e-02,\n       7.18004564e-02, 6.99790212e-02, 5.63947433e-02, 6.79758067e-02,\n       1.66245899e-02, 1.95158230e-02, 8.74920474e-02, 9.77375793e-02,\n       1.31449930e-02, 6.89838400e-02, 1.21517921e+02, 1.62023894e+02,\n       1.82321790e-01, 6.99790212e-02, 6.99790212e-02, 6.99790212e-02,\n       6.99790212e-02, 6.99790212e-02, 4.39971395e-01, 1.20564482e-02])"
     },
     "execution_count": 137,
     "metadata": {},
     "output_type": "execute_result"
    }
   ],
   "source": [
    "new_Data"
   ]
  },
  {
   "cell_type": "code",
   "execution_count": 138,
   "metadata": {},
   "outputs": [
    {
     "data": {
      "text/plain": "numpy.ndarray"
     },
     "execution_count": 138,
     "metadata": {},
     "output_type": "execute_result"
    }
   ],
   "source": [
    "type(new_Data)"
   ]
  },
  {
   "cell_type": "code",
   "execution_count": 139,
   "metadata": {},
   "outputs": [],
   "source": [
    "import numpy as np"
   ]
  },
  {
   "cell_type": "code",
   "execution_count": 140,
   "metadata": {},
   "outputs": [],
   "source": [
    "dd = np.copy(new_Data)"
   ]
  },
  {
   "cell_type": "code",
   "execution_count": 141,
   "metadata": {},
   "outputs": [
    {
     "data": {
      "text/plain": "array([2.03885866e+00, 1.56243963e+00, 2.46878820e-01, 3.14295124e-01,\n       3.14295124e-01, 2.48816973e+00, 6.90676630e-01, 3.14295124e-01,\n       3.14295124e-01, 8.30158187e-01, 6.77803626e-01, 3.14295124e-01,\n       2.99000000e+00, 2.14768335e-01, 2.36336838e+00, 3.14295124e-01,\n       1.02145915e+00, 4.87812224e+00, 7.35948224e-01, 7.22136263e-01,\n       1.03028692e+00, 3.14295124e-01, 2.14768335e-01, 1.43960262e+00,\n       3.14295124e-01, 2.14768335e-01, 6.02398987e-06, 2.40959595e-06,\n       3.07747309e-06, 1.84551645e+00, 2.14768335e-01, 5.65731223e-03,\n       2.14768335e-01, 7.92167764e-01, 3.14295124e-01, 3.14452271e-01,\n       7.18483146e-06, 1.93574828e-01, 1.93574828e-01, 1.93574828e-01,\n       1.93574828e-01, 3.27390754e-06, 1.83340001e+00, 1.83340001e+00,\n       3.14295124e-06, 3.14297704e-01, 1.02640449e-01, 3.14295124e-01,\n       1.02640449e-01, 2.14768335e-01, 4.61081423e-02, 1.06582715e+00,\n       3.92872048e+00, 1.02640449e-01, 7.50000000e-03, 1.10003293e-02,\n       4.09137662e-04, 7.70023054e-01, 8.12997893e-04, 1.83338822e-03,\n       2.13834270e-06, 3.14295124e-01, 3.14295124e-01, 1.16061836e-01,\n       1.74983810e+00, 1.82330459e+00, 1.82330459e+00, 4.77623823e-01,\n       3.14295124e-01, 4.70435393e-07, 1.82330459e+00, 2.14768335e-01,\n       3.14295124e-01, 3.91559342e-02, 5.10000000e+00, 2.14768335e-01,\n       1.02640449e-01, 1.02640449e-01, 1.02640449e-01, 3.14295124e-01,\n       2.21787832e-01, 1.92450843e-04, 6.41685878e+00, 5.24947461e-01,\n       2.14768335e-01, 2.61932247e+00, 3.14295124e-01, 2.48816973e-01,\n       5.56610604e-01, 8.56585169e-01, 2.14768335e-01, 2.14768335e-01,\n       1.02640449e-01, 1.83348644e+00, 5.50000000e-05, 1.25000000e-06,\n       1.93574828e-01, 1.93574828e-01, 1.93574828e-01, 1.93574828e-01,\n       6.83116871e-02, 1.37504117e-03, 4.71442686e-03, 1.29646739e-03,\n       3.52500000e-04, 2.36971138e-04, 2.13834270e-01, 6.61329323e-04,\n       2.61912603e-04, 2.21532303e-05, 5.52297726e-02, 3.14452271e-01,\n       3.14295124e-01, 3.14295124e-01, 3.14295124e-01, 3.14295124e-01,\n       3.14295124e-01, 6.29035499e-01, 1.34151635e+00, 2.14768335e-01,\n       1.93574828e-01, 1.93574828e-01, 1.93574828e-01, 1.93574828e-01,\n       3.92868905e-03, 5.68350349e-03, 3.14373698e-01, 2.14768335e-01,\n       1.02640449e-01, 2.00440799e-01, 3.14452271e-01, 3.14452271e-01,\n       3.14295124e-01, 3.14295124e-01, 2.05280899e-01, 2.07696694e+00,\n       1.04765041e-01, 3.14373698e-01, 2.14768335e-01, 2.46616907e+00,\n       2.36271359e+00, 2.14768335e-01, 3.43930535e+00, 3.14373698e-01,\n       6.14027907e-01, 3.14373698e-01, 3.14295124e-01, 3.14295124e-01,\n       6.99790212e-02, 1.02640449e-01, 2.14768335e-01, 1.13624235e+00,\n       3.90249779e+00, 2.03951344e+00, 3.14295124e-01, 2.14768335e-01,\n       1.42794751e+00, 3.14452271e-01, 2.14768335e-01, 1.19694060e-03,\n       2.70500000e-02, 3.73239567e+01, 3.68845000e+01, 3.68845000e+01,\n       5.02897211e+00, 2.34411780e-03, 1.92450843e-04, 2.14768335e-01,\n       2.14768335e-01, 3.14452271e-01, 3.14295124e-01, 3.14295124e-01,\n       3.14295124e-01, 3.14295124e-01, 3.14295124e-01, 1.20249183e-05,\n       3.50429630e-01, 3.75848165e-01, 3.14452271e-01, 3.14452271e-01,\n       5.72279038e-01, 2.57983914e-01, 3.14296041e-01, 3.14373698e-01,\n       3.14373698e-01, 3.14373698e-01, 3.14373698e-01, 2.88103864e-07,\n       4.27668539e-02, 9.75624447e-02, 4.03500000e+02, 3.60000000e+02,\n       6.65000000e+02, 6.67877138e-07, 9.16694111e-03, 3.14295124e-01,\n       3.05782964e-02, 8.77407221e-02, 4.73799899e-02, 6.89995658e-01,\n       4.91740913e+00, 7.61772807e-01, 7.30000000e-02, 9.76000000e+00,\n       1.53960674e-05, 2.75008233e-02, 2.25000000e-02, 1.67624066e-02,\n       9.00000000e-03, 3.20751404e+00, 2.56601124e+01, 3.20751404e-05,\n       3.14295124e-01, 3.14295124e-01, 1.25137913e+00, 5.55972500e-04,\n       7.95000000e-05, 9.10000000e-05, 5.89303357e-02, 2.25000000e-01,\n       3.54000000e-01, 1.52500000e-01, 2.31792654e-02, 3.75000000e-02,\n       6.92758836e-03, 7.30000000e-02, 2.23196142e-01, 3.84901685e-03,\n       8.41564481e-01, 9.58648886e-01, 9.33751798e-01, 2.22628227e+00,\n       5.23825207e-01, 3.14295124e-01, 3.53189145e+00, 3.14295124e-01,\n       5.56610604e-01, 1.44051932e-01, 2.88500000e+00, 6.49628511e-06,\n       3.14295124e-01, 3.14295124e-01, 2.14768335e-01, 3.14295124e-01,\n       3.14295124e-01, 1.09470301e+00, 9.91339203e-05, 2.00363141e-04,\n       1.34916420e+00, 5.75291033e-01, 2.08230734e+00, 4.97324711e-03,\n       6.40000000e-04, 3.66795505e-05, 1.40045000e-03, 2.80802986e-07,\n       1.59819733e-03, 7.47760482e-06, 1.02640449e-01, 3.44415073e-05,\n       5.89303357e-02, 1.50000000e-01, 1.42794751e+00, 6.99790212e-02,\n       9.41078175e-01, 2.14768335e-01, 1.02640449e-01, 3.27259798e-01,\n       1.46815110e+00, 1.36246936e+00, 3.14295124e-01, 4.08000000e+00,\n       1.06860342e-01, 1.02640449e-01, 3.14373698e-01, 3.92868905e+00,\n       3.14295124e-01, 8.52860641e-01, 1.02640449e-01, 3.14295124e-01,\n       5.78719291e-01, 1.04765041e-01, 3.16875780e+00, 1.73032561e+00,\n       2.44000000e+00, 3.14295124e-01, 2.14768335e-01, 1.77563649e+00,\n       2.14768335e-01, 2.61912603e-05, 1.57160658e+00, 1.82330459e+00,\n       3.14295124e-01, 3.14295124e-01, 3.14295124e-01, 3.14373698e-01,\n       6.47058824e+04, 3.51632516e+00, 2.23789627e+00, 5.50179586e+00,\n       6.49590793e+00, 3.14295124e-01, 1.15465481e+00, 3.14295124e-01,\n       3.14295124e-01, 4.74712079e-01, 3.14295124e-01, 3.54109551e-01,\n       1.12425985e+00, 1.29993773e+00, 3.14295124e-01, 8.46783708e-06,\n       1.89000000e-04, 8.46783708e-06, 1.89000000e-04, 8.46783708e-06,\n       1.89000000e-04, 7.78356742e-06, 1.89500084e+01, 6.85071701e-01,\n       3.14566203e-01, 3.14546560e-01, 7.37970189e-01, 1.62495817e-01,\n       4.72084372e-01, 4.71577571e-01, 3.14373698e-01, 3.92868905e+00,\n       3.14295124e-01, 8.32895174e-01, 1.92450843e-04, 5.89303357e-04,\n       1.73608769e+00, 2.20006587e+00, 2.30677100e-01, 3.14452271e-01,\n       1.06895700e+00, 5.98915550e-01, 3.14295124e-01, 3.14295124e-01,\n       2.14768335e-01, 3.14426080e-01, 2.14768335e-01, 1.30762486e+01,\n       1.30762486e+01, 1.30762486e+01, 3.14295124e-01, 1.57671387e+00,\n       4.52207722e-03, 3.44273174e+00, 7.99740169e-01, 7.99740169e-01,\n       7.98414396e-01, 1.05419823e+01, 3.14295124e-01, 6.99790212e-02,\n       3.14295124e-01, 3.14295124e-01, 1.11193820e-02, 2.42572176e-01,\n       1.68851429e+00, 3.14373698e-01, 3.78806582e-01, 1.49737586e+00,\n       5.79518766e-01, 8.38141676e-02, 6.33830373e-02, 1.36853933e-05,\n       8.65621154e-06, 8.95266700e-01, 9.90302645e-01, 3.88759905e+00,\n       1.02691770e-01, 4.95430100e-01, 2.16201950e+00, 2.57983914e-01,\n       2.57983914e-01, 2.57983914e-01, 1.72053819e+00, 1.69278064e+00,\n       1.02691770e-01, 2.75008233e-07, 7.82617465e+00, 5.95113030e+00,\n       1.68051234e+00, 2.14768335e-01, 1.70243192e-01, 2.88103864e-02,\n       1.02640449e-01, 1.11312856e-04, 2.15864931e-04, 2.38698919e-02,\n       2.38698919e-02, 1.87136555e-02, 2.18304155e-02, 1.57147562e+00,\n       3.14295124e-01, 3.14295124e-01, 3.14295124e-01, 2.05136221e-01,\n       3.14792758e-01, 4.29019743e-01, 3.48633119e-01, 9.10408209e-01,\n       1.60748860e+00, 4.47870552e-03, 5.18639337e-01, 2.59437529e+00,\n       1.82330459e+00, 1.88498501e+00, 8.77597226e-02, 1.02647159e-01,\n       2.22625713e-01, 2.14768335e-01, 7.72642180e-05, 1.77883633e-01,\n       1.77981182e-01, 1.77883633e-01, 6.54781508e+01, 3.05521052e+01,\n       3.05521052e+01, 3.13168900e+00, 4.28328667e-06, 2.14768335e-01,\n       3.14295124e-01, 1.02640449e-01, 1.00275478e+00, 5.00253072e-05,\n       3.52772704e-02, 3.14452271e-01, 2.14768335e-01, 3.14295124e-01,\n       1.02640449e-01, 6.99790212e-02, 2.14768335e-01, 3.14295124e-01,\n       6.90401622e-04, 1.02640449e-01, 2.14768335e-01, 3.14295124e-01,\n       1.40132816e-01, 5.98482621e-01, 7.59561478e-01, 1.02640449e-01,\n       6.99790212e-02, 3.14295124e-01, 1.21920317e-05, 6.99790212e-02,\n       4.34774921e-05, 1.23159163e-02, 1.81206833e-04, 1.59721725e-02,\n       2.14768335e-01, 1.02640449e-01, 4.31163702e-03, 1.06074604e-03,\n       1.34916420e+00, 3.77154149e-02, 1.93574828e-01, 1.93574828e-01,\n       1.93574828e-01, 1.93574828e-01, 5.92033483e-02, 1.37731614e-01,\n       1.37731614e-01, 6.83116871e-02, 6.83116871e-02, 2.13500000e-01,\n       3.01199494e-04, 1.67624066e-01, 5.35000000e-01, 1.44051932e+00,\n       1.02666110e-01, 9.17028057e-08, 1.39958042e-01, 1.69370850e+00,\n       2.15270926e-01, 2.30122961e-01, 2.29533658e-01, 2.30122961e-01,\n       3.14295124e-01, 3.14295124e-01, 8.64316829e-01, 1.02640449e-01,\n       5.89303357e-01, 7.72026685e-01, 3.18257118e+00, 1.02640449e-01,\n       3.14295124e-01, 1.33575428e+00, 6.81994228e-02, 3.14295124e-01,\n       1.02640449e-01, 1.11312856e-05, 1.36194554e-02, 1.71067416e-05,\n       1.44051932e-01, 3.22152502e+00, 2.14768335e-01, 1.17688882e+00,\n       6.26893652e-03, 1.26503444e-01, 5.89303357e-07, 1.26503444e-01,\n       4.27668539e-07, 2.38013078e-03, 3.07921348e-06, 4.27668539e-06,\n       1.02640449e-06, 3.28701024e-03, 1.33470663e+00, 3.14295124e-01,\n       1.02640449e-01, 2.14768335e-01, 3.14295124e-01, 3.14295124e-01,\n       1.02640449e-01, 1.02640449e-01, 2.14768335e-01, 3.14295124e-01,\n       3.04816834e-03, 5.98513907e-03, 3.73226114e+00, 3.14452271e-01,\n       5.01752718e+00, 2.14768335e-01, 1.41432806e-01, 4.58347056e-01,\n       3.92868905e-07, 1.93587576e-04, 9.55920868e-01, 3.20842939e+00,\n       1.84182893e-03, 2.39643782e-01, 1.20624909e-01, 1.54528436e-04,\n       1.11312856e-05, 1.24408487e-05, 3.14295124e-01, 2.55208510e-02,\n       6.99790212e-02, 9.24043608e-05, 6.75984038e-05, 4.65179391e-03,\n       6.40155126e-05, 5.97381888e-04, 1.65133422e-07, 5.70158342e-01,\n       5.94096288e-01, 4.35305485e-02, 3.00872909e-06, 6.99790212e-02,\n       1.02450426e-01, 3.60968972e-05, 7.85256954e-07, 2.30882615e-04,\n       2.20275711e-02, 1.14404113e+00, 5.03628264e-01, 1.67708734e+00,\n       2.41060453e+00, 3.21045537e+00, 2.39931422e-01, 7.63795414e-04,\n       3.91813817e-06, 6.99790212e-02, 6.99790212e-02, 3.07274460e+00,\n       5.67604211e+00, 6.99790212e-02, 6.99790212e-02, 1.53603951e-01,\n       6.23084322e-04, 8.33055203e-02, 1.92046538e-04, 7.68186151e-05,\n       3.92306821e-06, 6.78564433e-07, 7.76721552e-07, 1.92046538e-03,\n       3.02153219e-03, 1.30164876e-03, 3.20077563e-04, 6.23084322e-04,\n       9.69660646e-02, 6.99790212e-02, 2.46246338e-02, 3.84093075e-07,\n       6.99790212e-02, 5.46265707e-06, 1.19534033e-05, 1.28031025e-03,\n       3.48244388e-02, 6.99790212e-02, 2.08263801e-02, 5.52290697e+02,\n       6.99790212e-02, 3.85800156e-01, 1.56312455e-05, 6.99790212e-02,\n       9.38742967e-03, 5.23775905e-01, 1.45101828e-05, 8.53540167e-08,\n       8.53540167e-05, 8.53540167e-08, 3.38059062e-05, 6.99790212e-02,\n       3.56112322e-04, 7.30843768e-04, 1.82230826e-03, 4.56643990e-03,\n       1.53842080e-01, 7.75529701e-04, 3.67841011e-02, 6.13068352e-04,\n       6.13068352e-03, 5.04982122e-02, 9.55964988e-05, 8.10000000e-04,\n       2.14770697e-01, 3.14299189e-01, 3.14296788e-01, 8.14236072e-05,\n       8.14236072e-05, 6.90000000e-04, 6.90000000e-04, 2.03495361e+00,\n       2.03495361e+00, 2.03495361e+00, 1.19582181e+00, 1.19582181e+00,\n       6.99803458e-02, 6.99795635e-02, 5.88934394e-06, 5.88934394e-06,\n       6.64609446e+00, 3.16480689e+00, 3.45033221e+00, 2.39176430e+00,\n       4.72722644e-02, 9.60532181e-03, 2.79984401e-01, 7.05651741e-01,\n       1.68445900e+00, 3.72249918e+01, 5.87521449e+00, 1.52557767e-04,\n       1.63236811e-01, 9.26055280e-03, 4.78906503e-01, 2.70880879e-01,\n       3.12504039e-01, 5.32907270e-01, 1.40018773e-01, 1.47642247e+00,\n       2.13881742e+01, 1.52430644e+00, 5.25629455e-01, 5.09117534e-01,\n       7.37532428e+00, 7.37532428e+00, 5.25629455e-01, 5.09117534e-01,\n       1.02643557e-01, 1.02643557e-01, 2.20768989e+01, 3.17408730e-03,\n       1.01733567e-01, 9.33939990e-02, 2.63537522e-01, 1.58869389e-02,\n       1.06703321e-01, 1.02629666e-01, 4.21514698e-05, 6.13021577e-01,\n       5.64223840e-04, 1.40004484e-01, 1.44423817e-01, 9.17120222e-04,\n       8.14101239e-02, 1.86024242e-05, 1.65128369e-03, 6.99058393e-05,\n       1.70296932e-04, 6.82401490e-02, 2.28540121e-01, 5.21457742e-02,\n       1.66092126e-01, 5.09652551e-01, 1.91571488e+00, 2.42134966e-03,\n       2.93410606e+01, 3.52734131e-01, 1.91339234e-01, 5.17118105e-02,\n       8.76515189e-02, 2.75578649e-02, 2.46722246e-01, 5.73873779e-03,\n       3.32955070e-01, 1.13561749e-01, 1.42755825e-02, 3.83514883e-03,\n       1.89839867e-01, 1.88159868e-01, 3.80120946e-03, 2.68656444e-05,\n       4.14138537e-02, 1.64460784e-02, 1.68822684e-01, 2.53898681e-01,\n       3.73993627e+00, 3.99223355e-01, 1.12354492e-01, 9.29171652e-02,\n       3.75738647e-01, 3.75738647e-01, 2.34656703e-01, 3.75738647e-01,\n       3.75738647e-01, 3.75738647e-01, 3.75738647e-01, 3.75738647e-01,\n       2.69207383e-01, 3.75738647e-01, 3.90723683e+00, 2.34710339e-04,\n       1.85697298e-01, 2.23926088e+00, 1.55976103e+00, 2.44774379e+00,\n       1.84932063e+00, 2.00761321e+00, 2.00761321e+00, 1.31396962e-01,\n       7.11200183e-02, 3.09546948e+00, 1.52633749e-03, 3.09546948e+00,\n       1.52633749e-03, 3.91928681e-05, 9.94611463e-02, 8.02344563e-01,\n       1.25712973e-04, 8.13953089e-02, 1.63489290e-01, 6.73429429e-03,\n       1.87553243e+01, 1.69301417e+00, 1.87553243e+01, 1.69301417e+00,\n       6.73429429e-03, 1.59527013e-04, 5.97479451e-06, 5.95836682e-03,\n       2.52409555e-02, 1.56856448e-04, 6.64478495e-04, 4.49897969e+02,\n       2.69612769e+03, 3.52962215e-03, 1.01476637e-01, 7.90608908e-01,\n       5.18915529e-01, 2.94712695e-02, 2.69224030e-01, 5.31452283e-01,\n       3.92000961e-01, 4.00785296e-01, 4.89256083e-04, 1.15782068e-03,\n       1.73717766e-03, 2.15789224e-01, 2.96571857e-01, 2.27870565e-04,\n       4.90798141e-05, 2.27870565e-04, 4.90798141e-05, 9.68563568e-02,\n       1.32999819e-02, 1.22558834e-03, 1.18808564e-03, 1.18154908e-03,\n       1.21884545e-03, 2.80468720e-04, 1.86632099e-02, 2.10249124e-04,\n       7.82798948e-06, 6.94868108e-04, 1.45355272e-06, 5.96674418e-07,\n       4.45085128e-04, 5.82457082e-04, 1.95068174e-03, 4.68811557e-01,\n       5.92549923e-04, 2.57933496e+00, 1.02298611e-02, 6.09193976e-01,\n       2.41717420e-01, 1.23678746e-02, 2.82087949e+00, 1.44335001e-01,\n       3.11295656e-02, 6.08350655e-01, 8.29578002e-01, 4.24498644e-02,\n       3.92755009e-02, 7.67599366e-01, 2.09752484e+00, 7.18981601e-01,\n       3.95947808e+01, 1.97686985e+02, 5.27930411e+01, 2.51878001e-02,\n       4.22964944e-04, 7.11261780e-02, 4.43626683e-03, 8.67022834e-02,\n       1.32167151e-03, 1.28122869e-03, 2.30934129e-05, 1.66959134e-05,\n       5.21162156e-05, 2.34495128e-01, 4.57068922e-02, 2.34495128e-01,\n       3.14864950e-01, 2.02535982e+00, 7.41379017e-01, 9.94070125e-01,\n       2.03289664e+00, 1.98243889e+00, 2.01495962e+00, 2.04774283e+00,\n       2.02124989e+00, 2.02246819e+00, 2.02077447e+00, 2.76488724e-02,\n       6.95737881e-02, 9.91026251e-02, 2.14768335e-01, 2.14768335e-01,\n       2.14768335e-01, 4.29536669e-01, 6.99790212e-02, 6.99790212e-02,\n       2.14768335e-01, 6.99790212e-02, 8.59073339e-01, 2.14768335e-01,\n       2.14768335e-01, 6.99790212e-02, 6.99790212e-02, 2.14768335e-01,\n       6.99790212e-02, 2.11888322e-01, 6.99790212e-02, 6.99790212e-02,\n       1.93894145e-01, 2.14768335e-01, 6.99790212e-02, 2.14768335e-01,\n       1.48155591e-01, 3.85648559e-02, 6.99790212e-02, 6.99790212e-02,\n       1.11314114e+00, 1.48155591e+02, 2.09937063e-01, 2.14768335e-01,\n       6.99790212e-02, 6.99790212e-02, 2.14768335e-01, 6.99790212e-02,\n       6.99790212e-02, 6.99790212e-02, 6.99790212e-02, 6.95373856e-02,\n       6.99790212e-02, 6.99790212e-02, 2.14768335e-01, 6.99790212e-02,\n       2.14768335e-01, 2.14768335e-01, 4.96391174e-02, 6.06709038e+02,\n       2.13350674e+01, 9.95494246e+00, 7.93378502e-01, 6.99790212e-02,\n       6.99790212e-02, 2.14768335e-01, 2.14768335e-01, 6.99790212e-02,\n       1.10728105e+00, 1.60293109e-01, 6.99790212e-02, 2.09937063e-01,\n       6.99790212e-02, 1.40123243e+00, 6.99790212e-02, 6.81358077e-02,\n       1.66535216e-01, 6.99790212e-02, 1.83660108e-03, 6.99790212e-02,\n       6.99790212e-02, 6.99790212e-02, 1.53609069e-01, 6.99790212e-02,\n       6.99790212e-02, 6.99790212e-02, 6.99790212e-02, 6.99790212e-02,\n       6.99790212e-02, 1.16045238e+00, 5.33531747e-02, 6.26225685e-02,\n       6.99790212e-02, 6.99790212e-02, 4.29536669e-01, 6.99790212e-02,\n       6.99790212e-02, 6.99790212e-02, 6.99790212e-02, 1.02408324e-01,\n       1.02408324e-01, 4.68699339e-02, 4.20080876e-02, 3.00058017e-02,\n       2.14768335e-01, 6.99790212e-02, 6.99790212e-02, 4.29919777e-02,\n       6.99790212e-02, 6.99790212e-02, 6.99790212e-02, 6.99790212e-02,\n       4.05788457e-03, 1.89109035e-01, 6.99790212e-02, 6.99790212e-02,\n       2.18454006e-02, 2.94883318e-01, 2.96714891e-01, 5.21218128e-02,\n       7.18004564e-02, 6.99790212e-02, 5.63947433e-02, 6.79758067e-02,\n       1.66245899e-02, 1.95158230e-02, 8.74920474e-02, 9.77375793e-02,\n       1.31449930e-02, 6.89838400e-02, 1.21517921e+02, 1.62023894e+02,\n       1.82321790e-01, 6.99790212e-02, 6.99790212e-02, 6.99790212e-02,\n       6.99790212e-02, 6.99790212e-02, 4.39971395e-01, 1.20564482e-02])"
     },
     "execution_count": 141,
     "metadata": {},
     "output_type": "execute_result"
    }
   ],
   "source": [
    "dd"
   ]
  },
  {
   "cell_type": "code",
   "execution_count": 142,
   "metadata": {},
   "outputs": [
    {
     "data": {
      "text/plain": "<1x15437 sparse matrix of type '<class 'numpy.float64'>'\n\twith 968 stored elements in Compressed Sparse Column format>"
     },
     "execution_count": 142,
     "metadata": {},
     "output_type": "execute_result"
    }
   ],
   "source": [
    "data[23293,:]"
   ]
  },
  {
   "cell_type": "code",
   "execution_count": 155,
   "metadata": {},
   "outputs": [
    {
     "ename": "NameError",
     "evalue": "name 'dsa' is not defined",
     "output_type": "error",
     "traceback": [
      "\u001b[1;31m---------------------------------------------------------------------------\u001b[0m",
      "\u001b[1;31mNameError\u001b[0m                                 Traceback (most recent call last)",
      "\u001b[1;32m<ipython-input-155-91ec72074dd9>\u001b[0m in \u001b[0;36m<module>\u001b[1;34m\u001b[0m\n\u001b[1;32m----> 1\u001b[1;33m \u001b[0mdsa\u001b[0m\u001b[1;33m[\u001b[0m\u001b[1;36m23293\u001b[0m\u001b[1;33m:\u001b[0m\u001b[1;33m]\u001b[0m \u001b[1;33m=\u001b[0m \u001b[0mnp\u001b[0m\u001b[1;33m.\u001b[0m\u001b[0mcopy\u001b[0m\u001b[1;33m(\u001b[0m\u001b[0mdata\u001b[0m\u001b[1;33m[\u001b[0m\u001b[1;36m23293\u001b[0m\u001b[1;33m:\u001b[0m\u001b[1;33m]\u001b[0m\u001b[1;33m.\u001b[0m\u001b[0mdata\u001b[0m\u001b[1;33m)\u001b[0m\u001b[1;33m\u001b[0m\u001b[1;33m\u001b[0m\u001b[0m\n\u001b[0m",
      "\u001b[1;31mNameError\u001b[0m: name 'dsa' is not defined"
     ]
    }
   ],
   "source": [
    "dsa[23293:] = np.copy(data[23293:].data)"
   ]
  },
  {
   "cell_type": "code",
   "execution_count": 152,
   "metadata": {},
   "outputs": [
    {
     "data": {
      "text/plain": "(1180600,)"
     },
     "execution_count": 152,
     "metadata": {},
     "output_type": "execute_result"
    }
   ],
   "source": [
    "dda.shape"
   ]
  },
  {
   "cell_type": "code",
   "execution_count": 157,
   "metadata": {},
   "outputs": [
    {
     "data": {
      "text/plain": "numpy.ndarray"
     },
     "execution_count": 157,
     "metadata": {},
     "output_type": "execute_result"
    }
   ],
   "source": [
    "type(data.getrow(23293).data)"
   ]
  },
  {
   "cell_type": "code",
   "execution_count": 160,
   "metadata": {},
   "outputs": [],
   "source": [
    "fet = np.copy(data.getrow(23293).data / 2)"
   ]
  },
  {
   "cell_type": "code",
   "execution_count": 161,
   "metadata": {},
   "outputs": [
    {
     "data": {
      "text/plain": "array([2.03885866e+00, 1.56243963e+00, 2.46878820e-01, 3.14295124e-01,\n       3.14295124e-01, 2.48816973e+00, 6.90676630e-01, 3.14295124e-01,\n       3.14295124e-01, 8.30158187e-01, 6.77803626e-01, 3.14295124e-01,\n       2.99000000e+00, 2.14768335e-01, 2.36336838e+00, 3.14295124e-01,\n       1.02145915e+00, 4.87812224e+00, 7.35948224e-01, 7.22136263e-01,\n       1.03028692e+00, 3.14295124e-01, 2.14768335e-01, 1.43960262e+00,\n       3.14295124e-01, 2.14768335e-01, 6.02398987e-06, 2.40959595e-06,\n       3.07747309e-06, 1.84551645e+00, 2.14768335e-01, 5.65731223e-03,\n       2.14768335e-01, 7.92167764e-01, 3.14295124e-01, 3.14452271e-01,\n       7.18483146e-06, 1.93574828e-01, 1.93574828e-01, 1.93574828e-01,\n       1.93574828e-01, 3.27390754e-06, 1.83340001e+00, 1.83340001e+00,\n       3.14295124e-06, 3.14297704e-01, 1.02640449e-01, 3.14295124e-01,\n       1.02640449e-01, 2.14768335e-01, 4.61081423e-02, 1.06582715e+00,\n       3.92872048e+00, 1.02640449e-01, 7.50000000e-03, 1.10003293e-02,\n       4.09137662e-04, 7.70023054e-01, 8.12997893e-04, 1.83338822e-03,\n       2.13834270e-06, 3.14295124e-01, 3.14295124e-01, 1.16061836e-01,\n       1.74983810e+00, 1.82330459e+00, 1.82330459e+00, 4.77623823e-01,\n       3.14295124e-01, 4.70435393e-07, 1.82330459e+00, 2.14768335e-01,\n       3.14295124e-01, 3.91559342e-02, 5.10000000e+00, 2.14768335e-01,\n       1.02640449e-01, 1.02640449e-01, 1.02640449e-01, 3.14295124e-01,\n       2.21787832e-01, 1.92450843e-04, 6.41685878e+00, 5.24947461e-01,\n       2.14768335e-01, 2.61932247e+00, 3.14295124e-01, 2.48816973e-01,\n       5.56610604e-01, 8.56585169e-01, 2.14768335e-01, 2.14768335e-01,\n       1.02640449e-01, 1.83348644e+00, 5.50000000e-05, 1.25000000e-06,\n       1.93574828e-01, 1.93574828e-01, 1.93574828e-01, 1.93574828e-01,\n       6.83116871e-02, 1.37504117e-03, 4.71442686e-03, 1.29646739e-03,\n       3.52500000e-04, 2.36971138e-04, 2.13834270e-01, 6.61329323e-04,\n       2.61912603e-04, 2.21532303e-05, 5.52297726e-02, 3.14452271e-01,\n       3.14295124e-01, 3.14295124e-01, 3.14295124e-01, 3.14295124e-01,\n       3.14295124e-01, 6.29035499e-01, 1.34151635e+00, 2.14768335e-01,\n       1.93574828e-01, 1.93574828e-01, 1.93574828e-01, 1.93574828e-01,\n       3.92868905e-03, 5.68350349e-03, 3.14373698e-01, 2.14768335e-01,\n       1.02640449e-01, 2.00440799e-01, 3.14452271e-01, 3.14452271e-01,\n       3.14295124e-01, 3.14295124e-01, 2.05280899e-01, 2.07696694e+00,\n       1.04765041e-01, 3.14373698e-01, 2.14768335e-01, 2.46616907e+00,\n       2.36271359e+00, 2.14768335e-01, 3.43930535e+00, 3.14373698e-01,\n       6.14027907e-01, 3.14373698e-01, 3.14295124e-01, 3.14295124e-01,\n       6.99790212e-02, 1.02640449e-01, 2.14768335e-01, 1.13624235e+00,\n       3.90249779e+00, 2.03951344e+00, 3.14295124e-01, 2.14768335e-01,\n       1.42794751e+00, 3.14452271e-01, 2.14768335e-01, 1.19694060e-03,\n       2.70500000e-02, 3.73239567e+01, 3.68845000e+01, 3.68845000e+01,\n       5.02897211e+00, 2.34411780e-03, 1.92450843e-04, 2.14768335e-01,\n       2.14768335e-01, 3.14452271e-01, 3.14295124e-01, 3.14295124e-01,\n       3.14295124e-01, 3.14295124e-01, 3.14295124e-01, 1.20249183e-05,\n       3.50429630e-01, 3.75848165e-01, 3.14452271e-01, 3.14452271e-01,\n       5.72279038e-01, 2.57983914e-01, 3.14296041e-01, 3.14373698e-01,\n       3.14373698e-01, 3.14373698e-01, 3.14373698e-01, 2.88103864e-07,\n       4.27668539e-02, 9.75624447e-02, 4.03500000e+02, 3.60000000e+02,\n       6.65000000e+02, 6.67877138e-07, 9.16694111e-03, 3.14295124e-01,\n       3.05782964e-02, 8.77407221e-02, 4.73799899e-02, 6.89995658e-01,\n       4.91740913e+00, 7.61772807e-01, 7.30000000e-02, 9.76000000e+00,\n       1.53960674e-05, 2.75008233e-02, 2.25000000e-02, 1.67624066e-02,\n       9.00000000e-03, 3.20751404e+00, 2.56601124e+01, 3.20751404e-05,\n       3.14295124e-01, 3.14295124e-01, 1.25137913e+00, 5.55972500e-04,\n       7.95000000e-05, 9.10000000e-05, 5.89303357e-02, 2.25000000e-01,\n       3.54000000e-01, 1.52500000e-01, 2.31792654e-02, 3.75000000e-02,\n       6.92758836e-03, 7.30000000e-02, 2.23196142e-01, 3.84901685e-03,\n       8.41564481e-01, 9.58648886e-01, 9.33751798e-01, 2.22628227e+00,\n       5.23825207e-01, 3.14295124e-01, 3.53189145e+00, 3.14295124e-01,\n       5.56610604e-01, 1.44051932e-01, 2.88500000e+00, 6.49628511e-06,\n       3.14295124e-01, 3.14295124e-01, 2.14768335e-01, 3.14295124e-01,\n       3.14295124e-01, 1.09470301e+00, 9.91339203e-05, 2.00363141e-04,\n       1.34916420e+00, 5.75291033e-01, 2.08230734e+00, 4.97324711e-03,\n       6.40000000e-04, 3.66795505e-05, 1.40045000e-03, 2.80802986e-07,\n       1.59819733e-03, 7.47760482e-06, 1.02640449e-01, 3.44415073e-05,\n       5.89303357e-02, 1.50000000e-01, 1.42794751e+00, 6.99790212e-02,\n       9.41078175e-01, 2.14768335e-01, 1.02640449e-01, 3.27259798e-01,\n       1.46815110e+00, 1.36246936e+00, 3.14295124e-01, 4.08000000e+00,\n       1.06860342e-01, 1.02640449e-01, 3.14373698e-01, 3.92868905e+00,\n       3.14295124e-01, 8.52860641e-01, 1.02640449e-01, 3.14295124e-01,\n       5.78719291e-01, 1.04765041e-01, 3.16875780e+00, 1.73032561e+00,\n       2.44000000e+00, 3.14295124e-01, 2.14768335e-01, 1.77563649e+00,\n       2.14768335e-01, 2.61912603e-05, 1.57160658e+00, 1.82330459e+00,\n       3.14295124e-01, 3.14295124e-01, 3.14295124e-01, 3.14373698e-01,\n       6.47058824e+04, 3.51632516e+00, 2.23789627e+00, 5.50179586e+00,\n       6.49590793e+00, 3.14295124e-01, 1.15465481e+00, 3.14295124e-01,\n       3.14295124e-01, 4.74712079e-01, 3.14295124e-01, 3.54109551e-01,\n       1.12425985e+00, 1.29993773e+00, 3.14295124e-01, 8.46783708e-06,\n       1.89000000e-04, 8.46783708e-06, 1.89000000e-04, 8.46783708e-06,\n       1.89000000e-04, 7.78356742e-06, 1.89500084e+01, 6.85071701e-01,\n       3.14566203e-01, 3.14546560e-01, 7.37970189e-01, 1.62495817e-01,\n       4.72084372e-01, 4.71577571e-01, 3.14373698e-01, 3.92868905e+00,\n       3.14295124e-01, 8.32895174e-01, 1.92450843e-04, 5.89303357e-04,\n       1.73608769e+00, 2.20006587e+00, 2.30677100e-01, 3.14452271e-01,\n       1.06895700e+00, 5.98915550e-01, 3.14295124e-01, 3.14295124e-01,\n       2.14768335e-01, 3.14426080e-01, 2.14768335e-01, 1.30762486e+01,\n       1.30762486e+01, 1.30762486e+01, 3.14295124e-01, 1.57671387e+00,\n       4.52207722e-03, 3.44273174e+00, 7.99740169e-01, 7.99740169e-01,\n       7.98414396e-01, 1.05419823e+01, 3.14295124e-01, 6.99790212e-02,\n       3.14295124e-01, 3.14295124e-01, 1.11193820e-02, 2.42572176e-01,\n       1.68851429e+00, 3.14373698e-01, 3.78806582e-01, 1.49737586e+00,\n       5.79518766e-01, 8.38141676e-02, 6.33830373e-02, 1.36853933e-05,\n       8.65621154e-06, 8.95266700e-01, 9.90302645e-01, 3.88759905e+00,\n       1.02691770e-01, 4.95430100e-01, 2.16201950e+00, 2.57983914e-01,\n       2.57983914e-01, 2.57983914e-01, 1.72053819e+00, 1.69278064e+00,\n       1.02691770e-01, 2.75008233e-07, 7.82617465e+00, 5.95113030e+00,\n       1.68051234e+00, 2.14768335e-01, 1.70243192e-01, 2.88103864e-02,\n       1.02640449e-01, 1.11312856e-04, 2.15864931e-04, 2.38698919e-02,\n       2.38698919e-02, 1.87136555e-02, 2.18304155e-02, 1.57147562e+00,\n       3.14295124e-01, 3.14295124e-01, 3.14295124e-01, 2.05136221e-01,\n       3.14792758e-01, 4.29019743e-01, 3.48633119e-01, 9.10408209e-01,\n       1.60748860e+00, 4.47870552e-03, 5.18639337e-01, 2.59437529e+00,\n       1.82330459e+00, 1.88498501e+00, 8.77597226e-02, 1.02647159e-01,\n       2.22625713e-01, 2.14768335e-01, 7.72642180e-05, 1.77883633e-01,\n       1.77981182e-01, 1.77883633e-01, 6.54781508e+01, 3.05521052e+01,\n       3.05521052e+01, 3.13168900e+00, 4.28328667e-06, 2.14768335e-01,\n       3.14295124e-01, 1.02640449e-01, 1.00275478e+00, 5.00253072e-05,\n       3.52772704e-02, 3.14452271e-01, 2.14768335e-01, 3.14295124e-01,\n       1.02640449e-01, 6.99790212e-02, 2.14768335e-01, 3.14295124e-01,\n       6.90401622e-04, 1.02640449e-01, 2.14768335e-01, 3.14295124e-01,\n       1.40132816e-01, 5.98482621e-01, 7.59561478e-01, 1.02640449e-01,\n       6.99790212e-02, 3.14295124e-01, 1.21920317e-05, 6.99790212e-02,\n       4.34774921e-05, 1.23159163e-02, 1.81206833e-04, 1.59721725e-02,\n       2.14768335e-01, 1.02640449e-01, 4.31163702e-03, 1.06074604e-03,\n       1.34916420e+00, 3.77154149e-02, 1.93574828e-01, 1.93574828e-01,\n       1.93574828e-01, 1.93574828e-01, 5.92033483e-02, 1.37731614e-01,\n       1.37731614e-01, 6.83116871e-02, 6.83116871e-02, 2.13500000e-01,\n       3.01199494e-04, 1.67624066e-01, 5.35000000e-01, 1.44051932e+00,\n       1.02666110e-01, 9.17028057e-08, 1.39958042e-01, 1.69370850e+00,\n       2.15270926e-01, 2.30122961e-01, 2.29533658e-01, 2.30122961e-01,\n       3.14295124e-01, 3.14295124e-01, 8.64316829e-01, 1.02640449e-01,\n       5.89303357e-01, 7.72026685e-01, 3.18257118e+00, 1.02640449e-01,\n       3.14295124e-01, 1.33575428e+00, 6.81994228e-02, 3.14295124e-01,\n       1.02640449e-01, 1.11312856e-05, 1.36194554e-02, 1.71067416e-05,\n       1.44051932e-01, 3.22152502e+00, 2.14768335e-01, 1.17688882e+00,\n       6.26893652e-03, 1.26503444e-01, 5.89303357e-07, 1.26503444e-01,\n       4.27668539e-07, 2.38013078e-03, 3.07921348e-06, 4.27668539e-06,\n       1.02640449e-06, 3.28701024e-03, 1.33470663e+00, 3.14295124e-01,\n       1.02640449e-01, 2.14768335e-01, 3.14295124e-01, 3.14295124e-01,\n       1.02640449e-01, 1.02640449e-01, 2.14768335e-01, 3.14295124e-01,\n       3.04816834e-03, 5.98513907e-03, 3.73226114e+00, 3.14452271e-01,\n       5.01752718e+00, 2.14768335e-01, 1.41432806e-01, 4.58347056e-01,\n       3.92868905e-07, 1.93587576e-04, 9.55920868e-01, 3.20842939e+00,\n       1.84182893e-03, 2.39643782e-01, 1.20624909e-01, 1.54528436e-04,\n       1.11312856e-05, 1.24408487e-05, 3.14295124e-01, 2.55208510e-02,\n       6.99790212e-02, 9.24043608e-05, 6.75984038e-05, 4.65179391e-03,\n       6.40155126e-05, 5.97381888e-04, 1.65133422e-07, 5.70158342e-01,\n       5.94096288e-01, 4.35305485e-02, 3.00872909e-06, 6.99790212e-02,\n       1.02450426e-01, 3.60968972e-05, 7.85256954e-07, 2.30882615e-04,\n       2.20275711e-02, 1.14404113e+00, 5.03628264e-01, 1.67708734e+00,\n       2.41060453e+00, 3.21045537e+00, 2.39931422e-01, 7.63795414e-04,\n       3.91813817e-06, 6.99790212e-02, 6.99790212e-02, 3.07274460e+00,\n       5.67604211e+00, 6.99790212e-02, 6.99790212e-02, 1.53603951e-01,\n       6.23084322e-04, 8.33055203e-02, 1.92046538e-04, 7.68186151e-05,\n       3.92306821e-06, 6.78564433e-07, 7.76721552e-07, 1.92046538e-03,\n       3.02153219e-03, 1.30164876e-03, 3.20077563e-04, 6.23084322e-04,\n       9.69660646e-02, 6.99790212e-02, 2.46246338e-02, 3.84093075e-07,\n       6.99790212e-02, 5.46265707e-06, 1.19534033e-05, 1.28031025e-03,\n       3.48244388e-02, 6.99790212e-02, 2.08263801e-02, 5.52290697e+02,\n       6.99790212e-02, 3.85800156e-01, 1.56312455e-05, 6.99790212e-02,\n       9.38742967e-03, 5.23775905e-01, 1.45101828e-05, 8.53540167e-08,\n       8.53540167e-05, 8.53540167e-08, 3.38059062e-05, 6.99790212e-02,\n       3.56112322e-04, 7.30843768e-04, 1.82230826e-03, 4.56643990e-03,\n       1.53842080e-01, 7.75529701e-04, 3.67841011e-02, 6.13068352e-04,\n       6.13068352e-03, 5.04982122e-02, 9.55964988e-05, 8.10000000e-04,\n       2.14770697e-01, 3.14299189e-01, 3.14296788e-01, 8.14236072e-05,\n       8.14236072e-05, 6.90000000e-04, 6.90000000e-04, 2.03495361e+00,\n       2.03495361e+00, 2.03495361e+00, 1.19582181e+00, 1.19582181e+00,\n       6.99803458e-02, 6.99795635e-02, 5.88934394e-06, 5.88934394e-06,\n       6.64609446e+00, 3.16480689e+00, 3.45033221e+00, 2.39176430e+00,\n       4.72722644e-02, 9.60532181e-03, 2.79984401e-01, 7.05651741e-01,\n       1.68445900e+00, 3.72249918e+01, 5.87521449e+00, 1.52557767e-04,\n       1.63236811e-01, 9.26055280e-03, 4.78906503e-01, 2.70880879e-01,\n       3.12504039e-01, 5.32907270e-01, 1.40018773e-01, 1.47642247e+00,\n       2.13881742e+01, 1.52430644e+00, 5.25629455e-01, 5.09117534e-01,\n       7.37532428e+00, 7.37532428e+00, 5.25629455e-01, 5.09117534e-01,\n       1.02643557e-01, 1.02643557e-01, 2.20768989e+01, 3.17408730e-03,\n       1.01733567e-01, 9.33939990e-02, 2.63537522e-01, 1.58869389e-02,\n       1.06703321e-01, 1.02629666e-01, 4.21514698e-05, 6.13021577e-01,\n       5.64223840e-04, 1.40004484e-01, 1.44423817e-01, 9.17120222e-04,\n       8.14101239e-02, 1.86024242e-05, 1.65128369e-03, 6.99058393e-05,\n       1.70296932e-04, 6.82401490e-02, 2.28540121e-01, 5.21457742e-02,\n       1.66092126e-01, 5.09652551e-01, 1.91571488e+00, 2.42134966e-03,\n       2.93410606e+01, 3.52734131e-01, 1.91339234e-01, 5.17118105e-02,\n       8.76515189e-02, 2.75578649e-02, 2.46722246e-01, 5.73873779e-03,\n       3.32955070e-01, 1.13561749e-01, 1.42755825e-02, 3.83514883e-03,\n       1.89839867e-01, 1.88159868e-01, 3.80120946e-03, 2.68656444e-05,\n       4.14138537e-02, 1.64460784e-02, 1.68822684e-01, 2.53898681e-01,\n       3.73993627e+00, 3.99223355e-01, 1.12354492e-01, 9.29171652e-02,\n       3.75738647e-01, 3.75738647e-01, 2.34656703e-01, 3.75738647e-01,\n       3.75738647e-01, 3.75738647e-01, 3.75738647e-01, 3.75738647e-01,\n       2.69207383e-01, 3.75738647e-01, 3.90723683e+00, 2.34710339e-04,\n       1.85697298e-01, 2.23926088e+00, 1.55976103e+00, 2.44774379e+00,\n       1.84932063e+00, 2.00761321e+00, 2.00761321e+00, 1.31396962e-01,\n       7.11200183e-02, 3.09546948e+00, 1.52633749e-03, 3.09546948e+00,\n       1.52633749e-03, 3.91928681e-05, 9.94611463e-02, 8.02344563e-01,\n       1.25712973e-04, 8.13953089e-02, 1.63489290e-01, 6.73429429e-03,\n       1.87553243e+01, 1.69301417e+00, 1.87553243e+01, 1.69301417e+00,\n       6.73429429e-03, 1.59527013e-04, 5.97479451e-06, 5.95836682e-03,\n       2.52409555e-02, 1.56856448e-04, 6.64478495e-04, 4.49897969e+02,\n       2.69612769e+03, 3.52962215e-03, 1.01476637e-01, 7.90608908e-01,\n       5.18915529e-01, 2.94712695e-02, 2.69224030e-01, 5.31452283e-01,\n       3.92000961e-01, 4.00785296e-01, 4.89256083e-04, 1.15782068e-03,\n       1.73717766e-03, 2.15789224e-01, 2.96571857e-01, 2.27870565e-04,\n       4.90798141e-05, 2.27870565e-04, 4.90798141e-05, 9.68563568e-02,\n       1.32999819e-02, 1.22558834e-03, 1.18808564e-03, 1.18154908e-03,\n       1.21884545e-03, 2.80468720e-04, 1.86632099e-02, 2.10249124e-04,\n       7.82798948e-06, 6.94868108e-04, 1.45355272e-06, 5.96674418e-07,\n       4.45085128e-04, 5.82457082e-04, 1.95068174e-03, 4.68811557e-01,\n       5.92549923e-04, 2.57933496e+00, 1.02298611e-02, 6.09193976e-01,\n       2.41717420e-01, 1.23678746e-02, 2.82087949e+00, 1.44335001e-01,\n       3.11295656e-02, 6.08350655e-01, 8.29578002e-01, 4.24498644e-02,\n       3.92755009e-02, 7.67599366e-01, 2.09752484e+00, 7.18981601e-01,\n       3.95947808e+01, 1.97686985e+02, 5.27930411e+01, 2.51878001e-02,\n       4.22964944e-04, 7.11261780e-02, 4.43626683e-03, 8.67022834e-02,\n       1.32167151e-03, 1.28122869e-03, 2.30934129e-05, 1.66959134e-05,\n       5.21162156e-05, 2.34495128e-01, 4.57068922e-02, 2.34495128e-01,\n       3.14864950e-01, 2.02535982e+00, 7.41379017e-01, 9.94070125e-01,\n       2.03289664e+00, 1.98243889e+00, 2.01495962e+00, 2.04774283e+00,\n       2.02124989e+00, 2.02246819e+00, 2.02077447e+00, 2.76488724e-02,\n       6.95737881e-02, 9.91026251e-02, 2.14768335e-01, 2.14768335e-01,\n       2.14768335e-01, 4.29536669e-01, 6.99790212e-02, 6.99790212e-02,\n       2.14768335e-01, 6.99790212e-02, 8.59073339e-01, 2.14768335e-01,\n       2.14768335e-01, 6.99790212e-02, 6.99790212e-02, 2.14768335e-01,\n       6.99790212e-02, 2.11888322e-01, 6.99790212e-02, 6.99790212e-02,\n       1.93894145e-01, 2.14768335e-01, 6.99790212e-02, 2.14768335e-01,\n       1.48155591e-01, 3.85648559e-02, 6.99790212e-02, 6.99790212e-02,\n       1.11314114e+00, 1.48155591e+02, 2.09937063e-01, 2.14768335e-01,\n       6.99790212e-02, 6.99790212e-02, 2.14768335e-01, 6.99790212e-02,\n       6.99790212e-02, 6.99790212e-02, 6.99790212e-02, 6.95373856e-02,\n       6.99790212e-02, 6.99790212e-02, 2.14768335e-01, 6.99790212e-02,\n       2.14768335e-01, 2.14768335e-01, 4.96391174e-02, 6.06709038e+02,\n       2.13350674e+01, 9.95494246e+00, 7.93378502e-01, 6.99790212e-02,\n       6.99790212e-02, 2.14768335e-01, 2.14768335e-01, 6.99790212e-02,\n       1.10728105e+00, 1.60293109e-01, 6.99790212e-02, 2.09937063e-01,\n       6.99790212e-02, 1.40123243e+00, 6.99790212e-02, 6.81358077e-02,\n       1.66535216e-01, 6.99790212e-02, 1.83660108e-03, 6.99790212e-02,\n       6.99790212e-02, 6.99790212e-02, 1.53609069e-01, 6.99790212e-02,\n       6.99790212e-02, 6.99790212e-02, 6.99790212e-02, 6.99790212e-02,\n       6.99790212e-02, 1.16045238e+00, 5.33531747e-02, 6.26225685e-02,\n       6.99790212e-02, 6.99790212e-02, 4.29536669e-01, 6.99790212e-02,\n       6.99790212e-02, 6.99790212e-02, 6.99790212e-02, 1.02408324e-01,\n       1.02408324e-01, 4.68699339e-02, 4.20080876e-02, 3.00058017e-02,\n       2.14768335e-01, 6.99790212e-02, 6.99790212e-02, 4.29919777e-02,\n       6.99790212e-02, 6.99790212e-02, 6.99790212e-02, 6.99790212e-02,\n       4.05788457e-03, 1.89109035e-01, 6.99790212e-02, 6.99790212e-02,\n       2.18454006e-02, 2.94883318e-01, 2.96714891e-01, 5.21218128e-02,\n       7.18004564e-02, 6.99790212e-02, 5.63947433e-02, 6.79758067e-02,\n       1.66245899e-02, 1.95158230e-02, 8.74920474e-02, 9.77375793e-02,\n       1.31449930e-02, 6.89838400e-02, 1.21517921e+02, 1.62023894e+02,\n       1.82321790e-01, 6.99790212e-02, 6.99790212e-02, 6.99790212e-02,\n       6.99790212e-02, 6.99790212e-02, 4.39971395e-01, 1.20564482e-02])"
     },
     "execution_count": 161,
     "metadata": {},
     "output_type": "execute_result"
    }
   ],
   "source": [
    "fet"
   ]
  },
  {
   "cell_type": "code",
   "execution_count": 164,
   "metadata": {},
   "outputs": [],
   "source": [
    "data.getrow(23293).data = data.getrow(23293).data / 2"
   ]
  },
  {
   "cell_type": "code",
   "execution_count": 166,
   "metadata": {},
   "outputs": [
    {
     "data": {
      "text/plain": "scipy.sparse.csr.csr_matrix"
     },
     "execution_count": 166,
     "metadata": {},
     "output_type": "execute_result"
    }
   ],
   "source": [
    "type(data.getrow(23293))"
   ]
  },
  {
   "cell_type": "code",
   "execution_count": 167,
   "metadata": {},
   "outputs": [
    {
     "data": {
      "text/plain": "numpy.ndarray"
     },
     "execution_count": 167,
     "metadata": {},
     "output_type": "execute_result"
    }
   ],
   "source": [
    "type(data.getrow(23293).data)"
   ]
  },
  {
   "cell_type": "code",
   "execution_count": 170,
   "metadata": {},
   "outputs": [],
   "source": [
    "fed = np.copy(data.getrow(23293).data / 2)\n",
    "np.copyto(data.getrow(23293).data, data.getrow(23293).data / 2)"
   ]
  },
  {
   "cell_type": "code",
   "execution_count": 171,
   "metadata": {},
   "outputs": [
    {
     "data": {
      "text/plain": "array([4.07771732e+00, 3.12487927e+00, 4.93757640e-01, 6.28590248e-01,\n       6.28590248e-01, 4.97633946e+00, 1.38135326e+00, 6.28590248e-01,\n       6.28590248e-01, 1.66031637e+00, 1.35560725e+00, 6.28590248e-01,\n       5.98000000e+00, 4.29536669e-01, 4.72673675e+00, 6.28590248e-01,\n       2.04291831e+00, 9.75624447e+00, 1.47189645e+00, 1.44427253e+00,\n       2.06057385e+00, 6.28590248e-01, 4.29536669e-01, 2.87920525e+00,\n       6.28590248e-01, 4.29536669e-01, 1.20479797e-05, 4.81919190e-06,\n       6.15494618e-06, 3.69103289e+00, 4.29536669e-01, 1.13146245e-02,\n       4.29536669e-01, 1.58433553e+00, 6.28590248e-01, 6.28904543e-01,\n       1.43696629e-05, 3.87149656e-01, 3.87149656e-01, 3.87149656e-01,\n       3.87149656e-01, 6.54781508e-06, 3.66680002e+00, 3.66680002e+00,\n       6.28590248e-06, 6.28595408e-01, 2.05280899e-01, 6.28590248e-01,\n       2.05280899e-01, 4.29536669e-01, 9.22162847e-02, 2.13165430e+00,\n       7.85744096e+00, 2.05280899e-01, 1.50000000e-02, 2.20006587e-02,\n       8.18275323e-04, 1.54004611e+00, 1.62599579e-03, 3.66677645e-03,\n       4.27668539e-06, 6.28590248e-01, 6.28590248e-01, 2.32123672e-01,\n       3.49967620e+00, 3.64660918e+00, 3.64660918e+00, 9.55247647e-01,\n       6.28590248e-01, 9.40870787e-07, 3.64660918e+00, 4.29536669e-01,\n       6.28590248e-01, 7.83118684e-02, 1.02000000e+01, 4.29536669e-01,\n       2.05280899e-01, 2.05280899e-01, 2.05280899e-01, 6.28590248e-01,\n       4.43575664e-01, 3.84901685e-04, 1.28337176e+01, 1.04989492e+00,\n       4.29536669e-01, 5.23864493e+00, 6.28590248e-01, 4.97633946e-01,\n       1.11322121e+00, 1.71317034e+00, 4.29536669e-01, 4.29536669e-01,\n       2.05280899e-01, 3.66697288e+00, 1.10000000e-04, 2.50000000e-06,\n       3.87149656e-01, 3.87149656e-01, 3.87149656e-01, 3.87149656e-01,\n       1.36623374e-01, 2.75008233e-03, 9.42885372e-03, 2.59293477e-03,\n       7.05000000e-04, 4.73942275e-04, 4.27668539e-01, 1.32265865e-03,\n       5.23825207e-04, 4.43064607e-05, 1.10459545e-01, 6.28904543e-01,\n       6.28590248e-01, 6.28590248e-01, 6.28590248e-01, 6.28590248e-01,\n       6.28590248e-01, 1.25807100e+00, 2.68303271e+00, 4.29536669e-01,\n       3.87149656e-01, 3.87149656e-01, 3.87149656e-01, 3.87149656e-01,\n       7.85737810e-03, 1.13670070e-02, 6.28747395e-01, 4.29536669e-01,\n       2.05280899e-01, 4.00881597e-01, 6.28904543e-01, 6.28904543e-01,\n       6.28590248e-01, 6.28590248e-01, 4.10561798e-01, 4.15393389e+00,\n       2.09530083e-01, 6.28747395e-01, 4.29536669e-01, 4.93233814e+00,\n       4.72542719e+00, 4.29536669e-01, 6.87861070e+00, 6.28747395e-01,\n       1.22805581e+00, 6.28747395e-01, 6.28590248e-01, 6.28590248e-01,\n       1.39958042e-01, 2.05280899e-01, 4.29536669e-01, 2.27248470e+00,\n       7.80499558e+00, 4.07902688e+00, 6.28590248e-01, 4.29536669e-01,\n       2.85589503e+00, 6.28904543e-01, 4.29536669e-01, 2.39388119e-03,\n       5.41000000e-02, 7.46479133e+01, 7.37690000e+01, 7.37690000e+01,\n       1.00579442e+01, 4.68823560e-03, 3.84901685e-04, 4.29536669e-01,\n       4.29536669e-01, 6.28904543e-01, 6.28590248e-01, 6.28590248e-01,\n       6.28590248e-01, 6.28590248e-01, 6.28590248e-01, 2.40498365e-05,\n       7.00859261e-01, 7.51696329e-01, 6.28904543e-01, 6.28904543e-01,\n       1.14455808e+00, 5.15967828e-01, 6.28592081e-01, 6.28747395e-01,\n       6.28747395e-01, 6.28747395e-01, 6.28747395e-01, 5.76207727e-07,\n       8.55337079e-02, 1.95124889e-01, 8.07000000e+02, 7.20000000e+02,\n       1.33000000e+03, 1.33575428e-06, 1.83338822e-02, 6.28590248e-01,\n       6.11565929e-02, 1.75481444e-01, 9.47599799e-02, 1.37999132e+00,\n       9.83481825e+00, 1.52354561e+00, 1.46000000e-01, 1.95200000e+01,\n       3.07921348e-05, 5.50016467e-02, 4.50000000e-02, 3.35248132e-02,\n       1.80000000e-02, 6.41502809e+00, 5.13202247e+01, 6.41502809e-05,\n       6.28590248e-01, 6.28590248e-01, 2.50275826e+00, 1.11194500e-03,\n       1.59000000e-04, 1.82000000e-04, 1.17860671e-01, 4.50000000e-01,\n       7.08000000e-01, 3.05000000e-01, 4.63585308e-02, 7.50000000e-02,\n       1.38551767e-02, 1.46000000e-01, 4.46392283e-01, 7.69803371e-03,\n       1.68312896e+00, 1.91729777e+00, 1.86750360e+00, 4.45256454e+00,\n       1.04765041e+00, 6.28590248e-01, 7.06378291e+00, 6.28590248e-01,\n       1.11322121e+00, 2.88103864e-01, 5.77000000e+00, 1.29925702e-05,\n       6.28590248e-01, 6.28590248e-01, 4.29536669e-01, 6.28590248e-01,\n       6.28590248e-01, 2.18940602e+00, 1.98267841e-04, 4.00726283e-04,\n       2.69832840e+00, 1.15058207e+00, 4.16461468e+00, 9.94649421e-03,\n       1.28000000e-03, 7.33591010e-05, 2.80090000e-03, 5.61605972e-07,\n       3.19639466e-03, 1.49552096e-05, 2.05280899e-01, 6.88830147e-05,\n       1.17860671e-01, 3.00000000e-01, 2.85589503e+00, 1.39958042e-01,\n       1.88215635e+00, 4.29536669e-01, 2.05280899e-01, 6.54519596e-01,\n       2.93630220e+00, 2.72493872e+00, 6.28590248e-01, 8.16000000e+00,\n       2.13720684e-01, 2.05280899e-01, 6.28747395e-01, 7.85737810e+00,\n       6.28590248e-01, 1.70572128e+00, 2.05280899e-01, 6.28590248e-01,\n       1.15743858e+00, 2.09530083e-01, 6.33751560e+00, 3.46065123e+00,\n       4.88000000e+00, 6.28590248e-01, 4.29536669e-01, 3.55127299e+00,\n       4.29536669e-01, 5.23825207e-05, 3.14321315e+00, 3.64660918e+00,\n       6.28590248e-01, 6.28590248e-01, 6.28590248e-01, 6.28747395e-01,\n       1.29411765e+05, 7.03265033e+00, 4.47579254e+00, 1.10035917e+01,\n       1.29918159e+01, 6.28590248e-01, 2.30930961e+00, 6.28590248e-01,\n       6.28590248e-01, 9.49424157e-01, 6.28590248e-01, 7.08219101e-01,\n       2.24851970e+00, 2.59987546e+00, 6.28590248e-01, 1.69356742e-05,\n       3.78000000e-04, 1.69356742e-05, 3.78000000e-04, 1.69356742e-05,\n       3.78000000e-04, 1.55671348e-05, 3.79000168e+01, 1.37014340e+00,\n       6.29132407e-01, 6.29093120e-01, 1.47594038e+00, 3.24991635e-01,\n       9.44168743e-01, 9.43155142e-01, 6.28747395e-01, 7.85737810e+00,\n       6.28590248e-01, 1.66579035e+00, 3.84901685e-04, 1.17860671e-03,\n       3.47217538e+00, 4.40013173e+00, 4.61354200e-01, 6.28904543e-01,\n       2.13791401e+00, 1.19783110e+00, 6.28590248e-01, 6.28590248e-01,\n       4.29536669e-01, 6.28852160e-01, 4.29536669e-01, 2.61524973e+01,\n       2.61524973e+01, 2.61524973e+01, 6.28590248e-01, 3.15342774e+00,\n       9.04415444e-03, 6.88546348e+00, 1.59948034e+00, 1.59948034e+00,\n       1.59682879e+00, 2.10839646e+01, 6.28590248e-01, 1.39958042e-01,\n       6.28590248e-01, 6.28590248e-01, 2.22387640e-02, 4.85144353e-01,\n       3.37702857e+00, 6.28747395e-01, 7.57613163e-01, 2.99475173e+00,\n       1.15903753e+00, 1.67628335e-01, 1.26766075e-01, 2.73707865e-05,\n       1.73124231e-05, 1.79053340e+00, 1.98060529e+00, 7.77519809e+00,\n       2.05383539e-01, 9.90860199e-01, 4.32403901e+00, 5.15967828e-01,\n       5.15967828e-01, 5.15967828e-01, 3.44107638e+00, 3.38556129e+00,\n       2.05383539e-01, 5.50016467e-07, 1.56523493e+01, 1.19022606e+01,\n       3.36102468e+00, 4.29536669e-01, 3.40486384e-01, 5.76207727e-02,\n       2.05280899e-01, 2.22625713e-04, 4.31729863e-04, 4.77397837e-02,\n       4.77397837e-02, 3.74273110e-02, 4.36608310e-02, 3.14295124e+00,\n       6.28590248e-01, 6.28590248e-01, 6.28590248e-01, 4.10272442e-01,\n       6.29585516e-01, 8.58039486e-01, 6.97266239e-01, 1.82081642e+00,\n       3.21497721e+00, 8.95741103e-03, 1.03727867e+00, 5.18875058e+00,\n       3.64660918e+00, 3.76997001e+00, 1.75519445e-01, 2.05294317e-01,\n       4.45251426e-01, 4.29536669e-01, 1.54528436e-04, 3.55767266e-01,\n       3.55962365e-01, 3.55767266e-01, 1.30956302e+02, 6.11042103e+01,\n       6.11042103e+01, 6.26337799e+00, 8.56657334e-06, 4.29536669e-01,\n       6.28590248e-01, 2.05280899e-01, 2.00550957e+00, 1.00050614e-04,\n       7.05545409e-02, 6.28904543e-01, 4.29536669e-01, 6.28590248e-01,\n       2.05280899e-01, 1.39958042e-01, 4.29536669e-01, 6.28590248e-01,\n       1.38080324e-03, 2.05280899e-01, 4.29536669e-01, 6.28590248e-01,\n       2.80265631e-01, 1.19696524e+00, 1.51912296e+00, 2.05280899e-01,\n       1.39958042e-01, 6.28590248e-01, 2.43840634e-05, 1.39958042e-01,\n       8.69549843e-05, 2.46318327e-02, 3.62413667e-04, 3.19443449e-02,\n       4.29536669e-01, 2.05280899e-01, 8.62327404e-03, 2.12149209e-03,\n       2.69832840e+00, 7.54308297e-02, 3.87149656e-01, 3.87149656e-01,\n       3.87149656e-01, 3.87149656e-01, 1.18406697e-01, 2.75463227e-01,\n       2.75463227e-01, 1.36623374e-01, 1.36623374e-01, 4.27000000e-01,\n       6.02398987e-04, 3.35248132e-01, 1.07000000e+00, 2.88103864e+00,\n       2.05332219e-01, 1.83405611e-07, 2.79916085e-01, 3.38741700e+00,\n       4.30541853e-01, 4.60245922e-01, 4.59067315e-01, 4.60245922e-01,\n       6.28590248e-01, 6.28590248e-01, 1.72863366e+00, 2.05280899e-01,\n       1.17860671e+00, 1.54405337e+00, 6.36514236e+00, 2.05280899e-01,\n       6.28590248e-01, 2.67150855e+00, 1.36398846e-01, 6.28590248e-01,\n       2.05280899e-01, 2.22625713e-05, 2.72389107e-02, 3.42134831e-05,\n       2.88103864e-01, 6.44305004e+00, 4.29536669e-01, 2.35377765e+00,\n       1.25378730e-02, 2.53006888e-01, 1.17860671e-06, 2.53006888e-01,\n       8.55337079e-07, 4.76026156e-03, 6.15842697e-06, 8.55337079e-06,\n       2.05280899e-06, 6.57402049e-03, 2.66941325e+00, 6.28590248e-01,\n       2.05280899e-01, 4.29536669e-01, 6.28590248e-01, 6.28590248e-01,\n       2.05280899e-01, 2.05280899e-01, 4.29536669e-01, 6.28590248e-01,\n       6.09633668e-03, 1.19702781e-02, 7.46452229e+00, 6.28904543e-01,\n       1.00350544e+01, 4.29536669e-01, 2.82865612e-01, 9.16694111e-01,\n       7.85737810e-07, 3.87175153e-04, 1.91184174e+00, 6.41685878e+00,\n       3.68365786e-03, 4.79287564e-01, 2.41249817e-01, 3.09056872e-04,\n       2.22625713e-05, 2.48816973e-05, 6.28590248e-01, 5.10417020e-02,\n       1.39958042e-01, 1.84808722e-04, 1.35196808e-04, 9.30358783e-03,\n       1.28031025e-04, 1.19476378e-03, 3.30266844e-07, 1.14031668e+00,\n       1.18819258e+00, 8.70610971e-02, 6.01745818e-06, 1.39958042e-01,\n       2.04900853e-01, 7.21937945e-05, 1.57051391e-06, 4.61765231e-04,\n       4.40551421e-02, 2.28808226e+00, 1.00725653e+00, 3.35417468e+00,\n       4.82120907e+00, 6.42091074e+00, 4.79862844e-01, 1.52759083e-03,\n       7.83627634e-06, 1.39958042e-01, 1.39958042e-01, 6.14548921e+00,\n       1.13520842e+01, 1.39958042e-01, 1.39958042e-01, 3.07207903e-01,\n       1.24616864e-03, 1.66611041e-01, 3.84093075e-04, 1.53637230e-04,\n       7.84613641e-06, 1.35712887e-06, 1.55344310e-06, 3.84093075e-03,\n       6.04306439e-03, 2.60329751e-03, 6.40155126e-04, 1.24616864e-03,\n       1.93932129e-01, 1.39958042e-01, 4.92492677e-02, 7.68186151e-07,\n       1.39958042e-01, 1.09253141e-05, 2.39068066e-05, 2.56062050e-03,\n       6.96488777e-02, 1.39958042e-01, 4.16527602e-02, 1.10458139e+03,\n       1.39958042e-01, 7.71600311e-01, 3.12624911e-05, 1.39958042e-01,\n       1.87748593e-02, 1.04755181e+00, 2.90203657e-05, 1.70708033e-07,\n       1.70708033e-04, 1.70708033e-07, 6.76118124e-05, 1.39958042e-01,\n       7.12224643e-04, 1.46168754e-03, 3.64461652e-03, 9.13287979e-03,\n       3.07684160e-01, 1.55105940e-03, 7.35682022e-02, 1.22613670e-03,\n       1.22613670e-02, 1.00996424e-01, 1.91192998e-04, 1.62000000e-03,\n       4.29541393e-01, 6.28598379e-01, 6.28593577e-01, 1.62847214e-04,\n       1.62847214e-04, 1.38000000e-03, 1.38000000e-03, 4.06990721e+00,\n       4.06990721e+00, 4.06990721e+00, 2.39164363e+00, 2.39164363e+00,\n       1.39960692e-01, 1.39959127e-01, 1.17786879e-05, 1.17786879e-05,\n       1.32921889e+01, 6.32961377e+00, 6.90066443e+00, 4.78352860e+00,\n       9.45445289e-02, 1.92106436e-02, 5.59968801e-01, 1.41130348e+00,\n       3.36891799e+00, 7.44499837e+01, 1.17504290e+01, 3.05115534e-04,\n       3.26473621e-01, 1.85211056e-02, 9.57813006e-01, 5.41761759e-01,\n       6.25008078e-01, 1.06581454e+00, 2.80037546e-01, 2.95284494e+00,\n       4.27763484e+01, 3.04861289e+00, 1.05125891e+00, 1.01823507e+00,\n       1.47506486e+01, 1.47506486e+01, 1.05125891e+00, 1.01823507e+00,\n       2.05287115e-01, 2.05287115e-01, 4.41537978e+01, 6.34817460e-03,\n       2.03467135e-01, 1.86787998e-01, 5.27075044e-01, 3.17738777e-02,\n       2.13406641e-01, 2.05259331e-01, 8.43029395e-05, 1.22604315e+00,\n       1.12844768e-03, 2.80008968e-01, 2.88847635e-01, 1.83424044e-03,\n       1.62820248e-01, 3.72048485e-05, 3.30256737e-03, 1.39811679e-04,\n       3.40593864e-04, 1.36480298e-01, 4.57080243e-01, 1.04291548e-01,\n       3.32184252e-01, 1.01930510e+00, 3.83142976e+00, 4.84269933e-03,\n       5.86821212e+01, 7.05468263e-01, 3.82678468e-01, 1.03423621e-01,\n       1.75303038e-01, 5.51157298e-02, 4.93444492e-01, 1.14774756e-02,\n       6.65910140e-01, 2.27123499e-01, 2.85511651e-02, 7.67029767e-03,\n       3.79679735e-01, 3.76319737e-01, 7.60241893e-03, 5.37312889e-05,\n       8.28277074e-02, 3.28921569e-02, 3.37645367e-01, 5.07797363e-01,\n       7.47987253e+00, 7.98446711e-01, 2.24708985e-01, 1.85834330e-01,\n       7.51477295e-01, 7.51477295e-01, 4.69313406e-01, 7.51477295e-01,\n       7.51477295e-01, 7.51477295e-01, 7.51477295e-01, 7.51477295e-01,\n       5.38414767e-01, 7.51477295e-01, 7.81447365e+00, 4.69420679e-04,\n       3.71394596e-01, 4.47852177e+00, 3.11952206e+00, 4.89548759e+00,\n       3.69864125e+00, 4.01522641e+00, 4.01522641e+00, 2.62793924e-01,\n       1.42240037e-01, 6.19093897e+00, 3.05267497e-03, 6.19093897e+00,\n       3.05267497e-03, 7.83857361e-05, 1.98922293e-01, 1.60468913e+00,\n       2.51425946e-04, 1.62790618e-01, 3.26978580e-01, 1.34685886e-02,\n       3.75106485e+01, 3.38602834e+00, 3.75106485e+01, 3.38602834e+00,\n       1.34685886e-02, 3.19054027e-04, 1.19495890e-05, 1.19167336e-02,\n       5.04819110e-02, 3.13712895e-04, 1.32895699e-03, 8.99795938e+02,\n       5.39225537e+03, 7.05924430e-03, 2.02953274e-01, 1.58121782e+00,\n       1.03783106e+00, 5.89425391e-02, 5.38448060e-01, 1.06290457e+00,\n       7.84001921e-01, 8.01570592e-01, 9.78512166e-04, 2.31564136e-03,\n       3.47435531e-03, 4.31578449e-01, 5.93143714e-01, 4.55741131e-04,\n       9.81596281e-05, 4.55741131e-04, 9.81596281e-05, 1.93712714e-01,\n       2.65999638e-02, 2.45117669e-03, 2.37617128e-03, 2.36309816e-03,\n       2.43769090e-03, 5.60937441e-04, 3.73264198e-02, 4.20498248e-04,\n       1.56559790e-05, 1.38973622e-03, 2.90710543e-06, 1.19334884e-06,\n       8.90170257e-04, 1.16491416e-03, 3.90136347e-03, 9.37623113e-01,\n       1.18509985e-03, 5.15866992e+00, 2.04597222e-02, 1.21838795e+00,\n       4.83434840e-01, 2.47357493e-02, 5.64175898e+00, 2.88670001e-01,\n       6.22591311e-02, 1.21670131e+00, 1.65915600e+00, 8.48997287e-02,\n       7.85510017e-02, 1.53519873e+00, 4.19504967e+00, 1.43796320e+00,\n       7.91895616e+01, 3.95373971e+02, 1.05586082e+02, 5.03756001e-02,\n       8.45929889e-04, 1.42252356e-01, 8.87253366e-03, 1.73404567e-01,\n       2.64334302e-03, 2.56245737e-03, 4.61868258e-05, 3.33918268e-05,\n       1.04232431e-04, 4.68990257e-01, 9.14137845e-02, 4.68990257e-01,\n       6.29729900e-01, 4.05071965e+00, 1.48275803e+00, 1.98814025e+00,\n       4.06579328e+00, 3.96487777e+00, 4.02991925e+00, 4.09548567e+00,\n       4.04249979e+00, 4.04493638e+00, 4.04154893e+00, 5.52977448e-02,\n       1.39147576e-01, 1.98205250e-01, 4.29536669e-01, 4.29536669e-01,\n       4.29536669e-01, 8.59073339e-01, 1.39958042e-01, 1.39958042e-01,\n       4.29536669e-01, 1.39958042e-01, 1.71814668e+00, 4.29536669e-01,\n       4.29536669e-01, 1.39958042e-01, 1.39958042e-01, 4.29536669e-01,\n       1.39958042e-01, 4.23776645e-01, 1.39958042e-01, 1.39958042e-01,\n       3.87788290e-01, 4.29536669e-01, 1.39958042e-01, 4.29536669e-01,\n       2.96311183e-01, 7.71297117e-02, 1.39958042e-01, 1.39958042e-01,\n       2.22628227e+00, 2.96311183e+02, 4.19874127e-01, 4.29536669e-01,\n       1.39958042e-01, 1.39958042e-01, 4.29536669e-01, 1.39958042e-01,\n       1.39958042e-01, 1.39958042e-01, 1.39958042e-01, 1.39074771e-01,\n       1.39958042e-01, 1.39958042e-01, 4.29536669e-01, 1.39958042e-01,\n       4.29536669e-01, 4.29536669e-01, 9.92782348e-02, 1.21341808e+03,\n       4.26701349e+01, 1.99098849e+01, 1.58675700e+00, 1.39958042e-01,\n       1.39958042e-01, 4.29536669e-01, 4.29536669e-01, 1.39958042e-01,\n       2.21456211e+00, 3.20586219e-01, 1.39958042e-01, 4.19874127e-01,\n       1.39958042e-01, 2.80246485e+00, 1.39958042e-01, 1.36271615e-01,\n       3.33070431e-01, 1.39958042e-01, 3.67320216e-03, 1.39958042e-01,\n       1.39958042e-01, 1.39958042e-01, 3.07218138e-01, 1.39958042e-01,\n       1.39958042e-01, 1.39958042e-01, 1.39958042e-01, 1.39958042e-01,\n       1.39958042e-01, 2.32090476e+00, 1.06706349e-01, 1.25245137e-01,\n       1.39958042e-01, 1.39958042e-01, 8.59073339e-01, 1.39958042e-01,\n       1.39958042e-01, 1.39958042e-01, 1.39958042e-01, 2.04816647e-01,\n       2.04816647e-01, 9.37398678e-02, 8.40161752e-02, 6.00116033e-02,\n       4.29536669e-01, 1.39958042e-01, 1.39958042e-01, 8.59839554e-02,\n       1.39958042e-01, 1.39958042e-01, 1.39958042e-01, 1.39958042e-01,\n       8.11576914e-03, 3.78218071e-01, 1.39958042e-01, 1.39958042e-01,\n       4.36908012e-02, 5.89766635e-01, 5.93429782e-01, 1.04243626e-01,\n       1.43600913e-01, 1.39958042e-01, 1.12789487e-01, 1.35951613e-01,\n       3.32491799e-02, 3.90316460e-02, 1.74984095e-01, 1.95475159e-01,\n       2.62899861e-02, 1.37967680e-01, 2.43035841e+02, 3.24047788e+02,\n       3.64643581e-01, 1.39958042e-01, 1.39958042e-01, 1.39958042e-01,\n       1.39958042e-01, 1.39958042e-01, 8.79942790e-01, 2.41128963e-02])"
     },
     "execution_count": 171,
     "metadata": {},
     "output_type": "execute_result"
    }
   ],
   "source": [
    "data.getrow(23293).data"
   ]
  },
  {
   "cell_type": "code",
   "execution_count": 173,
   "metadata": {},
   "outputs": [],
   "source": [
    "data[23293,0] = 22"
   ]
  },
  {
   "cell_type": "code",
   "execution_count": 175,
   "metadata": {},
   "outputs": [
    {
     "data": {
      "text/plain": "array([2.20000000e+01, 3.12487927e+00, 4.93757640e-01, 6.28590248e-01,\n       6.28590248e-01, 4.97633946e+00, 1.38135326e+00, 6.28590248e-01,\n       6.28590248e-01, 1.66031637e+00, 1.35560725e+00, 6.28590248e-01,\n       5.98000000e+00, 4.29536669e-01, 4.72673675e+00, 6.28590248e-01,\n       2.04291831e+00, 9.75624447e+00, 1.47189645e+00, 1.44427253e+00,\n       2.06057385e+00, 6.28590248e-01, 4.29536669e-01, 2.87920525e+00,\n       6.28590248e-01, 4.29536669e-01, 1.20479797e-05, 4.81919190e-06,\n       6.15494618e-06, 3.69103289e+00, 4.29536669e-01, 1.13146245e-02,\n       4.29536669e-01, 1.58433553e+00, 6.28590248e-01, 6.28904543e-01,\n       1.43696629e-05, 3.87149656e-01, 3.87149656e-01, 3.87149656e-01,\n       3.87149656e-01, 6.54781508e-06, 3.66680002e+00, 3.66680002e+00,\n       6.28590248e-06, 6.28595408e-01, 2.05280899e-01, 6.28590248e-01,\n       2.05280899e-01, 4.29536669e-01, 9.22162847e-02, 2.13165430e+00,\n       7.85744096e+00, 2.05280899e-01, 1.50000000e-02, 2.20006587e-02,\n       8.18275323e-04, 1.54004611e+00, 1.62599579e-03, 3.66677645e-03,\n       4.27668539e-06, 6.28590248e-01, 6.28590248e-01, 2.32123672e-01,\n       3.49967620e+00, 3.64660918e+00, 3.64660918e+00, 9.55247647e-01,\n       6.28590248e-01, 9.40870787e-07, 3.64660918e+00, 4.29536669e-01,\n       6.28590248e-01, 7.83118684e-02, 1.02000000e+01, 4.29536669e-01,\n       2.05280899e-01, 2.05280899e-01, 2.05280899e-01, 6.28590248e-01,\n       4.43575664e-01, 3.84901685e-04, 1.28337176e+01, 1.04989492e+00,\n       4.29536669e-01, 5.23864493e+00, 6.28590248e-01, 4.97633946e-01,\n       1.11322121e+00, 1.71317034e+00, 4.29536669e-01, 4.29536669e-01,\n       2.05280899e-01, 3.66697288e+00, 1.10000000e-04, 2.50000000e-06,\n       3.87149656e-01, 3.87149656e-01, 3.87149656e-01, 3.87149656e-01,\n       1.36623374e-01, 2.75008233e-03, 9.42885372e-03, 2.59293477e-03,\n       7.05000000e-04, 4.73942275e-04, 4.27668539e-01, 1.32265865e-03,\n       5.23825207e-04, 4.43064607e-05, 1.10459545e-01, 6.28904543e-01,\n       6.28590248e-01, 6.28590248e-01, 6.28590248e-01, 6.28590248e-01,\n       6.28590248e-01, 1.25807100e+00, 2.68303271e+00, 4.29536669e-01,\n       3.87149656e-01, 3.87149656e-01, 3.87149656e-01, 3.87149656e-01,\n       7.85737810e-03, 1.13670070e-02, 6.28747395e-01, 4.29536669e-01,\n       2.05280899e-01, 4.00881597e-01, 6.28904543e-01, 6.28904543e-01,\n       6.28590248e-01, 6.28590248e-01, 4.10561798e-01, 4.15393389e+00,\n       2.09530083e-01, 6.28747395e-01, 4.29536669e-01, 4.93233814e+00,\n       4.72542719e+00, 4.29536669e-01, 6.87861070e+00, 6.28747395e-01,\n       1.22805581e+00, 6.28747395e-01, 6.28590248e-01, 6.28590248e-01,\n       1.39958042e-01, 2.05280899e-01, 4.29536669e-01, 2.27248470e+00,\n       7.80499558e+00, 4.07902688e+00, 6.28590248e-01, 4.29536669e-01,\n       2.85589503e+00, 6.28904543e-01, 4.29536669e-01, 2.39388119e-03,\n       5.41000000e-02, 7.46479133e+01, 7.37690000e+01, 7.37690000e+01,\n       1.00579442e+01, 4.68823560e-03, 3.84901685e-04, 4.29536669e-01,\n       4.29536669e-01, 6.28904543e-01, 6.28590248e-01, 6.28590248e-01,\n       6.28590248e-01, 6.28590248e-01, 6.28590248e-01, 2.40498365e-05,\n       7.00859261e-01, 7.51696329e-01, 6.28904543e-01, 6.28904543e-01,\n       1.14455808e+00, 5.15967828e-01, 6.28592081e-01, 6.28747395e-01,\n       6.28747395e-01, 6.28747395e-01, 6.28747395e-01, 5.76207727e-07,\n       8.55337079e-02, 1.95124889e-01, 8.07000000e+02, 7.20000000e+02,\n       1.33000000e+03, 1.33575428e-06, 1.83338822e-02, 6.28590248e-01,\n       6.11565929e-02, 1.75481444e-01, 9.47599799e-02, 1.37999132e+00,\n       9.83481825e+00, 1.52354561e+00, 1.46000000e-01, 1.95200000e+01,\n       3.07921348e-05, 5.50016467e-02, 4.50000000e-02, 3.35248132e-02,\n       1.80000000e-02, 6.41502809e+00, 5.13202247e+01, 6.41502809e-05,\n       6.28590248e-01, 6.28590248e-01, 2.50275826e+00, 1.11194500e-03,\n       1.59000000e-04, 1.82000000e-04, 1.17860671e-01, 4.50000000e-01,\n       7.08000000e-01, 3.05000000e-01, 4.63585308e-02, 7.50000000e-02,\n       1.38551767e-02, 1.46000000e-01, 4.46392283e-01, 7.69803371e-03,\n       1.68312896e+00, 1.91729777e+00, 1.86750360e+00, 4.45256454e+00,\n       1.04765041e+00, 6.28590248e-01, 7.06378291e+00, 6.28590248e-01,\n       1.11322121e+00, 2.88103864e-01, 5.77000000e+00, 1.29925702e-05,\n       6.28590248e-01, 6.28590248e-01, 4.29536669e-01, 6.28590248e-01,\n       6.28590248e-01, 2.18940602e+00, 1.98267841e-04, 4.00726283e-04,\n       2.69832840e+00, 1.15058207e+00, 4.16461468e+00, 9.94649421e-03,\n       1.28000000e-03, 7.33591010e-05, 2.80090000e-03, 5.61605972e-07,\n       3.19639466e-03, 1.49552096e-05, 2.05280899e-01, 6.88830147e-05,\n       1.17860671e-01, 3.00000000e-01, 2.85589503e+00, 1.39958042e-01,\n       1.88215635e+00, 4.29536669e-01, 2.05280899e-01, 6.54519596e-01,\n       2.93630220e+00, 2.72493872e+00, 6.28590248e-01, 8.16000000e+00,\n       2.13720684e-01, 2.05280899e-01, 6.28747395e-01, 7.85737810e+00,\n       6.28590248e-01, 1.70572128e+00, 2.05280899e-01, 6.28590248e-01,\n       1.15743858e+00, 2.09530083e-01, 6.33751560e+00, 3.46065123e+00,\n       4.88000000e+00, 6.28590248e-01, 4.29536669e-01, 3.55127299e+00,\n       4.29536669e-01, 5.23825207e-05, 3.14321315e+00, 3.64660918e+00,\n       6.28590248e-01, 6.28590248e-01, 6.28590248e-01, 6.28747395e-01,\n       1.29411765e+05, 7.03265033e+00, 4.47579254e+00, 1.10035917e+01,\n       1.29918159e+01, 6.28590248e-01, 2.30930961e+00, 6.28590248e-01,\n       6.28590248e-01, 9.49424157e-01, 6.28590248e-01, 7.08219101e-01,\n       2.24851970e+00, 2.59987546e+00, 6.28590248e-01, 1.69356742e-05,\n       3.78000000e-04, 1.69356742e-05, 3.78000000e-04, 1.69356742e-05,\n       3.78000000e-04, 1.55671348e-05, 3.79000168e+01, 1.37014340e+00,\n       6.29132407e-01, 6.29093120e-01, 1.47594038e+00, 3.24991635e-01,\n       9.44168743e-01, 9.43155142e-01, 6.28747395e-01, 7.85737810e+00,\n       6.28590248e-01, 1.66579035e+00, 3.84901685e-04, 1.17860671e-03,\n       3.47217538e+00, 4.40013173e+00, 4.61354200e-01, 6.28904543e-01,\n       2.13791401e+00, 1.19783110e+00, 6.28590248e-01, 6.28590248e-01,\n       4.29536669e-01, 6.28852160e-01, 4.29536669e-01, 2.61524973e+01,\n       2.61524973e+01, 2.61524973e+01, 6.28590248e-01, 3.15342774e+00,\n       9.04415444e-03, 6.88546348e+00, 1.59948034e+00, 1.59948034e+00,\n       1.59682879e+00, 2.10839646e+01, 6.28590248e-01, 1.39958042e-01,\n       6.28590248e-01, 6.28590248e-01, 2.22387640e-02, 4.85144353e-01,\n       3.37702857e+00, 6.28747395e-01, 7.57613163e-01, 2.99475173e+00,\n       1.15903753e+00, 1.67628335e-01, 1.26766075e-01, 2.73707865e-05,\n       1.73124231e-05, 1.79053340e+00, 1.98060529e+00, 7.77519809e+00,\n       2.05383539e-01, 9.90860199e-01, 4.32403901e+00, 5.15967828e-01,\n       5.15967828e-01, 5.15967828e-01, 3.44107638e+00, 3.38556129e+00,\n       2.05383539e-01, 5.50016467e-07, 1.56523493e+01, 1.19022606e+01,\n       3.36102468e+00, 4.29536669e-01, 3.40486384e-01, 5.76207727e-02,\n       2.05280899e-01, 2.22625713e-04, 4.31729863e-04, 4.77397837e-02,\n       4.77397837e-02, 3.74273110e-02, 4.36608310e-02, 3.14295124e+00,\n       6.28590248e-01, 6.28590248e-01, 6.28590248e-01, 4.10272442e-01,\n       6.29585516e-01, 8.58039486e-01, 6.97266239e-01, 1.82081642e+00,\n       3.21497721e+00, 8.95741103e-03, 1.03727867e+00, 5.18875058e+00,\n       3.64660918e+00, 3.76997001e+00, 1.75519445e-01, 2.05294317e-01,\n       4.45251426e-01, 4.29536669e-01, 1.54528436e-04, 3.55767266e-01,\n       3.55962365e-01, 3.55767266e-01, 1.30956302e+02, 6.11042103e+01,\n       6.11042103e+01, 6.26337799e+00, 8.56657334e-06, 4.29536669e-01,\n       6.28590248e-01, 2.05280899e-01, 2.00550957e+00, 1.00050614e-04,\n       7.05545409e-02, 6.28904543e-01, 4.29536669e-01, 6.28590248e-01,\n       2.05280899e-01, 1.39958042e-01, 4.29536669e-01, 6.28590248e-01,\n       1.38080324e-03, 2.05280899e-01, 4.29536669e-01, 6.28590248e-01,\n       2.80265631e-01, 1.19696524e+00, 1.51912296e+00, 2.05280899e-01,\n       1.39958042e-01, 6.28590248e-01, 2.43840634e-05, 1.39958042e-01,\n       8.69549843e-05, 2.46318327e-02, 3.62413667e-04, 3.19443449e-02,\n       4.29536669e-01, 2.05280899e-01, 8.62327404e-03, 2.12149209e-03,\n       2.69832840e+00, 7.54308297e-02, 3.87149656e-01, 3.87149656e-01,\n       3.87149656e-01, 3.87149656e-01, 1.18406697e-01, 2.75463227e-01,\n       2.75463227e-01, 1.36623374e-01, 1.36623374e-01, 4.27000000e-01,\n       6.02398987e-04, 3.35248132e-01, 1.07000000e+00, 2.88103864e+00,\n       2.05332219e-01, 1.83405611e-07, 2.79916085e-01, 3.38741700e+00,\n       4.30541853e-01, 4.60245922e-01, 4.59067315e-01, 4.60245922e-01,\n       6.28590248e-01, 6.28590248e-01, 1.72863366e+00, 2.05280899e-01,\n       1.17860671e+00, 1.54405337e+00, 6.36514236e+00, 2.05280899e-01,\n       6.28590248e-01, 2.67150855e+00, 1.36398846e-01, 6.28590248e-01,\n       2.05280899e-01, 2.22625713e-05, 2.72389107e-02, 3.42134831e-05,\n       2.88103864e-01, 6.44305004e+00, 4.29536669e-01, 2.35377765e+00,\n       1.25378730e-02, 2.53006888e-01, 1.17860671e-06, 2.53006888e-01,\n       8.55337079e-07, 4.76026156e-03, 6.15842697e-06, 8.55337079e-06,\n       2.05280899e-06, 6.57402049e-03, 2.66941325e+00, 6.28590248e-01,\n       2.05280899e-01, 4.29536669e-01, 6.28590248e-01, 6.28590248e-01,\n       2.05280899e-01, 2.05280899e-01, 4.29536669e-01, 6.28590248e-01,\n       6.09633668e-03, 1.19702781e-02, 7.46452229e+00, 6.28904543e-01,\n       1.00350544e+01, 4.29536669e-01, 2.82865612e-01, 9.16694111e-01,\n       7.85737810e-07, 3.87175153e-04, 1.91184174e+00, 6.41685878e+00,\n       3.68365786e-03, 4.79287564e-01, 2.41249817e-01, 3.09056872e-04,\n       2.22625713e-05, 2.48816973e-05, 6.28590248e-01, 5.10417020e-02,\n       1.39958042e-01, 1.84808722e-04, 1.35196808e-04, 9.30358783e-03,\n       1.28031025e-04, 1.19476378e-03, 3.30266844e-07, 1.14031668e+00,\n       1.18819258e+00, 8.70610971e-02, 6.01745818e-06, 1.39958042e-01,\n       2.04900853e-01, 7.21937945e-05, 1.57051391e-06, 4.61765231e-04,\n       4.40551421e-02, 2.28808226e+00, 1.00725653e+00, 3.35417468e+00,\n       4.82120907e+00, 6.42091074e+00, 4.79862844e-01, 1.52759083e-03,\n       7.83627634e-06, 1.39958042e-01, 1.39958042e-01, 6.14548921e+00,\n       1.13520842e+01, 1.39958042e-01, 1.39958042e-01, 3.07207903e-01,\n       1.24616864e-03, 1.66611041e-01, 3.84093075e-04, 1.53637230e-04,\n       7.84613641e-06, 1.35712887e-06, 1.55344310e-06, 3.84093075e-03,\n       6.04306439e-03, 2.60329751e-03, 6.40155126e-04, 1.24616864e-03,\n       1.93932129e-01, 1.39958042e-01, 4.92492677e-02, 7.68186151e-07,\n       1.39958042e-01, 1.09253141e-05, 2.39068066e-05, 2.56062050e-03,\n       6.96488777e-02, 1.39958042e-01, 4.16527602e-02, 1.10458139e+03,\n       1.39958042e-01, 7.71600311e-01, 3.12624911e-05, 1.39958042e-01,\n       1.87748593e-02, 1.04755181e+00, 2.90203657e-05, 1.70708033e-07,\n       1.70708033e-04, 1.70708033e-07, 6.76118124e-05, 1.39958042e-01,\n       7.12224643e-04, 1.46168754e-03, 3.64461652e-03, 9.13287979e-03,\n       3.07684160e-01, 1.55105940e-03, 7.35682022e-02, 1.22613670e-03,\n       1.22613670e-02, 1.00996424e-01, 1.91192998e-04, 1.62000000e-03,\n       4.29541393e-01, 6.28598379e-01, 6.28593577e-01, 1.62847214e-04,\n       1.62847214e-04, 1.38000000e-03, 1.38000000e-03, 4.06990721e+00,\n       4.06990721e+00, 4.06990721e+00, 2.39164363e+00, 2.39164363e+00,\n       1.39960692e-01, 1.39959127e-01, 1.17786879e-05, 1.17786879e-05,\n       1.32921889e+01, 6.32961377e+00, 6.90066443e+00, 4.78352860e+00,\n       9.45445289e-02, 1.92106436e-02, 5.59968801e-01, 1.41130348e+00,\n       3.36891799e+00, 7.44499837e+01, 1.17504290e+01, 3.05115534e-04,\n       3.26473621e-01, 1.85211056e-02, 9.57813006e-01, 5.41761759e-01,\n       6.25008078e-01, 1.06581454e+00, 2.80037546e-01, 2.95284494e+00,\n       4.27763484e+01, 3.04861289e+00, 1.05125891e+00, 1.01823507e+00,\n       1.47506486e+01, 1.47506486e+01, 1.05125891e+00, 1.01823507e+00,\n       2.05287115e-01, 2.05287115e-01, 4.41537978e+01, 6.34817460e-03,\n       2.03467135e-01, 1.86787998e-01, 5.27075044e-01, 3.17738777e-02,\n       2.13406641e-01, 2.05259331e-01, 8.43029395e-05, 1.22604315e+00,\n       1.12844768e-03, 2.80008968e-01, 2.88847635e-01, 1.83424044e-03,\n       1.62820248e-01, 3.72048485e-05, 3.30256737e-03, 1.39811679e-04,\n       3.40593864e-04, 1.36480298e-01, 4.57080243e-01, 1.04291548e-01,\n       3.32184252e-01, 1.01930510e+00, 3.83142976e+00, 4.84269933e-03,\n       5.86821212e+01, 7.05468263e-01, 3.82678468e-01, 1.03423621e-01,\n       1.75303038e-01, 5.51157298e-02, 4.93444492e-01, 1.14774756e-02,\n       6.65910140e-01, 2.27123499e-01, 2.85511651e-02, 7.67029767e-03,\n       3.79679735e-01, 3.76319737e-01, 7.60241893e-03, 5.37312889e-05,\n       8.28277074e-02, 3.28921569e-02, 3.37645367e-01, 5.07797363e-01,\n       7.47987253e+00, 7.98446711e-01, 2.24708985e-01, 1.85834330e-01,\n       7.51477295e-01, 7.51477295e-01, 4.69313406e-01, 7.51477295e-01,\n       7.51477295e-01, 7.51477295e-01, 7.51477295e-01, 7.51477295e-01,\n       5.38414767e-01, 7.51477295e-01, 7.81447365e+00, 4.69420679e-04,\n       3.71394596e-01, 4.47852177e+00, 3.11952206e+00, 4.89548759e+00,\n       3.69864125e+00, 4.01522641e+00, 4.01522641e+00, 2.62793924e-01,\n       1.42240037e-01, 6.19093897e+00, 3.05267497e-03, 6.19093897e+00,\n       3.05267497e-03, 7.83857361e-05, 1.98922293e-01, 1.60468913e+00,\n       2.51425946e-04, 1.62790618e-01, 3.26978580e-01, 1.34685886e-02,\n       3.75106485e+01, 3.38602834e+00, 3.75106485e+01, 3.38602834e+00,\n       1.34685886e-02, 3.19054027e-04, 1.19495890e-05, 1.19167336e-02,\n       5.04819110e-02, 3.13712895e-04, 1.32895699e-03, 8.99795938e+02,\n       5.39225537e+03, 7.05924430e-03, 2.02953274e-01, 1.58121782e+00,\n       1.03783106e+00, 5.89425391e-02, 5.38448060e-01, 1.06290457e+00,\n       7.84001921e-01, 8.01570592e-01, 9.78512166e-04, 2.31564136e-03,\n       3.47435531e-03, 4.31578449e-01, 5.93143714e-01, 4.55741131e-04,\n       9.81596281e-05, 4.55741131e-04, 9.81596281e-05, 1.93712714e-01,\n       2.65999638e-02, 2.45117669e-03, 2.37617128e-03, 2.36309816e-03,\n       2.43769090e-03, 5.60937441e-04, 3.73264198e-02, 4.20498248e-04,\n       1.56559790e-05, 1.38973622e-03, 2.90710543e-06, 1.19334884e-06,\n       8.90170257e-04, 1.16491416e-03, 3.90136347e-03, 9.37623113e-01,\n       1.18509985e-03, 5.15866992e+00, 2.04597222e-02, 1.21838795e+00,\n       4.83434840e-01, 2.47357493e-02, 5.64175898e+00, 2.88670001e-01,\n       6.22591311e-02, 1.21670131e+00, 1.65915600e+00, 8.48997287e-02,\n       7.85510017e-02, 1.53519873e+00, 4.19504967e+00, 1.43796320e+00,\n       7.91895616e+01, 3.95373971e+02, 1.05586082e+02, 5.03756001e-02,\n       8.45929889e-04, 1.42252356e-01, 8.87253366e-03, 1.73404567e-01,\n       2.64334302e-03, 2.56245737e-03, 4.61868258e-05, 3.33918268e-05,\n       1.04232431e-04, 4.68990257e-01, 9.14137845e-02, 4.68990257e-01,\n       6.29729900e-01, 4.05071965e+00, 1.48275803e+00, 1.98814025e+00,\n       4.06579328e+00, 3.96487777e+00, 4.02991925e+00, 4.09548567e+00,\n       4.04249979e+00, 4.04493638e+00, 4.04154893e+00, 5.52977448e-02,\n       1.39147576e-01, 1.98205250e-01, 4.29536669e-01, 4.29536669e-01,\n       4.29536669e-01, 8.59073339e-01, 1.39958042e-01, 1.39958042e-01,\n       4.29536669e-01, 1.39958042e-01, 1.71814668e+00, 4.29536669e-01,\n       4.29536669e-01, 1.39958042e-01, 1.39958042e-01, 4.29536669e-01,\n       1.39958042e-01, 4.23776645e-01, 1.39958042e-01, 1.39958042e-01,\n       3.87788290e-01, 4.29536669e-01, 1.39958042e-01, 4.29536669e-01,\n       2.96311183e-01, 7.71297117e-02, 1.39958042e-01, 1.39958042e-01,\n       2.22628227e+00, 2.96311183e+02, 4.19874127e-01, 4.29536669e-01,\n       1.39958042e-01, 1.39958042e-01, 4.29536669e-01, 1.39958042e-01,\n       1.39958042e-01, 1.39958042e-01, 1.39958042e-01, 1.39074771e-01,\n       1.39958042e-01, 1.39958042e-01, 4.29536669e-01, 1.39958042e-01,\n       4.29536669e-01, 4.29536669e-01, 9.92782348e-02, 1.21341808e+03,\n       4.26701349e+01, 1.99098849e+01, 1.58675700e+00, 1.39958042e-01,\n       1.39958042e-01, 4.29536669e-01, 4.29536669e-01, 1.39958042e-01,\n       2.21456211e+00, 3.20586219e-01, 1.39958042e-01, 4.19874127e-01,\n       1.39958042e-01, 2.80246485e+00, 1.39958042e-01, 1.36271615e-01,\n       3.33070431e-01, 1.39958042e-01, 3.67320216e-03, 1.39958042e-01,\n       1.39958042e-01, 1.39958042e-01, 3.07218138e-01, 1.39958042e-01,\n       1.39958042e-01, 1.39958042e-01, 1.39958042e-01, 1.39958042e-01,\n       1.39958042e-01, 2.32090476e+00, 1.06706349e-01, 1.25245137e-01,\n       1.39958042e-01, 1.39958042e-01, 8.59073339e-01, 1.39958042e-01,\n       1.39958042e-01, 1.39958042e-01, 1.39958042e-01, 2.04816647e-01,\n       2.04816647e-01, 9.37398678e-02, 8.40161752e-02, 6.00116033e-02,\n       4.29536669e-01, 1.39958042e-01, 1.39958042e-01, 8.59839554e-02,\n       1.39958042e-01, 1.39958042e-01, 1.39958042e-01, 1.39958042e-01,\n       8.11576914e-03, 3.78218071e-01, 1.39958042e-01, 1.39958042e-01,\n       4.36908012e-02, 5.89766635e-01, 5.93429782e-01, 1.04243626e-01,\n       1.43600913e-01, 1.39958042e-01, 1.12789487e-01, 1.35951613e-01,\n       3.32491799e-02, 3.90316460e-02, 1.74984095e-01, 1.95475159e-01,\n       2.62899861e-02, 1.37967680e-01, 2.43035841e+02, 3.24047788e+02,\n       3.64643581e-01, 1.39958042e-01, 1.39958042e-01, 1.39958042e-01,\n       1.39958042e-01, 1.39958042e-01, 8.79942790e-01, 2.41128963e-02])"
     },
     "execution_count": 175,
     "metadata": {},
     "output_type": "execute_result"
    }
   ],
   "source": [
    "data[23293,:].data"
   ]
  },
  {
   "cell_type": "code",
   "execution_count": 177,
   "metadata": {},
   "outputs": [
    {
     "data": {
      "text/plain": "<41510x15437 sparse matrix of type '<class 'numpy.float64'>'\n\twith 1646196 stored elements in Compressed Sparse Column format>"
     },
     "execution_count": 177,
     "metadata": {},
     "output_type": "execute_result"
    }
   ],
   "source": [
    "data"
   ]
  },
  {
   "cell_type": "code",
   "execution_count": 178,
   "metadata": {},
   "outputs": [
    {
     "data": {
      "text/plain": "numpy.ndarray"
     },
     "execution_count": 178,
     "metadata": {},
     "output_type": "execute_result"
    }
   ],
   "source": [
    "type(data[23293,:].data)"
   ]
  },
  {
   "cell_type": "code",
   "execution_count": 179,
   "metadata": {},
   "outputs": [
    {
     "data": {
      "text/plain": "array([1.10000000e+01, 1.56243963e+00, 2.46878820e-01, 3.14295124e-01,\n       3.14295124e-01, 2.48816973e+00, 6.90676630e-01, 3.14295124e-01,\n       3.14295124e-01, 8.30158187e-01, 6.77803626e-01, 3.14295124e-01,\n       2.99000000e+00, 2.14768335e-01, 2.36336838e+00, 3.14295124e-01,\n       1.02145915e+00, 4.87812224e+00, 7.35948224e-01, 7.22136263e-01,\n       1.03028692e+00, 3.14295124e-01, 2.14768335e-01, 1.43960262e+00,\n       3.14295124e-01, 2.14768335e-01, 6.02398987e-06, 2.40959595e-06,\n       3.07747309e-06, 1.84551645e+00, 2.14768335e-01, 5.65731223e-03,\n       2.14768335e-01, 7.92167764e-01, 3.14295124e-01, 3.14452271e-01,\n       7.18483146e-06, 1.93574828e-01, 1.93574828e-01, 1.93574828e-01,\n       1.93574828e-01, 3.27390754e-06, 1.83340001e+00, 1.83340001e+00,\n       3.14295124e-06, 3.14297704e-01, 1.02640449e-01, 3.14295124e-01,\n       1.02640449e-01, 2.14768335e-01, 4.61081423e-02, 1.06582715e+00,\n       3.92872048e+00, 1.02640449e-01, 7.50000000e-03, 1.10003293e-02,\n       4.09137662e-04, 7.70023054e-01, 8.12997893e-04, 1.83338822e-03,\n       2.13834270e-06, 3.14295124e-01, 3.14295124e-01, 1.16061836e-01,\n       1.74983810e+00, 1.82330459e+00, 1.82330459e+00, 4.77623823e-01,\n       3.14295124e-01, 4.70435393e-07, 1.82330459e+00, 2.14768335e-01,\n       3.14295124e-01, 3.91559342e-02, 5.10000000e+00, 2.14768335e-01,\n       1.02640449e-01, 1.02640449e-01, 1.02640449e-01, 3.14295124e-01,\n       2.21787832e-01, 1.92450843e-04, 6.41685878e+00, 5.24947461e-01,\n       2.14768335e-01, 2.61932247e+00, 3.14295124e-01, 2.48816973e-01,\n       5.56610604e-01, 8.56585169e-01, 2.14768335e-01, 2.14768335e-01,\n       1.02640449e-01, 1.83348644e+00, 5.50000000e-05, 1.25000000e-06,\n       1.93574828e-01, 1.93574828e-01, 1.93574828e-01, 1.93574828e-01,\n       6.83116871e-02, 1.37504117e-03, 4.71442686e-03, 1.29646739e-03,\n       3.52500000e-04, 2.36971138e-04, 2.13834270e-01, 6.61329323e-04,\n       2.61912603e-04, 2.21532303e-05, 5.52297726e-02, 3.14452271e-01,\n       3.14295124e-01, 3.14295124e-01, 3.14295124e-01, 3.14295124e-01,\n       3.14295124e-01, 6.29035499e-01, 1.34151635e+00, 2.14768335e-01,\n       1.93574828e-01, 1.93574828e-01, 1.93574828e-01, 1.93574828e-01,\n       3.92868905e-03, 5.68350349e-03, 3.14373698e-01, 2.14768335e-01,\n       1.02640449e-01, 2.00440799e-01, 3.14452271e-01, 3.14452271e-01,\n       3.14295124e-01, 3.14295124e-01, 2.05280899e-01, 2.07696694e+00,\n       1.04765041e-01, 3.14373698e-01, 2.14768335e-01, 2.46616907e+00,\n       2.36271359e+00, 2.14768335e-01, 3.43930535e+00, 3.14373698e-01,\n       6.14027907e-01, 3.14373698e-01, 3.14295124e-01, 3.14295124e-01,\n       6.99790212e-02, 1.02640449e-01, 2.14768335e-01, 1.13624235e+00,\n       3.90249779e+00, 2.03951344e+00, 3.14295124e-01, 2.14768335e-01,\n       1.42794751e+00, 3.14452271e-01, 2.14768335e-01, 1.19694060e-03,\n       2.70500000e-02, 3.73239567e+01, 3.68845000e+01, 3.68845000e+01,\n       5.02897211e+00, 2.34411780e-03, 1.92450843e-04, 2.14768335e-01,\n       2.14768335e-01, 3.14452271e-01, 3.14295124e-01, 3.14295124e-01,\n       3.14295124e-01, 3.14295124e-01, 3.14295124e-01, 1.20249183e-05,\n       3.50429630e-01, 3.75848165e-01, 3.14452271e-01, 3.14452271e-01,\n       5.72279038e-01, 2.57983914e-01, 3.14296041e-01, 3.14373698e-01,\n       3.14373698e-01, 3.14373698e-01, 3.14373698e-01, 2.88103864e-07,\n       4.27668539e-02, 9.75624447e-02, 4.03500000e+02, 3.60000000e+02,\n       6.65000000e+02, 6.67877138e-07, 9.16694111e-03, 3.14295124e-01,\n       3.05782964e-02, 8.77407221e-02, 4.73799899e-02, 6.89995658e-01,\n       4.91740913e+00, 7.61772807e-01, 7.30000000e-02, 9.76000000e+00,\n       1.53960674e-05, 2.75008233e-02, 2.25000000e-02, 1.67624066e-02,\n       9.00000000e-03, 3.20751404e+00, 2.56601124e+01, 3.20751404e-05,\n       3.14295124e-01, 3.14295124e-01, 1.25137913e+00, 5.55972500e-04,\n       7.95000000e-05, 9.10000000e-05, 5.89303357e-02, 2.25000000e-01,\n       3.54000000e-01, 1.52500000e-01, 2.31792654e-02, 3.75000000e-02,\n       6.92758836e-03, 7.30000000e-02, 2.23196142e-01, 3.84901685e-03,\n       8.41564481e-01, 9.58648886e-01, 9.33751798e-01, 2.22628227e+00,\n       5.23825207e-01, 3.14295124e-01, 3.53189145e+00, 3.14295124e-01,\n       5.56610604e-01, 1.44051932e-01, 2.88500000e+00, 6.49628511e-06,\n       3.14295124e-01, 3.14295124e-01, 2.14768335e-01, 3.14295124e-01,\n       3.14295124e-01, 1.09470301e+00, 9.91339203e-05, 2.00363141e-04,\n       1.34916420e+00, 5.75291033e-01, 2.08230734e+00, 4.97324711e-03,\n       6.40000000e-04, 3.66795505e-05, 1.40045000e-03, 2.80802986e-07,\n       1.59819733e-03, 7.47760482e-06, 1.02640449e-01, 3.44415073e-05,\n       5.89303357e-02, 1.50000000e-01, 1.42794751e+00, 6.99790212e-02,\n       9.41078175e-01, 2.14768335e-01, 1.02640449e-01, 3.27259798e-01,\n       1.46815110e+00, 1.36246936e+00, 3.14295124e-01, 4.08000000e+00,\n       1.06860342e-01, 1.02640449e-01, 3.14373698e-01, 3.92868905e+00,\n       3.14295124e-01, 8.52860641e-01, 1.02640449e-01, 3.14295124e-01,\n       5.78719291e-01, 1.04765041e-01, 3.16875780e+00, 1.73032561e+00,\n       2.44000000e+00, 3.14295124e-01, 2.14768335e-01, 1.77563649e+00,\n       2.14768335e-01, 2.61912603e-05, 1.57160658e+00, 1.82330459e+00,\n       3.14295124e-01, 3.14295124e-01, 3.14295124e-01, 3.14373698e-01,\n       6.47058824e+04, 3.51632516e+00, 2.23789627e+00, 5.50179586e+00,\n       6.49590793e+00, 3.14295124e-01, 1.15465481e+00, 3.14295124e-01,\n       3.14295124e-01, 4.74712079e-01, 3.14295124e-01, 3.54109551e-01,\n       1.12425985e+00, 1.29993773e+00, 3.14295124e-01, 8.46783708e-06,\n       1.89000000e-04, 8.46783708e-06, 1.89000000e-04, 8.46783708e-06,\n       1.89000000e-04, 7.78356742e-06, 1.89500084e+01, 6.85071701e-01,\n       3.14566203e-01, 3.14546560e-01, 7.37970189e-01, 1.62495817e-01,\n       4.72084372e-01, 4.71577571e-01, 3.14373698e-01, 3.92868905e+00,\n       3.14295124e-01, 8.32895174e-01, 1.92450843e-04, 5.89303357e-04,\n       1.73608769e+00, 2.20006587e+00, 2.30677100e-01, 3.14452271e-01,\n       1.06895700e+00, 5.98915550e-01, 3.14295124e-01, 3.14295124e-01,\n       2.14768335e-01, 3.14426080e-01, 2.14768335e-01, 1.30762486e+01,\n       1.30762486e+01, 1.30762486e+01, 3.14295124e-01, 1.57671387e+00,\n       4.52207722e-03, 3.44273174e+00, 7.99740169e-01, 7.99740169e-01,\n       7.98414396e-01, 1.05419823e+01, 3.14295124e-01, 6.99790212e-02,\n       3.14295124e-01, 3.14295124e-01, 1.11193820e-02, 2.42572176e-01,\n       1.68851429e+00, 3.14373698e-01, 3.78806582e-01, 1.49737586e+00,\n       5.79518766e-01, 8.38141676e-02, 6.33830373e-02, 1.36853933e-05,\n       8.65621154e-06, 8.95266700e-01, 9.90302645e-01, 3.88759905e+00,\n       1.02691770e-01, 4.95430100e-01, 2.16201950e+00, 2.57983914e-01,\n       2.57983914e-01, 2.57983914e-01, 1.72053819e+00, 1.69278064e+00,\n       1.02691770e-01, 2.75008233e-07, 7.82617465e+00, 5.95113030e+00,\n       1.68051234e+00, 2.14768335e-01, 1.70243192e-01, 2.88103864e-02,\n       1.02640449e-01, 1.11312856e-04, 2.15864931e-04, 2.38698919e-02,\n       2.38698919e-02, 1.87136555e-02, 2.18304155e-02, 1.57147562e+00,\n       3.14295124e-01, 3.14295124e-01, 3.14295124e-01, 2.05136221e-01,\n       3.14792758e-01, 4.29019743e-01, 3.48633119e-01, 9.10408209e-01,\n       1.60748860e+00, 4.47870552e-03, 5.18639337e-01, 2.59437529e+00,\n       1.82330459e+00, 1.88498501e+00, 8.77597226e-02, 1.02647159e-01,\n       2.22625713e-01, 2.14768335e-01, 7.72642180e-05, 1.77883633e-01,\n       1.77981182e-01, 1.77883633e-01, 6.54781508e+01, 3.05521052e+01,\n       3.05521052e+01, 3.13168900e+00, 4.28328667e-06, 2.14768335e-01,\n       3.14295124e-01, 1.02640449e-01, 1.00275478e+00, 5.00253072e-05,\n       3.52772704e-02, 3.14452271e-01, 2.14768335e-01, 3.14295124e-01,\n       1.02640449e-01, 6.99790212e-02, 2.14768335e-01, 3.14295124e-01,\n       6.90401622e-04, 1.02640449e-01, 2.14768335e-01, 3.14295124e-01,\n       1.40132816e-01, 5.98482621e-01, 7.59561478e-01, 1.02640449e-01,\n       6.99790212e-02, 3.14295124e-01, 1.21920317e-05, 6.99790212e-02,\n       4.34774921e-05, 1.23159163e-02, 1.81206833e-04, 1.59721725e-02,\n       2.14768335e-01, 1.02640449e-01, 4.31163702e-03, 1.06074604e-03,\n       1.34916420e+00, 3.77154149e-02, 1.93574828e-01, 1.93574828e-01,\n       1.93574828e-01, 1.93574828e-01, 5.92033483e-02, 1.37731614e-01,\n       1.37731614e-01, 6.83116871e-02, 6.83116871e-02, 2.13500000e-01,\n       3.01199494e-04, 1.67624066e-01, 5.35000000e-01, 1.44051932e+00,\n       1.02666110e-01, 9.17028057e-08, 1.39958042e-01, 1.69370850e+00,\n       2.15270926e-01, 2.30122961e-01, 2.29533658e-01, 2.30122961e-01,\n       3.14295124e-01, 3.14295124e-01, 8.64316829e-01, 1.02640449e-01,\n       5.89303357e-01, 7.72026685e-01, 3.18257118e+00, 1.02640449e-01,\n       3.14295124e-01, 1.33575428e+00, 6.81994228e-02, 3.14295124e-01,\n       1.02640449e-01, 1.11312856e-05, 1.36194554e-02, 1.71067416e-05,\n       1.44051932e-01, 3.22152502e+00, 2.14768335e-01, 1.17688882e+00,\n       6.26893652e-03, 1.26503444e-01, 5.89303357e-07, 1.26503444e-01,\n       4.27668539e-07, 2.38013078e-03, 3.07921348e-06, 4.27668539e-06,\n       1.02640449e-06, 3.28701024e-03, 1.33470663e+00, 3.14295124e-01,\n       1.02640449e-01, 2.14768335e-01, 3.14295124e-01, 3.14295124e-01,\n       1.02640449e-01, 1.02640449e-01, 2.14768335e-01, 3.14295124e-01,\n       3.04816834e-03, 5.98513907e-03, 3.73226114e+00, 3.14452271e-01,\n       5.01752718e+00, 2.14768335e-01, 1.41432806e-01, 4.58347056e-01,\n       3.92868905e-07, 1.93587576e-04, 9.55920868e-01, 3.20842939e+00,\n       1.84182893e-03, 2.39643782e-01, 1.20624909e-01, 1.54528436e-04,\n       1.11312856e-05, 1.24408487e-05, 3.14295124e-01, 2.55208510e-02,\n       6.99790212e-02, 9.24043608e-05, 6.75984038e-05, 4.65179391e-03,\n       6.40155126e-05, 5.97381888e-04, 1.65133422e-07, 5.70158342e-01,\n       5.94096288e-01, 4.35305485e-02, 3.00872909e-06, 6.99790212e-02,\n       1.02450426e-01, 3.60968972e-05, 7.85256954e-07, 2.30882615e-04,\n       2.20275711e-02, 1.14404113e+00, 5.03628264e-01, 1.67708734e+00,\n       2.41060453e+00, 3.21045537e+00, 2.39931422e-01, 7.63795414e-04,\n       3.91813817e-06, 6.99790212e-02, 6.99790212e-02, 3.07274460e+00,\n       5.67604211e+00, 6.99790212e-02, 6.99790212e-02, 1.53603951e-01,\n       6.23084322e-04, 8.33055203e-02, 1.92046538e-04, 7.68186151e-05,\n       3.92306821e-06, 6.78564433e-07, 7.76721552e-07, 1.92046538e-03,\n       3.02153219e-03, 1.30164876e-03, 3.20077563e-04, 6.23084322e-04,\n       9.69660646e-02, 6.99790212e-02, 2.46246338e-02, 3.84093075e-07,\n       6.99790212e-02, 5.46265707e-06, 1.19534033e-05, 1.28031025e-03,\n       3.48244388e-02, 6.99790212e-02, 2.08263801e-02, 5.52290697e+02,\n       6.99790212e-02, 3.85800156e-01, 1.56312455e-05, 6.99790212e-02,\n       9.38742967e-03, 5.23775905e-01, 1.45101828e-05, 8.53540167e-08,\n       8.53540167e-05, 8.53540167e-08, 3.38059062e-05, 6.99790212e-02,\n       3.56112322e-04, 7.30843768e-04, 1.82230826e-03, 4.56643990e-03,\n       1.53842080e-01, 7.75529701e-04, 3.67841011e-02, 6.13068352e-04,\n       6.13068352e-03, 5.04982122e-02, 9.55964988e-05, 8.10000000e-04,\n       2.14770697e-01, 3.14299189e-01, 3.14296788e-01, 8.14236072e-05,\n       8.14236072e-05, 6.90000000e-04, 6.90000000e-04, 2.03495361e+00,\n       2.03495361e+00, 2.03495361e+00, 1.19582181e+00, 1.19582181e+00,\n       6.99803458e-02, 6.99795635e-02, 5.88934394e-06, 5.88934394e-06,\n       6.64609446e+00, 3.16480689e+00, 3.45033221e+00, 2.39176430e+00,\n       4.72722644e-02, 9.60532181e-03, 2.79984401e-01, 7.05651741e-01,\n       1.68445900e+00, 3.72249918e+01, 5.87521449e+00, 1.52557767e-04,\n       1.63236811e-01, 9.26055280e-03, 4.78906503e-01, 2.70880879e-01,\n       3.12504039e-01, 5.32907270e-01, 1.40018773e-01, 1.47642247e+00,\n       2.13881742e+01, 1.52430644e+00, 5.25629455e-01, 5.09117534e-01,\n       7.37532428e+00, 7.37532428e+00, 5.25629455e-01, 5.09117534e-01,\n       1.02643557e-01, 1.02643557e-01, 2.20768989e+01, 3.17408730e-03,\n       1.01733567e-01, 9.33939990e-02, 2.63537522e-01, 1.58869389e-02,\n       1.06703321e-01, 1.02629666e-01, 4.21514698e-05, 6.13021577e-01,\n       5.64223840e-04, 1.40004484e-01, 1.44423817e-01, 9.17120222e-04,\n       8.14101239e-02, 1.86024242e-05, 1.65128369e-03, 6.99058393e-05,\n       1.70296932e-04, 6.82401490e-02, 2.28540121e-01, 5.21457742e-02,\n       1.66092126e-01, 5.09652551e-01, 1.91571488e+00, 2.42134966e-03,\n       2.93410606e+01, 3.52734131e-01, 1.91339234e-01, 5.17118105e-02,\n       8.76515189e-02, 2.75578649e-02, 2.46722246e-01, 5.73873779e-03,\n       3.32955070e-01, 1.13561749e-01, 1.42755825e-02, 3.83514883e-03,\n       1.89839867e-01, 1.88159868e-01, 3.80120946e-03, 2.68656444e-05,\n       4.14138537e-02, 1.64460784e-02, 1.68822684e-01, 2.53898681e-01,\n       3.73993627e+00, 3.99223355e-01, 1.12354492e-01, 9.29171652e-02,\n       3.75738647e-01, 3.75738647e-01, 2.34656703e-01, 3.75738647e-01,\n       3.75738647e-01, 3.75738647e-01, 3.75738647e-01, 3.75738647e-01,\n       2.69207383e-01, 3.75738647e-01, 3.90723683e+00, 2.34710339e-04,\n       1.85697298e-01, 2.23926088e+00, 1.55976103e+00, 2.44774379e+00,\n       1.84932063e+00, 2.00761321e+00, 2.00761321e+00, 1.31396962e-01,\n       7.11200183e-02, 3.09546948e+00, 1.52633749e-03, 3.09546948e+00,\n       1.52633749e-03, 3.91928681e-05, 9.94611463e-02, 8.02344563e-01,\n       1.25712973e-04, 8.13953089e-02, 1.63489290e-01, 6.73429429e-03,\n       1.87553243e+01, 1.69301417e+00, 1.87553243e+01, 1.69301417e+00,\n       6.73429429e-03, 1.59527013e-04, 5.97479451e-06, 5.95836682e-03,\n       2.52409555e-02, 1.56856448e-04, 6.64478495e-04, 4.49897969e+02,\n       2.69612769e+03, 3.52962215e-03, 1.01476637e-01, 7.90608908e-01,\n       5.18915529e-01, 2.94712695e-02, 2.69224030e-01, 5.31452283e-01,\n       3.92000961e-01, 4.00785296e-01, 4.89256083e-04, 1.15782068e-03,\n       1.73717766e-03, 2.15789224e-01, 2.96571857e-01, 2.27870565e-04,\n       4.90798141e-05, 2.27870565e-04, 4.90798141e-05, 9.68563568e-02,\n       1.32999819e-02, 1.22558834e-03, 1.18808564e-03, 1.18154908e-03,\n       1.21884545e-03, 2.80468720e-04, 1.86632099e-02, 2.10249124e-04,\n       7.82798948e-06, 6.94868108e-04, 1.45355272e-06, 5.96674418e-07,\n       4.45085128e-04, 5.82457082e-04, 1.95068174e-03, 4.68811557e-01,\n       5.92549923e-04, 2.57933496e+00, 1.02298611e-02, 6.09193976e-01,\n       2.41717420e-01, 1.23678746e-02, 2.82087949e+00, 1.44335001e-01,\n       3.11295656e-02, 6.08350655e-01, 8.29578002e-01, 4.24498644e-02,\n       3.92755009e-02, 7.67599366e-01, 2.09752484e+00, 7.18981601e-01,\n       3.95947808e+01, 1.97686985e+02, 5.27930411e+01, 2.51878001e-02,\n       4.22964944e-04, 7.11261780e-02, 4.43626683e-03, 8.67022834e-02,\n       1.32167151e-03, 1.28122869e-03, 2.30934129e-05, 1.66959134e-05,\n       5.21162156e-05, 2.34495128e-01, 4.57068922e-02, 2.34495128e-01,\n       3.14864950e-01, 2.02535982e+00, 7.41379017e-01, 9.94070125e-01,\n       2.03289664e+00, 1.98243889e+00, 2.01495962e+00, 2.04774283e+00,\n       2.02124989e+00, 2.02246819e+00, 2.02077447e+00, 2.76488724e-02,\n       6.95737881e-02, 9.91026251e-02, 2.14768335e-01, 2.14768335e-01,\n       2.14768335e-01, 4.29536669e-01, 6.99790212e-02, 6.99790212e-02,\n       2.14768335e-01, 6.99790212e-02, 8.59073339e-01, 2.14768335e-01,\n       2.14768335e-01, 6.99790212e-02, 6.99790212e-02, 2.14768335e-01,\n       6.99790212e-02, 2.11888322e-01, 6.99790212e-02, 6.99790212e-02,\n       1.93894145e-01, 2.14768335e-01, 6.99790212e-02, 2.14768335e-01,\n       1.48155591e-01, 3.85648559e-02, 6.99790212e-02, 6.99790212e-02,\n       1.11314114e+00, 1.48155591e+02, 2.09937063e-01, 2.14768335e-01,\n       6.99790212e-02, 6.99790212e-02, 2.14768335e-01, 6.99790212e-02,\n       6.99790212e-02, 6.99790212e-02, 6.99790212e-02, 6.95373856e-02,\n       6.99790212e-02, 6.99790212e-02, 2.14768335e-01, 6.99790212e-02,\n       2.14768335e-01, 2.14768335e-01, 4.96391174e-02, 6.06709038e+02,\n       2.13350674e+01, 9.95494246e+00, 7.93378502e-01, 6.99790212e-02,\n       6.99790212e-02, 2.14768335e-01, 2.14768335e-01, 6.99790212e-02,\n       1.10728105e+00, 1.60293109e-01, 6.99790212e-02, 2.09937063e-01,\n       6.99790212e-02, 1.40123243e+00, 6.99790212e-02, 6.81358077e-02,\n       1.66535216e-01, 6.99790212e-02, 1.83660108e-03, 6.99790212e-02,\n       6.99790212e-02, 6.99790212e-02, 1.53609069e-01, 6.99790212e-02,\n       6.99790212e-02, 6.99790212e-02, 6.99790212e-02, 6.99790212e-02,\n       6.99790212e-02, 1.16045238e+00, 5.33531747e-02, 6.26225685e-02,\n       6.99790212e-02, 6.99790212e-02, 4.29536669e-01, 6.99790212e-02,\n       6.99790212e-02, 6.99790212e-02, 6.99790212e-02, 1.02408324e-01,\n       1.02408324e-01, 4.68699339e-02, 4.20080876e-02, 3.00058017e-02,\n       2.14768335e-01, 6.99790212e-02, 6.99790212e-02, 4.29919777e-02,\n       6.99790212e-02, 6.99790212e-02, 6.99790212e-02, 6.99790212e-02,\n       4.05788457e-03, 1.89109035e-01, 6.99790212e-02, 6.99790212e-02,\n       2.18454006e-02, 2.94883318e-01, 2.96714891e-01, 5.21218128e-02,\n       7.18004564e-02, 6.99790212e-02, 5.63947433e-02, 6.79758067e-02,\n       1.66245899e-02, 1.95158230e-02, 8.74920474e-02, 9.77375793e-02,\n       1.31449930e-02, 6.89838400e-02, 1.21517921e+02, 1.62023894e+02,\n       1.82321790e-01, 6.99790212e-02, 6.99790212e-02, 6.99790212e-02,\n       6.99790212e-02, 6.99790212e-02, 4.39971395e-01, 1.20564482e-02])"
     },
     "execution_count": 179,
     "metadata": {},
     "output_type": "execute_result"
    }
   ],
   "source": [
    "np.divide(data[23293,:].data, 2)"
   ]
  },
  {
   "cell_type": "code",
   "execution_count": 180,
   "metadata": {},
   "outputs": [
    {
     "data": {
      "text/plain": "array([2.20000000e+01, 3.12487927e+00, 4.93757640e-01, 6.28590248e-01,\n       6.28590248e-01, 4.97633946e+00, 1.38135326e+00, 6.28590248e-01,\n       6.28590248e-01, 1.66031637e+00, 1.35560725e+00, 6.28590248e-01,\n       5.98000000e+00, 4.29536669e-01, 4.72673675e+00, 6.28590248e-01,\n       2.04291831e+00, 9.75624447e+00, 1.47189645e+00, 1.44427253e+00,\n       2.06057385e+00, 6.28590248e-01, 4.29536669e-01, 2.87920525e+00,\n       6.28590248e-01, 4.29536669e-01, 1.20479797e-05, 4.81919190e-06,\n       6.15494618e-06, 3.69103289e+00, 4.29536669e-01, 1.13146245e-02,\n       4.29536669e-01, 1.58433553e+00, 6.28590248e-01, 6.28904543e-01,\n       1.43696629e-05, 3.87149656e-01, 3.87149656e-01, 3.87149656e-01,\n       3.87149656e-01, 6.54781508e-06, 3.66680002e+00, 3.66680002e+00,\n       6.28590248e-06, 6.28595408e-01, 2.05280899e-01, 6.28590248e-01,\n       2.05280899e-01, 4.29536669e-01, 9.22162847e-02, 2.13165430e+00,\n       7.85744096e+00, 2.05280899e-01, 1.50000000e-02, 2.20006587e-02,\n       8.18275323e-04, 1.54004611e+00, 1.62599579e-03, 3.66677645e-03,\n       4.27668539e-06, 6.28590248e-01, 6.28590248e-01, 2.32123672e-01,\n       3.49967620e+00, 3.64660918e+00, 3.64660918e+00, 9.55247647e-01,\n       6.28590248e-01, 9.40870787e-07, 3.64660918e+00, 4.29536669e-01,\n       6.28590248e-01, 7.83118684e-02, 1.02000000e+01, 4.29536669e-01,\n       2.05280899e-01, 2.05280899e-01, 2.05280899e-01, 6.28590248e-01,\n       4.43575664e-01, 3.84901685e-04, 1.28337176e+01, 1.04989492e+00,\n       4.29536669e-01, 5.23864493e+00, 6.28590248e-01, 4.97633946e-01,\n       1.11322121e+00, 1.71317034e+00, 4.29536669e-01, 4.29536669e-01,\n       2.05280899e-01, 3.66697288e+00, 1.10000000e-04, 2.50000000e-06,\n       3.87149656e-01, 3.87149656e-01, 3.87149656e-01, 3.87149656e-01,\n       1.36623374e-01, 2.75008233e-03, 9.42885372e-03, 2.59293477e-03,\n       7.05000000e-04, 4.73942275e-04, 4.27668539e-01, 1.32265865e-03,\n       5.23825207e-04, 4.43064607e-05, 1.10459545e-01, 6.28904543e-01,\n       6.28590248e-01, 6.28590248e-01, 6.28590248e-01, 6.28590248e-01,\n       6.28590248e-01, 1.25807100e+00, 2.68303271e+00, 4.29536669e-01,\n       3.87149656e-01, 3.87149656e-01, 3.87149656e-01, 3.87149656e-01,\n       7.85737810e-03, 1.13670070e-02, 6.28747395e-01, 4.29536669e-01,\n       2.05280899e-01, 4.00881597e-01, 6.28904543e-01, 6.28904543e-01,\n       6.28590248e-01, 6.28590248e-01, 4.10561798e-01, 4.15393389e+00,\n       2.09530083e-01, 6.28747395e-01, 4.29536669e-01, 4.93233814e+00,\n       4.72542719e+00, 4.29536669e-01, 6.87861070e+00, 6.28747395e-01,\n       1.22805581e+00, 6.28747395e-01, 6.28590248e-01, 6.28590248e-01,\n       1.39958042e-01, 2.05280899e-01, 4.29536669e-01, 2.27248470e+00,\n       7.80499558e+00, 4.07902688e+00, 6.28590248e-01, 4.29536669e-01,\n       2.85589503e+00, 6.28904543e-01, 4.29536669e-01, 2.39388119e-03,\n       5.41000000e-02, 7.46479133e+01, 7.37690000e+01, 7.37690000e+01,\n       1.00579442e+01, 4.68823560e-03, 3.84901685e-04, 4.29536669e-01,\n       4.29536669e-01, 6.28904543e-01, 6.28590248e-01, 6.28590248e-01,\n       6.28590248e-01, 6.28590248e-01, 6.28590248e-01, 2.40498365e-05,\n       7.00859261e-01, 7.51696329e-01, 6.28904543e-01, 6.28904543e-01,\n       1.14455808e+00, 5.15967828e-01, 6.28592081e-01, 6.28747395e-01,\n       6.28747395e-01, 6.28747395e-01, 6.28747395e-01, 5.76207727e-07,\n       8.55337079e-02, 1.95124889e-01, 8.07000000e+02, 7.20000000e+02,\n       1.33000000e+03, 1.33575428e-06, 1.83338822e-02, 6.28590248e-01,\n       6.11565929e-02, 1.75481444e-01, 9.47599799e-02, 1.37999132e+00,\n       9.83481825e+00, 1.52354561e+00, 1.46000000e-01, 1.95200000e+01,\n       3.07921348e-05, 5.50016467e-02, 4.50000000e-02, 3.35248132e-02,\n       1.80000000e-02, 6.41502809e+00, 5.13202247e+01, 6.41502809e-05,\n       6.28590248e-01, 6.28590248e-01, 2.50275826e+00, 1.11194500e-03,\n       1.59000000e-04, 1.82000000e-04, 1.17860671e-01, 4.50000000e-01,\n       7.08000000e-01, 3.05000000e-01, 4.63585308e-02, 7.50000000e-02,\n       1.38551767e-02, 1.46000000e-01, 4.46392283e-01, 7.69803371e-03,\n       1.68312896e+00, 1.91729777e+00, 1.86750360e+00, 4.45256454e+00,\n       1.04765041e+00, 6.28590248e-01, 7.06378291e+00, 6.28590248e-01,\n       1.11322121e+00, 2.88103864e-01, 5.77000000e+00, 1.29925702e-05,\n       6.28590248e-01, 6.28590248e-01, 4.29536669e-01, 6.28590248e-01,\n       6.28590248e-01, 2.18940602e+00, 1.98267841e-04, 4.00726283e-04,\n       2.69832840e+00, 1.15058207e+00, 4.16461468e+00, 9.94649421e-03,\n       1.28000000e-03, 7.33591010e-05, 2.80090000e-03, 5.61605972e-07,\n       3.19639466e-03, 1.49552096e-05, 2.05280899e-01, 6.88830147e-05,\n       1.17860671e-01, 3.00000000e-01, 2.85589503e+00, 1.39958042e-01,\n       1.88215635e+00, 4.29536669e-01, 2.05280899e-01, 6.54519596e-01,\n       2.93630220e+00, 2.72493872e+00, 6.28590248e-01, 8.16000000e+00,\n       2.13720684e-01, 2.05280899e-01, 6.28747395e-01, 7.85737810e+00,\n       6.28590248e-01, 1.70572128e+00, 2.05280899e-01, 6.28590248e-01,\n       1.15743858e+00, 2.09530083e-01, 6.33751560e+00, 3.46065123e+00,\n       4.88000000e+00, 6.28590248e-01, 4.29536669e-01, 3.55127299e+00,\n       4.29536669e-01, 5.23825207e-05, 3.14321315e+00, 3.64660918e+00,\n       6.28590248e-01, 6.28590248e-01, 6.28590248e-01, 6.28747395e-01,\n       1.29411765e+05, 7.03265033e+00, 4.47579254e+00, 1.10035917e+01,\n       1.29918159e+01, 6.28590248e-01, 2.30930961e+00, 6.28590248e-01,\n       6.28590248e-01, 9.49424157e-01, 6.28590248e-01, 7.08219101e-01,\n       2.24851970e+00, 2.59987546e+00, 6.28590248e-01, 1.69356742e-05,\n       3.78000000e-04, 1.69356742e-05, 3.78000000e-04, 1.69356742e-05,\n       3.78000000e-04, 1.55671348e-05, 3.79000168e+01, 1.37014340e+00,\n       6.29132407e-01, 6.29093120e-01, 1.47594038e+00, 3.24991635e-01,\n       9.44168743e-01, 9.43155142e-01, 6.28747395e-01, 7.85737810e+00,\n       6.28590248e-01, 1.66579035e+00, 3.84901685e-04, 1.17860671e-03,\n       3.47217538e+00, 4.40013173e+00, 4.61354200e-01, 6.28904543e-01,\n       2.13791401e+00, 1.19783110e+00, 6.28590248e-01, 6.28590248e-01,\n       4.29536669e-01, 6.28852160e-01, 4.29536669e-01, 2.61524973e+01,\n       2.61524973e+01, 2.61524973e+01, 6.28590248e-01, 3.15342774e+00,\n       9.04415444e-03, 6.88546348e+00, 1.59948034e+00, 1.59948034e+00,\n       1.59682879e+00, 2.10839646e+01, 6.28590248e-01, 1.39958042e-01,\n       6.28590248e-01, 6.28590248e-01, 2.22387640e-02, 4.85144353e-01,\n       3.37702857e+00, 6.28747395e-01, 7.57613163e-01, 2.99475173e+00,\n       1.15903753e+00, 1.67628335e-01, 1.26766075e-01, 2.73707865e-05,\n       1.73124231e-05, 1.79053340e+00, 1.98060529e+00, 7.77519809e+00,\n       2.05383539e-01, 9.90860199e-01, 4.32403901e+00, 5.15967828e-01,\n       5.15967828e-01, 5.15967828e-01, 3.44107638e+00, 3.38556129e+00,\n       2.05383539e-01, 5.50016467e-07, 1.56523493e+01, 1.19022606e+01,\n       3.36102468e+00, 4.29536669e-01, 3.40486384e-01, 5.76207727e-02,\n       2.05280899e-01, 2.22625713e-04, 4.31729863e-04, 4.77397837e-02,\n       4.77397837e-02, 3.74273110e-02, 4.36608310e-02, 3.14295124e+00,\n       6.28590248e-01, 6.28590248e-01, 6.28590248e-01, 4.10272442e-01,\n       6.29585516e-01, 8.58039486e-01, 6.97266239e-01, 1.82081642e+00,\n       3.21497721e+00, 8.95741103e-03, 1.03727867e+00, 5.18875058e+00,\n       3.64660918e+00, 3.76997001e+00, 1.75519445e-01, 2.05294317e-01,\n       4.45251426e-01, 4.29536669e-01, 1.54528436e-04, 3.55767266e-01,\n       3.55962365e-01, 3.55767266e-01, 1.30956302e+02, 6.11042103e+01,\n       6.11042103e+01, 6.26337799e+00, 8.56657334e-06, 4.29536669e-01,\n       6.28590248e-01, 2.05280899e-01, 2.00550957e+00, 1.00050614e-04,\n       7.05545409e-02, 6.28904543e-01, 4.29536669e-01, 6.28590248e-01,\n       2.05280899e-01, 1.39958042e-01, 4.29536669e-01, 6.28590248e-01,\n       1.38080324e-03, 2.05280899e-01, 4.29536669e-01, 6.28590248e-01,\n       2.80265631e-01, 1.19696524e+00, 1.51912296e+00, 2.05280899e-01,\n       1.39958042e-01, 6.28590248e-01, 2.43840634e-05, 1.39958042e-01,\n       8.69549843e-05, 2.46318327e-02, 3.62413667e-04, 3.19443449e-02,\n       4.29536669e-01, 2.05280899e-01, 8.62327404e-03, 2.12149209e-03,\n       2.69832840e+00, 7.54308297e-02, 3.87149656e-01, 3.87149656e-01,\n       3.87149656e-01, 3.87149656e-01, 1.18406697e-01, 2.75463227e-01,\n       2.75463227e-01, 1.36623374e-01, 1.36623374e-01, 4.27000000e-01,\n       6.02398987e-04, 3.35248132e-01, 1.07000000e+00, 2.88103864e+00,\n       2.05332219e-01, 1.83405611e-07, 2.79916085e-01, 3.38741700e+00,\n       4.30541853e-01, 4.60245922e-01, 4.59067315e-01, 4.60245922e-01,\n       6.28590248e-01, 6.28590248e-01, 1.72863366e+00, 2.05280899e-01,\n       1.17860671e+00, 1.54405337e+00, 6.36514236e+00, 2.05280899e-01,\n       6.28590248e-01, 2.67150855e+00, 1.36398846e-01, 6.28590248e-01,\n       2.05280899e-01, 2.22625713e-05, 2.72389107e-02, 3.42134831e-05,\n       2.88103864e-01, 6.44305004e+00, 4.29536669e-01, 2.35377765e+00,\n       1.25378730e-02, 2.53006888e-01, 1.17860671e-06, 2.53006888e-01,\n       8.55337079e-07, 4.76026156e-03, 6.15842697e-06, 8.55337079e-06,\n       2.05280899e-06, 6.57402049e-03, 2.66941325e+00, 6.28590248e-01,\n       2.05280899e-01, 4.29536669e-01, 6.28590248e-01, 6.28590248e-01,\n       2.05280899e-01, 2.05280899e-01, 4.29536669e-01, 6.28590248e-01,\n       6.09633668e-03, 1.19702781e-02, 7.46452229e+00, 6.28904543e-01,\n       1.00350544e+01, 4.29536669e-01, 2.82865612e-01, 9.16694111e-01,\n       7.85737810e-07, 3.87175153e-04, 1.91184174e+00, 6.41685878e+00,\n       3.68365786e-03, 4.79287564e-01, 2.41249817e-01, 3.09056872e-04,\n       2.22625713e-05, 2.48816973e-05, 6.28590248e-01, 5.10417020e-02,\n       1.39958042e-01, 1.84808722e-04, 1.35196808e-04, 9.30358783e-03,\n       1.28031025e-04, 1.19476378e-03, 3.30266844e-07, 1.14031668e+00,\n       1.18819258e+00, 8.70610971e-02, 6.01745818e-06, 1.39958042e-01,\n       2.04900853e-01, 7.21937945e-05, 1.57051391e-06, 4.61765231e-04,\n       4.40551421e-02, 2.28808226e+00, 1.00725653e+00, 3.35417468e+00,\n       4.82120907e+00, 6.42091074e+00, 4.79862844e-01, 1.52759083e-03,\n       7.83627634e-06, 1.39958042e-01, 1.39958042e-01, 6.14548921e+00,\n       1.13520842e+01, 1.39958042e-01, 1.39958042e-01, 3.07207903e-01,\n       1.24616864e-03, 1.66611041e-01, 3.84093075e-04, 1.53637230e-04,\n       7.84613641e-06, 1.35712887e-06, 1.55344310e-06, 3.84093075e-03,\n       6.04306439e-03, 2.60329751e-03, 6.40155126e-04, 1.24616864e-03,\n       1.93932129e-01, 1.39958042e-01, 4.92492677e-02, 7.68186151e-07,\n       1.39958042e-01, 1.09253141e-05, 2.39068066e-05, 2.56062050e-03,\n       6.96488777e-02, 1.39958042e-01, 4.16527602e-02, 1.10458139e+03,\n       1.39958042e-01, 7.71600311e-01, 3.12624911e-05, 1.39958042e-01,\n       1.87748593e-02, 1.04755181e+00, 2.90203657e-05, 1.70708033e-07,\n       1.70708033e-04, 1.70708033e-07, 6.76118124e-05, 1.39958042e-01,\n       7.12224643e-04, 1.46168754e-03, 3.64461652e-03, 9.13287979e-03,\n       3.07684160e-01, 1.55105940e-03, 7.35682022e-02, 1.22613670e-03,\n       1.22613670e-02, 1.00996424e-01, 1.91192998e-04, 1.62000000e-03,\n       4.29541393e-01, 6.28598379e-01, 6.28593577e-01, 1.62847214e-04,\n       1.62847214e-04, 1.38000000e-03, 1.38000000e-03, 4.06990721e+00,\n       4.06990721e+00, 4.06990721e+00, 2.39164363e+00, 2.39164363e+00,\n       1.39960692e-01, 1.39959127e-01, 1.17786879e-05, 1.17786879e-05,\n       1.32921889e+01, 6.32961377e+00, 6.90066443e+00, 4.78352860e+00,\n       9.45445289e-02, 1.92106436e-02, 5.59968801e-01, 1.41130348e+00,\n       3.36891799e+00, 7.44499837e+01, 1.17504290e+01, 3.05115534e-04,\n       3.26473621e-01, 1.85211056e-02, 9.57813006e-01, 5.41761759e-01,\n       6.25008078e-01, 1.06581454e+00, 2.80037546e-01, 2.95284494e+00,\n       4.27763484e+01, 3.04861289e+00, 1.05125891e+00, 1.01823507e+00,\n       1.47506486e+01, 1.47506486e+01, 1.05125891e+00, 1.01823507e+00,\n       2.05287115e-01, 2.05287115e-01, 4.41537978e+01, 6.34817460e-03,\n       2.03467135e-01, 1.86787998e-01, 5.27075044e-01, 3.17738777e-02,\n       2.13406641e-01, 2.05259331e-01, 8.43029395e-05, 1.22604315e+00,\n       1.12844768e-03, 2.80008968e-01, 2.88847635e-01, 1.83424044e-03,\n       1.62820248e-01, 3.72048485e-05, 3.30256737e-03, 1.39811679e-04,\n       3.40593864e-04, 1.36480298e-01, 4.57080243e-01, 1.04291548e-01,\n       3.32184252e-01, 1.01930510e+00, 3.83142976e+00, 4.84269933e-03,\n       5.86821212e+01, 7.05468263e-01, 3.82678468e-01, 1.03423621e-01,\n       1.75303038e-01, 5.51157298e-02, 4.93444492e-01, 1.14774756e-02,\n       6.65910140e-01, 2.27123499e-01, 2.85511651e-02, 7.67029767e-03,\n       3.79679735e-01, 3.76319737e-01, 7.60241893e-03, 5.37312889e-05,\n       8.28277074e-02, 3.28921569e-02, 3.37645367e-01, 5.07797363e-01,\n       7.47987253e+00, 7.98446711e-01, 2.24708985e-01, 1.85834330e-01,\n       7.51477295e-01, 7.51477295e-01, 4.69313406e-01, 7.51477295e-01,\n       7.51477295e-01, 7.51477295e-01, 7.51477295e-01, 7.51477295e-01,\n       5.38414767e-01, 7.51477295e-01, 7.81447365e+00, 4.69420679e-04,\n       3.71394596e-01, 4.47852177e+00, 3.11952206e+00, 4.89548759e+00,\n       3.69864125e+00, 4.01522641e+00, 4.01522641e+00, 2.62793924e-01,\n       1.42240037e-01, 6.19093897e+00, 3.05267497e-03, 6.19093897e+00,\n       3.05267497e-03, 7.83857361e-05, 1.98922293e-01, 1.60468913e+00,\n       2.51425946e-04, 1.62790618e-01, 3.26978580e-01, 1.34685886e-02,\n       3.75106485e+01, 3.38602834e+00, 3.75106485e+01, 3.38602834e+00,\n       1.34685886e-02, 3.19054027e-04, 1.19495890e-05, 1.19167336e-02,\n       5.04819110e-02, 3.13712895e-04, 1.32895699e-03, 8.99795938e+02,\n       5.39225537e+03, 7.05924430e-03, 2.02953274e-01, 1.58121782e+00,\n       1.03783106e+00, 5.89425391e-02, 5.38448060e-01, 1.06290457e+00,\n       7.84001921e-01, 8.01570592e-01, 9.78512166e-04, 2.31564136e-03,\n       3.47435531e-03, 4.31578449e-01, 5.93143714e-01, 4.55741131e-04,\n       9.81596281e-05, 4.55741131e-04, 9.81596281e-05, 1.93712714e-01,\n       2.65999638e-02, 2.45117669e-03, 2.37617128e-03, 2.36309816e-03,\n       2.43769090e-03, 5.60937441e-04, 3.73264198e-02, 4.20498248e-04,\n       1.56559790e-05, 1.38973622e-03, 2.90710543e-06, 1.19334884e-06,\n       8.90170257e-04, 1.16491416e-03, 3.90136347e-03, 9.37623113e-01,\n       1.18509985e-03, 5.15866992e+00, 2.04597222e-02, 1.21838795e+00,\n       4.83434840e-01, 2.47357493e-02, 5.64175898e+00, 2.88670001e-01,\n       6.22591311e-02, 1.21670131e+00, 1.65915600e+00, 8.48997287e-02,\n       7.85510017e-02, 1.53519873e+00, 4.19504967e+00, 1.43796320e+00,\n       7.91895616e+01, 3.95373971e+02, 1.05586082e+02, 5.03756001e-02,\n       8.45929889e-04, 1.42252356e-01, 8.87253366e-03, 1.73404567e-01,\n       2.64334302e-03, 2.56245737e-03, 4.61868258e-05, 3.33918268e-05,\n       1.04232431e-04, 4.68990257e-01, 9.14137845e-02, 4.68990257e-01,\n       6.29729900e-01, 4.05071965e+00, 1.48275803e+00, 1.98814025e+00,\n       4.06579328e+00, 3.96487777e+00, 4.02991925e+00, 4.09548567e+00,\n       4.04249979e+00, 4.04493638e+00, 4.04154893e+00, 5.52977448e-02,\n       1.39147576e-01, 1.98205250e-01, 4.29536669e-01, 4.29536669e-01,\n       4.29536669e-01, 8.59073339e-01, 1.39958042e-01, 1.39958042e-01,\n       4.29536669e-01, 1.39958042e-01, 1.71814668e+00, 4.29536669e-01,\n       4.29536669e-01, 1.39958042e-01, 1.39958042e-01, 4.29536669e-01,\n       1.39958042e-01, 4.23776645e-01, 1.39958042e-01, 1.39958042e-01,\n       3.87788290e-01, 4.29536669e-01, 1.39958042e-01, 4.29536669e-01,\n       2.96311183e-01, 7.71297117e-02, 1.39958042e-01, 1.39958042e-01,\n       2.22628227e+00, 2.96311183e+02, 4.19874127e-01, 4.29536669e-01,\n       1.39958042e-01, 1.39958042e-01, 4.29536669e-01, 1.39958042e-01,\n       1.39958042e-01, 1.39958042e-01, 1.39958042e-01, 1.39074771e-01,\n       1.39958042e-01, 1.39958042e-01, 4.29536669e-01, 1.39958042e-01,\n       4.29536669e-01, 4.29536669e-01, 9.92782348e-02, 1.21341808e+03,\n       4.26701349e+01, 1.99098849e+01, 1.58675700e+00, 1.39958042e-01,\n       1.39958042e-01, 4.29536669e-01, 4.29536669e-01, 1.39958042e-01,\n       2.21456211e+00, 3.20586219e-01, 1.39958042e-01, 4.19874127e-01,\n       1.39958042e-01, 2.80246485e+00, 1.39958042e-01, 1.36271615e-01,\n       3.33070431e-01, 1.39958042e-01, 3.67320216e-03, 1.39958042e-01,\n       1.39958042e-01, 1.39958042e-01, 3.07218138e-01, 1.39958042e-01,\n       1.39958042e-01, 1.39958042e-01, 1.39958042e-01, 1.39958042e-01,\n       1.39958042e-01, 2.32090476e+00, 1.06706349e-01, 1.25245137e-01,\n       1.39958042e-01, 1.39958042e-01, 8.59073339e-01, 1.39958042e-01,\n       1.39958042e-01, 1.39958042e-01, 1.39958042e-01, 2.04816647e-01,\n       2.04816647e-01, 9.37398678e-02, 8.40161752e-02, 6.00116033e-02,\n       4.29536669e-01, 1.39958042e-01, 1.39958042e-01, 8.59839554e-02,\n       1.39958042e-01, 1.39958042e-01, 1.39958042e-01, 1.39958042e-01,\n       8.11576914e-03, 3.78218071e-01, 1.39958042e-01, 1.39958042e-01,\n       4.36908012e-02, 5.89766635e-01, 5.93429782e-01, 1.04243626e-01,\n       1.43600913e-01, 1.39958042e-01, 1.12789487e-01, 1.35951613e-01,\n       3.32491799e-02, 3.90316460e-02, 1.74984095e-01, 1.95475159e-01,\n       2.62899861e-02, 1.37967680e-01, 2.43035841e+02, 3.24047788e+02,\n       3.64643581e-01, 1.39958042e-01, 1.39958042e-01, 1.39958042e-01,\n       1.39958042e-01, 1.39958042e-01, 8.79942790e-01, 2.41128963e-02])"
     },
     "execution_count": 180,
     "metadata": {},
     "output_type": "execute_result"
    }
   ],
   "source": [
    "data[23293,:].data"
   ]
  },
  {
   "cell_type": "code",
   "execution_count": 181,
   "metadata": {},
   "outputs": [],
   "source": [
    "data[23293,:].data = np.divide(data[23293,:].data, 2)"
   ]
  },
  {
   "cell_type": "code",
   "execution_count": 182,
   "metadata": {},
   "outputs": [
    {
     "data": {
      "text/plain": "array([2.20000000e+01, 3.12487927e+00, 4.93757640e-01, 6.28590248e-01,\n       6.28590248e-01, 4.97633946e+00, 1.38135326e+00, 6.28590248e-01,\n       6.28590248e-01, 1.66031637e+00, 1.35560725e+00, 6.28590248e-01,\n       5.98000000e+00, 4.29536669e-01, 4.72673675e+00, 6.28590248e-01,\n       2.04291831e+00, 9.75624447e+00, 1.47189645e+00, 1.44427253e+00,\n       2.06057385e+00, 6.28590248e-01, 4.29536669e-01, 2.87920525e+00,\n       6.28590248e-01, 4.29536669e-01, 1.20479797e-05, 4.81919190e-06,\n       6.15494618e-06, 3.69103289e+00, 4.29536669e-01, 1.13146245e-02,\n       4.29536669e-01, 1.58433553e+00, 6.28590248e-01, 6.28904543e-01,\n       1.43696629e-05, 3.87149656e-01, 3.87149656e-01, 3.87149656e-01,\n       3.87149656e-01, 6.54781508e-06, 3.66680002e+00, 3.66680002e+00,\n       6.28590248e-06, 6.28595408e-01, 2.05280899e-01, 6.28590248e-01,\n       2.05280899e-01, 4.29536669e-01, 9.22162847e-02, 2.13165430e+00,\n       7.85744096e+00, 2.05280899e-01, 1.50000000e-02, 2.20006587e-02,\n       8.18275323e-04, 1.54004611e+00, 1.62599579e-03, 3.66677645e-03,\n       4.27668539e-06, 6.28590248e-01, 6.28590248e-01, 2.32123672e-01,\n       3.49967620e+00, 3.64660918e+00, 3.64660918e+00, 9.55247647e-01,\n       6.28590248e-01, 9.40870787e-07, 3.64660918e+00, 4.29536669e-01,\n       6.28590248e-01, 7.83118684e-02, 1.02000000e+01, 4.29536669e-01,\n       2.05280899e-01, 2.05280899e-01, 2.05280899e-01, 6.28590248e-01,\n       4.43575664e-01, 3.84901685e-04, 1.28337176e+01, 1.04989492e+00,\n       4.29536669e-01, 5.23864493e+00, 6.28590248e-01, 4.97633946e-01,\n       1.11322121e+00, 1.71317034e+00, 4.29536669e-01, 4.29536669e-01,\n       2.05280899e-01, 3.66697288e+00, 1.10000000e-04, 2.50000000e-06,\n       3.87149656e-01, 3.87149656e-01, 3.87149656e-01, 3.87149656e-01,\n       1.36623374e-01, 2.75008233e-03, 9.42885372e-03, 2.59293477e-03,\n       7.05000000e-04, 4.73942275e-04, 4.27668539e-01, 1.32265865e-03,\n       5.23825207e-04, 4.43064607e-05, 1.10459545e-01, 6.28904543e-01,\n       6.28590248e-01, 6.28590248e-01, 6.28590248e-01, 6.28590248e-01,\n       6.28590248e-01, 1.25807100e+00, 2.68303271e+00, 4.29536669e-01,\n       3.87149656e-01, 3.87149656e-01, 3.87149656e-01, 3.87149656e-01,\n       7.85737810e-03, 1.13670070e-02, 6.28747395e-01, 4.29536669e-01,\n       2.05280899e-01, 4.00881597e-01, 6.28904543e-01, 6.28904543e-01,\n       6.28590248e-01, 6.28590248e-01, 4.10561798e-01, 4.15393389e+00,\n       2.09530083e-01, 6.28747395e-01, 4.29536669e-01, 4.93233814e+00,\n       4.72542719e+00, 4.29536669e-01, 6.87861070e+00, 6.28747395e-01,\n       1.22805581e+00, 6.28747395e-01, 6.28590248e-01, 6.28590248e-01,\n       1.39958042e-01, 2.05280899e-01, 4.29536669e-01, 2.27248470e+00,\n       7.80499558e+00, 4.07902688e+00, 6.28590248e-01, 4.29536669e-01,\n       2.85589503e+00, 6.28904543e-01, 4.29536669e-01, 2.39388119e-03,\n       5.41000000e-02, 7.46479133e+01, 7.37690000e+01, 7.37690000e+01,\n       1.00579442e+01, 4.68823560e-03, 3.84901685e-04, 4.29536669e-01,\n       4.29536669e-01, 6.28904543e-01, 6.28590248e-01, 6.28590248e-01,\n       6.28590248e-01, 6.28590248e-01, 6.28590248e-01, 2.40498365e-05,\n       7.00859261e-01, 7.51696329e-01, 6.28904543e-01, 6.28904543e-01,\n       1.14455808e+00, 5.15967828e-01, 6.28592081e-01, 6.28747395e-01,\n       6.28747395e-01, 6.28747395e-01, 6.28747395e-01, 5.76207727e-07,\n       8.55337079e-02, 1.95124889e-01, 8.07000000e+02, 7.20000000e+02,\n       1.33000000e+03, 1.33575428e-06, 1.83338822e-02, 6.28590248e-01,\n       6.11565929e-02, 1.75481444e-01, 9.47599799e-02, 1.37999132e+00,\n       9.83481825e+00, 1.52354561e+00, 1.46000000e-01, 1.95200000e+01,\n       3.07921348e-05, 5.50016467e-02, 4.50000000e-02, 3.35248132e-02,\n       1.80000000e-02, 6.41502809e+00, 5.13202247e+01, 6.41502809e-05,\n       6.28590248e-01, 6.28590248e-01, 2.50275826e+00, 1.11194500e-03,\n       1.59000000e-04, 1.82000000e-04, 1.17860671e-01, 4.50000000e-01,\n       7.08000000e-01, 3.05000000e-01, 4.63585308e-02, 7.50000000e-02,\n       1.38551767e-02, 1.46000000e-01, 4.46392283e-01, 7.69803371e-03,\n       1.68312896e+00, 1.91729777e+00, 1.86750360e+00, 4.45256454e+00,\n       1.04765041e+00, 6.28590248e-01, 7.06378291e+00, 6.28590248e-01,\n       1.11322121e+00, 2.88103864e-01, 5.77000000e+00, 1.29925702e-05,\n       6.28590248e-01, 6.28590248e-01, 4.29536669e-01, 6.28590248e-01,\n       6.28590248e-01, 2.18940602e+00, 1.98267841e-04, 4.00726283e-04,\n       2.69832840e+00, 1.15058207e+00, 4.16461468e+00, 9.94649421e-03,\n       1.28000000e-03, 7.33591010e-05, 2.80090000e-03, 5.61605972e-07,\n       3.19639466e-03, 1.49552096e-05, 2.05280899e-01, 6.88830147e-05,\n       1.17860671e-01, 3.00000000e-01, 2.85589503e+00, 1.39958042e-01,\n       1.88215635e+00, 4.29536669e-01, 2.05280899e-01, 6.54519596e-01,\n       2.93630220e+00, 2.72493872e+00, 6.28590248e-01, 8.16000000e+00,\n       2.13720684e-01, 2.05280899e-01, 6.28747395e-01, 7.85737810e+00,\n       6.28590248e-01, 1.70572128e+00, 2.05280899e-01, 6.28590248e-01,\n       1.15743858e+00, 2.09530083e-01, 6.33751560e+00, 3.46065123e+00,\n       4.88000000e+00, 6.28590248e-01, 4.29536669e-01, 3.55127299e+00,\n       4.29536669e-01, 5.23825207e-05, 3.14321315e+00, 3.64660918e+00,\n       6.28590248e-01, 6.28590248e-01, 6.28590248e-01, 6.28747395e-01,\n       1.29411765e+05, 7.03265033e+00, 4.47579254e+00, 1.10035917e+01,\n       1.29918159e+01, 6.28590248e-01, 2.30930961e+00, 6.28590248e-01,\n       6.28590248e-01, 9.49424157e-01, 6.28590248e-01, 7.08219101e-01,\n       2.24851970e+00, 2.59987546e+00, 6.28590248e-01, 1.69356742e-05,\n       3.78000000e-04, 1.69356742e-05, 3.78000000e-04, 1.69356742e-05,\n       3.78000000e-04, 1.55671348e-05, 3.79000168e+01, 1.37014340e+00,\n       6.29132407e-01, 6.29093120e-01, 1.47594038e+00, 3.24991635e-01,\n       9.44168743e-01, 9.43155142e-01, 6.28747395e-01, 7.85737810e+00,\n       6.28590248e-01, 1.66579035e+00, 3.84901685e-04, 1.17860671e-03,\n       3.47217538e+00, 4.40013173e+00, 4.61354200e-01, 6.28904543e-01,\n       2.13791401e+00, 1.19783110e+00, 6.28590248e-01, 6.28590248e-01,\n       4.29536669e-01, 6.28852160e-01, 4.29536669e-01, 2.61524973e+01,\n       2.61524973e+01, 2.61524973e+01, 6.28590248e-01, 3.15342774e+00,\n       9.04415444e-03, 6.88546348e+00, 1.59948034e+00, 1.59948034e+00,\n       1.59682879e+00, 2.10839646e+01, 6.28590248e-01, 1.39958042e-01,\n       6.28590248e-01, 6.28590248e-01, 2.22387640e-02, 4.85144353e-01,\n       3.37702857e+00, 6.28747395e-01, 7.57613163e-01, 2.99475173e+00,\n       1.15903753e+00, 1.67628335e-01, 1.26766075e-01, 2.73707865e-05,\n       1.73124231e-05, 1.79053340e+00, 1.98060529e+00, 7.77519809e+00,\n       2.05383539e-01, 9.90860199e-01, 4.32403901e+00, 5.15967828e-01,\n       5.15967828e-01, 5.15967828e-01, 3.44107638e+00, 3.38556129e+00,\n       2.05383539e-01, 5.50016467e-07, 1.56523493e+01, 1.19022606e+01,\n       3.36102468e+00, 4.29536669e-01, 3.40486384e-01, 5.76207727e-02,\n       2.05280899e-01, 2.22625713e-04, 4.31729863e-04, 4.77397837e-02,\n       4.77397837e-02, 3.74273110e-02, 4.36608310e-02, 3.14295124e+00,\n       6.28590248e-01, 6.28590248e-01, 6.28590248e-01, 4.10272442e-01,\n       6.29585516e-01, 8.58039486e-01, 6.97266239e-01, 1.82081642e+00,\n       3.21497721e+00, 8.95741103e-03, 1.03727867e+00, 5.18875058e+00,\n       3.64660918e+00, 3.76997001e+00, 1.75519445e-01, 2.05294317e-01,\n       4.45251426e-01, 4.29536669e-01, 1.54528436e-04, 3.55767266e-01,\n       3.55962365e-01, 3.55767266e-01, 1.30956302e+02, 6.11042103e+01,\n       6.11042103e+01, 6.26337799e+00, 8.56657334e-06, 4.29536669e-01,\n       6.28590248e-01, 2.05280899e-01, 2.00550957e+00, 1.00050614e-04,\n       7.05545409e-02, 6.28904543e-01, 4.29536669e-01, 6.28590248e-01,\n       2.05280899e-01, 1.39958042e-01, 4.29536669e-01, 6.28590248e-01,\n       1.38080324e-03, 2.05280899e-01, 4.29536669e-01, 6.28590248e-01,\n       2.80265631e-01, 1.19696524e+00, 1.51912296e+00, 2.05280899e-01,\n       1.39958042e-01, 6.28590248e-01, 2.43840634e-05, 1.39958042e-01,\n       8.69549843e-05, 2.46318327e-02, 3.62413667e-04, 3.19443449e-02,\n       4.29536669e-01, 2.05280899e-01, 8.62327404e-03, 2.12149209e-03,\n       2.69832840e+00, 7.54308297e-02, 3.87149656e-01, 3.87149656e-01,\n       3.87149656e-01, 3.87149656e-01, 1.18406697e-01, 2.75463227e-01,\n       2.75463227e-01, 1.36623374e-01, 1.36623374e-01, 4.27000000e-01,\n       6.02398987e-04, 3.35248132e-01, 1.07000000e+00, 2.88103864e+00,\n       2.05332219e-01, 1.83405611e-07, 2.79916085e-01, 3.38741700e+00,\n       4.30541853e-01, 4.60245922e-01, 4.59067315e-01, 4.60245922e-01,\n       6.28590248e-01, 6.28590248e-01, 1.72863366e+00, 2.05280899e-01,\n       1.17860671e+00, 1.54405337e+00, 6.36514236e+00, 2.05280899e-01,\n       6.28590248e-01, 2.67150855e+00, 1.36398846e-01, 6.28590248e-01,\n       2.05280899e-01, 2.22625713e-05, 2.72389107e-02, 3.42134831e-05,\n       2.88103864e-01, 6.44305004e+00, 4.29536669e-01, 2.35377765e+00,\n       1.25378730e-02, 2.53006888e-01, 1.17860671e-06, 2.53006888e-01,\n       8.55337079e-07, 4.76026156e-03, 6.15842697e-06, 8.55337079e-06,\n       2.05280899e-06, 6.57402049e-03, 2.66941325e+00, 6.28590248e-01,\n       2.05280899e-01, 4.29536669e-01, 6.28590248e-01, 6.28590248e-01,\n       2.05280899e-01, 2.05280899e-01, 4.29536669e-01, 6.28590248e-01,\n       6.09633668e-03, 1.19702781e-02, 7.46452229e+00, 6.28904543e-01,\n       1.00350544e+01, 4.29536669e-01, 2.82865612e-01, 9.16694111e-01,\n       7.85737810e-07, 3.87175153e-04, 1.91184174e+00, 6.41685878e+00,\n       3.68365786e-03, 4.79287564e-01, 2.41249817e-01, 3.09056872e-04,\n       2.22625713e-05, 2.48816973e-05, 6.28590248e-01, 5.10417020e-02,\n       1.39958042e-01, 1.84808722e-04, 1.35196808e-04, 9.30358783e-03,\n       1.28031025e-04, 1.19476378e-03, 3.30266844e-07, 1.14031668e+00,\n       1.18819258e+00, 8.70610971e-02, 6.01745818e-06, 1.39958042e-01,\n       2.04900853e-01, 7.21937945e-05, 1.57051391e-06, 4.61765231e-04,\n       4.40551421e-02, 2.28808226e+00, 1.00725653e+00, 3.35417468e+00,\n       4.82120907e+00, 6.42091074e+00, 4.79862844e-01, 1.52759083e-03,\n       7.83627634e-06, 1.39958042e-01, 1.39958042e-01, 6.14548921e+00,\n       1.13520842e+01, 1.39958042e-01, 1.39958042e-01, 3.07207903e-01,\n       1.24616864e-03, 1.66611041e-01, 3.84093075e-04, 1.53637230e-04,\n       7.84613641e-06, 1.35712887e-06, 1.55344310e-06, 3.84093075e-03,\n       6.04306439e-03, 2.60329751e-03, 6.40155126e-04, 1.24616864e-03,\n       1.93932129e-01, 1.39958042e-01, 4.92492677e-02, 7.68186151e-07,\n       1.39958042e-01, 1.09253141e-05, 2.39068066e-05, 2.56062050e-03,\n       6.96488777e-02, 1.39958042e-01, 4.16527602e-02, 1.10458139e+03,\n       1.39958042e-01, 7.71600311e-01, 3.12624911e-05, 1.39958042e-01,\n       1.87748593e-02, 1.04755181e+00, 2.90203657e-05, 1.70708033e-07,\n       1.70708033e-04, 1.70708033e-07, 6.76118124e-05, 1.39958042e-01,\n       7.12224643e-04, 1.46168754e-03, 3.64461652e-03, 9.13287979e-03,\n       3.07684160e-01, 1.55105940e-03, 7.35682022e-02, 1.22613670e-03,\n       1.22613670e-02, 1.00996424e-01, 1.91192998e-04, 1.62000000e-03,\n       4.29541393e-01, 6.28598379e-01, 6.28593577e-01, 1.62847214e-04,\n       1.62847214e-04, 1.38000000e-03, 1.38000000e-03, 4.06990721e+00,\n       4.06990721e+00, 4.06990721e+00, 2.39164363e+00, 2.39164363e+00,\n       1.39960692e-01, 1.39959127e-01, 1.17786879e-05, 1.17786879e-05,\n       1.32921889e+01, 6.32961377e+00, 6.90066443e+00, 4.78352860e+00,\n       9.45445289e-02, 1.92106436e-02, 5.59968801e-01, 1.41130348e+00,\n       3.36891799e+00, 7.44499837e+01, 1.17504290e+01, 3.05115534e-04,\n       3.26473621e-01, 1.85211056e-02, 9.57813006e-01, 5.41761759e-01,\n       6.25008078e-01, 1.06581454e+00, 2.80037546e-01, 2.95284494e+00,\n       4.27763484e+01, 3.04861289e+00, 1.05125891e+00, 1.01823507e+00,\n       1.47506486e+01, 1.47506486e+01, 1.05125891e+00, 1.01823507e+00,\n       2.05287115e-01, 2.05287115e-01, 4.41537978e+01, 6.34817460e-03,\n       2.03467135e-01, 1.86787998e-01, 5.27075044e-01, 3.17738777e-02,\n       2.13406641e-01, 2.05259331e-01, 8.43029395e-05, 1.22604315e+00,\n       1.12844768e-03, 2.80008968e-01, 2.88847635e-01, 1.83424044e-03,\n       1.62820248e-01, 3.72048485e-05, 3.30256737e-03, 1.39811679e-04,\n       3.40593864e-04, 1.36480298e-01, 4.57080243e-01, 1.04291548e-01,\n       3.32184252e-01, 1.01930510e+00, 3.83142976e+00, 4.84269933e-03,\n       5.86821212e+01, 7.05468263e-01, 3.82678468e-01, 1.03423621e-01,\n       1.75303038e-01, 5.51157298e-02, 4.93444492e-01, 1.14774756e-02,\n       6.65910140e-01, 2.27123499e-01, 2.85511651e-02, 7.67029767e-03,\n       3.79679735e-01, 3.76319737e-01, 7.60241893e-03, 5.37312889e-05,\n       8.28277074e-02, 3.28921569e-02, 3.37645367e-01, 5.07797363e-01,\n       7.47987253e+00, 7.98446711e-01, 2.24708985e-01, 1.85834330e-01,\n       7.51477295e-01, 7.51477295e-01, 4.69313406e-01, 7.51477295e-01,\n       7.51477295e-01, 7.51477295e-01, 7.51477295e-01, 7.51477295e-01,\n       5.38414767e-01, 7.51477295e-01, 7.81447365e+00, 4.69420679e-04,\n       3.71394596e-01, 4.47852177e+00, 3.11952206e+00, 4.89548759e+00,\n       3.69864125e+00, 4.01522641e+00, 4.01522641e+00, 2.62793924e-01,\n       1.42240037e-01, 6.19093897e+00, 3.05267497e-03, 6.19093897e+00,\n       3.05267497e-03, 7.83857361e-05, 1.98922293e-01, 1.60468913e+00,\n       2.51425946e-04, 1.62790618e-01, 3.26978580e-01, 1.34685886e-02,\n       3.75106485e+01, 3.38602834e+00, 3.75106485e+01, 3.38602834e+00,\n       1.34685886e-02, 3.19054027e-04, 1.19495890e-05, 1.19167336e-02,\n       5.04819110e-02, 3.13712895e-04, 1.32895699e-03, 8.99795938e+02,\n       5.39225537e+03, 7.05924430e-03, 2.02953274e-01, 1.58121782e+00,\n       1.03783106e+00, 5.89425391e-02, 5.38448060e-01, 1.06290457e+00,\n       7.84001921e-01, 8.01570592e-01, 9.78512166e-04, 2.31564136e-03,\n       3.47435531e-03, 4.31578449e-01, 5.93143714e-01, 4.55741131e-04,\n       9.81596281e-05, 4.55741131e-04, 9.81596281e-05, 1.93712714e-01,\n       2.65999638e-02, 2.45117669e-03, 2.37617128e-03, 2.36309816e-03,\n       2.43769090e-03, 5.60937441e-04, 3.73264198e-02, 4.20498248e-04,\n       1.56559790e-05, 1.38973622e-03, 2.90710543e-06, 1.19334884e-06,\n       8.90170257e-04, 1.16491416e-03, 3.90136347e-03, 9.37623113e-01,\n       1.18509985e-03, 5.15866992e+00, 2.04597222e-02, 1.21838795e+00,\n       4.83434840e-01, 2.47357493e-02, 5.64175898e+00, 2.88670001e-01,\n       6.22591311e-02, 1.21670131e+00, 1.65915600e+00, 8.48997287e-02,\n       7.85510017e-02, 1.53519873e+00, 4.19504967e+00, 1.43796320e+00,\n       7.91895616e+01, 3.95373971e+02, 1.05586082e+02, 5.03756001e-02,\n       8.45929889e-04, 1.42252356e-01, 8.87253366e-03, 1.73404567e-01,\n       2.64334302e-03, 2.56245737e-03, 4.61868258e-05, 3.33918268e-05,\n       1.04232431e-04, 4.68990257e-01, 9.14137845e-02, 4.68990257e-01,\n       6.29729900e-01, 4.05071965e+00, 1.48275803e+00, 1.98814025e+00,\n       4.06579328e+00, 3.96487777e+00, 4.02991925e+00, 4.09548567e+00,\n       4.04249979e+00, 4.04493638e+00, 4.04154893e+00, 5.52977448e-02,\n       1.39147576e-01, 1.98205250e-01, 4.29536669e-01, 4.29536669e-01,\n       4.29536669e-01, 8.59073339e-01, 1.39958042e-01, 1.39958042e-01,\n       4.29536669e-01, 1.39958042e-01, 1.71814668e+00, 4.29536669e-01,\n       4.29536669e-01, 1.39958042e-01, 1.39958042e-01, 4.29536669e-01,\n       1.39958042e-01, 4.23776645e-01, 1.39958042e-01, 1.39958042e-01,\n       3.87788290e-01, 4.29536669e-01, 1.39958042e-01, 4.29536669e-01,\n       2.96311183e-01, 7.71297117e-02, 1.39958042e-01, 1.39958042e-01,\n       2.22628227e+00, 2.96311183e+02, 4.19874127e-01, 4.29536669e-01,\n       1.39958042e-01, 1.39958042e-01, 4.29536669e-01, 1.39958042e-01,\n       1.39958042e-01, 1.39958042e-01, 1.39958042e-01, 1.39074771e-01,\n       1.39958042e-01, 1.39958042e-01, 4.29536669e-01, 1.39958042e-01,\n       4.29536669e-01, 4.29536669e-01, 9.92782348e-02, 1.21341808e+03,\n       4.26701349e+01, 1.99098849e+01, 1.58675700e+00, 1.39958042e-01,\n       1.39958042e-01, 4.29536669e-01, 4.29536669e-01, 1.39958042e-01,\n       2.21456211e+00, 3.20586219e-01, 1.39958042e-01, 4.19874127e-01,\n       1.39958042e-01, 2.80246485e+00, 1.39958042e-01, 1.36271615e-01,\n       3.33070431e-01, 1.39958042e-01, 3.67320216e-03, 1.39958042e-01,\n       1.39958042e-01, 1.39958042e-01, 3.07218138e-01, 1.39958042e-01,\n       1.39958042e-01, 1.39958042e-01, 1.39958042e-01, 1.39958042e-01,\n       1.39958042e-01, 2.32090476e+00, 1.06706349e-01, 1.25245137e-01,\n       1.39958042e-01, 1.39958042e-01, 8.59073339e-01, 1.39958042e-01,\n       1.39958042e-01, 1.39958042e-01, 1.39958042e-01, 2.04816647e-01,\n       2.04816647e-01, 9.37398678e-02, 8.40161752e-02, 6.00116033e-02,\n       4.29536669e-01, 1.39958042e-01, 1.39958042e-01, 8.59839554e-02,\n       1.39958042e-01, 1.39958042e-01, 1.39958042e-01, 1.39958042e-01,\n       8.11576914e-03, 3.78218071e-01, 1.39958042e-01, 1.39958042e-01,\n       4.36908012e-02, 5.89766635e-01, 5.93429782e-01, 1.04243626e-01,\n       1.43600913e-01, 1.39958042e-01, 1.12789487e-01, 1.35951613e-01,\n       3.32491799e-02, 3.90316460e-02, 1.74984095e-01, 1.95475159e-01,\n       2.62899861e-02, 1.37967680e-01, 2.43035841e+02, 3.24047788e+02,\n       3.64643581e-01, 1.39958042e-01, 1.39958042e-01, 1.39958042e-01,\n       1.39958042e-01, 1.39958042e-01, 8.79942790e-01, 2.41128963e-02])"
     },
     "execution_count": 182,
     "metadata": {},
     "output_type": "execute_result"
    }
   ],
   "source": [
    "data[23293,:].data"
   ]
  },
  {
   "cell_type": "code",
   "execution_count": 184,
   "metadata": {},
   "outputs": [
    {
     "data": {
      "text/plain": "15437"
     },
     "execution_count": 184,
     "metadata": {},
     "output_type": "execute_result"
    }
   ],
   "source": [
    "data[23293,:].shape[1]"
   ]
  },
  {
   "cell_type": "code",
   "execution_count": 186,
   "metadata": {},
   "outputs": [
    {
     "ename": "KeyboardInterrupt",
     "evalue": "",
     "output_type": "error",
     "traceback": [
      "\u001b[1;31m---------------------------------------------------------------------------\u001b[0m",
      "\u001b[1;31mKeyboardInterrupt\u001b[0m                         Traceback (most recent call last)",
      "\u001b[1;32m<ipython-input-186-90f8d08da1b0>\u001b[0m in \u001b[0;36m<module>\u001b[1;34m\u001b[0m\n\u001b[0;32m      1\u001b[0m \u001b[1;32mfor\u001b[0m \u001b[0mi\u001b[0m \u001b[1;32min\u001b[0m \u001b[0mrange\u001b[0m\u001b[1;33m(\u001b[0m\u001b[1;36m15437\u001b[0m\u001b[1;33m)\u001b[0m\u001b[1;33m:\u001b[0m\u001b[1;33m\u001b[0m\u001b[1;33m\u001b[0m\u001b[0m\n\u001b[1;32m----> 2\u001b[1;33m     \u001b[0mdata\u001b[0m\u001b[1;33m[\u001b[0m\u001b[1;36m23293\u001b[0m\u001b[1;33m,\u001b[0m\u001b[0mi\u001b[0m\u001b[1;33m]\u001b[0m \u001b[1;33m=\u001b[0m \u001b[0mnp\u001b[0m\u001b[1;33m.\u001b[0m\u001b[0mdivide\u001b[0m\u001b[1;33m(\u001b[0m\u001b[0mdata\u001b[0m\u001b[1;33m[\u001b[0m\u001b[1;36m23293\u001b[0m\u001b[1;33m,\u001b[0m\u001b[0mi\u001b[0m\u001b[1;33m]\u001b[0m\u001b[1;33m.\u001b[0m\u001b[0mdata\u001b[0m\u001b[1;33m,\u001b[0m \u001b[1;36m2\u001b[0m\u001b[1;33m)\u001b[0m\u001b[1;33m\u001b[0m\u001b[1;33m\u001b[0m\u001b[0m\n\u001b[0m",
      "\u001b[1;32m~\\AppData\\Local\\Programs\\Python\\Python37\\lib\\site-packages\\scipy\\sparse\\_index.py\u001b[0m in \u001b[0;36m__setitem__\u001b[1;34m(self, key, x)\u001b[0m\n\u001b[0;32m     82\u001b[0m             \u001b[1;32mif\u001b[0m \u001b[0mx\u001b[0m\u001b[1;33m.\u001b[0m\u001b[0msize\u001b[0m \u001b[1;33m!=\u001b[0m \u001b[1;36m1\u001b[0m\u001b[1;33m:\u001b[0m\u001b[1;33m\u001b[0m\u001b[1;33m\u001b[0m\u001b[0m\n\u001b[0;32m     83\u001b[0m                 \u001b[1;32mraise\u001b[0m \u001b[0mValueError\u001b[0m\u001b[1;33m(\u001b[0m\u001b[1;34m'Trying to assign a sequence to an item'\u001b[0m\u001b[1;33m)\u001b[0m\u001b[1;33m\u001b[0m\u001b[1;33m\u001b[0m\u001b[0m\n\u001b[1;32m---> 84\u001b[1;33m             \u001b[0mself\u001b[0m\u001b[1;33m.\u001b[0m\u001b[0m_set_intXint\u001b[0m\u001b[1;33m(\u001b[0m\u001b[0mrow\u001b[0m\u001b[1;33m,\u001b[0m \u001b[0mcol\u001b[0m\u001b[1;33m,\u001b[0m \u001b[0mx\u001b[0m\u001b[1;33m.\u001b[0m\u001b[0mflat\u001b[0m\u001b[1;33m[\u001b[0m\u001b[1;36m0\u001b[0m\u001b[1;33m]\u001b[0m\u001b[1;33m)\u001b[0m\u001b[1;33m\u001b[0m\u001b[1;33m\u001b[0m\u001b[0m\n\u001b[0m\u001b[0;32m     85\u001b[0m             \u001b[1;32mreturn\u001b[0m\u001b[1;33m\u001b[0m\u001b[1;33m\u001b[0m\u001b[0m\n\u001b[0;32m     86\u001b[0m \u001b[1;33m\u001b[0m\u001b[0m\n",
      "\u001b[1;32m~\\AppData\\Local\\Programs\\Python\\Python37\\lib\\site-packages\\scipy\\sparse\\compressed.py\u001b[0m in \u001b[0;36m_set_intXint\u001b[1;34m(self, row, col, x)\u001b[0m\n\u001b[0;32m    795\u001b[0m     \u001b[1;32mdef\u001b[0m \u001b[0m_set_intXint\u001b[0m\u001b[1;33m(\u001b[0m\u001b[0mself\u001b[0m\u001b[1;33m,\u001b[0m \u001b[0mrow\u001b[0m\u001b[1;33m,\u001b[0m \u001b[0mcol\u001b[0m\u001b[1;33m,\u001b[0m \u001b[0mx\u001b[0m\u001b[1;33m)\u001b[0m\u001b[1;33m:\u001b[0m\u001b[1;33m\u001b[0m\u001b[1;33m\u001b[0m\u001b[0m\n\u001b[0;32m    796\u001b[0m         \u001b[0mi\u001b[0m\u001b[1;33m,\u001b[0m \u001b[0mj\u001b[0m \u001b[1;33m=\u001b[0m \u001b[0mself\u001b[0m\u001b[1;33m.\u001b[0m\u001b[0m_swap\u001b[0m\u001b[1;33m(\u001b[0m\u001b[1;33m(\u001b[0m\u001b[0mrow\u001b[0m\u001b[1;33m,\u001b[0m \u001b[0mcol\u001b[0m\u001b[1;33m)\u001b[0m\u001b[1;33m)\u001b[0m\u001b[1;33m\u001b[0m\u001b[1;33m\u001b[0m\u001b[0m\n\u001b[1;32m--> 797\u001b[1;33m         \u001b[0mself\u001b[0m\u001b[1;33m.\u001b[0m\u001b[0m_set_many\u001b[0m\u001b[1;33m(\u001b[0m\u001b[0mi\u001b[0m\u001b[1;33m,\u001b[0m \u001b[0mj\u001b[0m\u001b[1;33m,\u001b[0m \u001b[0mx\u001b[0m\u001b[1;33m)\u001b[0m\u001b[1;33m\u001b[0m\u001b[1;33m\u001b[0m\u001b[0m\n\u001b[0m\u001b[0;32m    798\u001b[0m \u001b[1;33m\u001b[0m\u001b[0m\n\u001b[0;32m    799\u001b[0m     \u001b[1;32mdef\u001b[0m \u001b[0m_set_arrayXarray\u001b[0m\u001b[1;33m(\u001b[0m\u001b[0mself\u001b[0m\u001b[1;33m,\u001b[0m \u001b[0mrow\u001b[0m\u001b[1;33m,\u001b[0m \u001b[0mcol\u001b[0m\u001b[1;33m,\u001b[0m \u001b[0mx\u001b[0m\u001b[1;33m)\u001b[0m\u001b[1;33m:\u001b[0m\u001b[1;33m\u001b[0m\u001b[1;33m\u001b[0m\u001b[0m\n",
      "\u001b[1;32m~\\AppData\\Local\\Programs\\Python\\Python37\\lib\\site-packages\\scipy\\sparse\\compressed.py\u001b[0m in \u001b[0;36m_set_many\u001b[1;34m(self, i, j, x)\u001b[0m\n\u001b[0;32m    908\u001b[0m             \u001b[0mj\u001b[0m \u001b[1;33m=\u001b[0m \u001b[0mj\u001b[0m\u001b[1;33m[\u001b[0m\u001b[0mmask\u001b[0m\u001b[1;33m]\u001b[0m\u001b[1;33m\u001b[0m\u001b[1;33m\u001b[0m\u001b[0m\n\u001b[0;32m    909\u001b[0m             \u001b[0mj\u001b[0m\u001b[1;33m[\u001b[0m\u001b[0mj\u001b[0m \u001b[1;33m<\u001b[0m \u001b[1;36m0\u001b[0m\u001b[1;33m]\u001b[0m \u001b[1;33m+=\u001b[0m \u001b[0mN\u001b[0m\u001b[1;33m\u001b[0m\u001b[1;33m\u001b[0m\u001b[0m\n\u001b[1;32m--> 910\u001b[1;33m             \u001b[0mself\u001b[0m\u001b[1;33m.\u001b[0m\u001b[0m_insert_many\u001b[0m\u001b[1;33m(\u001b[0m\u001b[0mi\u001b[0m\u001b[1;33m,\u001b[0m \u001b[0mj\u001b[0m\u001b[1;33m,\u001b[0m \u001b[0mx\u001b[0m\u001b[1;33m[\u001b[0m\u001b[0mmask\u001b[0m\u001b[1;33m]\u001b[0m\u001b[1;33m)\u001b[0m\u001b[1;33m\u001b[0m\u001b[1;33m\u001b[0m\u001b[0m\n\u001b[0m\u001b[0;32m    911\u001b[0m \u001b[1;33m\u001b[0m\u001b[0m\n\u001b[0;32m    912\u001b[0m     \u001b[1;32mdef\u001b[0m \u001b[0m_zero_many\u001b[0m\u001b[1;33m(\u001b[0m\u001b[0mself\u001b[0m\u001b[1;33m,\u001b[0m \u001b[0mi\u001b[0m\u001b[1;33m,\u001b[0m \u001b[0mj\u001b[0m\u001b[1;33m)\u001b[0m\u001b[1;33m:\u001b[0m\u001b[1;33m\u001b[0m\u001b[1;33m\u001b[0m\u001b[0m\n",
      "\u001b[1;32m~\\AppData\\Local\\Programs\\Python\\Python37\\lib\\site-packages\\scipy\\sparse\\compressed.py\u001b[0m in \u001b[0;36m_insert_many\u001b[1;34m(self, i, j, x)\u001b[0m\n\u001b[0;32m    998\u001b[0m             \u001b[1;31m# TODO: only sort where necessary\u001b[0m\u001b[1;33m\u001b[0m\u001b[1;33m\u001b[0m\u001b[1;33m\u001b[0m\u001b[0m\n\u001b[0;32m    999\u001b[0m             \u001b[0mself\u001b[0m\u001b[1;33m.\u001b[0m\u001b[0mhas_sorted_indices\u001b[0m \u001b[1;33m=\u001b[0m \u001b[1;32mFalse\u001b[0m\u001b[1;33m\u001b[0m\u001b[1;33m\u001b[0m\u001b[0m\n\u001b[1;32m-> 1000\u001b[1;33m             \u001b[0mself\u001b[0m\u001b[1;33m.\u001b[0m\u001b[0msort_indices\u001b[0m\u001b[1;33m(\u001b[0m\u001b[1;33m)\u001b[0m\u001b[1;33m\u001b[0m\u001b[1;33m\u001b[0m\u001b[0m\n\u001b[0m\u001b[0;32m   1001\u001b[0m \u001b[1;33m\u001b[0m\u001b[0m\n\u001b[0;32m   1002\u001b[0m         \u001b[0mself\u001b[0m\u001b[1;33m.\u001b[0m\u001b[0mcheck_format\u001b[0m\u001b[1;33m(\u001b[0m\u001b[0mfull_check\u001b[0m\u001b[1;33m=\u001b[0m\u001b[1;32mFalse\u001b[0m\u001b[1;33m)\u001b[0m\u001b[1;33m\u001b[0m\u001b[1;33m\u001b[0m\u001b[0m\n",
      "\u001b[1;32m~\\AppData\\Local\\Programs\\Python\\Python37\\lib\\site-packages\\scipy\\sparse\\compressed.py\u001b[0m in \u001b[0;36msort_indices\u001b[1;34m(self)\u001b[0m\n\u001b[0;32m   1134\u001b[0m         \u001b[1;32mif\u001b[0m \u001b[1;32mnot\u001b[0m \u001b[0mself\u001b[0m\u001b[1;33m.\u001b[0m\u001b[0mhas_sorted_indices\u001b[0m\u001b[1;33m:\u001b[0m\u001b[1;33m\u001b[0m\u001b[1;33m\u001b[0m\u001b[0m\n\u001b[0;32m   1135\u001b[0m             _sparsetools.csr_sort_indices(len(self.indptr) - 1, self.indptr,\n\u001b[1;32m-> 1136\u001b[1;33m                                           self.indices, self.data)\n\u001b[0m\u001b[0;32m   1137\u001b[0m             \u001b[0mself\u001b[0m\u001b[1;33m.\u001b[0m\u001b[0mhas_sorted_indices\u001b[0m \u001b[1;33m=\u001b[0m \u001b[1;32mTrue\u001b[0m\u001b[1;33m\u001b[0m\u001b[1;33m\u001b[0m\u001b[0m\n\u001b[0;32m   1138\u001b[0m \u001b[1;33m\u001b[0m\u001b[0m\n",
      "\u001b[1;31mKeyboardInterrupt\u001b[0m: "
     ]
    }
   ],
   "source": [
    "for i in range(15437):\n",
    "    data[23293,i] = np.divide(data[23293,i].data, 2)"
   ]
  },
  {
   "cell_type": "code",
   "execution_count": 191,
   "metadata": {},
   "outputs": [
    {
     "data": {
      "text/plain": "0.0"
     },
     "execution_count": 191,
     "metadata": {},
     "output_type": "execute_result"
    }
   ],
   "source": [
    "data[23293,3]"
   ]
  },
  {
   "cell_type": "code",
   "execution_count": 197,
   "metadata": {},
   "outputs": [
    {
     "data": {
      "text/plain": "array([4.07771732e+00, 3.12487927e+00, 4.93757640e-01, 6.28590248e-01,\n       6.28590248e-01, 4.97633946e+00, 1.38135326e+00, 6.28590248e-01,\n       6.28590248e-01, 1.66031637e+00, 1.35560725e+00, 6.28590248e-01,\n       5.98000000e+00, 4.29536669e-01, 4.72673675e+00, 6.28590248e-01,\n       2.04291831e+00, 9.75624447e+00, 1.47189645e+00, 1.44427253e+00,\n       2.06057385e+00, 6.28590248e-01, 4.29536669e-01, 2.87920525e+00,\n       6.28590248e-01, 4.29536669e-01, 1.20479797e-05, 4.81919190e-06,\n       6.15494618e-06, 3.69103289e+00, 4.29536669e-01, 1.13146245e-02,\n       4.29536669e-01, 1.58433553e+00, 6.28590248e-01, 6.28904543e-01,\n       1.43696629e-05, 3.87149656e-01, 3.87149656e-01, 3.87149656e-01,\n       3.87149656e-01, 6.54781508e-06, 3.66680002e+00, 3.66680002e+00,\n       6.28590248e-06, 6.28595408e-01, 2.05280899e-01, 6.28590248e-01,\n       2.05280899e-01, 4.29536669e-01, 9.22162847e-02, 2.13165430e+00,\n       7.85744096e+00, 2.05280899e-01, 1.50000000e-02, 2.20006587e-02,\n       8.18275323e-04, 1.54004611e+00, 1.62599579e-03, 3.66677645e-03,\n       4.27668539e-06, 6.28590248e-01, 6.28590248e-01, 2.32123672e-01,\n       3.49967620e+00, 3.64660918e+00, 3.64660918e+00, 9.55247647e-01,\n       6.28590248e-01, 9.40870787e-07, 3.64660918e+00, 4.29536669e-01,\n       6.28590248e-01, 7.83118684e-02, 1.02000000e+01, 4.29536669e-01,\n       2.05280899e-01, 2.05280899e-01, 2.05280899e-01, 6.28590248e-01,\n       4.43575664e-01, 3.84901685e-04, 1.28337176e+01, 1.04989492e+00,\n       4.29536669e-01, 5.23864493e+00, 6.28590248e-01, 4.97633946e-01,\n       1.11322121e+00, 1.71317034e+00, 4.29536669e-01, 4.29536669e-01,\n       2.05280899e-01, 3.66697288e+00, 1.10000000e-04, 2.50000000e-06,\n       3.87149656e-01, 3.87149656e-01, 3.87149656e-01, 3.87149656e-01,\n       1.36623374e-01, 2.75008233e-03, 9.42885372e-03, 2.59293477e-03,\n       7.05000000e-04, 4.73942275e-04, 4.27668539e-01, 1.32265865e-03,\n       5.23825207e-04, 4.43064607e-05, 1.10459545e-01, 6.28904543e-01,\n       6.28590248e-01, 6.28590248e-01, 6.28590248e-01, 6.28590248e-01,\n       6.28590248e-01, 1.25807100e+00, 2.68303271e+00, 4.29536669e-01,\n       3.87149656e-01, 3.87149656e-01, 3.87149656e-01, 3.87149656e-01,\n       7.85737810e-03, 1.13670070e-02, 6.28747395e-01, 4.29536669e-01,\n       2.05280899e-01, 4.00881597e-01, 6.28904543e-01, 6.28904543e-01,\n       6.28590248e-01, 6.28590248e-01, 4.10561798e-01, 4.15393389e+00,\n       2.09530083e-01, 6.28747395e-01, 4.29536669e-01, 4.93233814e+00,\n       4.72542719e+00, 4.29536669e-01, 6.87861070e+00, 6.28747395e-01,\n       1.22805581e+00, 6.28747395e-01, 6.28590248e-01, 6.28590248e-01,\n       1.39958042e-01, 2.05280899e-01, 4.29536669e-01, 2.27248470e+00,\n       7.80499558e+00, 4.07902688e+00, 6.28590248e-01, 4.29536669e-01,\n       2.85589503e+00, 6.28904543e-01, 4.29536669e-01, 2.39388119e-03,\n       5.41000000e-02, 7.46479133e+01, 7.37690000e+01, 7.37690000e+01,\n       1.00579442e+01, 4.68823560e-03, 3.84901685e-04, 4.29536669e-01,\n       4.29536669e-01, 6.28904543e-01, 6.28590248e-01, 6.28590248e-01,\n       6.28590248e-01, 6.28590248e-01, 6.28590248e-01, 2.40498365e-05,\n       7.00859261e-01, 7.51696329e-01, 6.28904543e-01, 6.28904543e-01,\n       1.14455808e+00, 5.15967828e-01, 6.28592081e-01, 6.28747395e-01,\n       6.28747395e-01, 6.28747395e-01, 6.28747395e-01, 5.76207727e-07,\n       8.55337079e-02, 1.95124889e-01, 8.07000000e+02, 7.20000000e+02,\n       1.33000000e+03, 1.33575428e-06, 1.83338822e-02, 6.28590248e-01,\n       6.11565929e-02, 1.75481444e-01, 9.47599799e-02, 1.37999132e+00,\n       9.83481825e+00, 1.52354561e+00, 1.46000000e-01, 1.95200000e+01,\n       3.07921348e-05, 5.50016467e-02, 4.50000000e-02, 3.35248132e-02,\n       1.80000000e-02, 6.41502809e+00, 5.13202247e+01, 6.41502809e-05,\n       6.28590248e-01, 6.28590248e-01, 2.50275826e+00, 1.11194500e-03,\n       1.59000000e-04, 1.82000000e-04, 1.17860671e-01, 4.50000000e-01,\n       7.08000000e-01, 3.05000000e-01, 4.63585308e-02, 7.50000000e-02,\n       1.38551767e-02, 1.46000000e-01, 4.46392283e-01, 7.69803371e-03,\n       1.68312896e+00, 1.91729777e+00, 1.86750360e+00, 4.45256454e+00,\n       1.04765041e+00, 6.28590248e-01, 7.06378291e+00, 6.28590248e-01,\n       1.11322121e+00, 2.88103864e-01, 5.77000000e+00, 1.29925702e-05,\n       6.28590248e-01, 6.28590248e-01, 4.29536669e-01, 6.28590248e-01,\n       6.28590248e-01, 2.18940602e+00, 1.98267841e-04, 4.00726283e-04,\n       2.69832840e+00, 1.15058207e+00, 4.16461468e+00, 9.94649421e-03,\n       1.28000000e-03, 7.33591010e-05, 2.80090000e-03, 5.61605972e-07,\n       3.19639466e-03, 1.49552096e-05, 2.05280899e-01, 6.88830147e-05,\n       1.17860671e-01, 3.00000000e-01, 2.85589503e+00, 1.39958042e-01,\n       1.88215635e+00, 4.29536669e-01, 2.05280899e-01, 6.54519596e-01,\n       2.93630220e+00, 2.72493872e+00, 6.28590248e-01, 8.16000000e+00,\n       2.13720684e-01, 2.05280899e-01, 6.28747395e-01, 7.85737810e+00,\n       6.28590248e-01, 1.70572128e+00, 2.05280899e-01, 6.28590248e-01,\n       1.15743858e+00, 2.09530083e-01, 6.33751560e+00, 3.46065123e+00,\n       4.88000000e+00, 6.28590248e-01, 4.29536669e-01, 3.55127299e+00,\n       4.29536669e-01, 5.23825207e-05, 3.14321315e+00, 3.64660918e+00,\n       6.28590248e-01, 6.28590248e-01, 6.28590248e-01, 6.28747395e-01,\n       1.29411765e+05, 7.03265033e+00, 4.47579254e+00, 1.10035917e+01,\n       1.29918159e+01, 6.28590248e-01, 2.30930961e+00, 6.28590248e-01,\n       6.28590248e-01, 9.49424157e-01, 6.28590248e-01, 7.08219101e-01,\n       2.24851970e+00, 2.59987546e+00, 6.28590248e-01, 1.69356742e-05,\n       3.78000000e-04, 1.69356742e-05, 3.78000000e-04, 1.69356742e-05,\n       3.78000000e-04, 1.55671348e-05, 3.79000168e+01, 1.37014340e+00,\n       6.29132407e-01, 6.29093120e-01, 1.47594038e+00, 3.24991635e-01,\n       9.44168743e-01, 9.43155142e-01, 6.28747395e-01, 7.85737810e+00,\n       6.28590248e-01, 1.66579035e+00, 3.84901685e-04, 1.17860671e-03,\n       3.47217538e+00, 4.40013173e+00, 4.61354200e-01, 6.28904543e-01,\n       2.13791401e+00, 1.19783110e+00, 6.28590248e-01, 6.28590248e-01,\n       4.29536669e-01, 6.28852160e-01, 4.29536669e-01, 2.61524973e+01,\n       2.61524973e+01, 2.61524973e+01, 6.28590248e-01, 3.15342774e+00,\n       9.04415444e-03, 6.88546348e+00, 1.59948034e+00, 1.59948034e+00,\n       1.59682879e+00, 2.10839646e+01, 6.28590248e-01, 1.39958042e-01,\n       6.28590248e-01, 6.28590248e-01, 2.22387640e-02, 4.85144353e-01,\n       3.37702857e+00, 6.28747395e-01, 7.57613163e-01, 2.99475173e+00,\n       1.15903753e+00, 1.67628335e-01, 1.26766075e-01, 2.73707865e-05,\n       1.73124231e-05, 1.79053340e+00, 1.98060529e+00, 7.77519809e+00,\n       2.05383539e-01, 9.90860199e-01, 4.32403901e+00, 5.15967828e-01,\n       5.15967828e-01, 5.15967828e-01, 3.44107638e+00, 3.38556129e+00,\n       2.05383539e-01, 5.50016467e-07, 1.56523493e+01, 1.19022606e+01,\n       3.36102468e+00, 4.29536669e-01, 3.40486384e-01, 5.76207727e-02,\n       2.05280899e-01, 2.22625713e-04, 4.31729863e-04, 4.77397837e-02,\n       4.77397837e-02, 3.74273110e-02, 4.36608310e-02, 3.14295124e+00,\n       6.28590248e-01, 6.28590248e-01, 6.28590248e-01, 4.10272442e-01,\n       6.29585516e-01, 8.58039486e-01, 6.97266239e-01, 1.82081642e+00,\n       3.21497721e+00, 8.95741103e-03, 1.03727867e+00, 5.18875058e+00,\n       3.64660918e+00, 3.76997001e+00, 1.75519445e-01, 2.05294317e-01,\n       4.45251426e-01, 4.29536669e-01, 1.54528436e-04, 3.55767266e-01,\n       3.55962365e-01, 3.55767266e-01, 1.30956302e+02, 6.11042103e+01,\n       6.11042103e+01, 6.26337799e+00, 8.56657334e-06, 4.29536669e-01,\n       6.28590248e-01, 2.05280899e-01, 2.00550957e+00, 1.00050614e-04,\n       7.05545409e-02, 6.28904543e-01, 4.29536669e-01, 6.28590248e-01,\n       2.05280899e-01, 1.39958042e-01, 4.29536669e-01, 6.28590248e-01,\n       1.38080324e-03, 2.05280899e-01, 4.29536669e-01, 6.28590248e-01,\n       2.80265631e-01, 1.19696524e+00, 1.51912296e+00, 2.05280899e-01,\n       1.39958042e-01, 6.28590248e-01, 2.43840634e-05, 1.39958042e-01,\n       8.69549843e-05, 2.46318327e-02, 3.62413667e-04, 3.19443449e-02,\n       4.29536669e-01, 2.05280899e-01, 8.62327404e-03, 2.12149209e-03,\n       2.69832840e+00, 7.54308297e-02, 3.87149656e-01, 3.87149656e-01,\n       3.87149656e-01, 3.87149656e-01, 1.18406697e-01, 2.75463227e-01,\n       2.75463227e-01, 1.36623374e-01, 1.36623374e-01, 4.27000000e-01,\n       6.02398987e-04, 3.35248132e-01, 1.07000000e+00, 2.88103864e+00,\n       2.05332219e-01, 1.83405611e-07, 2.79916085e-01, 3.38741700e+00,\n       4.30541853e-01, 4.60245922e-01, 4.59067315e-01, 4.60245922e-01,\n       6.28590248e-01, 6.28590248e-01, 1.72863366e+00, 2.05280899e-01,\n       1.17860671e+00, 1.54405337e+00, 6.36514236e+00, 2.05280899e-01,\n       6.28590248e-01, 2.67150855e+00, 1.36398846e-01, 6.28590248e-01,\n       2.05280899e-01, 2.22625713e-05, 2.72389107e-02, 3.42134831e-05,\n       2.88103864e-01, 6.44305004e+00, 4.29536669e-01, 2.35377765e+00,\n       1.25378730e-02, 2.53006888e-01, 1.17860671e-06, 2.53006888e-01,\n       8.55337079e-07, 4.76026156e-03, 6.15842697e-06, 8.55337079e-06,\n       2.05280899e-06, 6.57402049e-03, 2.66941325e+00, 6.28590248e-01,\n       2.05280899e-01, 4.29536669e-01, 6.28590248e-01, 6.28590248e-01,\n       2.05280899e-01, 2.05280899e-01, 4.29536669e-01, 6.28590248e-01,\n       6.09633668e-03, 1.19702781e-02, 7.46452229e+00, 6.28904543e-01,\n       1.00350544e+01, 4.29536669e-01, 2.82865612e-01, 9.16694111e-01,\n       7.85737810e-07, 3.87175153e-04, 1.91184174e+00, 6.41685878e+00,\n       3.68365786e-03, 4.79287564e-01, 2.41249817e-01, 3.09056872e-04,\n       2.22625713e-05, 2.48816973e-05, 6.28590248e-01, 5.10417020e-02,\n       1.39958042e-01, 1.84808722e-04, 1.35196808e-04, 9.30358783e-03,\n       1.28031025e-04, 1.19476378e-03, 3.30266844e-07, 1.14031668e+00,\n       1.18819258e+00, 8.70610971e-02, 6.01745818e-06, 1.39958042e-01,\n       2.04900853e-01, 7.21937945e-05, 1.57051391e-06, 4.61765231e-04,\n       4.40551421e-02, 2.28808226e+00, 1.00725653e+00, 3.35417468e+00,\n       4.82120907e+00, 6.42091074e+00, 4.79862844e-01, 1.52759083e-03,\n       7.83627634e-06, 1.39958042e-01, 1.39958042e-01, 6.14548921e+00,\n       1.13520842e+01, 1.39958042e-01, 1.39958042e-01, 3.07207903e-01,\n       1.24616864e-03, 1.66611041e-01, 3.84093075e-04, 1.53637230e-04,\n       7.84613641e-06, 1.35712887e-06, 1.55344310e-06, 3.84093075e-03,\n       6.04306439e-03, 2.60329751e-03, 6.40155126e-04, 1.24616864e-03,\n       1.93932129e-01, 1.39958042e-01, 4.92492677e-02, 7.68186151e-07,\n       1.39958042e-01, 1.09253141e-05, 2.39068066e-05, 2.56062050e-03,\n       6.96488777e-02, 1.39958042e-01, 4.16527602e-02, 1.10458139e+03,\n       1.39958042e-01, 7.71600311e-01, 3.12624911e-05, 1.39958042e-01,\n       1.87748593e-02, 1.04755181e+00, 2.90203657e-05, 1.70708033e-07,\n       1.70708033e-04, 1.70708033e-07, 6.76118124e-05, 1.39958042e-01,\n       7.12224643e-04, 1.46168754e-03, 3.64461652e-03, 9.13287979e-03,\n       3.07684160e-01, 1.55105940e-03, 7.35682022e-02, 1.22613670e-03,\n       1.22613670e-02, 1.00996424e-01, 1.91192998e-04, 1.62000000e-03,\n       4.29541393e-01, 6.28598379e-01, 6.28593577e-01, 1.62847214e-04,\n       1.62847214e-04, 1.38000000e-03, 1.38000000e-03, 4.06990721e+00,\n       4.06990721e+00, 4.06990721e+00, 2.39164363e+00, 2.39164363e+00,\n       1.39960692e-01, 1.39959127e-01, 1.17786879e-05, 1.17786879e-05,\n       1.32921889e+01, 6.32961377e+00, 6.90066443e+00, 4.78352860e+00,\n       9.45445289e-02, 1.92106436e-02, 5.59968801e-01, 1.41130348e+00,\n       3.36891799e+00, 7.44499837e+01, 1.17504290e+01, 3.05115534e-04,\n       3.26473621e-01, 1.85211056e-02, 9.57813006e-01, 5.41761759e-01,\n       6.25008078e-01, 1.06581454e+00, 2.80037546e-01, 2.95284494e+00,\n       4.27763484e+01, 3.04861289e+00, 1.05125891e+00, 1.01823507e+00,\n       1.47506486e+01, 1.47506486e+01, 1.05125891e+00, 1.01823507e+00,\n       2.05287115e-01, 2.05287115e-01, 4.41537978e+01, 6.34817460e-03,\n       2.03467135e-01, 1.86787998e-01, 5.27075044e-01, 3.17738777e-02,\n       2.13406641e-01, 2.05259331e-01, 8.43029395e-05, 1.22604315e+00,\n       1.12844768e-03, 2.80008968e-01, 2.88847635e-01, 1.83424044e-03,\n       1.62820248e-01, 3.72048485e-05, 3.30256737e-03, 1.39811679e-04,\n       3.40593864e-04, 1.36480298e-01, 4.57080243e-01, 1.04291548e-01,\n       3.32184252e-01, 1.01930510e+00, 3.83142976e+00, 4.84269933e-03,\n       5.86821212e+01, 7.05468263e-01, 3.82678468e-01, 1.03423621e-01,\n       1.75303038e-01, 5.51157298e-02, 4.93444492e-01, 1.14774756e-02,\n       6.65910140e-01, 2.27123499e-01, 2.85511651e-02, 7.67029767e-03,\n       3.79679735e-01, 3.76319737e-01, 7.60241893e-03, 5.37312889e-05,\n       8.28277074e-02, 3.28921569e-02, 3.37645367e-01, 5.07797363e-01,\n       7.47987253e+00, 7.98446711e-01, 2.24708985e-01, 1.85834330e-01,\n       7.51477295e-01, 7.51477295e-01, 4.69313406e-01, 7.51477295e-01,\n       7.51477295e-01, 7.51477295e-01, 7.51477295e-01, 7.51477295e-01,\n       5.38414767e-01, 7.51477295e-01, 7.81447365e+00, 4.69420679e-04,\n       3.71394596e-01, 4.47852177e+00, 3.11952206e+00, 4.89548759e+00,\n       3.69864125e+00, 4.01522641e+00, 4.01522641e+00, 2.62793924e-01,\n       1.42240037e-01, 6.19093897e+00, 3.05267497e-03, 6.19093897e+00,\n       3.05267497e-03, 7.83857361e-05, 1.98922293e-01, 1.60468913e+00,\n       2.51425946e-04, 1.62790618e-01, 3.26978580e-01, 1.34685886e-02,\n       3.75106485e+01, 3.38602834e+00, 3.75106485e+01, 3.38602834e+00,\n       1.34685886e-02, 3.19054027e-04, 1.19495890e-05, 1.19167336e-02,\n       5.04819110e-02, 3.13712895e-04, 1.32895699e-03, 8.99795938e+02,\n       5.39225537e+03, 7.05924430e-03, 2.02953274e-01, 1.58121782e+00,\n       1.03783106e+00, 5.89425391e-02, 5.38448060e-01, 1.06290457e+00,\n       7.84001921e-01, 8.01570592e-01, 9.78512166e-04, 2.31564136e-03,\n       3.47435531e-03, 4.31578449e-01, 5.93143714e-01, 4.55741131e-04,\n       9.81596281e-05, 4.55741131e-04, 9.81596281e-05, 1.93712714e-01,\n       2.65999638e-02, 2.45117669e-03, 2.37617128e-03, 2.36309816e-03,\n       2.43769090e-03, 5.60937441e-04, 3.73264198e-02, 4.20498248e-04,\n       1.56559790e-05, 1.38973622e-03, 2.90710543e-06, 1.19334884e-06,\n       8.90170257e-04, 1.16491416e-03, 3.90136347e-03, 9.37623113e-01,\n       1.18509985e-03, 5.15866992e+00, 2.04597222e-02, 1.21838795e+00,\n       4.83434840e-01, 2.47357493e-02, 5.64175898e+00, 2.88670001e-01,\n       6.22591311e-02, 1.21670131e+00, 1.65915600e+00, 8.48997287e-02,\n       7.85510017e-02, 1.53519873e+00, 4.19504967e+00, 1.43796320e+00,\n       7.91895616e+01, 3.95373971e+02, 1.05586082e+02, 5.03756001e-02,\n       8.45929889e-04, 1.42252356e-01, 8.87253366e-03, 1.73404567e-01,\n       2.64334302e-03, 2.56245737e-03, 4.61868258e-05, 3.33918268e-05,\n       1.04232431e-04, 4.68990257e-01, 9.14137845e-02, 4.68990257e-01,\n       6.29729900e-01, 4.05071965e+00, 1.48275803e+00, 1.98814025e+00,\n       4.06579328e+00, 3.96487777e+00, 4.02991925e+00, 4.09548567e+00,\n       4.04249979e+00, 4.04493638e+00, 4.04154893e+00, 5.52977448e-02,\n       1.39147576e-01, 1.98205250e-01, 4.29536669e-01, 4.29536669e-01,\n       4.29536669e-01, 8.59073339e-01, 1.39958042e-01, 1.39958042e-01,\n       4.29536669e-01, 1.39958042e-01, 1.71814668e+00, 4.29536669e-01,\n       4.29536669e-01, 1.39958042e-01, 1.39958042e-01, 4.29536669e-01,\n       1.39958042e-01, 4.23776645e-01, 1.39958042e-01, 1.39958042e-01,\n       3.87788290e-01, 4.29536669e-01, 1.39958042e-01, 4.29536669e-01,\n       2.96311183e-01, 7.71297117e-02, 1.39958042e-01, 1.39958042e-01,\n       2.22628227e+00, 2.96311183e+02, 4.19874127e-01, 4.29536669e-01,\n       1.39958042e-01, 1.39958042e-01, 4.29536669e-01, 1.39958042e-01,\n       1.39958042e-01, 1.39958042e-01, 1.39958042e-01, 1.39074771e-01,\n       1.39958042e-01, 1.39958042e-01, 4.29536669e-01, 1.39958042e-01,\n       4.29536669e-01, 4.29536669e-01, 9.92782348e-02, 1.21341808e+03,\n       4.26701349e+01, 1.99098849e+01, 1.58675700e+00, 1.39958042e-01,\n       1.39958042e-01, 4.29536669e-01, 4.29536669e-01, 1.39958042e-01,\n       2.21456211e+00, 3.20586219e-01, 1.39958042e-01, 4.19874127e-01,\n       1.39958042e-01, 2.80246485e+00, 1.39958042e-01, 1.36271615e-01,\n       3.33070431e-01, 1.39958042e-01, 3.67320216e-03, 1.39958042e-01,\n       1.39958042e-01, 1.39958042e-01, 3.07218138e-01, 1.39958042e-01,\n       1.39958042e-01, 1.39958042e-01, 1.39958042e-01, 1.39958042e-01,\n       1.39958042e-01, 2.32090476e+00, 1.06706349e-01, 1.25245137e-01,\n       1.39958042e-01, 1.39958042e-01, 8.59073339e-01, 1.39958042e-01,\n       1.39958042e-01, 1.39958042e-01, 1.39958042e-01, 2.04816647e-01,\n       2.04816647e-01, 9.37398678e-02, 8.40161752e-02, 6.00116033e-02,\n       4.29536669e-01, 1.39958042e-01, 1.39958042e-01, 8.59839554e-02,\n       1.39958042e-01, 1.39958042e-01, 1.39958042e-01, 1.39958042e-01,\n       8.11576914e-03, 3.78218071e-01, 1.39958042e-01, 1.39958042e-01,\n       4.36908012e-02, 5.89766635e-01, 5.93429782e-01, 1.04243626e-01,\n       1.43600913e-01, 1.39958042e-01, 1.12789487e-01, 1.35951613e-01,\n       3.32491799e-02, 3.90316460e-02, 1.74984095e-01, 1.95475159e-01,\n       2.62899861e-02, 1.37967680e-01, 2.43035841e+02, 3.24047788e+02,\n       3.64643581e-01, 1.39958042e-01, 1.39958042e-01, 1.39958042e-01,\n       1.39958042e-01, 1.39958042e-01, 8.79942790e-01, 2.41128963e-02])"
     },
     "execution_count": 197,
     "metadata": {},
     "output_type": "execute_result"
    }
   ],
   "source": [
    "data[23293,:].data"
   ]
  },
  {
   "cell_type": "code",
   "execution_count": 198,
   "metadata": {},
   "outputs": [
    {
     "name": "stdout",
     "output_type": "stream",
     "text": "(12855, 0)\t0.00011145\n  (12871, 0)\t0.010687\n  (15680, 0)\t0.085507\n  (15889, 0)\t0.56976\n  (15962, 0)\t0.12826\n  (16642, 0)\t0.91455\n  (16668, 0)\t0.0010961\n  (16741, 0)\t0.00027066\n  (16745, 0)\t0.00042882\n  (16895, 0)\t9.6489e-05\n  (16899, 0)\t0.00024062\n  (17988, 0)\t7.9021e-05\n  (19344, 0)\t0.00012131\n  (19348, 0)\t0.00029115\n  (20255, 0)\t9.9092e-05\n  (20376, 0)\t0.00048049\n  (21641, 0)\t4.2695e-05\n  (21645, 0)\t0.016157\n  (22934, 0)\t0.0095927\n  (23285, 0)\t3.2322913372072217\n  (23287, 0)\t0.11603014252429802\n  (23289, 0)\t3.9992524402937613\n  (23290, 0)\t0.30623721280890653\n  (23293, 0)\t4.077717320163446\n  (23298, 0)\t1.3783293585035827\n  :\t:\n  (41055, 15435)\t0.1534589139757755\n  (41079, 15435)\t0.14887642499187914\n  (12854, 15436)\t6.3e-08\n  (13741, 15436)\t2.29950016958734e-08\n  (13877, 15436)\t9.44998870548332e-11\n  (15624, 15436)\t3.15e-11\n  (15626, 15436)\t9.0556093951385e-10\n  (15888, 15436)\t0.00978858690785755\n  (17101, 15436)\t1.575e-10\n  (17650, 15436)\t0.00555560091577162\n  (17780, 15436)\t5.35500111927643e-09\n  (23869, 15436)\t0.1352\n  (27407, 15436)\t4.41320118711136e-09\n  (28263, 15436)\t4.06350108535896e-07\n  (30256, 15436)\t2.20500111927643e-10\n  (30580, 15436)\t0.000160650061051441\n  (30720, 15436)\t3.78000111927643e-07\n  (31171, 15436)\t1.37350050876201e-05\n  (32369, 15436)\t1.30389867721877e-05\n  (33984, 15436)\t1.03639894855851e-08\n  (35783, 15436)\t0.8648\n  (36133, 15436)\t3.15e-11\n  (37401, 15436)\t3.17519993216507e-06\n  (41222, 15436)\t3.15e-09\n  (41224, 15436)\t2.25490115319389e-06\n"
    }
   ],
   "source": [
    "print(data)"
   ]
  },
  {
   "cell_type": "code",
   "execution_count": 199,
   "metadata": {},
   "outputs": [
    {
     "data": {
      "text/plain": "array([12855, 12871, 15680, ..., 37401, 41222, 41224])"
     },
     "execution_count": 199,
     "metadata": {},
     "output_type": "execute_result"
    }
   ],
   "source": [
    "data.indices"
   ]
  },
  {
   "cell_type": "code",
   "execution_count": 200,
   "metadata": {},
   "outputs": [
    {
     "data": {
      "text/plain": "array([      0,     110,     220, ..., 1645916, 1646173, 1646196])"
     },
     "execution_count": 200,
     "metadata": {},
     "output_type": "execute_result"
    }
   ],
   "source": [
    "data.indptr"
   ]
  },
  {
   "cell_type": "code",
   "execution_count": 201,
   "metadata": {},
   "outputs": [
    {
     "data": {
      "text/plain": "(41510, 15437)"
     },
     "execution_count": 201,
     "metadata": {},
     "output_type": "execute_result"
    }
   ],
   "source": [
    "data.shape"
   ]
  },
  {
   "cell_type": "code",
   "execution_count": 202,
   "metadata": {},
   "outputs": [
    {
     "data": {
      "text/plain": "<1x15437 sparse matrix of type '<class 'numpy.float64'>'\n\twith 968 stored elements in Compressed Sparse Row format>"
     },
     "execution_count": 202,
     "metadata": {},
     "output_type": "execute_result"
    }
   ],
   "source": [
    "data.getrow(23293)"
   ]
  },
  {
   "cell_type": "code",
   "execution_count": 203,
   "metadata": {},
   "outputs": [
    {
     "data": {
      "text/plain": "array([4.07771732e+00, 3.12487927e+00, 4.93757640e-01, 6.28590248e-01,\n       6.28590248e-01, 4.97633946e+00, 1.38135326e+00, 6.28590248e-01,\n       6.28590248e-01, 1.66031637e+00, 1.35560725e+00, 6.28590248e-01,\n       5.98000000e+00, 4.29536669e-01, 4.72673675e+00, 6.28590248e-01,\n       2.04291831e+00, 9.75624447e+00, 1.47189645e+00, 1.44427253e+00,\n       2.06057385e+00, 6.28590248e-01, 4.29536669e-01, 2.87920525e+00,\n       6.28590248e-01, 4.29536669e-01, 1.20479797e-05, 4.81919190e-06,\n       6.15494618e-06, 3.69103289e+00, 4.29536669e-01, 1.13146245e-02,\n       4.29536669e-01, 1.58433553e+00, 6.28590248e-01, 6.28904543e-01,\n       1.43696629e-05, 3.87149656e-01, 3.87149656e-01, 3.87149656e-01,\n       3.87149656e-01, 6.54781508e-06, 3.66680002e+00, 3.66680002e+00,\n       6.28590248e-06, 6.28595408e-01, 2.05280899e-01, 6.28590248e-01,\n       2.05280899e-01, 4.29536669e-01, 9.22162847e-02, 2.13165430e+00,\n       7.85744096e+00, 2.05280899e-01, 1.50000000e-02, 2.20006587e-02,\n       8.18275323e-04, 1.54004611e+00, 1.62599579e-03, 3.66677645e-03,\n       4.27668539e-06, 6.28590248e-01, 6.28590248e-01, 2.32123672e-01,\n       3.49967620e+00, 3.64660918e+00, 3.64660918e+00, 9.55247647e-01,\n       6.28590248e-01, 9.40870787e-07, 3.64660918e+00, 4.29536669e-01,\n       6.28590248e-01, 7.83118684e-02, 1.02000000e+01, 4.29536669e-01,\n       2.05280899e-01, 2.05280899e-01, 2.05280899e-01, 6.28590248e-01,\n       4.43575664e-01, 3.84901685e-04, 1.28337176e+01, 1.04989492e+00,\n       4.29536669e-01, 5.23864493e+00, 6.28590248e-01, 4.97633946e-01,\n       1.11322121e+00, 1.71317034e+00, 4.29536669e-01, 4.29536669e-01,\n       2.05280899e-01, 3.66697288e+00, 1.10000000e-04, 2.50000000e-06,\n       3.87149656e-01, 3.87149656e-01, 3.87149656e-01, 3.87149656e-01,\n       1.36623374e-01, 2.75008233e-03, 9.42885372e-03, 2.59293477e-03,\n       7.05000000e-04, 4.73942275e-04, 4.27668539e-01, 1.32265865e-03,\n       5.23825207e-04, 4.43064607e-05, 1.10459545e-01, 6.28904543e-01,\n       6.28590248e-01, 6.28590248e-01, 6.28590248e-01, 6.28590248e-01,\n       6.28590248e-01, 1.25807100e+00, 2.68303271e+00, 4.29536669e-01,\n       3.87149656e-01, 3.87149656e-01, 3.87149656e-01, 3.87149656e-01,\n       7.85737810e-03, 1.13670070e-02, 6.28747395e-01, 4.29536669e-01,\n       2.05280899e-01, 4.00881597e-01, 6.28904543e-01, 6.28904543e-01,\n       6.28590248e-01, 6.28590248e-01, 4.10561798e-01, 4.15393389e+00,\n       2.09530083e-01, 6.28747395e-01, 4.29536669e-01, 4.93233814e+00,\n       4.72542719e+00, 4.29536669e-01, 6.87861070e+00, 6.28747395e-01,\n       1.22805581e+00, 6.28747395e-01, 6.28590248e-01, 6.28590248e-01,\n       1.39958042e-01, 2.05280899e-01, 4.29536669e-01, 2.27248470e+00,\n       7.80499558e+00, 4.07902688e+00, 6.28590248e-01, 4.29536669e-01,\n       2.85589503e+00, 6.28904543e-01, 4.29536669e-01, 2.39388119e-03,\n       5.41000000e-02, 7.46479133e+01, 7.37690000e+01, 7.37690000e+01,\n       1.00579442e+01, 4.68823560e-03, 3.84901685e-04, 4.29536669e-01,\n       4.29536669e-01, 6.28904543e-01, 6.28590248e-01, 6.28590248e-01,\n       6.28590248e-01, 6.28590248e-01, 6.28590248e-01, 2.40498365e-05,\n       7.00859261e-01, 7.51696329e-01, 6.28904543e-01, 6.28904543e-01,\n       1.14455808e+00, 5.15967828e-01, 6.28592081e-01, 6.28747395e-01,\n       6.28747395e-01, 6.28747395e-01, 6.28747395e-01, 5.76207727e-07,\n       8.55337079e-02, 1.95124889e-01, 8.07000000e+02, 7.20000000e+02,\n       1.33000000e+03, 1.33575428e-06, 1.83338822e-02, 6.28590248e-01,\n       6.11565929e-02, 1.75481444e-01, 9.47599799e-02, 1.37999132e+00,\n       9.83481825e+00, 1.52354561e+00, 1.46000000e-01, 1.95200000e+01,\n       3.07921348e-05, 5.50016467e-02, 4.50000000e-02, 3.35248132e-02,\n       1.80000000e-02, 6.41502809e+00, 5.13202247e+01, 6.41502809e-05,\n       6.28590248e-01, 6.28590248e-01, 2.50275826e+00, 1.11194500e-03,\n       1.59000000e-04, 1.82000000e-04, 1.17860671e-01, 4.50000000e-01,\n       7.08000000e-01, 3.05000000e-01, 4.63585308e-02, 7.50000000e-02,\n       1.38551767e-02, 1.46000000e-01, 4.46392283e-01, 7.69803371e-03,\n       1.68312896e+00, 1.91729777e+00, 1.86750360e+00, 4.45256454e+00,\n       1.04765041e+00, 6.28590248e-01, 7.06378291e+00, 6.28590248e-01,\n       1.11322121e+00, 2.88103864e-01, 5.77000000e+00, 1.29925702e-05,\n       6.28590248e-01, 6.28590248e-01, 4.29536669e-01, 6.28590248e-01,\n       6.28590248e-01, 2.18940602e+00, 1.98267841e-04, 4.00726283e-04,\n       2.69832840e+00, 1.15058207e+00, 4.16461468e+00, 9.94649421e-03,\n       1.28000000e-03, 7.33591010e-05, 2.80090000e-03, 5.61605972e-07,\n       3.19639466e-03, 1.49552096e-05, 2.05280899e-01, 6.88830147e-05,\n       1.17860671e-01, 3.00000000e-01, 2.85589503e+00, 1.39958042e-01,\n       1.88215635e+00, 4.29536669e-01, 2.05280899e-01, 6.54519596e-01,\n       2.93630220e+00, 2.72493872e+00, 6.28590248e-01, 8.16000000e+00,\n       2.13720684e-01, 2.05280899e-01, 6.28747395e-01, 7.85737810e+00,\n       6.28590248e-01, 1.70572128e+00, 2.05280899e-01, 6.28590248e-01,\n       1.15743858e+00, 2.09530083e-01, 6.33751560e+00, 3.46065123e+00,\n       4.88000000e+00, 6.28590248e-01, 4.29536669e-01, 3.55127299e+00,\n       4.29536669e-01, 5.23825207e-05, 3.14321315e+00, 3.64660918e+00,\n       6.28590248e-01, 6.28590248e-01, 6.28590248e-01, 6.28747395e-01,\n       1.29411765e+05, 7.03265033e+00, 4.47579254e+00, 1.10035917e+01,\n       1.29918159e+01, 6.28590248e-01, 2.30930961e+00, 6.28590248e-01,\n       6.28590248e-01, 9.49424157e-01, 6.28590248e-01, 7.08219101e-01,\n       2.24851970e+00, 2.59987546e+00, 6.28590248e-01, 1.69356742e-05,\n       3.78000000e-04, 1.69356742e-05, 3.78000000e-04, 1.69356742e-05,\n       3.78000000e-04, 1.55671348e-05, 3.79000168e+01, 1.37014340e+00,\n       6.29132407e-01, 6.29093120e-01, 1.47594038e+00, 3.24991635e-01,\n       9.44168743e-01, 9.43155142e-01, 6.28747395e-01, 7.85737810e+00,\n       6.28590248e-01, 1.66579035e+00, 3.84901685e-04, 1.17860671e-03,\n       3.47217538e+00, 4.40013173e+00, 4.61354200e-01, 6.28904543e-01,\n       2.13791401e+00, 1.19783110e+00, 6.28590248e-01, 6.28590248e-01,\n       4.29536669e-01, 6.28852160e-01, 4.29536669e-01, 2.61524973e+01,\n       2.61524973e+01, 2.61524973e+01, 6.28590248e-01, 3.15342774e+00,\n       9.04415444e-03, 6.88546348e+00, 1.59948034e+00, 1.59948034e+00,\n       1.59682879e+00, 2.10839646e+01, 6.28590248e-01, 1.39958042e-01,\n       6.28590248e-01, 6.28590248e-01, 2.22387640e-02, 4.85144353e-01,\n       3.37702857e+00, 6.28747395e-01, 7.57613163e-01, 2.99475173e+00,\n       1.15903753e+00, 1.67628335e-01, 1.26766075e-01, 2.73707865e-05,\n       1.73124231e-05, 1.79053340e+00, 1.98060529e+00, 7.77519809e+00,\n       2.05383539e-01, 9.90860199e-01, 4.32403901e+00, 5.15967828e-01,\n       5.15967828e-01, 5.15967828e-01, 3.44107638e+00, 3.38556129e+00,\n       2.05383539e-01, 5.50016467e-07, 1.56523493e+01, 1.19022606e+01,\n       3.36102468e+00, 4.29536669e-01, 3.40486384e-01, 5.76207727e-02,\n       2.05280899e-01, 2.22625713e-04, 4.31729863e-04, 4.77397837e-02,\n       4.77397837e-02, 3.74273110e-02, 4.36608310e-02, 3.14295124e+00,\n       6.28590248e-01, 6.28590248e-01, 6.28590248e-01, 4.10272442e-01,\n       6.29585516e-01, 8.58039486e-01, 6.97266239e-01, 1.82081642e+00,\n       3.21497721e+00, 8.95741103e-03, 1.03727867e+00, 5.18875058e+00,\n       3.64660918e+00, 3.76997001e+00, 1.75519445e-01, 2.05294317e-01,\n       4.45251426e-01, 4.29536669e-01, 1.54528436e-04, 3.55767266e-01,\n       3.55962365e-01, 3.55767266e-01, 1.30956302e+02, 6.11042103e+01,\n       6.11042103e+01, 6.26337799e+00, 8.56657334e-06, 4.29536669e-01,\n       6.28590248e-01, 2.05280899e-01, 2.00550957e+00, 1.00050614e-04,\n       7.05545409e-02, 6.28904543e-01, 4.29536669e-01, 6.28590248e-01,\n       2.05280899e-01, 1.39958042e-01, 4.29536669e-01, 6.28590248e-01,\n       1.38080324e-03, 2.05280899e-01, 4.29536669e-01, 6.28590248e-01,\n       2.80265631e-01, 1.19696524e+00, 1.51912296e+00, 2.05280899e-01,\n       1.39958042e-01, 6.28590248e-01, 2.43840634e-05, 1.39958042e-01,\n       8.69549843e-05, 2.46318327e-02, 3.62413667e-04, 3.19443449e-02,\n       4.29536669e-01, 2.05280899e-01, 8.62327404e-03, 2.12149209e-03,\n       2.69832840e+00, 7.54308297e-02, 3.87149656e-01, 3.87149656e-01,\n       3.87149656e-01, 3.87149656e-01, 1.18406697e-01, 2.75463227e-01,\n       2.75463227e-01, 1.36623374e-01, 1.36623374e-01, 4.27000000e-01,\n       6.02398987e-04, 3.35248132e-01, 1.07000000e+00, 2.88103864e+00,\n       2.05332219e-01, 1.83405611e-07, 2.79916085e-01, 3.38741700e+00,\n       4.30541853e-01, 4.60245922e-01, 4.59067315e-01, 4.60245922e-01,\n       6.28590248e-01, 6.28590248e-01, 1.72863366e+00, 2.05280899e-01,\n       1.17860671e+00, 1.54405337e+00, 6.36514236e+00, 2.05280899e-01,\n       6.28590248e-01, 2.67150855e+00, 1.36398846e-01, 6.28590248e-01,\n       2.05280899e-01, 2.22625713e-05, 2.72389107e-02, 3.42134831e-05,\n       2.88103864e-01, 6.44305004e+00, 4.29536669e-01, 2.35377765e+00,\n       1.25378730e-02, 2.53006888e-01, 1.17860671e-06, 2.53006888e-01,\n       8.55337079e-07, 4.76026156e-03, 6.15842697e-06, 8.55337079e-06,\n       2.05280899e-06, 6.57402049e-03, 2.66941325e+00, 6.28590248e-01,\n       2.05280899e-01, 4.29536669e-01, 6.28590248e-01, 6.28590248e-01,\n       2.05280899e-01, 2.05280899e-01, 4.29536669e-01, 6.28590248e-01,\n       6.09633668e-03, 1.19702781e-02, 7.46452229e+00, 6.28904543e-01,\n       1.00350544e+01, 4.29536669e-01, 2.82865612e-01, 9.16694111e-01,\n       7.85737810e-07, 3.87175153e-04, 1.91184174e+00, 6.41685878e+00,\n       3.68365786e-03, 4.79287564e-01, 2.41249817e-01, 3.09056872e-04,\n       2.22625713e-05, 2.48816973e-05, 6.28590248e-01, 5.10417020e-02,\n       1.39958042e-01, 1.84808722e-04, 1.35196808e-04, 9.30358783e-03,\n       1.28031025e-04, 1.19476378e-03, 3.30266844e-07, 1.14031668e+00,\n       1.18819258e+00, 8.70610971e-02, 6.01745818e-06, 1.39958042e-01,\n       2.04900853e-01, 7.21937945e-05, 1.57051391e-06, 4.61765231e-04,\n       4.40551421e-02, 2.28808226e+00, 1.00725653e+00, 3.35417468e+00,\n       4.82120907e+00, 6.42091074e+00, 4.79862844e-01, 1.52759083e-03,\n       7.83627634e-06, 1.39958042e-01, 1.39958042e-01, 6.14548921e+00,\n       1.13520842e+01, 1.39958042e-01, 1.39958042e-01, 3.07207903e-01,\n       1.24616864e-03, 1.66611041e-01, 3.84093075e-04, 1.53637230e-04,\n       7.84613641e-06, 1.35712887e-06, 1.55344310e-06, 3.84093075e-03,\n       6.04306439e-03, 2.60329751e-03, 6.40155126e-04, 1.24616864e-03,\n       1.93932129e-01, 1.39958042e-01, 4.92492677e-02, 7.68186151e-07,\n       1.39958042e-01, 1.09253141e-05, 2.39068066e-05, 2.56062050e-03,\n       6.96488777e-02, 1.39958042e-01, 4.16527602e-02, 1.10458139e+03,\n       1.39958042e-01, 7.71600311e-01, 3.12624911e-05, 1.39958042e-01,\n       1.87748593e-02, 1.04755181e+00, 2.90203657e-05, 1.70708033e-07,\n       1.70708033e-04, 1.70708033e-07, 6.76118124e-05, 1.39958042e-01,\n       7.12224643e-04, 1.46168754e-03, 3.64461652e-03, 9.13287979e-03,\n       3.07684160e-01, 1.55105940e-03, 7.35682022e-02, 1.22613670e-03,\n       1.22613670e-02, 1.00996424e-01, 1.91192998e-04, 1.62000000e-03,\n       4.29541393e-01, 6.28598379e-01, 6.28593577e-01, 1.62847214e-04,\n       1.62847214e-04, 1.38000000e-03, 1.38000000e-03, 4.06990721e+00,\n       4.06990721e+00, 4.06990721e+00, 2.39164363e+00, 2.39164363e+00,\n       1.39960692e-01, 1.39959127e-01, 1.17786879e-05, 1.17786879e-05,\n       1.32921889e+01, 6.32961377e+00, 6.90066443e+00, 4.78352860e+00,\n       9.45445289e-02, 1.92106436e-02, 5.59968801e-01, 1.41130348e+00,\n       3.36891799e+00, 7.44499837e+01, 1.17504290e+01, 3.05115534e-04,\n       3.26473621e-01, 1.85211056e-02, 9.57813006e-01, 5.41761759e-01,\n       6.25008078e-01, 1.06581454e+00, 2.80037546e-01, 2.95284494e+00,\n       4.27763484e+01, 3.04861289e+00, 1.05125891e+00, 1.01823507e+00,\n       1.47506486e+01, 1.47506486e+01, 1.05125891e+00, 1.01823507e+00,\n       2.05287115e-01, 2.05287115e-01, 4.41537978e+01, 6.34817460e-03,\n       2.03467135e-01, 1.86787998e-01, 5.27075044e-01, 3.17738777e-02,\n       2.13406641e-01, 2.05259331e-01, 8.43029395e-05, 1.22604315e+00,\n       1.12844768e-03, 2.80008968e-01, 2.88847635e-01, 1.83424044e-03,\n       1.62820248e-01, 3.72048485e-05, 3.30256737e-03, 1.39811679e-04,\n       3.40593864e-04, 1.36480298e-01, 4.57080243e-01, 1.04291548e-01,\n       3.32184252e-01, 1.01930510e+00, 3.83142976e+00, 4.84269933e-03,\n       5.86821212e+01, 7.05468263e-01, 3.82678468e-01, 1.03423621e-01,\n       1.75303038e-01, 5.51157298e-02, 4.93444492e-01, 1.14774756e-02,\n       6.65910140e-01, 2.27123499e-01, 2.85511651e-02, 7.67029767e-03,\n       3.79679735e-01, 3.76319737e-01, 7.60241893e-03, 5.37312889e-05,\n       8.28277074e-02, 3.28921569e-02, 3.37645367e-01, 5.07797363e-01,\n       7.47987253e+00, 7.98446711e-01, 2.24708985e-01, 1.85834330e-01,\n       7.51477295e-01, 7.51477295e-01, 4.69313406e-01, 7.51477295e-01,\n       7.51477295e-01, 7.51477295e-01, 7.51477295e-01, 7.51477295e-01,\n       5.38414767e-01, 7.51477295e-01, 7.81447365e+00, 4.69420679e-04,\n       3.71394596e-01, 4.47852177e+00, 3.11952206e+00, 4.89548759e+00,\n       3.69864125e+00, 4.01522641e+00, 4.01522641e+00, 2.62793924e-01,\n       1.42240037e-01, 6.19093897e+00, 3.05267497e-03, 6.19093897e+00,\n       3.05267497e-03, 7.83857361e-05, 1.98922293e-01, 1.60468913e+00,\n       2.51425946e-04, 1.62790618e-01, 3.26978580e-01, 1.34685886e-02,\n       3.75106485e+01, 3.38602834e+00, 3.75106485e+01, 3.38602834e+00,\n       1.34685886e-02, 3.19054027e-04, 1.19495890e-05, 1.19167336e-02,\n       5.04819110e-02, 3.13712895e-04, 1.32895699e-03, 8.99795938e+02,\n       5.39225537e+03, 7.05924430e-03, 2.02953274e-01, 1.58121782e+00,\n       1.03783106e+00, 5.89425391e-02, 5.38448060e-01, 1.06290457e+00,\n       7.84001921e-01, 8.01570592e-01, 9.78512166e-04, 2.31564136e-03,\n       3.47435531e-03, 4.31578449e-01, 5.93143714e-01, 4.55741131e-04,\n       9.81596281e-05, 4.55741131e-04, 9.81596281e-05, 1.93712714e-01,\n       2.65999638e-02, 2.45117669e-03, 2.37617128e-03, 2.36309816e-03,\n       2.43769090e-03, 5.60937441e-04, 3.73264198e-02, 4.20498248e-04,\n       1.56559790e-05, 1.38973622e-03, 2.90710543e-06, 1.19334884e-06,\n       8.90170257e-04, 1.16491416e-03, 3.90136347e-03, 9.37623113e-01,\n       1.18509985e-03, 5.15866992e+00, 2.04597222e-02, 1.21838795e+00,\n       4.83434840e-01, 2.47357493e-02, 5.64175898e+00, 2.88670001e-01,\n       6.22591311e-02, 1.21670131e+00, 1.65915600e+00, 8.48997287e-02,\n       7.85510017e-02, 1.53519873e+00, 4.19504967e+00, 1.43796320e+00,\n       7.91895616e+01, 3.95373971e+02, 1.05586082e+02, 5.03756001e-02,\n       8.45929889e-04, 1.42252356e-01, 8.87253366e-03, 1.73404567e-01,\n       2.64334302e-03, 2.56245737e-03, 4.61868258e-05, 3.33918268e-05,\n       1.04232431e-04, 4.68990257e-01, 9.14137845e-02, 4.68990257e-01,\n       6.29729900e-01, 4.05071965e+00, 1.48275803e+00, 1.98814025e+00,\n       4.06579328e+00, 3.96487777e+00, 4.02991925e+00, 4.09548567e+00,\n       4.04249979e+00, 4.04493638e+00, 4.04154893e+00, 5.52977448e-02,\n       1.39147576e-01, 1.98205250e-01, 4.29536669e-01, 4.29536669e-01,\n       4.29536669e-01, 8.59073339e-01, 1.39958042e-01, 1.39958042e-01,\n       4.29536669e-01, 1.39958042e-01, 1.71814668e+00, 4.29536669e-01,\n       4.29536669e-01, 1.39958042e-01, 1.39958042e-01, 4.29536669e-01,\n       1.39958042e-01, 4.23776645e-01, 1.39958042e-01, 1.39958042e-01,\n       3.87788290e-01, 4.29536669e-01, 1.39958042e-01, 4.29536669e-01,\n       2.96311183e-01, 7.71297117e-02, 1.39958042e-01, 1.39958042e-01,\n       2.22628227e+00, 2.96311183e+02, 4.19874127e-01, 4.29536669e-01,\n       1.39958042e-01, 1.39958042e-01, 4.29536669e-01, 1.39958042e-01,\n       1.39958042e-01, 1.39958042e-01, 1.39958042e-01, 1.39074771e-01,\n       1.39958042e-01, 1.39958042e-01, 4.29536669e-01, 1.39958042e-01,\n       4.29536669e-01, 4.29536669e-01, 9.92782348e-02, 1.21341808e+03,\n       4.26701349e+01, 1.99098849e+01, 1.58675700e+00, 1.39958042e-01,\n       1.39958042e-01, 4.29536669e-01, 4.29536669e-01, 1.39958042e-01,\n       2.21456211e+00, 3.20586219e-01, 1.39958042e-01, 4.19874127e-01,\n       1.39958042e-01, 2.80246485e+00, 1.39958042e-01, 1.36271615e-01,\n       3.33070431e-01, 1.39958042e-01, 3.67320216e-03, 1.39958042e-01,\n       1.39958042e-01, 1.39958042e-01, 3.07218138e-01, 1.39958042e-01,\n       1.39958042e-01, 1.39958042e-01, 1.39958042e-01, 1.39958042e-01,\n       1.39958042e-01, 2.32090476e+00, 1.06706349e-01, 1.25245137e-01,\n       1.39958042e-01, 1.39958042e-01, 8.59073339e-01, 1.39958042e-01,\n       1.39958042e-01, 1.39958042e-01, 1.39958042e-01, 2.04816647e-01,\n       2.04816647e-01, 9.37398678e-02, 8.40161752e-02, 6.00116033e-02,\n       4.29536669e-01, 1.39958042e-01, 1.39958042e-01, 8.59839554e-02,\n       1.39958042e-01, 1.39958042e-01, 1.39958042e-01, 1.39958042e-01,\n       8.11576914e-03, 3.78218071e-01, 1.39958042e-01, 1.39958042e-01,\n       4.36908012e-02, 5.89766635e-01, 5.93429782e-01, 1.04243626e-01,\n       1.43600913e-01, 1.39958042e-01, 1.12789487e-01, 1.35951613e-01,\n       3.32491799e-02, 3.90316460e-02, 1.74984095e-01, 1.95475159e-01,\n       2.62899861e-02, 1.37967680e-01, 2.43035841e+02, 3.24047788e+02,\n       3.64643581e-01, 1.39958042e-01, 1.39958042e-01, 1.39958042e-01,\n       1.39958042e-01, 1.39958042e-01, 8.79942790e-01, 2.41128963e-02])"
     },
     "execution_count": 203,
     "metadata": {},
     "output_type": "execute_result"
    }
   ],
   "source": [
    "data.getrow(23293).data"
   ]
  },
  {
   "cell_type": "code",
   "execution_count": 204,
   "metadata": {},
   "outputs": [
    {
     "data": {
      "text/plain": "<1x15437 sparse matrix of type '<class 'numpy.float64'>'\n\twith 968 stored elements in Compressed Sparse Row format>"
     },
     "execution_count": 204,
     "metadata": {},
     "output_type": "execute_result"
    }
   ],
   "source": [
    "data.getrow(23293) / 2"
   ]
  },
  {
   "cell_type": "code",
   "execution_count": 205,
   "metadata": {},
   "outputs": [
    {
     "data": {
      "text/plain": "array([4.07771732e+00, 3.12487927e+00, 4.93757640e-01, 6.28590248e-01,\n       6.28590248e-01, 4.97633946e+00, 1.38135326e+00, 6.28590248e-01,\n       6.28590248e-01, 1.66031637e+00, 1.35560725e+00, 6.28590248e-01,\n       5.98000000e+00, 4.29536669e-01, 4.72673675e+00, 6.28590248e-01,\n       2.04291831e+00, 9.75624447e+00, 1.47189645e+00, 1.44427253e+00,\n       2.06057385e+00, 6.28590248e-01, 4.29536669e-01, 2.87920525e+00,\n       6.28590248e-01, 4.29536669e-01, 1.20479797e-05, 4.81919190e-06,\n       6.15494618e-06, 3.69103289e+00, 4.29536669e-01, 1.13146245e-02,\n       4.29536669e-01, 1.58433553e+00, 6.28590248e-01, 6.28904543e-01,\n       1.43696629e-05, 3.87149656e-01, 3.87149656e-01, 3.87149656e-01,\n       3.87149656e-01, 6.54781508e-06, 3.66680002e+00, 3.66680002e+00,\n       6.28590248e-06, 6.28595408e-01, 2.05280899e-01, 6.28590248e-01,\n       2.05280899e-01, 4.29536669e-01, 9.22162847e-02, 2.13165430e+00,\n       7.85744096e+00, 2.05280899e-01, 1.50000000e-02, 2.20006587e-02,\n       8.18275323e-04, 1.54004611e+00, 1.62599579e-03, 3.66677645e-03,\n       4.27668539e-06, 6.28590248e-01, 6.28590248e-01, 2.32123672e-01,\n       3.49967620e+00, 3.64660918e+00, 3.64660918e+00, 9.55247647e-01,\n       6.28590248e-01, 9.40870787e-07, 3.64660918e+00, 4.29536669e-01,\n       6.28590248e-01, 7.83118684e-02, 1.02000000e+01, 4.29536669e-01,\n       2.05280899e-01, 2.05280899e-01, 2.05280899e-01, 6.28590248e-01,\n       4.43575664e-01, 3.84901685e-04, 1.28337176e+01, 1.04989492e+00,\n       4.29536669e-01, 5.23864493e+00, 6.28590248e-01, 4.97633946e-01,\n       1.11322121e+00, 1.71317034e+00, 4.29536669e-01, 4.29536669e-01,\n       2.05280899e-01, 3.66697288e+00, 1.10000000e-04, 2.50000000e-06,\n       3.87149656e-01, 3.87149656e-01, 3.87149656e-01, 3.87149656e-01,\n       1.36623374e-01, 2.75008233e-03, 9.42885372e-03, 2.59293477e-03,\n       7.05000000e-04, 4.73942275e-04, 4.27668539e-01, 1.32265865e-03,\n       5.23825207e-04, 4.43064607e-05, 1.10459545e-01, 6.28904543e-01,\n       6.28590248e-01, 6.28590248e-01, 6.28590248e-01, 6.28590248e-01,\n       6.28590248e-01, 1.25807100e+00, 2.68303271e+00, 4.29536669e-01,\n       3.87149656e-01, 3.87149656e-01, 3.87149656e-01, 3.87149656e-01,\n       7.85737810e-03, 1.13670070e-02, 6.28747395e-01, 4.29536669e-01,\n       2.05280899e-01, 4.00881597e-01, 6.28904543e-01, 6.28904543e-01,\n       6.28590248e-01, 6.28590248e-01, 4.10561798e-01, 4.15393389e+00,\n       2.09530083e-01, 6.28747395e-01, 4.29536669e-01, 4.93233814e+00,\n       4.72542719e+00, 4.29536669e-01, 6.87861070e+00, 6.28747395e-01,\n       1.22805581e+00, 6.28747395e-01, 6.28590248e-01, 6.28590248e-01,\n       1.39958042e-01, 2.05280899e-01, 4.29536669e-01, 2.27248470e+00,\n       7.80499558e+00, 4.07902688e+00, 6.28590248e-01, 4.29536669e-01,\n       2.85589503e+00, 6.28904543e-01, 4.29536669e-01, 2.39388119e-03,\n       5.41000000e-02, 7.46479133e+01, 7.37690000e+01, 7.37690000e+01,\n       1.00579442e+01, 4.68823560e-03, 3.84901685e-04, 4.29536669e-01,\n       4.29536669e-01, 6.28904543e-01, 6.28590248e-01, 6.28590248e-01,\n       6.28590248e-01, 6.28590248e-01, 6.28590248e-01, 2.40498365e-05,\n       7.00859261e-01, 7.51696329e-01, 6.28904543e-01, 6.28904543e-01,\n       1.14455808e+00, 5.15967828e-01, 6.28592081e-01, 6.28747395e-01,\n       6.28747395e-01, 6.28747395e-01, 6.28747395e-01, 5.76207727e-07,\n       8.55337079e-02, 1.95124889e-01, 8.07000000e+02, 7.20000000e+02,\n       1.33000000e+03, 1.33575428e-06, 1.83338822e-02, 6.28590248e-01,\n       6.11565929e-02, 1.75481444e-01, 9.47599799e-02, 1.37999132e+00,\n       9.83481825e+00, 1.52354561e+00, 1.46000000e-01, 1.95200000e+01,\n       3.07921348e-05, 5.50016467e-02, 4.50000000e-02, 3.35248132e-02,\n       1.80000000e-02, 6.41502809e+00, 5.13202247e+01, 6.41502809e-05,\n       6.28590248e-01, 6.28590248e-01, 2.50275826e+00, 1.11194500e-03,\n       1.59000000e-04, 1.82000000e-04, 1.17860671e-01, 4.50000000e-01,\n       7.08000000e-01, 3.05000000e-01, 4.63585308e-02, 7.50000000e-02,\n       1.38551767e-02, 1.46000000e-01, 4.46392283e-01, 7.69803371e-03,\n       1.68312896e+00, 1.91729777e+00, 1.86750360e+00, 4.45256454e+00,\n       1.04765041e+00, 6.28590248e-01, 7.06378291e+00, 6.28590248e-01,\n       1.11322121e+00, 2.88103864e-01, 5.77000000e+00, 1.29925702e-05,\n       6.28590248e-01, 6.28590248e-01, 4.29536669e-01, 6.28590248e-01,\n       6.28590248e-01, 2.18940602e+00, 1.98267841e-04, 4.00726283e-04,\n       2.69832840e+00, 1.15058207e+00, 4.16461468e+00, 9.94649421e-03,\n       1.28000000e-03, 7.33591010e-05, 2.80090000e-03, 5.61605972e-07,\n       3.19639466e-03, 1.49552096e-05, 2.05280899e-01, 6.88830147e-05,\n       1.17860671e-01, 3.00000000e-01, 2.85589503e+00, 1.39958042e-01,\n       1.88215635e+00, 4.29536669e-01, 2.05280899e-01, 6.54519596e-01,\n       2.93630220e+00, 2.72493872e+00, 6.28590248e-01, 8.16000000e+00,\n       2.13720684e-01, 2.05280899e-01, 6.28747395e-01, 7.85737810e+00,\n       6.28590248e-01, 1.70572128e+00, 2.05280899e-01, 6.28590248e-01,\n       1.15743858e+00, 2.09530083e-01, 6.33751560e+00, 3.46065123e+00,\n       4.88000000e+00, 6.28590248e-01, 4.29536669e-01, 3.55127299e+00,\n       4.29536669e-01, 5.23825207e-05, 3.14321315e+00, 3.64660918e+00,\n       6.28590248e-01, 6.28590248e-01, 6.28590248e-01, 6.28747395e-01,\n       1.29411765e+05, 7.03265033e+00, 4.47579254e+00, 1.10035917e+01,\n       1.29918159e+01, 6.28590248e-01, 2.30930961e+00, 6.28590248e-01,\n       6.28590248e-01, 9.49424157e-01, 6.28590248e-01, 7.08219101e-01,\n       2.24851970e+00, 2.59987546e+00, 6.28590248e-01, 1.69356742e-05,\n       3.78000000e-04, 1.69356742e-05, 3.78000000e-04, 1.69356742e-05,\n       3.78000000e-04, 1.55671348e-05, 3.79000168e+01, 1.37014340e+00,\n       6.29132407e-01, 6.29093120e-01, 1.47594038e+00, 3.24991635e-01,\n       9.44168743e-01, 9.43155142e-01, 6.28747395e-01, 7.85737810e+00,\n       6.28590248e-01, 1.66579035e+00, 3.84901685e-04, 1.17860671e-03,\n       3.47217538e+00, 4.40013173e+00, 4.61354200e-01, 6.28904543e-01,\n       2.13791401e+00, 1.19783110e+00, 6.28590248e-01, 6.28590248e-01,\n       4.29536669e-01, 6.28852160e-01, 4.29536669e-01, 2.61524973e+01,\n       2.61524973e+01, 2.61524973e+01, 6.28590248e-01, 3.15342774e+00,\n       9.04415444e-03, 6.88546348e+00, 1.59948034e+00, 1.59948034e+00,\n       1.59682879e+00, 2.10839646e+01, 6.28590248e-01, 1.39958042e-01,\n       6.28590248e-01, 6.28590248e-01, 2.22387640e-02, 4.85144353e-01,\n       3.37702857e+00, 6.28747395e-01, 7.57613163e-01, 2.99475173e+00,\n       1.15903753e+00, 1.67628335e-01, 1.26766075e-01, 2.73707865e-05,\n       1.73124231e-05, 1.79053340e+00, 1.98060529e+00, 7.77519809e+00,\n       2.05383539e-01, 9.90860199e-01, 4.32403901e+00, 5.15967828e-01,\n       5.15967828e-01, 5.15967828e-01, 3.44107638e+00, 3.38556129e+00,\n       2.05383539e-01, 5.50016467e-07, 1.56523493e+01, 1.19022606e+01,\n       3.36102468e+00, 4.29536669e-01, 3.40486384e-01, 5.76207727e-02,\n       2.05280899e-01, 2.22625713e-04, 4.31729863e-04, 4.77397837e-02,\n       4.77397837e-02, 3.74273110e-02, 4.36608310e-02, 3.14295124e+00,\n       6.28590248e-01, 6.28590248e-01, 6.28590248e-01, 4.10272442e-01,\n       6.29585516e-01, 8.58039486e-01, 6.97266239e-01, 1.82081642e+00,\n       3.21497721e+00, 8.95741103e-03, 1.03727867e+00, 5.18875058e+00,\n       3.64660918e+00, 3.76997001e+00, 1.75519445e-01, 2.05294317e-01,\n       4.45251426e-01, 4.29536669e-01, 1.54528436e-04, 3.55767266e-01,\n       3.55962365e-01, 3.55767266e-01, 1.30956302e+02, 6.11042103e+01,\n       6.11042103e+01, 6.26337799e+00, 8.56657334e-06, 4.29536669e-01,\n       6.28590248e-01, 2.05280899e-01, 2.00550957e+00, 1.00050614e-04,\n       7.05545409e-02, 6.28904543e-01, 4.29536669e-01, 6.28590248e-01,\n       2.05280899e-01, 1.39958042e-01, 4.29536669e-01, 6.28590248e-01,\n       1.38080324e-03, 2.05280899e-01, 4.29536669e-01, 6.28590248e-01,\n       2.80265631e-01, 1.19696524e+00, 1.51912296e+00, 2.05280899e-01,\n       1.39958042e-01, 6.28590248e-01, 2.43840634e-05, 1.39958042e-01,\n       8.69549843e-05, 2.46318327e-02, 3.62413667e-04, 3.19443449e-02,\n       4.29536669e-01, 2.05280899e-01, 8.62327404e-03, 2.12149209e-03,\n       2.69832840e+00, 7.54308297e-02, 3.87149656e-01, 3.87149656e-01,\n       3.87149656e-01, 3.87149656e-01, 1.18406697e-01, 2.75463227e-01,\n       2.75463227e-01, 1.36623374e-01, 1.36623374e-01, 4.27000000e-01,\n       6.02398987e-04, 3.35248132e-01, 1.07000000e+00, 2.88103864e+00,\n       2.05332219e-01, 1.83405611e-07, 2.79916085e-01, 3.38741700e+00,\n       4.30541853e-01, 4.60245922e-01, 4.59067315e-01, 4.60245922e-01,\n       6.28590248e-01, 6.28590248e-01, 1.72863366e+00, 2.05280899e-01,\n       1.17860671e+00, 1.54405337e+00, 6.36514236e+00, 2.05280899e-01,\n       6.28590248e-01, 2.67150855e+00, 1.36398846e-01, 6.28590248e-01,\n       2.05280899e-01, 2.22625713e-05, 2.72389107e-02, 3.42134831e-05,\n       2.88103864e-01, 6.44305004e+00, 4.29536669e-01, 2.35377765e+00,\n       1.25378730e-02, 2.53006888e-01, 1.17860671e-06, 2.53006888e-01,\n       8.55337079e-07, 4.76026156e-03, 6.15842697e-06, 8.55337079e-06,\n       2.05280899e-06, 6.57402049e-03, 2.66941325e+00, 6.28590248e-01,\n       2.05280899e-01, 4.29536669e-01, 6.28590248e-01, 6.28590248e-01,\n       2.05280899e-01, 2.05280899e-01, 4.29536669e-01, 6.28590248e-01,\n       6.09633668e-03, 1.19702781e-02, 7.46452229e+00, 6.28904543e-01,\n       1.00350544e+01, 4.29536669e-01, 2.82865612e-01, 9.16694111e-01,\n       7.85737810e-07, 3.87175153e-04, 1.91184174e+00, 6.41685878e+00,\n       3.68365786e-03, 4.79287564e-01, 2.41249817e-01, 3.09056872e-04,\n       2.22625713e-05, 2.48816973e-05, 6.28590248e-01, 5.10417020e-02,\n       1.39958042e-01, 1.84808722e-04, 1.35196808e-04, 9.30358783e-03,\n       1.28031025e-04, 1.19476378e-03, 3.30266844e-07, 1.14031668e+00,\n       1.18819258e+00, 8.70610971e-02, 6.01745818e-06, 1.39958042e-01,\n       2.04900853e-01, 7.21937945e-05, 1.57051391e-06, 4.61765231e-04,\n       4.40551421e-02, 2.28808226e+00, 1.00725653e+00, 3.35417468e+00,\n       4.82120907e+00, 6.42091074e+00, 4.79862844e-01, 1.52759083e-03,\n       7.83627634e-06, 1.39958042e-01, 1.39958042e-01, 6.14548921e+00,\n       1.13520842e+01, 1.39958042e-01, 1.39958042e-01, 3.07207903e-01,\n       1.24616864e-03, 1.66611041e-01, 3.84093075e-04, 1.53637230e-04,\n       7.84613641e-06, 1.35712887e-06, 1.55344310e-06, 3.84093075e-03,\n       6.04306439e-03, 2.60329751e-03, 6.40155126e-04, 1.24616864e-03,\n       1.93932129e-01, 1.39958042e-01, 4.92492677e-02, 7.68186151e-07,\n       1.39958042e-01, 1.09253141e-05, 2.39068066e-05, 2.56062050e-03,\n       6.96488777e-02, 1.39958042e-01, 4.16527602e-02, 1.10458139e+03,\n       1.39958042e-01, 7.71600311e-01, 3.12624911e-05, 1.39958042e-01,\n       1.87748593e-02, 1.04755181e+00, 2.90203657e-05, 1.70708033e-07,\n       1.70708033e-04, 1.70708033e-07, 6.76118124e-05, 1.39958042e-01,\n       7.12224643e-04, 1.46168754e-03, 3.64461652e-03, 9.13287979e-03,\n       3.07684160e-01, 1.55105940e-03, 7.35682022e-02, 1.22613670e-03,\n       1.22613670e-02, 1.00996424e-01, 1.91192998e-04, 1.62000000e-03,\n       4.29541393e-01, 6.28598379e-01, 6.28593577e-01, 1.62847214e-04,\n       1.62847214e-04, 1.38000000e-03, 1.38000000e-03, 4.06990721e+00,\n       4.06990721e+00, 4.06990721e+00, 2.39164363e+00, 2.39164363e+00,\n       1.39960692e-01, 1.39959127e-01, 1.17786879e-05, 1.17786879e-05,\n       1.32921889e+01, 6.32961377e+00, 6.90066443e+00, 4.78352860e+00,\n       9.45445289e-02, 1.92106436e-02, 5.59968801e-01, 1.41130348e+00,\n       3.36891799e+00, 7.44499837e+01, 1.17504290e+01, 3.05115534e-04,\n       3.26473621e-01, 1.85211056e-02, 9.57813006e-01, 5.41761759e-01,\n       6.25008078e-01, 1.06581454e+00, 2.80037546e-01, 2.95284494e+00,\n       4.27763484e+01, 3.04861289e+00, 1.05125891e+00, 1.01823507e+00,\n       1.47506486e+01, 1.47506486e+01, 1.05125891e+00, 1.01823507e+00,\n       2.05287115e-01, 2.05287115e-01, 4.41537978e+01, 6.34817460e-03,\n       2.03467135e-01, 1.86787998e-01, 5.27075044e-01, 3.17738777e-02,\n       2.13406641e-01, 2.05259331e-01, 8.43029395e-05, 1.22604315e+00,\n       1.12844768e-03, 2.80008968e-01, 2.88847635e-01, 1.83424044e-03,\n       1.62820248e-01, 3.72048485e-05, 3.30256737e-03, 1.39811679e-04,\n       3.40593864e-04, 1.36480298e-01, 4.57080243e-01, 1.04291548e-01,\n       3.32184252e-01, 1.01930510e+00, 3.83142976e+00, 4.84269933e-03,\n       5.86821212e+01, 7.05468263e-01, 3.82678468e-01, 1.03423621e-01,\n       1.75303038e-01, 5.51157298e-02, 4.93444492e-01, 1.14774756e-02,\n       6.65910140e-01, 2.27123499e-01, 2.85511651e-02, 7.67029767e-03,\n       3.79679735e-01, 3.76319737e-01, 7.60241893e-03, 5.37312889e-05,\n       8.28277074e-02, 3.28921569e-02, 3.37645367e-01, 5.07797363e-01,\n       7.47987253e+00, 7.98446711e-01, 2.24708985e-01, 1.85834330e-01,\n       7.51477295e-01, 7.51477295e-01, 4.69313406e-01, 7.51477295e-01,\n       7.51477295e-01, 7.51477295e-01, 7.51477295e-01, 7.51477295e-01,\n       5.38414767e-01, 7.51477295e-01, 7.81447365e+00, 4.69420679e-04,\n       3.71394596e-01, 4.47852177e+00, 3.11952206e+00, 4.89548759e+00,\n       3.69864125e+00, 4.01522641e+00, 4.01522641e+00, 2.62793924e-01,\n       1.42240037e-01, 6.19093897e+00, 3.05267497e-03, 6.19093897e+00,\n       3.05267497e-03, 7.83857361e-05, 1.98922293e-01, 1.60468913e+00,\n       2.51425946e-04, 1.62790618e-01, 3.26978580e-01, 1.34685886e-02,\n       3.75106485e+01, 3.38602834e+00, 3.75106485e+01, 3.38602834e+00,\n       1.34685886e-02, 3.19054027e-04, 1.19495890e-05, 1.19167336e-02,\n       5.04819110e-02, 3.13712895e-04, 1.32895699e-03, 8.99795938e+02,\n       5.39225537e+03, 7.05924430e-03, 2.02953274e-01, 1.58121782e+00,\n       1.03783106e+00, 5.89425391e-02, 5.38448060e-01, 1.06290457e+00,\n       7.84001921e-01, 8.01570592e-01, 9.78512166e-04, 2.31564136e-03,\n       3.47435531e-03, 4.31578449e-01, 5.93143714e-01, 4.55741131e-04,\n       9.81596281e-05, 4.55741131e-04, 9.81596281e-05, 1.93712714e-01,\n       2.65999638e-02, 2.45117669e-03, 2.37617128e-03, 2.36309816e-03,\n       2.43769090e-03, 5.60937441e-04, 3.73264198e-02, 4.20498248e-04,\n       1.56559790e-05, 1.38973622e-03, 2.90710543e-06, 1.19334884e-06,\n       8.90170257e-04, 1.16491416e-03, 3.90136347e-03, 9.37623113e-01,\n       1.18509985e-03, 5.15866992e+00, 2.04597222e-02, 1.21838795e+00,\n       4.83434840e-01, 2.47357493e-02, 5.64175898e+00, 2.88670001e-01,\n       6.22591311e-02, 1.21670131e+00, 1.65915600e+00, 8.48997287e-02,\n       7.85510017e-02, 1.53519873e+00, 4.19504967e+00, 1.43796320e+00,\n       7.91895616e+01, 3.95373971e+02, 1.05586082e+02, 5.03756001e-02,\n       8.45929889e-04, 1.42252356e-01, 8.87253366e-03, 1.73404567e-01,\n       2.64334302e-03, 2.56245737e-03, 4.61868258e-05, 3.33918268e-05,\n       1.04232431e-04, 4.68990257e-01, 9.14137845e-02, 4.68990257e-01,\n       6.29729900e-01, 4.05071965e+00, 1.48275803e+00, 1.98814025e+00,\n       4.06579328e+00, 3.96487777e+00, 4.02991925e+00, 4.09548567e+00,\n       4.04249979e+00, 4.04493638e+00, 4.04154893e+00, 5.52977448e-02,\n       1.39147576e-01, 1.98205250e-01, 4.29536669e-01, 4.29536669e-01,\n       4.29536669e-01, 8.59073339e-01, 1.39958042e-01, 1.39958042e-01,\n       4.29536669e-01, 1.39958042e-01, 1.71814668e+00, 4.29536669e-01,\n       4.29536669e-01, 1.39958042e-01, 1.39958042e-01, 4.29536669e-01,\n       1.39958042e-01, 4.23776645e-01, 1.39958042e-01, 1.39958042e-01,\n       3.87788290e-01, 4.29536669e-01, 1.39958042e-01, 4.29536669e-01,\n       2.96311183e-01, 7.71297117e-02, 1.39958042e-01, 1.39958042e-01,\n       2.22628227e+00, 2.96311183e+02, 4.19874127e-01, 4.29536669e-01,\n       1.39958042e-01, 1.39958042e-01, 4.29536669e-01, 1.39958042e-01,\n       1.39958042e-01, 1.39958042e-01, 1.39958042e-01, 1.39074771e-01,\n       1.39958042e-01, 1.39958042e-01, 4.29536669e-01, 1.39958042e-01,\n       4.29536669e-01, 4.29536669e-01, 9.92782348e-02, 1.21341808e+03,\n       4.26701349e+01, 1.99098849e+01, 1.58675700e+00, 1.39958042e-01,\n       1.39958042e-01, 4.29536669e-01, 4.29536669e-01, 1.39958042e-01,\n       2.21456211e+00, 3.20586219e-01, 1.39958042e-01, 4.19874127e-01,\n       1.39958042e-01, 2.80246485e+00, 1.39958042e-01, 1.36271615e-01,\n       3.33070431e-01, 1.39958042e-01, 3.67320216e-03, 1.39958042e-01,\n       1.39958042e-01, 1.39958042e-01, 3.07218138e-01, 1.39958042e-01,\n       1.39958042e-01, 1.39958042e-01, 1.39958042e-01, 1.39958042e-01,\n       1.39958042e-01, 2.32090476e+00, 1.06706349e-01, 1.25245137e-01,\n       1.39958042e-01, 1.39958042e-01, 8.59073339e-01, 1.39958042e-01,\n       1.39958042e-01, 1.39958042e-01, 1.39958042e-01, 2.04816647e-01,\n       2.04816647e-01, 9.37398678e-02, 8.40161752e-02, 6.00116033e-02,\n       4.29536669e-01, 1.39958042e-01, 1.39958042e-01, 8.59839554e-02,\n       1.39958042e-01, 1.39958042e-01, 1.39958042e-01, 1.39958042e-01,\n       8.11576914e-03, 3.78218071e-01, 1.39958042e-01, 1.39958042e-01,\n       4.36908012e-02, 5.89766635e-01, 5.93429782e-01, 1.04243626e-01,\n       1.43600913e-01, 1.39958042e-01, 1.12789487e-01, 1.35951613e-01,\n       3.32491799e-02, 3.90316460e-02, 1.74984095e-01, 1.95475159e-01,\n       2.62899861e-02, 1.37967680e-01, 2.43035841e+02, 3.24047788e+02,\n       3.64643581e-01, 1.39958042e-01, 1.39958042e-01, 1.39958042e-01,\n       1.39958042e-01, 1.39958042e-01, 8.79942790e-01, 2.41128963e-02])"
     },
     "execution_count": 205,
     "metadata": {},
     "output_type": "execute_result"
    }
   ],
   "source": [
    "data.getrow(23293).data"
   ]
  },
  {
   "cell_type": "code",
   "execution_count": 207,
   "metadata": {},
   "outputs": [
    {
     "data": {
      "text/plain": "array([4.07771732e+00, 1.37832936e+00, 2.93174391e+01, ...,\n       3.17519993e-06, 3.15000000e-09, 2.25490115e-06])"
     },
     "execution_count": 207,
     "metadata": {},
     "output_type": "execute_result"
    }
   ],
   "source": [
    "data[23293:].data"
   ]
  },
  {
   "cell_type": "code",
   "execution_count": 208,
   "metadata": {},
   "outputs": [],
   "source": [
    "data[23293:].data = data[23293:].data / 2"
   ]
  },
  {
   "cell_type": "code",
   "execution_count": 209,
   "metadata": {},
   "outputs": [
    {
     "data": {
      "text/plain": "array([4.07771732e+00, 1.37832936e+00, 2.93174391e+01, ...,\n       3.17519993e-06, 3.15000000e-09, 2.25490115e-06])"
     },
     "execution_count": 209,
     "metadata": {},
     "output_type": "execute_result"
    }
   ],
   "source": [
    "data[23293:].data"
   ]
  },
  {
   "cell_type": "code",
   "execution_count": 210,
   "metadata": {},
   "outputs": [],
   "source": [
    "A = data.tolil()"
   ]
  },
  {
   "cell_type": "code",
   "execution_count": 211,
   "metadata": {},
   "outputs": [
    {
     "data": {
      "text/plain": "<41510x15437 sparse matrix of type '<class 'numpy.float64'>'\n\twith 1646196 stored elements in LInked List format>"
     },
     "execution_count": 211,
     "metadata": {},
     "output_type": "execute_result"
    }
   ],
   "source": [
    "A"
   ]
  },
  {
   "cell_type": "code",
   "execution_count": 212,
   "metadata": {},
   "outputs": [
    {
     "ename": "KeyboardInterrupt",
     "evalue": "",
     "output_type": "error",
     "traceback": [
      "\u001b[1;31m---------------------------------------------------------------------------\u001b[0m",
      "\u001b[1;31mKeyboardInterrupt\u001b[0m                         Traceback (most recent call last)",
      "\u001b[1;32m<ipython-input-212-939330b76721>\u001b[0m in \u001b[0;36m<module>\u001b[1;34m\u001b[0m\n\u001b[1;32m----> 1\u001b[1;33m \u001b[0mprint\u001b[0m\u001b[1;33m(\u001b[0m\u001b[0mA\u001b[0m\u001b[1;33m)\u001b[0m\u001b[1;33m\u001b[0m\u001b[1;33m\u001b[0m\u001b[0m\n\u001b[0m",
      "\u001b[1;32m~\\AppData\\Local\\Programs\\Python\\Python37\\lib\\site-packages\\scipy\\sparse\\lil.py\u001b[0m in \u001b[0;36m__str__\u001b[1;34m(self)\u001b[0m\n\u001b[0;32m    182\u001b[0m         \u001b[1;32mfor\u001b[0m \u001b[0mi\u001b[0m\u001b[1;33m,\u001b[0m \u001b[0mrow\u001b[0m \u001b[1;32min\u001b[0m \u001b[0menumerate\u001b[0m\u001b[1;33m(\u001b[0m\u001b[0mself\u001b[0m\u001b[1;33m.\u001b[0m\u001b[0mrows\u001b[0m\u001b[1;33m)\u001b[0m\u001b[1;33m:\u001b[0m\u001b[1;33m\u001b[0m\u001b[1;33m\u001b[0m\u001b[0m\n\u001b[0;32m    183\u001b[0m             \u001b[1;32mfor\u001b[0m \u001b[0mpos\u001b[0m\u001b[1;33m,\u001b[0m \u001b[0mj\u001b[0m \u001b[1;32min\u001b[0m \u001b[0menumerate\u001b[0m\u001b[1;33m(\u001b[0m\u001b[0mrow\u001b[0m\u001b[1;33m)\u001b[0m\u001b[1;33m:\u001b[0m\u001b[1;33m\u001b[0m\u001b[1;33m\u001b[0m\u001b[0m\n\u001b[1;32m--> 184\u001b[1;33m                 \u001b[0mval\u001b[0m \u001b[1;33m+=\u001b[0m \u001b[1;34m\"  %s\\t%s\\n\"\u001b[0m \u001b[1;33m%\u001b[0m \u001b[1;33m(\u001b[0m\u001b[0mstr\u001b[0m\u001b[1;33m(\u001b[0m\u001b[1;33m(\u001b[0m\u001b[0mi\u001b[0m\u001b[1;33m,\u001b[0m \u001b[0mj\u001b[0m\u001b[1;33m)\u001b[0m\u001b[1;33m)\u001b[0m\u001b[1;33m,\u001b[0m \u001b[0mstr\u001b[0m\u001b[1;33m(\u001b[0m\u001b[0mself\u001b[0m\u001b[1;33m.\u001b[0m\u001b[0mdata\u001b[0m\u001b[1;33m[\u001b[0m\u001b[0mi\u001b[0m\u001b[1;33m]\u001b[0m\u001b[1;33m[\u001b[0m\u001b[0mpos\u001b[0m\u001b[1;33m]\u001b[0m\u001b[1;33m)\u001b[0m\u001b[1;33m)\u001b[0m\u001b[1;33m\u001b[0m\u001b[1;33m\u001b[0m\u001b[0m\n\u001b[0m\u001b[0;32m    185\u001b[0m         \u001b[1;32mreturn\u001b[0m \u001b[0mval\u001b[0m\u001b[1;33m[\u001b[0m\u001b[1;33m:\u001b[0m\u001b[1;33m-\u001b[0m\u001b[1;36m1\u001b[0m\u001b[1;33m]\u001b[0m\u001b[1;33m\u001b[0m\u001b[1;33m\u001b[0m\u001b[0m\n\u001b[0;32m    186\u001b[0m \u001b[1;33m\u001b[0m\u001b[0m\n",
      "\u001b[1;31mKeyboardInterrupt\u001b[0m: "
     ]
    }
   ],
   "source": [
    "print(A)"
   ]
  },
  {
   "cell_type": "code",
   "execution_count": 213,
   "metadata": {},
   "outputs": [
    {
     "ename": "ValueError",
     "evalue": "shape mismatch: objects cannot be broadcast to a single shape",
     "output_type": "error",
     "traceback": [
      "\u001b[1;31m---------------------------------------------------------------------------\u001b[0m",
      "\u001b[1;31mValueError\u001b[0m                                Traceback (most recent call last)",
      "\u001b[1;32m<ipython-input-213-41ab07b4117e>\u001b[0m in \u001b[0;36m<module>\u001b[1;34m\u001b[0m\n\u001b[1;32m----> 1\u001b[1;33m \u001b[0mA\u001b[0m\u001b[1;33m[\u001b[0m\u001b[1;36m23293\u001b[0m\u001b[1;33m:\u001b[0m\u001b[1;33m]\u001b[0m \u001b[1;33m=\u001b[0m \u001b[0mdata\u001b[0m\u001b[1;33m[\u001b[0m\u001b[1;36m23293\u001b[0m\u001b[1;33m:\u001b[0m\u001b[1;33m]\u001b[0m\u001b[1;33m.\u001b[0m\u001b[0mdata\u001b[0m \u001b[1;33m/\u001b[0m \u001b[1;36m2\u001b[0m\u001b[1;33m\u001b[0m\u001b[1;33m\u001b[0m\u001b[0m\n\u001b[0m",
      "\u001b[1;32m~\\AppData\\Local\\Programs\\Python\\Python37\\lib\\site-packages\\scipy\\sparse\\lil.py\u001b[0m in \u001b[0;36m__setitem__\u001b[1;34m(self, key, x)\u001b[0m\n\u001b[0;32m    344\u001b[0m             \u001b[1;32mreturn\u001b[0m \u001b[0mself\u001b[0m\u001b[1;33m.\u001b[0m\u001b[0m_set_intXint\u001b[0m\u001b[1;33m(\u001b[0m\u001b[0mkey\u001b[0m\u001b[1;33m[\u001b[0m\u001b[1;36m0\u001b[0m\u001b[1;33m]\u001b[0m\u001b[1;33m,\u001b[0m \u001b[0mkey\u001b[0m\u001b[1;33m[\u001b[0m\u001b[1;36m1\u001b[0m\u001b[1;33m]\u001b[0m\u001b[1;33m,\u001b[0m \u001b[0mx\u001b[0m\u001b[1;33m)\u001b[0m\u001b[1;33m\u001b[0m\u001b[1;33m\u001b[0m\u001b[0m\n\u001b[0;32m    345\u001b[0m         \u001b[1;31m# Everything else takes the normal path.\u001b[0m\u001b[1;33m\u001b[0m\u001b[1;33m\u001b[0m\u001b[1;33m\u001b[0m\u001b[0m\n\u001b[1;32m--> 346\u001b[1;33m         \u001b[0mIndexMixin\u001b[0m\u001b[1;33m.\u001b[0m\u001b[0m__setitem__\u001b[0m\u001b[1;33m(\u001b[0m\u001b[0mself\u001b[0m\u001b[1;33m,\u001b[0m \u001b[0mkey\u001b[0m\u001b[1;33m,\u001b[0m \u001b[0mx\u001b[0m\u001b[1;33m)\u001b[0m\u001b[1;33m\u001b[0m\u001b[1;33m\u001b[0m\u001b[0m\n\u001b[0m\u001b[0;32m    347\u001b[0m \u001b[1;33m\u001b[0m\u001b[0m\n\u001b[0;32m    348\u001b[0m     \u001b[1;32mdef\u001b[0m \u001b[0m_mul_scalar\u001b[0m\u001b[1;33m(\u001b[0m\u001b[0mself\u001b[0m\u001b[1;33m,\u001b[0m \u001b[0mother\u001b[0m\u001b[1;33m)\u001b[0m\u001b[1;33m:\u001b[0m\u001b[1;33m\u001b[0m\u001b[1;33m\u001b[0m\u001b[0m\n",
      "\u001b[1;32m~\\AppData\\Local\\Programs\\Python\\Python37\\lib\\site-packages\\scipy\\sparse\\_index.py\u001b[0m in \u001b[0;36m__setitem__\u001b[1;34m(self, key, x)\u001b[0m\n\u001b[0;32m    120\u001b[0m             \u001b[1;31m# Make x and i into the same shape\u001b[0m\u001b[1;33m\u001b[0m\u001b[1;33m\u001b[0m\u001b[1;33m\u001b[0m\u001b[0m\n\u001b[0;32m    121\u001b[0m             \u001b[0mx\u001b[0m \u001b[1;33m=\u001b[0m \u001b[0mnp\u001b[0m\u001b[1;33m.\u001b[0m\u001b[0masarray\u001b[0m\u001b[1;33m(\u001b[0m\u001b[0mx\u001b[0m\u001b[1;33m,\u001b[0m \u001b[0mdtype\u001b[0m\u001b[1;33m=\u001b[0m\u001b[0mself\u001b[0m\u001b[1;33m.\u001b[0m\u001b[0mdtype\u001b[0m\u001b[1;33m)\u001b[0m\u001b[1;33m\u001b[0m\u001b[1;33m\u001b[0m\u001b[0m\n\u001b[1;32m--> 122\u001b[1;33m             \u001b[0mx\u001b[0m\u001b[1;33m,\u001b[0m \u001b[0m_\u001b[0m \u001b[1;33m=\u001b[0m \u001b[0m_broadcast_arrays\u001b[0m\u001b[1;33m(\u001b[0m\u001b[0mx\u001b[0m\u001b[1;33m,\u001b[0m \u001b[0mi\u001b[0m\u001b[1;33m)\u001b[0m\u001b[1;33m\u001b[0m\u001b[1;33m\u001b[0m\u001b[0m\n\u001b[0m\u001b[0;32m    123\u001b[0m             \u001b[1;32mif\u001b[0m \u001b[0mx\u001b[0m\u001b[1;33m.\u001b[0m\u001b[0mshape\u001b[0m \u001b[1;33m!=\u001b[0m \u001b[0mi\u001b[0m\u001b[1;33m.\u001b[0m\u001b[0mshape\u001b[0m\u001b[1;33m:\u001b[0m\u001b[1;33m\u001b[0m\u001b[1;33m\u001b[0m\u001b[0m\n\u001b[0;32m    124\u001b[0m                 \u001b[1;32mraise\u001b[0m \u001b[0mValueError\u001b[0m\u001b[1;33m(\u001b[0m\u001b[1;34m\"shape mismatch in assignment\"\u001b[0m\u001b[1;33m)\u001b[0m\u001b[1;33m\u001b[0m\u001b[1;33m\u001b[0m\u001b[0m\n",
      "\u001b[1;32m~\\AppData\\Local\\Programs\\Python\\Python37\\lib\\site-packages\\scipy\\sparse\\_index.py\u001b[0m in \u001b[0;36m_broadcast_arrays\u001b[1;34m(a, b)\u001b[0m\n\u001b[0;32m     22\u001b[0m     \u001b[0mthe\u001b[0m \u001b[0mold\u001b[0m \u001b[0mbehavior\u001b[0m\u001b[1;33m.\u001b[0m\u001b[1;33m\u001b[0m\u001b[1;33m\u001b[0m\u001b[0m\n\u001b[0;32m     23\u001b[0m     \"\"\"\n\u001b[1;32m---> 24\u001b[1;33m     \u001b[0mx\u001b[0m\u001b[1;33m,\u001b[0m \u001b[0my\u001b[0m \u001b[1;33m=\u001b[0m \u001b[0mnp\u001b[0m\u001b[1;33m.\u001b[0m\u001b[0mbroadcast_arrays\u001b[0m\u001b[1;33m(\u001b[0m\u001b[0ma\u001b[0m\u001b[1;33m,\u001b[0m \u001b[0mb\u001b[0m\u001b[1;33m)\u001b[0m\u001b[1;33m\u001b[0m\u001b[1;33m\u001b[0m\u001b[0m\n\u001b[0m\u001b[0;32m     25\u001b[0m     \u001b[0mx\u001b[0m\u001b[1;33m.\u001b[0m\u001b[0mflags\u001b[0m\u001b[1;33m.\u001b[0m\u001b[0mwriteable\u001b[0m \u001b[1;33m=\u001b[0m \u001b[0ma\u001b[0m\u001b[1;33m.\u001b[0m\u001b[0mflags\u001b[0m\u001b[1;33m.\u001b[0m\u001b[0mwriteable\u001b[0m\u001b[1;33m\u001b[0m\u001b[1;33m\u001b[0m\u001b[0m\n\u001b[0;32m     26\u001b[0m     \u001b[0my\u001b[0m\u001b[1;33m.\u001b[0m\u001b[0mflags\u001b[0m\u001b[1;33m.\u001b[0m\u001b[0mwriteable\u001b[0m \u001b[1;33m=\u001b[0m \u001b[0mb\u001b[0m\u001b[1;33m.\u001b[0m\u001b[0mflags\u001b[0m\u001b[1;33m.\u001b[0m\u001b[0mwriteable\u001b[0m\u001b[1;33m\u001b[0m\u001b[1;33m\u001b[0m\u001b[0m\n",
      "\u001b[1;32m<__array_function__ internals>\u001b[0m in \u001b[0;36mbroadcast_arrays\u001b[1;34m(*args, **kwargs)\u001b[0m\n",
      "\u001b[1;32m~\\AppData\\Local\\Programs\\Python\\Python37\\lib\\site-packages\\numpy\\lib\\stride_tricks.py\u001b[0m in \u001b[0;36mbroadcast_arrays\u001b[1;34m(*args, **kwargs)\u001b[0m\n\u001b[0;32m    262\u001b[0m     \u001b[0margs\u001b[0m \u001b[1;33m=\u001b[0m \u001b[1;33m[\u001b[0m\u001b[0mnp\u001b[0m\u001b[1;33m.\u001b[0m\u001b[0marray\u001b[0m\u001b[1;33m(\u001b[0m\u001b[0m_m\u001b[0m\u001b[1;33m,\u001b[0m \u001b[0mcopy\u001b[0m\u001b[1;33m=\u001b[0m\u001b[1;32mFalse\u001b[0m\u001b[1;33m,\u001b[0m \u001b[0msubok\u001b[0m\u001b[1;33m=\u001b[0m\u001b[0msubok\u001b[0m\u001b[1;33m)\u001b[0m \u001b[1;32mfor\u001b[0m \u001b[0m_m\u001b[0m \u001b[1;32min\u001b[0m \u001b[0margs\u001b[0m\u001b[1;33m]\u001b[0m\u001b[1;33m\u001b[0m\u001b[1;33m\u001b[0m\u001b[0m\n\u001b[0;32m    263\u001b[0m \u001b[1;33m\u001b[0m\u001b[0m\n\u001b[1;32m--> 264\u001b[1;33m     \u001b[0mshape\u001b[0m \u001b[1;33m=\u001b[0m \u001b[0m_broadcast_shape\u001b[0m\u001b[1;33m(\u001b[0m\u001b[1;33m*\u001b[0m\u001b[0margs\u001b[0m\u001b[1;33m)\u001b[0m\u001b[1;33m\u001b[0m\u001b[1;33m\u001b[0m\u001b[0m\n\u001b[0m\u001b[0;32m    265\u001b[0m \u001b[1;33m\u001b[0m\u001b[0m\n\u001b[0;32m    266\u001b[0m     \u001b[1;32mif\u001b[0m \u001b[0mall\u001b[0m\u001b[1;33m(\u001b[0m\u001b[0marray\u001b[0m\u001b[1;33m.\u001b[0m\u001b[0mshape\u001b[0m \u001b[1;33m==\u001b[0m \u001b[0mshape\u001b[0m \u001b[1;32mfor\u001b[0m \u001b[0marray\u001b[0m \u001b[1;32min\u001b[0m \u001b[0margs\u001b[0m\u001b[1;33m)\u001b[0m\u001b[1;33m:\u001b[0m\u001b[1;33m\u001b[0m\u001b[1;33m\u001b[0m\u001b[0m\n",
      "\u001b[1;32m~\\AppData\\Local\\Programs\\Python\\Python37\\lib\\site-packages\\numpy\\lib\\stride_tricks.py\u001b[0m in \u001b[0;36m_broadcast_shape\u001b[1;34m(*args)\u001b[0m\n\u001b[0;32m    189\u001b[0m     \u001b[1;31m# use the old-iterator because np.nditer does not handle size 0 arrays\u001b[0m\u001b[1;33m\u001b[0m\u001b[1;33m\u001b[0m\u001b[1;33m\u001b[0m\u001b[0m\n\u001b[0;32m    190\u001b[0m     \u001b[1;31m# consistently\u001b[0m\u001b[1;33m\u001b[0m\u001b[1;33m\u001b[0m\u001b[1;33m\u001b[0m\u001b[0m\n\u001b[1;32m--> 191\u001b[1;33m     \u001b[0mb\u001b[0m \u001b[1;33m=\u001b[0m \u001b[0mnp\u001b[0m\u001b[1;33m.\u001b[0m\u001b[0mbroadcast\u001b[0m\u001b[1;33m(\u001b[0m\u001b[1;33m*\u001b[0m\u001b[0margs\u001b[0m\u001b[1;33m[\u001b[0m\u001b[1;33m:\u001b[0m\u001b[1;36m32\u001b[0m\u001b[1;33m]\u001b[0m\u001b[1;33m)\u001b[0m\u001b[1;33m\u001b[0m\u001b[1;33m\u001b[0m\u001b[0m\n\u001b[0m\u001b[0;32m    192\u001b[0m     \u001b[1;31m# unfortunately, it cannot handle 32 or more arguments directly\u001b[0m\u001b[1;33m\u001b[0m\u001b[1;33m\u001b[0m\u001b[1;33m\u001b[0m\u001b[0m\n\u001b[0;32m    193\u001b[0m     \u001b[1;32mfor\u001b[0m \u001b[0mpos\u001b[0m \u001b[1;32min\u001b[0m \u001b[0mrange\u001b[0m\u001b[1;33m(\u001b[0m\u001b[1;36m32\u001b[0m\u001b[1;33m,\u001b[0m \u001b[0mlen\u001b[0m\u001b[1;33m(\u001b[0m\u001b[0margs\u001b[0m\u001b[1;33m)\u001b[0m\u001b[1;33m,\u001b[0m \u001b[1;36m31\u001b[0m\u001b[1;33m)\u001b[0m\u001b[1;33m:\u001b[0m\u001b[1;33m\u001b[0m\u001b[1;33m\u001b[0m\u001b[0m\n",
      "\u001b[1;31mValueError\u001b[0m: shape mismatch: objects cannot be broadcast to a single shape"
     ]
    }
   ],
   "source": [
    "A[23293:] = data[23293:].data / 2"
   ]
  },
  {
   "cell_type": "code",
   "execution_count": 214,
   "metadata": {},
   "outputs": [
    {
     "data": {
      "text/plain": "(41510, 15437)"
     },
     "execution_count": 214,
     "metadata": {},
     "output_type": "execute_result"
    }
   ],
   "source": [
    "data.shape"
   ]
  },
  {
   "cell_type": "code",
   "execution_count": 215,
   "metadata": {},
   "outputs": [
    {
     "name": "stdout",
     "output_type": "stream",
     "text": "(12855, 0)\t0.00011145\n  (12871, 0)\t0.010687\n  (15680, 0)\t0.085507\n  (15889, 0)\t0.56976\n  (15962, 0)\t0.12826\n  (16642, 0)\t0.91455\n  (16668, 0)\t0.0010961\n  (16741, 0)\t0.00027066\n  (16745, 0)\t0.00042882\n  (16895, 0)\t9.6489e-05\n  (16899, 0)\t0.00024062\n  (17988, 0)\t7.9021e-05\n  (19344, 0)\t0.00012131\n  (19348, 0)\t0.00029115\n  (20255, 0)\t9.9092e-05\n  (20376, 0)\t0.00048049\n  (21641, 0)\t4.2695e-05\n  (21645, 0)\t0.016157\n  (22934, 0)\t0.0095927\n  (23285, 0)\t3.2322913372072217\n  (23287, 0)\t0.11603014252429802\n  (23289, 0)\t3.9992524402937613\n  (23290, 0)\t0.30623721280890653\n  (23293, 0)\t4.077717320163446\n  (23298, 0)\t1.3783293585035827\n  :\t:\n  (41055, 15435)\t0.1534589139757755\n  (41079, 15435)\t0.14887642499187914\n  (12854, 15436)\t6.3e-08\n  (13741, 15436)\t2.29950016958734e-08\n  (13877, 15436)\t9.44998870548332e-11\n  (15624, 15436)\t3.15e-11\n  (15626, 15436)\t9.0556093951385e-10\n  (15888, 15436)\t0.00978858690785755\n  (17101, 15436)\t1.575e-10\n  (17650, 15436)\t0.00555560091577162\n  (17780, 15436)\t5.35500111927643e-09\n  (23869, 15436)\t0.1352\n  (27407, 15436)\t4.41320118711136e-09\n  (28263, 15436)\t4.06350108535896e-07\n  (30256, 15436)\t2.20500111927643e-10\n  (30580, 15436)\t0.000160650061051441\n  (30720, 15436)\t3.78000111927643e-07\n  (31171, 15436)\t1.37350050876201e-05\n  (32369, 15436)\t1.30389867721877e-05\n  (33984, 15436)\t1.03639894855851e-08\n  (35783, 15436)\t0.8648\n  (36133, 15436)\t3.15e-11\n  (37401, 15436)\t3.17519993216507e-06\n  (41222, 15436)\t3.15e-09\n  (41224, 15436)\t2.25490115319389e-06\n"
    }
   ],
   "source": [
    "print(data)"
   ]
  },
  {
   "cell_type": "code",
   "execution_count": 217,
   "metadata": {},
   "outputs": [
    {
     "ename": "MemoryError",
     "evalue": "Unable to allocate array with shape (41510, 15437) and data type float64",
     "output_type": "error",
     "traceback": [
      "\u001b[1;31m---------------------------------------------------------------------------\u001b[0m",
      "\u001b[1;31mMemoryError\u001b[0m                               Traceback (most recent call last)",
      "\u001b[1;32m<ipython-input-217-359c3de8cd72>\u001b[0m in \u001b[0;36m<module>\u001b[1;34m\u001b[0m\n\u001b[1;32m----> 1\u001b[1;33m \u001b[0mb\u001b[0m \u001b[1;33m=\u001b[0m \u001b[0mdata\u001b[0m\u001b[1;33m.\u001b[0m\u001b[0mtoarray\u001b[0m\u001b[1;33m(\u001b[0m\u001b[1;33m)\u001b[0m\u001b[1;33m\u001b[0m\u001b[1;33m\u001b[0m\u001b[0m\n\u001b[0m",
      "\u001b[1;32m~\\AppData\\Local\\Programs\\Python\\Python37\\lib\\site-packages\\scipy\\sparse\\compressed.py\u001b[0m in \u001b[0;36mtoarray\u001b[1;34m(self, order, out)\u001b[0m\n\u001b[0;32m   1022\u001b[0m         \u001b[1;32mif\u001b[0m \u001b[0mout\u001b[0m \u001b[1;32mis\u001b[0m \u001b[1;32mNone\u001b[0m \u001b[1;32mand\u001b[0m \u001b[0morder\u001b[0m \u001b[1;32mis\u001b[0m \u001b[1;32mNone\u001b[0m\u001b[1;33m:\u001b[0m\u001b[1;33m\u001b[0m\u001b[1;33m\u001b[0m\u001b[0m\n\u001b[0;32m   1023\u001b[0m             \u001b[0morder\u001b[0m \u001b[1;33m=\u001b[0m \u001b[0mself\u001b[0m\u001b[1;33m.\u001b[0m\u001b[0m_swap\u001b[0m\u001b[1;33m(\u001b[0m\u001b[1;34m'cf'\u001b[0m\u001b[1;33m)\u001b[0m\u001b[1;33m[\u001b[0m\u001b[1;36m0\u001b[0m\u001b[1;33m]\u001b[0m\u001b[1;33m\u001b[0m\u001b[1;33m\u001b[0m\u001b[0m\n\u001b[1;32m-> 1024\u001b[1;33m         \u001b[0mout\u001b[0m \u001b[1;33m=\u001b[0m \u001b[0mself\u001b[0m\u001b[1;33m.\u001b[0m\u001b[0m_process_toarray_args\u001b[0m\u001b[1;33m(\u001b[0m\u001b[0morder\u001b[0m\u001b[1;33m,\u001b[0m \u001b[0mout\u001b[0m\u001b[1;33m)\u001b[0m\u001b[1;33m\u001b[0m\u001b[1;33m\u001b[0m\u001b[0m\n\u001b[0m\u001b[0;32m   1025\u001b[0m         \u001b[1;32mif\u001b[0m \u001b[1;32mnot\u001b[0m \u001b[1;33m(\u001b[0m\u001b[0mout\u001b[0m\u001b[1;33m.\u001b[0m\u001b[0mflags\u001b[0m\u001b[1;33m.\u001b[0m\u001b[0mc_contiguous\u001b[0m \u001b[1;32mor\u001b[0m \u001b[0mout\u001b[0m\u001b[1;33m.\u001b[0m\u001b[0mflags\u001b[0m\u001b[1;33m.\u001b[0m\u001b[0mf_contiguous\u001b[0m\u001b[1;33m)\u001b[0m\u001b[1;33m:\u001b[0m\u001b[1;33m\u001b[0m\u001b[1;33m\u001b[0m\u001b[0m\n\u001b[0;32m   1026\u001b[0m             \u001b[1;32mraise\u001b[0m \u001b[0mValueError\u001b[0m\u001b[1;33m(\u001b[0m\u001b[1;34m'Output array must be C or F contiguous'\u001b[0m\u001b[1;33m)\u001b[0m\u001b[1;33m\u001b[0m\u001b[1;33m\u001b[0m\u001b[0m\n",
      "\u001b[1;32m~\\AppData\\Local\\Programs\\Python\\Python37\\lib\\site-packages\\scipy\\sparse\\base.py\u001b[0m in \u001b[0;36m_process_toarray_args\u001b[1;34m(self, order, out)\u001b[0m\n\u001b[0;32m   1184\u001b[0m             \u001b[1;32mreturn\u001b[0m \u001b[0mout\u001b[0m\u001b[1;33m\u001b[0m\u001b[1;33m\u001b[0m\u001b[0m\n\u001b[0;32m   1185\u001b[0m         \u001b[1;32melse\u001b[0m\u001b[1;33m:\u001b[0m\u001b[1;33m\u001b[0m\u001b[1;33m\u001b[0m\u001b[0m\n\u001b[1;32m-> 1186\u001b[1;33m             \u001b[1;32mreturn\u001b[0m \u001b[0mnp\u001b[0m\u001b[1;33m.\u001b[0m\u001b[0mzeros\u001b[0m\u001b[1;33m(\u001b[0m\u001b[0mself\u001b[0m\u001b[1;33m.\u001b[0m\u001b[0mshape\u001b[0m\u001b[1;33m,\u001b[0m \u001b[0mdtype\u001b[0m\u001b[1;33m=\u001b[0m\u001b[0mself\u001b[0m\u001b[1;33m.\u001b[0m\u001b[0mdtype\u001b[0m\u001b[1;33m,\u001b[0m \u001b[0morder\u001b[0m\u001b[1;33m=\u001b[0m\u001b[0morder\u001b[0m\u001b[1;33m)\u001b[0m\u001b[1;33m\u001b[0m\u001b[1;33m\u001b[0m\u001b[0m\n\u001b[0m\u001b[0;32m   1187\u001b[0m \u001b[1;33m\u001b[0m\u001b[0m\n\u001b[0;32m   1188\u001b[0m \u001b[1;33m\u001b[0m\u001b[0m\n",
      "\u001b[1;31mMemoryError\u001b[0m: Unable to allocate array with shape (41510, 15437) and data type float64"
     ]
    }
   ],
   "source": [
    "b = data.toarray()"
   ]
  },
  {
   "cell_type": "code",
   "execution_count": 218,
   "metadata": {},
   "outputs": [
    {
     "data": {
      "text/plain": "(41510, 15437)"
     },
     "execution_count": 218,
     "metadata": {},
     "output_type": "execute_result"
    }
   ],
   "source": [
    "data.shape"
   ]
  },
  {
   "cell_type": "code",
   "execution_count": 219,
   "metadata": {},
   "outputs": [
    {
     "data": {
      "text/plain": "(41510, 15437)"
     },
     "execution_count": 219,
     "metadata": {},
     "output_type": "execute_result"
    }
   ],
   "source": [
    "np.shape(data)"
   ]
  },
  {
   "cell_type": "code",
   "execution_count": 220,
   "metadata": {},
   "outputs": [
    {
     "data": {
      "text/plain": "array([4.07771732e+00, 1.37832936e+00, 2.93174391e+01, ...,\n       3.17519993e-06, 3.15000000e-09, 2.25490115e-06])"
     },
     "execution_count": 220,
     "metadata": {},
     "output_type": "execute_result"
    }
   ],
   "source": [
    "data[23293:].data"
   ]
  },
  {
   "cell_type": "code",
   "execution_count": 221,
   "metadata": {},
   "outputs": [
    {
     "data": {
      "text/plain": "4.077717320163446"
     },
     "execution_count": 221,
     "metadata": {},
     "output_type": "execute_result"
    }
   ],
   "source": [
    "data[23293,0]"
   ]
  },
  {
   "cell_type": "code",
   "execution_count": 222,
   "metadata": {},
   "outputs": [],
   "source": [
    "for i in range(data.shape[0]):\n",
    "    for j in range(data.shape[1]):\n",
    "        if i == 23293:\n",
    "            data[i,j] = data[i,j] / 2"
   ]
  },
  {
   "cell_type": "code",
   "execution_count": 223,
   "metadata": {},
   "outputs": [
    {
     "data": {
      "text/plain": "array([2.03885866e+00, 1.37832936e+00, 2.93174391e+01, ...,\n       3.17519993e-06, 3.15000000e-09, 2.25490115e-06])"
     },
     "execution_count": 223,
     "metadata": {},
     "output_type": "execute_result"
    }
   ],
   "source": [
    "data[23293:].data"
   ]
  },
  {
   "cell_type": "code",
   "execution_count": 225,
   "metadata": {},
   "outputs": [],
   "source": [
    "for j in range(data.shape[1]):\n",
    "     data[23293,j] = data[23293,j] / 2"
   ]
  },
  {
   "cell_type": "code",
   "execution_count": 228,
   "metadata": {},
   "outputs": [
    {
     "data": {
      "text/plain": "array([1.01942933, 0.78121982, 0.        , ..., 0.        , 0.00602822,\n       0.        ])"
     },
     "execution_count": 228,
     "metadata": {},
     "output_type": "execute_result"
    }
   ],
   "source": [
    " data[23293,:].data"
   ]
  },
  {
   "cell_type": "code",
   "execution_count": 231,
   "metadata": {},
   "outputs": [
    {
     "data": {
      "text/plain": "(1, 15437)"
     },
     "execution_count": 231,
     "metadata": {},
     "output_type": "execute_result"
    }
   ],
   "source": [
    "data.getrow(23293).shape"
   ]
  },
  {
   "cell_type": "code",
   "execution_count": 2,
   "metadata": {},
   "outputs": [],
   "source": [
    "from scipy.sparse import csc_matrix\n",
    "import numpy as np\n",
    "row = np.array([0, 2, 2, 0, 1, 2])\n",
    "col = np.array([0, 0, 1, 2, 2, 2])\n",
    "data = np.array([1, 2, 3, 4, 5, 6])\n",
    "d = csc_matrix((data, (row, col)), shape=(3, 3))"
   ]
  },
  {
   "cell_type": "code",
   "execution_count": 23,
   "metadata": {},
   "outputs": [
    {
     "data": {
      "text/plain": "matrix([[1, 0, 4],\n        [0, 0, 5],\n        [2, 3, 6]], dtype=int32)"
     },
     "execution_count": 23,
     "metadata": {},
     "output_type": "execute_result"
    }
   ],
   "source": [
    "d.todense()"
   ]
  },
  {
   "cell_type": "code",
   "execution_count": 65,
   "metadata": {},
   "outputs": [
    {
     "data": {
      "text/plain": "array([[2, 0, 2]])"
     },
     "execution_count": 65,
     "metadata": {},
     "output_type": "execute_result"
    }
   ],
   "source": [
    "v = np.array([[2,0,2]])\n",
    "v"
   ]
  },
  {
   "cell_type": "code",
   "execution_count": 67,
   "metadata": {},
   "outputs": [
    {
     "data": {
      "text/plain": "array([[0., 0.],\n       [0., 0.],\n       [0., 0.]])"
     },
     "execution_count": 67,
     "metadata": {},
     "output_type": "execute_result"
    }
   ],
   "source": [
    "np.empty((3,2))"
   ]
  },
  {
   "cell_type": "code",
   "execution_count": 98,
   "metadata": {},
   "outputs": [
    {
     "data": {
      "text/plain": "array([[1.],\n       [1.],\n       [5.]])"
     },
     "execution_count": 98,
     "metadata": {},
     "output_type": "execute_result"
    }
   ],
   "source": [
    "a = np.ones((3,1))\n",
    "a[2,] = 5\n",
    "a"
   ]
  },
  {
   "cell_type": "code",
   "execution_count": 127,
   "metadata": {},
   "outputs": [
    {
     "data": {
      "text/plain": "array([60., 30., 20.])"
     },
     "execution_count": 127,
     "metadata": {},
     "output_type": "execute_result"
    }
   ],
   "source": [
    "d.getrow(2).data"
   ]
  },
  {
   "cell_type": "code",
   "execution_count": 124,
   "metadata": {},
   "outputs": [
    {
     "ename": "AttributeError",
     "evalue": "'numpy.ndarray' object has no attribute 'getrow'",
     "output_type": "error",
     "traceback": [
      "\u001b[1;31m---------------------------------------------------------------------------\u001b[0m",
      "\u001b[1;31mAttributeError\u001b[0m                            Traceback (most recent call last)",
      "\u001b[1;32m<ipython-input-124-3bb5f79aed6c>\u001b[0m in \u001b[0;36m<module>\u001b[1;34m\u001b[0m\n\u001b[1;32m----> 1\u001b[1;33m \u001b[0ma\u001b[0m\u001b[1;33m.\u001b[0m\u001b[0mgetrow\u001b[0m\u001b[1;33m(\u001b[0m\u001b[1;36m2\u001b[0m\u001b[1;33m)\u001b[0m\u001b[1;33m\u001b[0m\u001b[1;33m\u001b[0m\u001b[0m\n\u001b[0m",
      "\u001b[1;31mAttributeError\u001b[0m: 'numpy.ndarray' object has no attribute 'getrow'"
     ]
    }
   ],
   "source": [
    "a.getrow(2)"
   ]
  },
  {
   "cell_type": "code",
   "execution_count": 99,
   "metadata": {},
   "outputs": [
    {
     "data": {
      "text/plain": "array([[ 2,  0,  8],\n       [ 0,  0,  0],\n       [ 4,  6, 12]])"
     },
     "execution_count": 99,
     "metadata": {},
     "output_type": "execute_result"
    }
   ],
   "source": [
    "d.toarray()"
   ]
  },
  {
   "cell_type": "code",
   "execution_count": 117,
   "metadata": {},
   "outputs": [
    {
     "data": {
      "text/plain": "array([12,  6,  4], dtype=int32)"
     },
     "execution_count": 117,
     "metadata": {},
     "output_type": "execute_result"
    }
   ],
   "source": [
    "d.getrow(2).data"
   ]
  },
  {
   "cell_type": "code",
   "execution_count": 118,
   "metadata": {},
   "outputs": [
    {
     "data": {
      "text/plain": "array([12,  6,  4], dtype=int32)"
     },
     "execution_count": 118,
     "metadata": {},
     "output_type": "execute_result"
    }
   ],
   "source": [
    "d.getrow(2).data"
   ]
  },
  {
   "cell_type": "code",
   "execution_count": 122,
   "metadata": {},
   "outputs": [],
   "source": [
    "d = d.multiply(a)"
   ]
  },
  {
   "cell_type": "code",
   "execution_count": 145,
   "metadata": {},
   "outputs": [
    {
     "data": {
      "text/plain": "<3x3 sparse matrix of type '<class 'numpy.float64'>'\n\twith 6 stored elements in Compressed Sparse Column format>"
     },
     "execution_count": 145,
     "metadata": {},
     "output_type": "execute_result"
    }
   ],
   "source": [
    "d.tocsc()"
   ]
  },
  {
   "cell_type": "code",
   "execution_count": 146,
   "metadata": {},
   "outputs": [
    {
     "data": {
      "text/plain": "array([[ 2.,  0.,  8.],\n       [ 0.,  0.,  0.],\n       [20., 30., 60.]])"
     },
     "execution_count": 146,
     "metadata": {},
     "output_type": "execute_result"
    }
   ],
   "source": [
    "d.toarray()"
   ]
  },
  {
   "cell_type": "code",
   "execution_count": 123,
   "metadata": {},
   "outputs": [
    {
     "data": {
      "text/plain": "array([[ 2.,  0.,  8.],\n       [ 0.,  0.,  0.],\n       [20., 30., 60.]])"
     },
     "execution_count": 123,
     "metadata": {},
     "output_type": "execute_result"
    }
   ],
   "source": [
    "d.toarray()"
   ]
  },
  {
   "cell_type": "code",
   "execution_count": 119,
   "metadata": {},
   "outputs": [
    {
     "data": {
      "text/plain": "array([60., 30., 20.])"
     },
     "execution_count": 119,
     "metadata": {},
     "output_type": "execute_result"
    }
   ],
   "source": [
    "s.getrow(2).data"
   ]
  },
  {
   "cell_type": "code",
   "execution_count": 101,
   "metadata": {},
   "outputs": [
    {
     "data": {
      "text/plain": "array([[ 2.,  0.,  8.],\n       [ 0.,  0.,  0.],\n       [20., 30., 60.]])"
     },
     "execution_count": 101,
     "metadata": {},
     "output_type": "execute_result"
    }
   ],
   "source": [
    "s.toarray()"
   ]
  },
  {
   "cell_type": "code",
   "execution_count": 80,
   "metadata": {},
   "outputs": [
    {
     "data": {
      "text/plain": "array([[ 2,  0,  8],\n       [ 0,  0,  0],\n       [ 4,  6, 12]])"
     },
     "execution_count": 80,
     "metadata": {},
     "output_type": "execute_result"
    }
   ],
   "source": [
    "d.toarray()"
   ]
  },
  {
   "cell_type": "code",
   "execution_count": 78,
   "metadata": {},
   "outputs": [
    {
     "data": {
      "text/plain": "(2, 5)"
     },
     "execution_count": 78,
     "metadata": {},
     "output_type": "execute_result"
    }
   ],
   "source": [
    "b = a.T\n",
    "b.shape"
   ]
  },
  {
   "cell_type": "code",
   "execution_count": 57,
   "metadata": {},
   "outputs": [
    {
     "data": {
      "text/plain": "(1, 3)"
     },
     "execution_count": 57,
     "metadata": {},
     "output_type": "execute_result"
    }
   ],
   "source": [
    "v.shape"
   ]
  },
  {
   "cell_type": "code",
   "execution_count": 59,
   "metadata": {},
   "outputs": [],
   "source": [
    "e = v.transpose()"
   ]
  },
  {
   "cell_type": "code",
   "execution_count": 60,
   "metadata": {},
   "outputs": [],
   "source": [
    "d = d.multiply(e)"
   ]
  },
  {
   "cell_type": "code",
   "execution_count": 62,
   "metadata": {},
   "outputs": [
    {
     "data": {
      "text/plain": "matrix([[ 2,  0,  8],\n        [ 0,  0,  0],\n        [ 4,  6, 12]])"
     },
     "execution_count": 62,
     "metadata": {},
     "output_type": "execute_result"
    }
   ],
   "source": [
    "d.todense()"
   ]
  },
  {
   "cell_type": "code",
   "execution_count": 47,
   "metadata": {},
   "outputs": [
    {
     "data": {
      "text/plain": "(1, 3)"
     },
     "execution_count": 47,
     "metadata": {},
     "output_type": "execute_result"
    }
   ],
   "source": [
    "d.getrow(0).shape"
   ]
  },
  {
   "cell_type": "code",
   "execution_count": 43,
   "metadata": {},
   "outputs": [],
   "source": [
    "e = d.getrow(0).transpose()"
   ]
  },
  {
   "cell_type": "code",
   "execution_count": 46,
   "metadata": {},
   "outputs": [
    {
     "data": {
      "text/plain": "(3, 1)"
     },
     "execution_count": 46,
     "metadata": {},
     "output_type": "execute_result"
    }
   ],
   "source": [
    "e.shape"
   ]
  },
  {
   "cell_type": "code",
   "execution_count": 35,
   "metadata": {},
   "outputs": [],
   "source": [
    "c = d.getrow(0).data.transpose()"
   ]
  },
  {
   "cell_type": "code",
   "execution_count": 37,
   "metadata": {},
   "outputs": [
    {
     "data": {
      "text/plain": "(2,)"
     },
     "execution_count": 37,
     "metadata": {},
     "output_type": "execute_result"
    }
   ],
   "source": [
    "c.shape"
   ]
  },
  {
   "cell_type": "code",
   "execution_count": 7,
   "metadata": {},
   "outputs": [
    {
     "name": "stdout",
     "output_type": "stream",
     "text": "[2 3 6]\n"
    }
   ],
   "source": [
    "print(d[2:].data)"
   ]
  },
  {
   "cell_type": "code",
   "execution_count": 8,
   "metadata": {},
   "outputs": [
    {
     "name": "stdout",
     "output_type": "stream",
     "text": "2\n"
    }
   ],
   "source": [
    "print(d[2,0])"
   ]
  },
  {
   "cell_type": "code",
   "execution_count": 3,
   "metadata": {},
   "outputs": [
    {
     "name": "stdout",
     "output_type": "stream",
     "text": "(0, 0)\t1\n  (2, 0)\t2\n  (2, 1)\t3\n  (0, 2)\t4\n  (1, 2)\t5\n  (2, 2)\t6\n"
    }
   ],
   "source": [
    "print(d)"
   ]
  },
  {
   "cell_type": "code",
   "execution_count": 238,
   "metadata": {},
   "outputs": [
    {
     "data": {
      "text/plain": "array([[1, 0, 4],\n       [0, 0, 5],\n       [2, 3, 6]], dtype=int32)"
     },
     "execution_count": 238,
     "metadata": {},
     "output_type": "execute_result"
    }
   ],
   "source": [
    "d.toarray()"
   ]
  },
  {
   "cell_type": "code",
   "execution_count": 18,
   "metadata": {},
   "outputs": [
    {
     "name": "stdout",
     "output_type": "stream",
     "text": "[5]\n"
    }
   ],
   "source": [
    "print(d[1:2].data)"
   ]
  },
  {
   "cell_type": "code",
   "execution_count": 19,
   "metadata": {},
   "outputs": [
    {
     "data": {
      "text/plain": "array([5], dtype=int32)"
     },
     "execution_count": 19,
     "metadata": {},
     "output_type": "execute_result"
    }
   ],
   "source": [
    "d.getrow(1).data"
   ]
  },
  {
   "cell_type": "code",
   "execution_count": 253,
   "metadata": {},
   "outputs": [
    {
     "name": "stdout",
     "output_type": "stream",
     "text": "0\n1\n2\n"
    }
   ],
   "source": [
    "for i in range(d.shape[1]):\n",
    "    print(i)\n",
    "    d[2,i] = d[2,i] * 2"
   ]
  },
  {
   "cell_type": "code",
   "execution_count": 247,
   "metadata": {},
   "outputs": [
    {
     "data": {
      "text/plain": "array([2, 3, 6], dtype=int32)"
     },
     "execution_count": 247,
     "metadata": {},
     "output_type": "execute_result"
    }
   ],
   "source": [
    "d.getrow(2).data"
   ]
  },
  {
   "cell_type": "code",
   "execution_count": 249,
   "metadata": {},
   "outputs": [
    {
     "data": {
      "text/plain": "3"
     },
     "execution_count": 249,
     "metadata": {},
     "output_type": "execute_result"
    }
   ],
   "source": [
    "d.shape[1]"
   ]
  },
  {
   "cell_type": "code",
   "execution_count": 252,
   "metadata": {},
   "outputs": [
    {
     "data": {
      "text/plain": "array([ 4,  6, 12], dtype=int32)"
     },
     "execution_count": 252,
     "metadata": {},
     "output_type": "execute_result"
    }
   ],
   "source": [
    "d.getrow(2).data"
   ]
  },
  {
   "cell_type": "code",
   "execution_count": 20,
   "metadata": {},
   "outputs": [
    {
     "data": {
      "text/plain": "array([[1, 0, 4],\n       [0, 0, 5],\n       [2, 3, 6]], dtype=int32)"
     },
     "execution_count": 20,
     "metadata": {},
     "output_type": "execute_result"
    }
   ],
   "source": [
    "d.toarray()"
   ]
  },
  {
   "cell_type": "code",
   "execution_count": 21,
   "metadata": {},
   "outputs": [],
   "source": [
    "mylist = [0,1]\n",
    "for i in range(d.shape[0]):\n",
    "    for j in range(d.shape[1]):\n",
    "        if i in mylist:\n",
    "            # d[i,j] = d[i,j] * 2\n",
    "            d.getrow(i).data = d.getrow(i).data * 2"
   ]
  },
  {
   "cell_type": "code",
   "execution_count": 22,
   "metadata": {},
   "outputs": [
    {
     "data": {
      "text/plain": "array([[1, 0, 4],\n       [0, 0, 5],\n       [2, 3, 6]], dtype=int32)"
     },
     "execution_count": 22,
     "metadata": {},
     "output_type": "execute_result"
    }
   ],
   "source": [
    "d.toarray()"
   ]
  },
  {
   "cell_type": "code",
   "execution_count": 261,
   "metadata": {},
   "outputs": [],
   "source": [
    "with open(r\"C:\\Dropbox (ecoinvent)\\ei-int\\technical\\external\\PEF\\PEF follow-up\\execution\\06_matrixFlowChanges\\in\\pilotPhase_water_correction\\indexes.pkl\", 'rb') as file:\n",
    "    index_file = pickle.load(file)"
   ]
  },
  {
   "cell_type": "code",
   "execution_count": 262,
   "metadata": {},
   "outputs": [
    {
     "data": {
      "text/plain": "['LCIA',\n '__class__',\n '__delattr__',\n '__dict__',\n '__dir__',\n '__doc__',\n '__eq__',\n '__format__',\n '__ge__',\n '__getattribute__',\n '__gt__',\n '__hash__',\n '__init__',\n '__init_subclass__',\n '__le__',\n '__lt__',\n '__module__',\n '__ne__',\n '__new__',\n '__reduce__',\n '__reduce_ex__',\n '__repr__',\n '__setattr__',\n '__sizeof__',\n '__str__',\n '__subclasshook__',\n '__weakref__',\n 'add_index',\n 'df_columns',\n 'dfs',\n 'ee',\n 'ie',\n 'index_types',\n 'to_dfs',\n 'to_excel',\n 'toggle',\n 'units']"
     },
     "execution_count": 262,
     "metadata": {},
     "output_type": "execute_result"
    }
   ],
   "source": [
    "dir(index_file)"
   ]
  },
  {
   "cell_type": "code",
   "execution_count": 273,
   "metadata": {},
   "outputs": [],
   "source": [
    "df_index = pd.read_excel(r\"C:\\Dropbox (ecoinvent)\\ei-int\\technical\\external\\PEF\\PEF follow-up\\execution\\06_matrixFlowChanges\\in\\pilotPhase_water_correction\\indexes_PEF-phase 2-start_Allocation, cut-off.xlsx\" , sheet_name='ee')"
   ]
  },
  {
   "cell_type": "code",
   "execution_count": 274,
   "metadata": {},
   "outputs": [
    {
     "data": {
      "text/html": "<div>\n<style scoped>\n    .dataframe tbody tr th:only-of-type {\n        vertical-align: middle;\n    }\n\n    .dataframe tbody tr th {\n        vertical-align: top;\n    }\n\n    .dataframe thead th {\n        text-align: right;\n    }\n</style>\n<table border=\"1\" class=\"dataframe\">\n  <thead>\n    <tr style=\"text-align: right;\">\n      <th></th>\n      <th>name</th>\n      <th>compartment</th>\n      <th>subcompartment</th>\n      <th>unitName</th>\n      <th>index</th>\n    </tr>\n  </thead>\n  <tbody>\n    <tr>\n      <th>0</th>\n      <td>(+)-bornan-2-one</td>\n      <td>Emissions to air</td>\n      <td>Emissions to air, unspecified</td>\n      <td>kg</td>\n      <td>0</td>\n    </tr>\n    <tr>\n      <th>1</th>\n      <td>(+)-bornan-2-one</td>\n      <td>Emissions to air</td>\n      <td>Emissions to air, unspecified (long-term)</td>\n      <td>kg</td>\n      <td>1</td>\n    </tr>\n    <tr>\n      <th>2</th>\n      <td>(+)-bornan-2-one</td>\n      <td>Emissions to air</td>\n      <td>Emissions to non-urban air or from high stacks</td>\n      <td>kg</td>\n      <td>2</td>\n    </tr>\n    <tr>\n      <th>3</th>\n      <td>(+)-bornan-2-one</td>\n      <td>Emissions to air</td>\n      <td>Emissions to urban air close to ground</td>\n      <td>kg</td>\n      <td>3</td>\n    </tr>\n    <tr>\n      <th>4</th>\n      <td>(+)-bornan-2-one</td>\n      <td>Emissions to soil</td>\n      <td>Emissions to agricultural soil</td>\n      <td>kg</td>\n      <td>4</td>\n    </tr>\n    <tr>\n      <th>...</th>\n      <td>...</td>\n      <td>...</td>\n      <td>...</td>\n      <td>...</td>\n      <td>...</td>\n    </tr>\n    <tr>\n      <th>41505</th>\n      <td>volume occupied, final repository for low-acti...</td>\n      <td>Resources</td>\n      <td>Land use</td>\n      <td>m3</td>\n      <td>41505</td>\n    </tr>\n    <tr>\n      <th>41506</th>\n      <td>volume occupied, final repository for radioact...</td>\n      <td>Resources</td>\n      <td>Land use</td>\n      <td>m3</td>\n      <td>41506</td>\n    </tr>\n    <tr>\n      <th>41507</th>\n      <td>volume occupied, underground deposit</td>\n      <td>Resources</td>\n      <td>Land use</td>\n      <td>m3</td>\n      <td>41507</td>\n    </tr>\n    <tr>\n      <th>41508</th>\n      <td>arable</td>\n      <td>Resources</td>\n      <td>Land use</td>\n      <td>m2a</td>\n      <td>41508</td>\n    </tr>\n    <tr>\n      <th>41509</th>\n      <td>from arable</td>\n      <td>Resources</td>\n      <td>Land use</td>\n      <td>m2</td>\n      <td>41509</td>\n    </tr>\n  </tbody>\n</table>\n<p>41510 rows × 5 columns</p>\n</div>",
      "text/plain": "                                                    name        compartment  \\\n0                                       (+)-bornan-2-one   Emissions to air   \n1                                       (+)-bornan-2-one   Emissions to air   \n2                                       (+)-bornan-2-one   Emissions to air   \n3                                       (+)-bornan-2-one   Emissions to air   \n4                                       (+)-bornan-2-one  Emissions to soil   \n...                                                  ...                ...   \n41505  volume occupied, final repository for low-acti...          Resources   \n41506  volume occupied, final repository for radioact...          Resources   \n41507               volume occupied, underground deposit          Resources   \n41508                                             arable          Resources   \n41509                                        from arable          Resources   \n\n                                       subcompartment unitName  index  \n0                       Emissions to air, unspecified       kg      0  \n1           Emissions to air, unspecified (long-term)       kg      1  \n2      Emissions to non-urban air or from high stacks       kg      2  \n3              Emissions to urban air close to ground       kg      3  \n4                      Emissions to agricultural soil       kg      4  \n...                                               ...      ...    ...  \n41505                                        Land use       m3  41505  \n41506                                        Land use       m3  41506  \n41507                                        Land use       m3  41507  \n41508                                        Land use      m2a  41508  \n41509                                        Land use       m2  41509  \n\n[41510 rows x 5 columns]"
     },
     "execution_count": 274,
     "metadata": {},
     "output_type": "execute_result"
    }
   ],
   "source": [
    "df_index"
   ]
  },
  {
   "cell_type": "code",
   "execution_count": 268,
   "metadata": {},
   "outputs": [],
   "source": [
    "m3_df = df.dropna(subset=['unit'])"
   ]
  },
  {
   "cell_type": "code",
   "execution_count": 269,
   "metadata": {},
   "outputs": [
    {
     "data": {
      "text/html": "<div>\n<style scoped>\n    .dataframe tbody tr th:only-of-type {\n        vertical-align: middle;\n    }\n\n    .dataframe tbody tr th {\n        vertical-align: top;\n    }\n\n    .dataframe thead th {\n        text-align: right;\n    }\n</style>\n<table border=\"1\" class=\"dataframe\">\n  <thead>\n    <tr style=\"text-align: right;\">\n      <th></th>\n      <th>type of search</th>\n      <th>flow</th>\n      <th>exchange unitName</th>\n      <th>compartment</th>\n      <th>subcompartment</th>\n      <th>amount</th>\n      <th>unit</th>\n    </tr>\n  </thead>\n  <tbody>\n    <tr>\n      <th>0</th>\n      <td>begins with</td>\n      <td>cooling water to river, regionalized</td>\n      <td>kg</td>\n      <td>Emissions to water</td>\n      <td>Emissions to fresh water</td>\n      <td>/1000</td>\n      <td>m3</td>\n    </tr>\n    <tr>\n      <th>1</th>\n      <td>begins with</td>\n      <td>fresh water, regionalized</td>\n      <td>kg</td>\n      <td>Resources</td>\n      <td>Renewable material resources from water</td>\n      <td>/1000</td>\n      <td>m3</td>\n    </tr>\n    <tr>\n      <th>2</th>\n      <td>flow match</td>\n      <td>ground water</td>\n      <td>kg</td>\n      <td>Resources</td>\n      <td>Renewable material resources from water</td>\n      <td>NaN</td>\n      <td>m3</td>\n    </tr>\n    <tr>\n      <th>3</th>\n      <td>begins with</td>\n      <td>ground water, regionalized</td>\n      <td>kg</td>\n      <td>Resources</td>\n      <td>Renewable material resources from water</td>\n      <td>NaN</td>\n      <td>m3</td>\n    </tr>\n    <tr>\n      <th>4</th>\n      <td>flow match</td>\n      <td>lake water</td>\n      <td>kg</td>\n      <td>Resources</td>\n      <td>Renewable material resources from water</td>\n      <td>NaN</td>\n      <td>m3</td>\n    </tr>\n    <tr>\n      <th>5</th>\n      <td>flow match</td>\n      <td>lake water to turbine</td>\n      <td>kg</td>\n      <td>Resources</td>\n      <td>Renewable material resources from water</td>\n      <td>/1000</td>\n      <td>m3</td>\n    </tr>\n    <tr>\n      <th>6</th>\n      <td>begins with</td>\n      <td>lake water to turbine, regionalized</td>\n      <td>kg</td>\n      <td>Resources</td>\n      <td>Renewable material resources from water</td>\n      <td>/1000</td>\n      <td>m3</td>\n    </tr>\n    <tr>\n      <th>7</th>\n      <td>begins with</td>\n      <td>lake water, regionalized</td>\n      <td>kg</td>\n      <td>Resources</td>\n      <td>Renewable material resources from water</td>\n      <td>NaN</td>\n      <td>m3</td>\n    </tr>\n    <tr>\n      <th>8</th>\n      <td>begins with</td>\n      <td>processed water to groundwater, regionalized</td>\n      <td>kg</td>\n      <td>Emissions to water</td>\n      <td>Emissions to fresh water</td>\n      <td>/1000</td>\n      <td>m3</td>\n    </tr>\n    <tr>\n      <th>9</th>\n      <td>begins with</td>\n      <td>processed water to river, regionalized</td>\n      <td>kg</td>\n      <td>Emissions to water</td>\n      <td>Emissions to fresh water</td>\n      <td>/1000</td>\n      <td>m3</td>\n    </tr>\n    <tr>\n      <th>10</th>\n      <td>flow match</td>\n      <td>river water</td>\n      <td>kg</td>\n      <td>Resources</td>\n      <td>Renewable material resources from water</td>\n      <td>NaN</td>\n      <td>m3</td>\n    </tr>\n    <tr>\n      <th>11</th>\n      <td>begins with</td>\n      <td>river water to turbine, regionalized</td>\n      <td>kg</td>\n      <td>Resources</td>\n      <td>Renewable material resources from water</td>\n      <td>/1000</td>\n      <td>m3</td>\n    </tr>\n    <tr>\n      <th>12</th>\n      <td>begins with</td>\n      <td>river water, regionalized</td>\n      <td>kg</td>\n      <td>Resources</td>\n      <td>Renewable material resources from water</td>\n      <td>NaN</td>\n      <td>m3</td>\n    </tr>\n    <tr>\n      <th>13</th>\n      <td>begins with</td>\n      <td>turbined water to river, regionalized</td>\n      <td>kg</td>\n      <td>Emissions to water</td>\n      <td>Emissions to fresh water</td>\n      <td>/1000</td>\n      <td>m3</td>\n    </tr>\n    <tr>\n      <th>15</th>\n      <td>flow match</td>\n      <td>water</td>\n      <td>kg</td>\n      <td>Resources</td>\n      <td>Renewable material resources from water</td>\n      <td>/1000</td>\n      <td>m3</td>\n    </tr>\n    <tr>\n      <th>16</th>\n      <td>flow match</td>\n      <td>Water (river water from technosphere, turbined)</td>\n      <td>kg</td>\n      <td>Emissions to water</td>\n      <td>Emissions to fresh water</td>\n      <td>/1000</td>\n      <td>m3</td>\n    </tr>\n    <tr>\n      <th>17</th>\n      <td>flow match</td>\n      <td>Water (sea water from technosphere, cooling wa...</td>\n      <td>kg</td>\n      <td>Emissions to sea water</td>\n      <td>Other emissions to sea water</td>\n      <td>/1000</td>\n      <td>m3</td>\n    </tr>\n    <tr>\n      <th>18</th>\n      <td>flow match</td>\n      <td>Water (sea water from technosphere, waste water)</td>\n      <td>kg</td>\n      <td>Emissions to sea water</td>\n      <td>Other emissions to sea water</td>\n      <td>/1000</td>\n      <td>m3</td>\n    </tr>\n  </tbody>\n</table>\n</div>",
      "text/plain": "   type of search                                               flow  \\\n0     begins with               cooling water to river, regionalized   \n1     begins with                          fresh water, regionalized   \n2      flow match                                       ground water   \n3     begins with                         ground water, regionalized   \n4      flow match                                         lake water   \n5      flow match                              lake water to turbine   \n6     begins with                lake water to turbine, regionalized   \n7     begins with                           lake water, regionalized   \n8     begins with       processed water to groundwater, regionalized   \n9     begins with             processed water to river, regionalized   \n10     flow match                                        river water   \n11    begins with               river water to turbine, regionalized   \n12    begins with                          river water, regionalized   \n13    begins with              turbined water to river, regionalized   \n15     flow match                                              water   \n16     flow match    Water (river water from technosphere, turbined)   \n17     flow match  Water (sea water from technosphere, cooling wa...   \n18     flow match   Water (sea water from technosphere, waste water)   \n\n   exchange unitName             compartment  \\\n0                 kg      Emissions to water   \n1                 kg               Resources   \n2                 kg               Resources   \n3                 kg               Resources   \n4                 kg               Resources   \n5                 kg               Resources   \n6                 kg               Resources   \n7                 kg               Resources   \n8                 kg      Emissions to water   \n9                 kg      Emissions to water   \n10                kg               Resources   \n11                kg               Resources   \n12                kg               Resources   \n13                kg      Emissions to water   \n15                kg               Resources   \n16                kg      Emissions to water   \n17                kg  Emissions to sea water   \n18                kg  Emissions to sea water   \n\n                             subcompartment amount unit  \n0                  Emissions to fresh water  /1000   m3  \n1   Renewable material resources from water  /1000   m3  \n2   Renewable material resources from water    NaN   m3  \n3   Renewable material resources from water    NaN   m3  \n4   Renewable material resources from water    NaN   m3  \n5   Renewable material resources from water  /1000   m3  \n6   Renewable material resources from water  /1000   m3  \n7   Renewable material resources from water    NaN   m3  \n8                  Emissions to fresh water  /1000   m3  \n9                  Emissions to fresh water  /1000   m3  \n10  Renewable material resources from water    NaN   m3  \n11  Renewable material resources from water  /1000   m3  \n12  Renewable material resources from water    NaN   m3  \n13                 Emissions to fresh water  /1000   m3  \n15  Renewable material resources from water  /1000   m3  \n16                 Emissions to fresh water  /1000   m3  \n17             Other emissions to sea water  /1000   m3  \n18             Other emissions to sea water  /1000   m3  "
     },
     "execution_count": 269,
     "metadata": {},
     "output_type": "execute_result"
    }
   ],
   "source": [
    "m3_df"
   ]
  },
  {
   "cell_type": "code",
   "execution_count": 277,
   "metadata": {},
   "outputs": [],
   "source": [
    "df_index['newname'] = df_index['name']\n",
    "df_index.loc[filter, 'newname'] = df_index.loc[filter,'newname'].str.split(',').str[0:2].str.join(',')"
   ]
  },
  {
   "cell_type": "code",
   "execution_count": 278,
   "metadata": {},
   "outputs": [
    {
     "data": {
      "text/html": "<div>\n<style scoped>\n    .dataframe tbody tr th:only-of-type {\n        vertical-align: middle;\n    }\n\n    .dataframe tbody tr th {\n        vertical-align: top;\n    }\n\n    .dataframe thead th {\n        text-align: right;\n    }\n</style>\n<table border=\"1\" class=\"dataframe\">\n  <thead>\n    <tr style=\"text-align: right;\">\n      <th></th>\n      <th>name</th>\n      <th>compartment</th>\n      <th>subcompartment</th>\n      <th>unitName</th>\n      <th>index</th>\n      <th>newname</th>\n    </tr>\n  </thead>\n  <tbody>\n    <tr>\n      <th>0</th>\n      <td>(+)-bornan-2-one</td>\n      <td>Emissions to air</td>\n      <td>Emissions to air, unspecified</td>\n      <td>kg</td>\n      <td>0</td>\n      <td>(+)-bornan-2-one</td>\n    </tr>\n    <tr>\n      <th>1</th>\n      <td>(+)-bornan-2-one</td>\n      <td>Emissions to air</td>\n      <td>Emissions to air, unspecified (long-term)</td>\n      <td>kg</td>\n      <td>1</td>\n      <td>(+)-bornan-2-one</td>\n    </tr>\n    <tr>\n      <th>2</th>\n      <td>(+)-bornan-2-one</td>\n      <td>Emissions to air</td>\n      <td>Emissions to non-urban air or from high stacks</td>\n      <td>kg</td>\n      <td>2</td>\n      <td>(+)-bornan-2-one</td>\n    </tr>\n    <tr>\n      <th>3</th>\n      <td>(+)-bornan-2-one</td>\n      <td>Emissions to air</td>\n      <td>Emissions to urban air close to ground</td>\n      <td>kg</td>\n      <td>3</td>\n      <td>(+)-bornan-2-one</td>\n    </tr>\n    <tr>\n      <th>4</th>\n      <td>(+)-bornan-2-one</td>\n      <td>Emissions to soil</td>\n      <td>Emissions to agricultural soil</td>\n      <td>kg</td>\n      <td>4</td>\n      <td>(+)-bornan-2-one</td>\n    </tr>\n  </tbody>\n</table>\n</div>",
      "text/plain": "               name        compartment  \\\n0  (+)-bornan-2-one   Emissions to air   \n1  (+)-bornan-2-one   Emissions to air   \n2  (+)-bornan-2-one   Emissions to air   \n3  (+)-bornan-2-one   Emissions to air   \n4  (+)-bornan-2-one  Emissions to soil   \n\n                                   subcompartment unitName  index  \\\n0                   Emissions to air, unspecified       kg      0   \n1       Emissions to air, unspecified (long-term)       kg      1   \n2  Emissions to non-urban air or from high stacks       kg      2   \n3          Emissions to urban air close to ground       kg      3   \n4                  Emissions to agricultural soil       kg      4   \n\n            newname  \n0  (+)-bornan-2-one  \n1  (+)-bornan-2-one  \n2  (+)-bornan-2-one  \n3  (+)-bornan-2-one  \n4  (+)-bornan-2-one  "
     },
     "execution_count": 278,
     "metadata": {},
     "output_type": "execute_result"
    }
   ],
   "source": [
    "df_index.head()"
   ]
  },
  {
   "cell_type": "code",
   "execution_count": 280,
   "metadata": {},
   "outputs": [],
   "source": [
    "left_cols = ['newname', 'compartment', 'subcompartment']\n",
    "right_cols = ['flow', 'compartment', 'subcompartment']\n",
    "merged_index_m3_df = pd.merge(df_index, m3_df, left_on=left_cols, right_on=right_cols, how=\"left\")"
   ]
  },
  {
   "cell_type": "code",
   "execution_count": 282,
   "metadata": {},
   "outputs": [],
   "source": [
    "merged_index_m3_df.to_excel('m3_index.xlsx')"
   ]
  },
  {
   "cell_type": "code",
   "execution_count": 281,
   "metadata": {},
   "outputs": [
    {
     "name": "stdout",
     "output_type": "stream",
     "text": "<class 'pandas.core.frame.DataFrame'>\nInt64Index: 41510 entries, 0 to 41509\nData columns (total 11 columns):\nname                 41510 non-null object\ncompartment          41510 non-null object\nsubcompartment       41510 non-null object\nunitName             41510 non-null object\nindex                41510 non-null int64\nnewname              41510 non-null object\ntype of search       638 non-null object\nflow                 638 non-null object\nexchange unitName    638 non-null object\namount               446 non-null object\nunit                 638 non-null object\ndtypes: int64(1), object(10)\nmemory usage: 5.1+ MB\n"
    }
   ],
   "source": [
    "merged_index_m3_df.info()"
   ]
  },
  {
   "cell_type": "code",
   "execution_count": 283,
   "metadata": {},
   "outputs": [
    {
     "data": {
      "text/html": "<div>\n<style scoped>\n    .dataframe tbody tr th:only-of-type {\n        vertical-align: middle;\n    }\n\n    .dataframe tbody tr th {\n        vertical-align: top;\n    }\n\n    .dataframe thead th {\n        text-align: right;\n    }\n</style>\n<table border=\"1\" class=\"dataframe\">\n  <thead>\n    <tr style=\"text-align: right;\">\n      <th></th>\n      <th>name</th>\n      <th>compartment</th>\n      <th>subcompartment</th>\n      <th>unitName</th>\n      <th>index</th>\n      <th>newname</th>\n      <th>type of search</th>\n      <th>flow</th>\n      <th>exchange unitName</th>\n      <th>amount</th>\n      <th>unit</th>\n    </tr>\n  </thead>\n  <tbody>\n    <tr>\n      <th>0</th>\n      <td>(+)-bornan-2-one</td>\n      <td>Emissions to air</td>\n      <td>Emissions to air, unspecified</td>\n      <td>kg</td>\n      <td>0</td>\n      <td>(+)-bornan-2-one</td>\n      <td>NaN</td>\n      <td>NaN</td>\n      <td>NaN</td>\n      <td>NaN</td>\n      <td>NaN</td>\n    </tr>\n    <tr>\n      <th>1</th>\n      <td>(+)-bornan-2-one</td>\n      <td>Emissions to air</td>\n      <td>Emissions to air, unspecified (long-term)</td>\n      <td>kg</td>\n      <td>1</td>\n      <td>(+)-bornan-2-one</td>\n      <td>NaN</td>\n      <td>NaN</td>\n      <td>NaN</td>\n      <td>NaN</td>\n      <td>NaN</td>\n    </tr>\n    <tr>\n      <th>2</th>\n      <td>(+)-bornan-2-one</td>\n      <td>Emissions to air</td>\n      <td>Emissions to non-urban air or from high stacks</td>\n      <td>kg</td>\n      <td>2</td>\n      <td>(+)-bornan-2-one</td>\n      <td>NaN</td>\n      <td>NaN</td>\n      <td>NaN</td>\n      <td>NaN</td>\n      <td>NaN</td>\n    </tr>\n    <tr>\n      <th>3</th>\n      <td>(+)-bornan-2-one</td>\n      <td>Emissions to air</td>\n      <td>Emissions to urban air close to ground</td>\n      <td>kg</td>\n      <td>3</td>\n      <td>(+)-bornan-2-one</td>\n      <td>NaN</td>\n      <td>NaN</td>\n      <td>NaN</td>\n      <td>NaN</td>\n      <td>NaN</td>\n    </tr>\n    <tr>\n      <th>4</th>\n      <td>(+)-bornan-2-one</td>\n      <td>Emissions to soil</td>\n      <td>Emissions to agricultural soil</td>\n      <td>kg</td>\n      <td>4</td>\n      <td>(+)-bornan-2-one</td>\n      <td>NaN</td>\n      <td>NaN</td>\n      <td>NaN</td>\n      <td>NaN</td>\n      <td>NaN</td>\n    </tr>\n  </tbody>\n</table>\n</div>",
      "text/plain": "               name        compartment  \\\n0  (+)-bornan-2-one   Emissions to air   \n1  (+)-bornan-2-one   Emissions to air   \n2  (+)-bornan-2-one   Emissions to air   \n3  (+)-bornan-2-one   Emissions to air   \n4  (+)-bornan-2-one  Emissions to soil   \n\n                                   subcompartment unitName  index  \\\n0                   Emissions to air, unspecified       kg      0   \n1       Emissions to air, unspecified (long-term)       kg      1   \n2  Emissions to non-urban air or from high stacks       kg      2   \n3          Emissions to urban air close to ground       kg      3   \n4                  Emissions to agricultural soil       kg      4   \n\n            newname type of search flow exchange unitName amount unit  \n0  (+)-bornan-2-one            NaN  NaN               NaN    NaN  NaN  \n1  (+)-bornan-2-one            NaN  NaN               NaN    NaN  NaN  \n2  (+)-bornan-2-one            NaN  NaN               NaN    NaN  NaN  \n3  (+)-bornan-2-one            NaN  NaN               NaN    NaN  NaN  \n4  (+)-bornan-2-one            NaN  NaN               NaN    NaN  NaN  "
     },
     "execution_count": 283,
     "metadata": {},
     "output_type": "execute_result"
    }
   ],
   "source": [
    "merged_index_m3_df.head()"
   ]
  },
  {
   "cell_type": "code",
   "execution_count": 287,
   "metadata": {},
   "outputs": [],
   "source": [
    "import os\n",
    "os.chdir(r'D:\\ecoinvent_scripts')"
   ]
  },
  {
   "cell_type": "code",
   "execution_count": 285,
   "metadata": {},
   "outputs": [],
   "source": [
    "filter = merged_index_m3_df['unit'].str.contains('m3', regex=True, na=False)\n",
    "merged_index_m3_df.loc[filter, 'unitName'] = merged_index_m3_df.loc[filter, 'unitName'].str.replace('kg', 'm3')"
   ]
  },
  {
   "cell_type": "code",
   "execution_count": 288,
   "metadata": {},
   "outputs": [],
   "source": [
    "merged_index_m3_df.drop(['newname', 'type of search', 'flow', 'exchange unitName', 'amount', 'unit'], axis=1, inplace=True)"
   ]
  },
  {
   "cell_type": "code",
   "execution_count": 289,
   "metadata": {},
   "outputs": [],
   "source": [
    "merged_index_m3_df.to_excel('new_index.xlsx')"
   ]
  },
  {
   "cell_type": "code",
   "execution_count": 290,
   "metadata": {},
   "outputs": [],
   "source": [
    "with open(r\"C:\\Dropbox (ecoinvent)\\ei-int\\technical\\external\\PEF\\PEF follow-up\\execution\\06_matrixFlowChanges\\in\\pilotPhase_water_correction\\indexes.pkl\", 'rb') as file:\n",
    "    index_file = pickle.load(file)"
   ]
  },
  {
   "cell_type": "code",
   "execution_count": 293,
   "metadata": {},
   "outputs": [
    {
     "data": {
      "text/plain": "{'ie':                                             activityName geography  index  \\\n 0                     [sulfonyl]urea-compound production       RER      0   \n 1                    [thio]carbamate-compound production       RER      1   \n 2                1,1-difluoroethane production, HFC-152a        US      2   \n 3      1,1-dimethylcyclopentane to generic market for...       GLO      3   \n 4                                  1-propanol production       RER      4   \n ...                                                  ...       ...    ...   \n 15432                                 viscose production       RER  15432   \n 15433                                 viscose production       RER  15433   \n 15434                                 viscose production       RER  15434   \n 15435                            zinc sulfide production       RoW  15435   \n 15436                                         irrigation        ID  15436   \n \n                             product unitName  \n 0           [sulfonyl]urea-compound       kg  \n 1          [thio]carbamate-compound       kg  \n 2      1,1-difluoroethane, HFC-152a       kg  \n 3                  solvent, organic       kg  \n 4                        1-propanol       kg  \n ...                             ...      ...  \n 15432     sodium sulfate, anhydrite       kg  \n 15433                 sulfuric acid       kg  \n 15434                 viscose fibre       kg  \n 15435     sodium sulfate, anhydrite       kg  \n 15436                    irrigation       m3  \n \n [15437 rows x 5 columns], 'ee':              compartment  index  \\\n 0       Emissions to air      0   \n 1       Emissions to air      1   \n 2       Emissions to air      2   \n 3       Emissions to air      3   \n 4      Emissions to soil      4   \n ...                  ...    ...   \n 41505          Resources  41505   \n 41506          Resources  41506   \n 41507          Resources  41507   \n 41508          Resources  41508   \n 41509          Resources  41509   \n \n                                                     name  \\\n 0                                       (+)-bornan-2-one   \n 1                                       (+)-bornan-2-one   \n 2                                       (+)-bornan-2-one   \n 3                                       (+)-bornan-2-one   \n 4                                       (+)-bornan-2-one   \n ...                                                  ...   \n 41505  volume occupied, final repository for low-acti...   \n 41506  volume occupied, final repository for radioact...   \n 41507               volume occupied, underground deposit   \n 41508                                             arable   \n 41509                                        from arable   \n \n                                        subcompartment unitName  \n 0                       Emissions to air, unspecified       kg  \n 1           Emissions to air, unspecified (long-term)       kg  \n 2      Emissions to non-urban air or from high stacks       kg  \n 3              Emissions to urban air close to ground       kg  \n 4                      Emissions to agricultural soil       kg  \n ...                                               ...      ...  \n 41505                                        Land use       m3  \n 41506                                        Land use       m3  \n 41507                                        Land use       m3  \n 41508                                        Land use      m2a  \n 41509                                        Land use       m2  \n \n [41510 rows x 5 columns], 'LCIA':    method category                                        indicator  \\\n 0   EF2.0    total                                 EF-Acidification   \n 1   EF2.0    total                                EF-Climate change   \n 2   EF2.0    total                       EF-Climate change-Biogenic   \n 3   EF2.0    total                         EF-Climate change-Fossil   \n 4   EF2.0    total   EF-Climate change-Land use and land use change   \n 5   EF2.0    total                       EF-Ecotoxicity, freshwater   \n 6   EF2.0    total                         EF-Eutrophication marine   \n 7   EF2.0    total                    EF-Eutrophication, freshwater   \n 8   EF2.0    total                   EF-Eutrophication, terrestrial   \n 9   EF2.0    total                        EF-Human toxicity, cancer   \n 10  EF2.0    total                    EF-Human toxicity, non-cancer   \n 11  EF2.0    total              EF-Ionising radiation, human health   \n 12  EF2.0    total                                      EF-Land use   \n 13  EF2.0    total                               EF-Ozone depletion   \n 14  EF2.0    total                            EF-particulate Matter   \n 15  EF2.0    total  EF-Photochemical ozone formation - human health   \n 16  EF2.0    total                         EF-Resource use, fossils   \n 17  EF2.0    total             EF-Resource use, minerals and metals   \n 18  EF2.0    total                                     EF-Water use   \n \n       indicator unitName  index  \n 0     mol H+ equivalents      0  \n 1     kg CO2 Equivalents      1  \n 2     kg CO2 Equivalents      2  \n 3     kg CO2 Equivalents      3  \n 4     kg CO2 Equivalents      4  \n 5                   CTUe      5  \n 6       kg N equivalents      6  \n 7       kg P equivalents      7  \n 8      mol N equivalents      8  \n 9                   CTUh      9  \n 10                  CTUh     10  \n 11  kBq U235 equivalents     11  \n 12    dimensionless (pt)     12  \n 13  kg CFC11 equivalents     13  \n 14     disease incidence     14  \n 15  kg NMVOC equivalents     15  \n 16                    MJ     16  \n 17     kg Sb equivalents     17  \n 18  m3-world equivalents     18  }"
     },
     "execution_count": 293,
     "metadata": {},
     "output_type": "execute_result"
    }
   ],
   "source": [
    "index_file.dfs"
   ]
  },
  {
   "cell_type": "code",
   "execution_count": 294,
   "metadata": {},
   "outputs": [
    {
     "data": {
      "text/html": "<div>\n<style scoped>\n    .dataframe tbody tr th:only-of-type {\n        vertical-align: middle;\n    }\n\n    .dataframe tbody tr th {\n        vertical-align: top;\n    }\n\n    .dataframe thead th {\n        text-align: right;\n    }\n</style>\n<table border=\"1\" class=\"dataframe\">\n  <thead>\n    <tr style=\"text-align: right;\">\n      <th></th>\n      <th>name</th>\n      <th>compartment</th>\n      <th>subcompartment</th>\n      <th>unitName</th>\n      <th>index</th>\n    </tr>\n  </thead>\n  <tbody>\n    <tr>\n      <th>0</th>\n      <td>(+)-bornan-2-one</td>\n      <td>Emissions to air</td>\n      <td>Emissions to air, unspecified</td>\n      <td>kg</td>\n      <td>0</td>\n    </tr>\n    <tr>\n      <th>1</th>\n      <td>(+)-bornan-2-one</td>\n      <td>Emissions to air</td>\n      <td>Emissions to air, unspecified (long-term)</td>\n      <td>kg</td>\n      <td>1</td>\n    </tr>\n    <tr>\n      <th>2</th>\n      <td>(+)-bornan-2-one</td>\n      <td>Emissions to air</td>\n      <td>Emissions to non-urban air or from high stacks</td>\n      <td>kg</td>\n      <td>2</td>\n    </tr>\n    <tr>\n      <th>3</th>\n      <td>(+)-bornan-2-one</td>\n      <td>Emissions to air</td>\n      <td>Emissions to urban air close to ground</td>\n      <td>kg</td>\n      <td>3</td>\n    </tr>\n    <tr>\n      <th>4</th>\n      <td>(+)-bornan-2-one</td>\n      <td>Emissions to soil</td>\n      <td>Emissions to agricultural soil</td>\n      <td>kg</td>\n      <td>4</td>\n    </tr>\n  </tbody>\n</table>\n</div>",
      "text/plain": "               name        compartment  \\\n0  (+)-bornan-2-one   Emissions to air   \n1  (+)-bornan-2-one   Emissions to air   \n2  (+)-bornan-2-one   Emissions to air   \n3  (+)-bornan-2-one   Emissions to air   \n4  (+)-bornan-2-one  Emissions to soil   \n\n                                   subcompartment unitName  index  \n0                   Emissions to air, unspecified       kg      0  \n1       Emissions to air, unspecified (long-term)       kg      1  \n2  Emissions to non-urban air or from high stacks       kg      2  \n3          Emissions to urban air close to ground       kg      3  \n4                  Emissions to agricultural soil       kg      4  "
     },
     "execution_count": 294,
     "metadata": {},
     "output_type": "execute_result"
    }
   ],
   "source": [
    "merged_index_m3_df.head()"
   ]
  },
  {
   "cell_type": "code",
   "execution_count": 300,
   "metadata": {},
   "outputs": [
    {
     "data": {
      "text/plain": "668"
     },
     "execution_count": 300,
     "metadata": {},
     "output_type": "execute_result"
    }
   ],
   "source": [
    "merged_index_m3_df.loc[merged_index_m3_df.unitName == 'm3','unitName'].count()"
   ]
  },
  {
   "cell_type": "code",
   "execution_count": 303,
   "metadata": {},
   "outputs": [
    {
     "data": {
      "text/plain": "30"
     },
     "execution_count": 303,
     "metadata": {},
     "output_type": "execute_result"
    }
   ],
   "source": [
    "index_file.dfs['ee'].loc[index_file.dfs['ee'].unitName == 'm3', 'unitName'].count()"
   ]
  },
  {
   "cell_type": "code",
   "execution_count": 304,
   "metadata": {},
   "outputs": [],
   "source": [
    "index_file.dfs['ee'] = merged_index_m3_df"
   ]
  },
  {
   "cell_type": "code",
   "execution_count": 305,
   "metadata": {},
   "outputs": [
    {
     "data": {
      "text/html": "<div>\n<style scoped>\n    .dataframe tbody tr th:only-of-type {\n        vertical-align: middle;\n    }\n\n    .dataframe tbody tr th {\n        vertical-align: top;\n    }\n\n    .dataframe thead th {\n        text-align: right;\n    }\n</style>\n<table border=\"1\" class=\"dataframe\">\n  <thead>\n    <tr style=\"text-align: right;\">\n      <th></th>\n      <th>name</th>\n      <th>compartment</th>\n      <th>subcompartment</th>\n      <th>unitName</th>\n      <th>index</th>\n    </tr>\n  </thead>\n  <tbody>\n    <tr>\n      <th>0</th>\n      <td>(+)-bornan-2-one</td>\n      <td>Emissions to air</td>\n      <td>Emissions to air, unspecified</td>\n      <td>kg</td>\n      <td>0</td>\n    </tr>\n    <tr>\n      <th>1</th>\n      <td>(+)-bornan-2-one</td>\n      <td>Emissions to air</td>\n      <td>Emissions to air, unspecified (long-term)</td>\n      <td>kg</td>\n      <td>1</td>\n    </tr>\n    <tr>\n      <th>2</th>\n      <td>(+)-bornan-2-one</td>\n      <td>Emissions to air</td>\n      <td>Emissions to non-urban air or from high stacks</td>\n      <td>kg</td>\n      <td>2</td>\n    </tr>\n    <tr>\n      <th>3</th>\n      <td>(+)-bornan-2-one</td>\n      <td>Emissions to air</td>\n      <td>Emissions to urban air close to ground</td>\n      <td>kg</td>\n      <td>3</td>\n    </tr>\n    <tr>\n      <th>4</th>\n      <td>(+)-bornan-2-one</td>\n      <td>Emissions to soil</td>\n      <td>Emissions to agricultural soil</td>\n      <td>kg</td>\n      <td>4</td>\n    </tr>\n    <tr>\n      <th>...</th>\n      <td>...</td>\n      <td>...</td>\n      <td>...</td>\n      <td>...</td>\n      <td>...</td>\n    </tr>\n    <tr>\n      <th>41505</th>\n      <td>volume occupied, final repository for low-acti...</td>\n      <td>Resources</td>\n      <td>Land use</td>\n      <td>m3</td>\n      <td>41505</td>\n    </tr>\n    <tr>\n      <th>41506</th>\n      <td>volume occupied, final repository for radioact...</td>\n      <td>Resources</td>\n      <td>Land use</td>\n      <td>m3</td>\n      <td>41506</td>\n    </tr>\n    <tr>\n      <th>41507</th>\n      <td>volume occupied, underground deposit</td>\n      <td>Resources</td>\n      <td>Land use</td>\n      <td>m3</td>\n      <td>41507</td>\n    </tr>\n    <tr>\n      <th>41508</th>\n      <td>arable</td>\n      <td>Resources</td>\n      <td>Land use</td>\n      <td>m2a</td>\n      <td>41508</td>\n    </tr>\n    <tr>\n      <th>41509</th>\n      <td>from arable</td>\n      <td>Resources</td>\n      <td>Land use</td>\n      <td>m2</td>\n      <td>41509</td>\n    </tr>\n  </tbody>\n</table>\n<p>41510 rows × 5 columns</p>\n</div>",
      "text/plain": "                                                    name        compartment  \\\n0                                       (+)-bornan-2-one   Emissions to air   \n1                                       (+)-bornan-2-one   Emissions to air   \n2                                       (+)-bornan-2-one   Emissions to air   \n3                                       (+)-bornan-2-one   Emissions to air   \n4                                       (+)-bornan-2-one  Emissions to soil   \n...                                                  ...                ...   \n41505  volume occupied, final repository for low-acti...          Resources   \n41506  volume occupied, final repository for radioact...          Resources   \n41507               volume occupied, underground deposit          Resources   \n41508                                             arable          Resources   \n41509                                        from arable          Resources   \n\n                                       subcompartment unitName  index  \n0                       Emissions to air, unspecified       kg      0  \n1           Emissions to air, unspecified (long-term)       kg      1  \n2      Emissions to non-urban air or from high stacks       kg      2  \n3              Emissions to urban air close to ground       kg      3  \n4                      Emissions to agricultural soil       kg      4  \n...                                               ...      ...    ...  \n41505                                        Land use       m3  41505  \n41506                                        Land use       m3  41506  \n41507                                        Land use       m3  41507  \n41508                                        Land use      m2a  41508  \n41509                                        Land use       m2  41509  \n\n[41510 rows x 5 columns]"
     },
     "execution_count": 305,
     "metadata": {},
     "output_type": "execute_result"
    }
   ],
   "source": [
    "index_file.dfs['ee']"
   ]
  },
  {
   "cell_type": "code",
   "execution_count": 306,
   "metadata": {},
   "outputs": [
    {
     "data": {
      "text/plain": "668"
     },
     "execution_count": 306,
     "metadata": {},
     "output_type": "execute_result"
    }
   ],
   "source": [
    "index_file.dfs['ee'].loc[index_file.dfs['ee'].unitName == 'm3', 'unitName'].count()"
   ]
  },
  {
   "cell_type": "code",
   "execution_count": 307,
   "metadata": {},
   "outputs": [],
   "source": [
    "with open('indexx.pkl', 'wb') as file:\n",
    "    pickle.dump(index_file, file, protocol=pickle.HIGHEST_PROTOCOL)"
   ]
  },
  {
   "cell_type": "code",
   "execution_count": 308,
   "metadata": {},
   "outputs": [],
   "source": [
    "other_df_index = pd.read_excel(r\"C:\\Dropbox (ecoinvent)\\ei-int\\technical\\external\\PEF\\PEF follow-up\\execution\\06_matrixFlowChanges\\in\\pilotPhase_water_correction\\indexes_PEF-phase 2-start_Allocation, cut-off.xlsx\" , sheet_name=None)"
   ]
  },
  {
   "cell_type": "code",
   "execution_count": 312,
   "metadata": {},
   "outputs": [],
   "source": [
    "other_df_index['ee'] = merged_index_m3_df"
   ]
  },
  {
   "cell_type": "code",
   "execution_count": 313,
   "metadata": {},
   "outputs": [
    {
     "data": {
      "text/html": "<div>\n<style scoped>\n    .dataframe tbody tr th:only-of-type {\n        vertical-align: middle;\n    }\n\n    .dataframe tbody tr th {\n        vertical-align: top;\n    }\n\n    .dataframe thead th {\n        text-align: right;\n    }\n</style>\n<table border=\"1\" class=\"dataframe\">\n  <thead>\n    <tr style=\"text-align: right;\">\n      <th></th>\n      <th>name</th>\n      <th>compartment</th>\n      <th>subcompartment</th>\n      <th>unitName</th>\n      <th>index</th>\n    </tr>\n  </thead>\n  <tbody>\n    <tr>\n      <th>0</th>\n      <td>(+)-bornan-2-one</td>\n      <td>Emissions to air</td>\n      <td>Emissions to air, unspecified</td>\n      <td>kg</td>\n      <td>0</td>\n    </tr>\n    <tr>\n      <th>1</th>\n      <td>(+)-bornan-2-one</td>\n      <td>Emissions to air</td>\n      <td>Emissions to air, unspecified (long-term)</td>\n      <td>kg</td>\n      <td>1</td>\n    </tr>\n    <tr>\n      <th>2</th>\n      <td>(+)-bornan-2-one</td>\n      <td>Emissions to air</td>\n      <td>Emissions to non-urban air or from high stacks</td>\n      <td>kg</td>\n      <td>2</td>\n    </tr>\n    <tr>\n      <th>3</th>\n      <td>(+)-bornan-2-one</td>\n      <td>Emissions to air</td>\n      <td>Emissions to urban air close to ground</td>\n      <td>kg</td>\n      <td>3</td>\n    </tr>\n    <tr>\n      <th>4</th>\n      <td>(+)-bornan-2-one</td>\n      <td>Emissions to soil</td>\n      <td>Emissions to agricultural soil</td>\n      <td>kg</td>\n      <td>4</td>\n    </tr>\n    <tr>\n      <th>...</th>\n      <td>...</td>\n      <td>...</td>\n      <td>...</td>\n      <td>...</td>\n      <td>...</td>\n    </tr>\n    <tr>\n      <th>41505</th>\n      <td>volume occupied, final repository for low-acti...</td>\n      <td>Resources</td>\n      <td>Land use</td>\n      <td>m3</td>\n      <td>41505</td>\n    </tr>\n    <tr>\n      <th>41506</th>\n      <td>volume occupied, final repository for radioact...</td>\n      <td>Resources</td>\n      <td>Land use</td>\n      <td>m3</td>\n      <td>41506</td>\n    </tr>\n    <tr>\n      <th>41507</th>\n      <td>volume occupied, underground deposit</td>\n      <td>Resources</td>\n      <td>Land use</td>\n      <td>m3</td>\n      <td>41507</td>\n    </tr>\n    <tr>\n      <th>41508</th>\n      <td>arable</td>\n      <td>Resources</td>\n      <td>Land use</td>\n      <td>m2a</td>\n      <td>41508</td>\n    </tr>\n    <tr>\n      <th>41509</th>\n      <td>from arable</td>\n      <td>Resources</td>\n      <td>Land use</td>\n      <td>m2</td>\n      <td>41509</td>\n    </tr>\n  </tbody>\n</table>\n<p>41510 rows × 5 columns</p>\n</div>",
      "text/plain": "                                                    name        compartment  \\\n0                                       (+)-bornan-2-one   Emissions to air   \n1                                       (+)-bornan-2-one   Emissions to air   \n2                                       (+)-bornan-2-one   Emissions to air   \n3                                       (+)-bornan-2-one   Emissions to air   \n4                                       (+)-bornan-2-one  Emissions to soil   \n...                                                  ...                ...   \n41505  volume occupied, final repository for low-acti...          Resources   \n41506  volume occupied, final repository for radioact...          Resources   \n41507               volume occupied, underground deposit          Resources   \n41508                                             arable          Resources   \n41509                                        from arable          Resources   \n\n                                       subcompartment unitName  index  \n0                       Emissions to air, unspecified       kg      0  \n1           Emissions to air, unspecified (long-term)       kg      1  \n2      Emissions to non-urban air or from high stacks       kg      2  \n3              Emissions to urban air close to ground       kg      3  \n4                      Emissions to agricultural soil       kg      4  \n...                                               ...      ...    ...  \n41505                                        Land use       m3  41505  \n41506                                        Land use       m3  41506  \n41507                                        Land use       m3  41507  \n41508                                        Land use      m2a  41508  \n41509                                        Land use       m2  41509  \n\n[41510 rows x 5 columns]"
     },
     "execution_count": 313,
     "metadata": {},
     "output_type": "execute_result"
    }
   ],
   "source": [
    "other_df_index['ee']"
   ]
  },
  {
   "cell_type": "code",
   "execution_count": 316,
   "metadata": {},
   "outputs": [],
   "source": [
    "with pd.ExcelWriter('other_df.xlsx') as writer:\n",
    "            other_df_index['ie'].to_excel(writer, sheet_name='ie', index=False)\n",
    "            other_df_index['ee'].to_excel(writer, sheet_name='ee', index=False)\n",
    "            other_df_index['LCIA'].to_excel(writer, sheet_name='LCIA', index=False)"
   ]
  },
  {
   "cell_type": "code",
   "execution_count": 157,
   "metadata": {},
   "outputs": [],
   "source": [
    "with open(r\"D:\\ecoinvent_scripts\\B.pkl\", 'rb') as file:\n",
    "    modified_data = pickle.load(file)"
   ]
  },
  {
   "cell_type": "code",
   "execution_count": 158,
   "metadata": {},
   "outputs": [
    {
     "data": {
      "text/plain": "array([1.00987142e-09, 2.31445394e-07, 2.02698510e-07, ...,\n       1.91973163e-07, 2.37185734e-11, 1.30613389e-07])"
     },
     "execution_count": 158,
     "metadata": {},
     "output_type": "execute_result"
    }
   ],
   "source": [
    "data.getrow(17714).data"
   ]
  },
  {
   "cell_type": "code",
   "execution_count": 159,
   "metadata": {},
   "outputs": [
    {
     "data": {
      "text/plain": "array([1.00987142e-12, 2.31445394e-10, 2.02698510e-10, ...,\n       1.91973163e-10, 2.37185734e-14, 1.30613389e-10])"
     },
     "execution_count": 159,
     "metadata": {},
     "output_type": "execute_result"
    }
   ],
   "source": [
    "modified_data.getrow(17714).data"
   ]
  },
  {
   "cell_type": "code",
   "execution_count": 142,
   "metadata": {},
   "outputs": [
    {
     "data": {
      "text/plain": "False"
     },
     "execution_count": 142,
     "metadata": {},
     "output_type": "execute_result"
    }
   ],
   "source": [
    "np.array_equal(data.getrow(17714).data, modified_data.getrow(17714).data)"
   ]
  },
  {
   "cell_type": "code",
   "execution_count": 160,
   "metadata": {},
   "outputs": [
    {
     "data": {
      "text/plain": "array([1.0687000e-02, 2.6559000e-03, 3.1121000e-03, ..., 8.4706087e-14,\n       1.5200000e-09, 3.4000000e-04])"
     },
     "execution_count": 160,
     "metadata": {},
     "output_type": "execute_result"
    }
   ],
   "source": [
    "data.getrow(12871).data"
   ]
  },
  {
   "cell_type": "code",
   "execution_count": 161,
   "metadata": {},
   "outputs": [
    {
     "data": {
      "text/plain": "array([1.0687000e-02, 2.6559000e-03, 3.1121000e-03, ..., 8.4706087e-14,\n       1.5200000e-09, 3.4000000e-04])"
     },
     "execution_count": 161,
     "metadata": {},
     "output_type": "execute_result"
    }
   ],
   "source": [
    "modified_data.getrow(12871).data"
   ]
  },
  {
   "cell_type": "code",
   "execution_count": 143,
   "metadata": {},
   "outputs": [
    {
     "data": {
      "text/plain": "False"
     },
     "execution_count": 143,
     "metadata": {},
     "output_type": "execute_result"
    }
   ],
   "source": [
    "np.array_equal(data.getrow(12871).data, modified_data.getrow(12871).data)"
   ]
  },
  {
   "cell_type": "code",
   "execution_count": 162,
   "metadata": {},
   "outputs": [
    {
     "data": {
      "text/plain": "array([8.34989314e-05, 5.73443489e-02, 5.68728988e-05, ...,\n       8.91891299e-05, 1.03271149e-05, 2.33897284e-04])"
     },
     "execution_count": 162,
     "metadata": {},
     "output_type": "execute_result"
    }
   ],
   "source": [
    "data.getrow(17715).data"
   ]
  },
  {
   "cell_type": "code",
   "execution_count": 163,
   "metadata": {},
   "outputs": [
    {
     "data": {
      "text/plain": "array([8.34989314e-08, 5.73443489e-05, 5.68728988e-08, ...,\n       8.91891299e-08, 1.03271149e-08, 2.33897284e-07])"
     },
     "execution_count": 163,
     "metadata": {},
     "output_type": "execute_result"
    }
   ],
   "source": [
    "modified_data.getrow(17715).data"
   ]
  },
  {
   "cell_type": "code",
   "execution_count": null,
   "metadata": {},
   "outputs": [],
   "source": []
  }
 ]
}