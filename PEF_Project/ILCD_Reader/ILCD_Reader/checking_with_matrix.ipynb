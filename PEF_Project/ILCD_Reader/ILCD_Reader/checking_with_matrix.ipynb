{
 "metadata": {
  "language_info": {
   "codemirror_mode": {
    "name": "ipython",
    "version": 3
   },
   "file_extension": ".py",
   "mimetype": "text/x-python",
   "name": "python",
   "nbconvert_exporter": "python",
   "pygments_lexer": "ipython3",
   "version": "3.7.5-final"
  },
  "orig_nbformat": 2,
  "kernelspec": {
   "name": "Python 3.7.5 64-bit",
   "display_name": "Python 3.7.5 64-bit",
   "metadata": {
    "interpreter": {
     "hash": "5192506997175914300efadb3ef365ff76b679afa54869d0be559051667aba19"
    }
   }
  }
 },
 "nbformat": 4,
 "nbformat_minor": 2,
 "cells": [
  {
   "cell_type": "code",
   "execution_count": 4,
   "metadata": {},
   "outputs": [
    {
     "output_type": "error",
     "ename": "ModuleNotFoundError",
     "evalue": "No module named 'file_utils'",
     "traceback": [
      "\u001b[1;31m---------------------------------------------------------------------------\u001b[0m",
      "\u001b[1;31mModuleNotFoundError\u001b[0m                       Traceback (most recent call last)",
      "\u001b[1;32m<ipython-input-4-5f794501e074>\u001b[0m in \u001b[0;36m<module>\u001b[1;34m\u001b[0m\n\u001b[0;32m      2\u001b[0m \u001b[1;32mimport\u001b[0m \u001b[0mpickle\u001b[0m\u001b[1;33m\u001b[0m\u001b[1;33m\u001b[0m\u001b[0m\n\u001b[0;32m      3\u001b[0m \u001b[1;32mimport\u001b[0m \u001b[0mnumpy\u001b[0m \u001b[1;32mas\u001b[0m \u001b[0mnp\u001b[0m\u001b[1;33m\u001b[0m\u001b[1;33m\u001b[0m\u001b[0m\n\u001b[1;32m----> 4\u001b[1;33m \u001b[1;32mimport\u001b[0m \u001b[0mfile_utils\u001b[0m\u001b[1;33m\u001b[0m\u001b[1;33m\u001b[0m\u001b[0m\n\u001b[0m",
      "\u001b[1;31mModuleNotFoundError\u001b[0m: No module named 'file_utils'"
     ]
    }
   ],
   "source": [
    "import pandas as pd\n",
    "import pickle\n",
    "import numpy as np"
   ]
  },
  {
   "cell_type": "code",
   "execution_count": 7,
   "metadata": {},
   "outputs": [],
   "source": [
    "file_path = r\"D:\\ecoinvent_scripts\\PEF_Project\\ILCD_Reader\\Data\\input\\pickles\\B.pkl\"\n",
    "with open(file_path, \"rb\") as file:\n",
    "            pickled_data = pickle.load(file)"
   ]
  },
  {
   "cell_type": "code",
   "execution_count": 8,
   "metadata": {},
   "outputs": [
    {
     "output_type": "execute_result",
     "data": {
      "text/plain": [
       "scipy.sparse.csc.csc_matrix"
      ]
     },
     "metadata": {},
     "execution_count": 8
    }
   ],
   "source": [
    "type(pickled_data)"
   ]
  },
  {
   "cell_type": "code",
   "execution_count": 9,
   "metadata": {},
   "outputs": [],
   "source": [
    "dense_mat = pickled_data.todense()"
   ]
  },
  {
   "cell_type": "code",
   "execution_count": 10,
   "metadata": {},
   "outputs": [
    {
     "output_type": "execute_result",
     "data": {
      "text/plain": [
       "matrix([[0., 0., 0., ..., 0., 0., 0.],\n",
       "        [0., 0., 0., ..., 0., 0., 0.],\n",
       "        [0., 0., 0., ..., 0., 0., 0.],\n",
       "        ...,\n",
       "        [0., 0., 0., ..., 0., 0., 0.],\n",
       "        [0., 0., 0., ..., 0., 0., 0.],\n",
       "        [0., 0., 0., ..., 0., 0., 0.]])"
      ]
     },
     "metadata": {},
     "execution_count": 10
    }
   ],
   "source": [
    "dense_mat"
   ]
  },
  {
   "cell_type": "code",
   "execution_count": 13,
   "metadata": {},
   "outputs": [
    {
     "output_type": "execute_result",
     "data": {
      "text/plain": [
       "<2590x15437 sparse matrix of type '<class 'numpy.float64'>'\n",
       "\twith 1588103 stored elements in Compressed Sparse Column format>"
      ]
     },
     "metadata": {},
     "execution_count": 13
    }
   ],
   "source": [
    "pickled_data"
   ]
  },
  {
   "cell_type": "code",
   "execution_count": 15,
   "metadata": {},
   "outputs": [
    {
     "output_type": "execute_result",
     "data": {
      "text/plain": [
       "0.0"
      ]
     },
     "metadata": {},
     "execution_count": 15
    }
   ],
   "source": [
    "pickled_data[345,234]"
   ]
  },
  {
   "cell_type": "code",
   "execution_count": 16,
   "metadata": {},
   "outputs": [
    {
     "output_type": "stream",
     "name": "stdout",
     "text": [
      "  (117, 0)\t7.9021e-05\n  (227, 0)\t7.9853e-05\n  (229, 0)\t4.727e-05\n  (341, 0)\t0.0006384224301796184\n  (344, 0)\t0.0603642931375\n  (461, 0)\t0.0010417280301161518\n  (527, 0)\t0.001980907905797905\n  (529, 0)\t7.110900678768372e-05\n  (531, 0)\t0.0024509395811778546\n  (532, 0)\t0.00018767730152283225\n  (535, 0)\t0.0024990267381343307\n  (540, 0)\t0.0008447083626478375\n  (541, 0)\t0.01796717585107851\n  (542, 0)\t0.0016736359056490377\n  (543, 0)\t9.031809486333604e-05\n  (544, 0)\t0.007344684888974129\n  (545, 0)\t0.0012716033658781874\n  (546, 0)\t0.01387720399632165\n  (547, 0)\t0.014911808083220837\n  (548, 0)\t0.0015593226321956566\n  (549, 0)\t0.0007165537728542778\n  (551, 0)\t0.001320329796664732\n  (553, 0)\t0.00010578177329285867\n  (554, 0)\t0.011602087045176838\n  (559, 0)\t0.00016862819584485616\n  :\t:\n  (2183, 15435)\t1.7390758572574773e-07\n  (2184, 15435)\t8.119111020156627e-07\n  (231, 15436)\t0.000160650061051441\n  (655, 15436)\t6.3e-08\n  (751, 15436)\t2.29950016958734e-08\n  (760, 15436)\t9.44998870548332e-11\n  (844, 15436)\t3.15e-11\n  (848, 15436)\t9.0556093951385e-10\n  (881, 15436)\t0.00978858690785755\n  (983, 15436)\t1.575e-10\n  (1040, 15436)\t0.00555560091577162\n  (1049, 15436)\t5.35500111927643e-09\n  (1415, 15436)\t0.1352\n  (1681, 15436)\t4.41320118711136e-09\n  (1769, 15436)\t4.06350108535896e-07\n  (1863, 15436)\t2.20500111927643e-10\n  (1897, 15436)\t3.78000111927643e-07\n  (1900, 15436)\t1.37350050876201e-05\n  (1941, 15436)\t1.30389867721877e-05\n  (2017, 15436)\t1.03639894855851e-08\n  (2146, 15436)\t0.8648\n  (2213, 15436)\t3.15e-11\n  (2308, 15436)\t3.17519993216507e-06\n  (2570, 15436)\t3.15e-09\n  (2571, 15436)\t2.25490115319389e-06\n"
     ]
    }
   ],
   "source": [
    "print(pickled_data)"
   ]
  },
  {
   "cell_type": "code",
   "execution_count": 18,
   "metadata": {},
   "outputs": [],
   "source": [
    "a = np.array([[1., 2., 3.], [4., 5., -2.],[6., 7., 9.]])"
   ]
  },
  {
   "cell_type": "code",
   "execution_count": 19,
   "metadata": {},
   "outputs": [
    {
     "output_type": "execute_result",
     "data": {
      "text/plain": [
       "array([[ 1.,  2.,  3.],\n",
       "       [ 4.,  5., -2.],\n",
       "       [ 6.,  7.,  9.]])"
      ]
     },
     "metadata": {},
     "execution_count": 19
    }
   ],
   "source": [
    "a"
   ]
  },
  {
   "cell_type": "code",
   "execution_count": 20,
   "metadata": {},
   "outputs": [
    {
     "output_type": "execute_result",
     "data": {
      "text/plain": [
       "1.0"
      ]
     },
     "metadata": {},
     "execution_count": 20
    }
   ],
   "source": [
    "a[0,0]"
   ]
  },
  {
   "cell_type": "code",
   "execution_count": 21,
   "metadata": {},
   "outputs": [
    {
     "output_type": "execute_result",
     "data": {
      "text/plain": [
       "array([ 4.,  5., -2.])"
      ]
     },
     "metadata": {},
     "execution_count": 21
    }
   ],
   "source": [
    "a[1]"
   ]
  },
  {
   "cell_type": "code",
   "execution_count": 24,
   "metadata": {},
   "outputs": [],
   "source": [
    "a[:,1] = np.zeros(3)"
   ]
  },
  {
   "cell_type": "code",
   "execution_count": 25,
   "metadata": {},
   "outputs": [
    {
     "output_type": "execute_result",
     "data": {
      "text/plain": [
       "array([[ 0.,  0.,  0.],\n",
       "       [ 4.,  0., -2.],\n",
       "       [ 6.,  0.,  9.]])"
      ]
     },
     "metadata": {},
     "execution_count": 25
    }
   ],
   "source": [
    "a"
   ]
  },
  {
   "cell_type": "code",
   "execution_count": null,
   "metadata": {},
   "outputs": [],
   "source": []
  }
 ]
}